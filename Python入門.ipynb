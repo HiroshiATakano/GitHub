{
  "nbformat": 4,
  "nbformat_minor": 0,
  "metadata": {
    "colab": {
      "name": "Python入門.ipynb",
      "provenance": [],
      "collapsed_sections": [],
      "authorship_tag": "ABX9TyPI+XL4ThgADPmospmlbL+W",
      "include_colab_link": true
    },
    "kernelspec": {
      "name": "python3",
      "display_name": "Python 3"
    },
    "language_info": {
      "name": "python"
    }
  },
  "cells": [
    {
      "cell_type": "markdown",
      "metadata": {
        "id": "view-in-github",
        "colab_type": "text"
      },
      "source": [
        "<a href=\"https://colab.research.google.com/github/HiroshiATakano/GitHub/blob/master/Python%E5%85%A5%E9%96%80.ipynb\" target=\"_parent\"><img src=\"https://colab.research.google.com/assets/colab-badge.svg\" alt=\"Open In Colab\"/></a>"
      ]
    },
    {
      "cell_type": "markdown",
      "metadata": {
        "id": "myqgYu_telUl"
      },
      "source": [
        "#Python初体験\n",
        "\n",
        "プログラミンのステップ\n",
        "\n",
        "1.   ソースコードを書く\n",
        "2.   ソースコードを実行する\n",
        "1.   結果を確認する\n",
        "2.   結果が間違っていたら１．にもどってソースコードを修正する\n",
        "\n",
        "\n",
        "\n",
        "\n",
        "\n",
        "\n"
      ]
    },
    {
      "cell_type": "markdown",
      "metadata": {
        "id": "J5OkEI2Zfy3R"
      },
      "source": [
        "#練習問題\n",
        "\n",
        "太郎君は、一つ100円のももを５つ、一つ40円のミカンを８つ買いました。全部でいくらになったでしょう？"
      ]
    },
    {
      "cell_type": "code",
      "metadata": {
        "id": "zwKn3GLyeLC_",
        "colab": {
          "base_uri": "https://localhost:8080/"
        },
        "outputId": "96609c66-37af-4c46-e001-929d574e8fbf"
      },
      "source": [
        "100*5+40*8"
      ],
      "execution_count": 1,
      "outputs": [
        {
          "output_type": "execute_result",
          "data": {
            "text/plain": [
              "820"
            ]
          },
          "metadata": {
            "tags": []
          },
          "execution_count": 1
        }
      ]
    },
    {
      "cell_type": "code",
      "metadata": {
        "colab": {
          "base_uri": "https://localhost:8080/"
        },
        "id": "u31nGjzfei9Y",
        "outputId": "9c934a5b-51d1-421b-f960-946e4133c5ba"
      },
      "source": [
        "(100*5)+(40*8)"
      ],
      "execution_count": 2,
      "outputs": [
        {
          "output_type": "execute_result",
          "data": {
            "text/plain": [
              "820"
            ]
          },
          "metadata": {
            "tags": []
          },
          "execution_count": 2
        }
      ]
    },
    {
      "cell_type": "markdown",
      "metadata": {
        "id": "Akzj2ySGh9eo"
      },
      "source": [
        "太郎君は、ひとつ100円のももを５つ、一つ40円のミカンを８つ、80円のなしを５つ、60円のキウイを１０，90円のリンゴを20、110円のかきを１０買いました。全部でいくらになったでしょう。\n",
        "\n"
      ]
    },
    {
      "cell_type": "code",
      "metadata": {
        "id": "LCMe5rDbgeYG"
      },
      "source": [
        "momo = 100*5\n",
        "mikan = 40*8\n",
        "nashi = 80*5\n",
        "kiwi = 60*9\n",
        "ringo = 90*20\n",
        "kaki = 100*10"
      ],
      "execution_count": 3,
      "outputs": []
    },
    {
      "cell_type": "code",
      "metadata": {
        "colab": {
          "base_uri": "https://localhost:8080/"
        },
        "id": "Lf1QEhk4jDTX",
        "outputId": "4a9e6f01-2ec1-4c90-937e-2610726b9d1d"
      },
      "source": [
        "momo + mikan + nashi + kiwi + ringo + kaki"
      ],
      "execution_count": 4,
      "outputs": [
        {
          "output_type": "execute_result",
          "data": {
            "text/plain": [
              "4560"
            ]
          },
          "metadata": {
            "tags": []
          },
          "execution_count": 4
        }
      ]
    },
    {
      "cell_type": "markdown",
      "metadata": {
        "id": "pcPz_JfJjvv0"
      },
      "source": [
        "## 関数\n",
        "\n",
        "abs()\n",
        "\n",
        "round()\n",
        "\n",
        "min()\n",
        "\n",
        "max()\n",
        "\n"
      ]
    },
    {
      "cell_type": "code",
      "metadata": {
        "colab": {
          "base_uri": "https://localhost:8080/"
        },
        "id": "rVilNiHvjH_m",
        "outputId": "35925010-ee3b-4618-da91-fe799bc3c950"
      },
      "source": [
        "min(4,8,2,20,5,6,2,9)"
      ],
      "execution_count": 5,
      "outputs": [
        {
          "output_type": "execute_result",
          "data": {
            "text/plain": [
              "2"
            ]
          },
          "metadata": {
            "tags": []
          },
          "execution_count": 5
        }
      ]
    },
    {
      "cell_type": "markdown",
      "metadata": {
        "id": "dsvuJsgqkF8U"
      },
      "source": [
        "## モジュール"
      ]
    },
    {
      "cell_type": "code",
      "metadata": {
        "colab": {
          "base_uri": "https://localhost:8080/"
        },
        "id": "2Cj0BsYlkBUP",
        "outputId": "155c51ec-d30f-4b3b-a274-8c72fa8f9be9"
      },
      "source": [
        "import math # mathモジュールを使用する\n",
        "math.sqrt(2)"
      ],
      "execution_count": 6,
      "outputs": [
        {
          "output_type": "execute_result",
          "data": {
            "text/plain": [
              "1.4142135623730951"
            ]
          },
          "metadata": {
            "tags": []
          },
          "execution_count": 6
        }
      ]
    },
    {
      "cell_type": "code",
      "metadata": {
        "colab": {
          "base_uri": "https://localhost:8080/"
        },
        "id": "xLrDLLUpkYQm",
        "outputId": "8de77740-fa3b-46de-eccf-f7849c42cc19"
      },
      "source": [
        "import calendar # calendarモジュールを使用する\n",
        "calendar.prmonth(2021, 5) # 2020年１２月のカレンダーを表示する"
      ],
      "execution_count": 7,
      "outputs": [
        {
          "output_type": "stream",
          "text": [
            "      May 2021\n",
            "Mo Tu We Th Fr Sa Su\n",
            "                1  2\n",
            " 3  4  5  6  7  8  9\n",
            "10 11 12 13 14 15 16\n",
            "17 18 19 20 21 22 23\n",
            "24 25 26 27 28 29 30\n",
            "31\n"
          ],
          "name": "stdout"
        }
      ]
    },
    {
      "cell_type": "markdown",
      "metadata": {
        "id": "OerNIwZImfk9"
      },
      "source": [
        "#グラフ作成"
      ]
    },
    {
      "cell_type": "code",
      "metadata": {
        "id": "Q9Sx4tH4kde-"
      },
      "source": [
        "%matplotlib inline\n",
        "\n",
        "import matplotlib.pyplot as plt\n",
        "import seaborn as sns\n",
        "import math \n",
        "import numpy as np\n",
        "import matplotlib.patches as pat\n",
        "sns.set()"
      ],
      "execution_count": 14,
      "outputs": []
    },
    {
      "cell_type": "code",
      "metadata": {
        "colab": {
          "base_uri": "https://localhost:8080/",
          "height": 285
        },
        "id": "vMmyvE-9m9qX",
        "outputId": "950cecb4-3e8e-4860-b73b-1242c4415479"
      },
      "source": [
        "y = np.array([50,60,100,80,75,0])\n",
        "x = np.array([0,20,40,60,80,100])\n",
        "plt.plot(x,y)"
      ],
      "execution_count": 15,
      "outputs": [
        {
          "output_type": "execute_result",
          "data": {
            "text/plain": [
              "[<matplotlib.lines.Line2D at 0x7fbfa867c950>]"
            ]
          },
          "metadata": {
            "tags": []
          },
          "execution_count": 15
        },
        {
          "output_type": "display_data",
          "data": {
            "image/png": "[encoded data removed]",
            "text/plain": [
              "<Figure size 432x288 with 1 Axes>"
            ]
          },
          "metadata": {
            "tags": []
          }
        }
      ]
    },
    {
      "cell_type": "code",
      "metadata": {
        "colab": {
          "base_uri": "https://localhost:8080/",
          "height": 285
        },
        "id": "RrFlvBsynDR3",
        "outputId": "7573e4c2-c9b8-41d2-f3f0-ee6165177010"
      },
      "source": [
        "x = np.linspace(-10,10,100)\n",
        "y = x*x\n",
        "plt.plot(x,y) "
      ],
      "execution_count": 16,
      "outputs": [
        {
          "output_type": "execute_result",
          "data": {
            "text/plain": [
              "[<matplotlib.lines.Line2D at 0x7fbfa85f61d0>]"
            ]
          },
          "metadata": {
            "tags": []
          },
          "execution_count": 16
        },
        {
          "output_type": "display_data",
          "data": {
            "image/png": "[encoded data removed]",
            "text/plain": [
              "<Figure size 432x288 with 1 Axes>"
            ]
          },
          "metadata": {
            "tags": []
          }
        }
      ]
    },
    {
      "cell_type": "code",
      "metadata": {
        "colab": {
          "base_uri": "https://localhost:8080/",
          "height": 343
        },
        "id": "W6-bsHVlnUvG",
        "outputId": "d6443561-f524-4da6-c82f-c0e360caffc3"
      },
      "source": [
        "fig = plt.figure(figsize=(5,5))\n",
        "ax = fig.add_subplot(111)\n",
        "p = pat.Polygon(xy=[(0.2,0.2),(0.8,0.2),(0.5,0.8)], fc=\"lightblue\",ec=\"darkred\")\n",
        "\n",
        "ax.add_patch(p)"
      ],
      "execution_count": 17,
      "outputs": [
        {
          "output_type": "execute_result",
          "data": {
            "text/plain": [
              "<matplotlib.patches.Polygon at 0x7fbfa86d8d50>"
            ]
          },
          "metadata": {
            "tags": []
          },
          "execution_count": 17
        },
        {
          "output_type": "display_data",
          "data": {
            "image/png": "[encoded data removed]",
            "text/plain": [
              "<Figure size 360x360 with 1 Axes>"
            ]
          },
          "metadata": {
            "tags": []
          }
        }
      ]
    },
    {
      "cell_type": "markdown",
      "metadata": {
        "id": "TMUYi7WazDve"
      },
      "source": [
        ""
      ]
    },
    {
      "cell_type": "code",
      "metadata": {
        "id": "pA4tCjtsoUSf",
        "colab": {
          "base_uri": "https://localhost:8080/"
        },
        "outputId": "8b350b69-bde2-49df-ffcd-a1b880081cb2"
      },
      "source": [
        "import random\n",
        "import math\n",
        "\n",
        "def calc_distance(x1, y1, x2, y2):\n",
        "    # ２点間の距離を求める\n",
        "    diff_x = x1 - x2\n",
        "    diff_y = y1 - y2\n",
        "    \n",
        "    return math.sqrt(diff_x**2 + diff_y**2)\n",
        "\n",
        "\n",
        "suika_x = random.randrange(0, 5)  # スイカのx座標\n",
        "suika_y = random.randrange(0, 5)  # スイカのy座標\n",
        "\n",
        "player_x = random.randrange(0, 5) # プレイヤーのx座標\n",
        "player_y = random.randrange(0, 5) # プレイヤーのy座標\n",
        "\n",
        "# スイカとプレイヤーの位置が異なる間、処理を繰り返す\n",
        "while (suika_x != player_x) or (suika_y != player_y):\n",
        "\n",
        "    # スイカとプレイヤーの距離を表示する\n",
        "    distance = calc_distance(player_x, player_y, suika_x, suika_y)\n",
        "    print(\"スイカへの距離:\", distance)\n",
        "    \n",
        "    # キー入力に応じて、プレイヤーを移動する\n",
        "    c = input(\"n:北に移動 s:南に移動 e:東に移動 w:西に移動\")\n",
        "    if c == \"n\":\n",
        "        player_y = player_y - 1\n",
        "    elif c == \"s\":\n",
        "        player_y = player_y + 1\n",
        "    elif c == \"w\":\n",
        "        player_x = player_x - 1\n",
        "    elif c == \"e\":\n",
        "        player_x = player_x + 1\n",
        "\n",
        "print(\"スイカを割りました！\")"
      ],
      "execution_count": 19,
      "outputs": [
        {
          "output_type": "stream",
          "text": [
            "スイカへの距離: 1.4142135623730951\n",
            "n:北に移動 s:南に移動 e:東に移動 w:西に移動n:4\n",
            "スイカへの距離: 1.4142135623730951\n",
            "n:北に移動 s:南に移動 e:東に移動 w:西に移動n\n",
            "スイカへの距離: 2.23606797749979\n",
            "n:北に移動 s:南に移動 e:東に移動 w:西に移動s\n",
            "スイカへの距離: 1.4142135623730951\n",
            "n:北に移動 s:南に移動 e:東に移動 w:西に移動s\n",
            "スイカへの距離: 1.0\n",
            "n:北に移動 s:南に移動 e:東に移動 w:西に移動s\n",
            "スイカへの距離: 1.4142135623730951\n",
            "n:北に移動 s:南に移動 e:東に移動 w:西に移動n\n",
            "スイカへの距離: 1.0\n",
            "n:北に移動 s:南に移動 e:東に移動 w:西に移動e\n",
            "スイカを割りました！\n"
          ],
          "name": "stdout"
        }
      ]
    },
    {
      "cell_type": "code",
      "metadata": {
        "id": "enFdPq0ZzEzr"
      },
      "source": [
        ""
      ],
      "execution_count": null,
      "outputs": []
    }
  ]
}