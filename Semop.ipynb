{
  "nbformat": 4,
  "nbformat_minor": 0,
  "metadata": {
    "colab": {
      "provenance": [],
      "authorship_tag": "ABX9TyOG4lrP7wA6Zfps8HBdcRSj",
      "include_colab_link": true
    },
    "kernelspec": {
      "name": "python3",
      "display_name": "Python 3"
    },
    "language_info": {
      "name": "python"
    }
  },
  "cells": [
    {
      "cell_type": "markdown",
      "metadata": {
        "id": "view-in-github",
        "colab_type": "text"
      },
      "source": [
        "<a href=\"https://colab.research.google.com/github/HiroshiATakano/GitHub/blob/master/Semop.ipynb\" target=\"_parent\"><img src=\"https://colab.research.google.com/assets/colab-badge.svg\" alt=\"Open In Colab\"/></a>"
      ]
    },
    {
      "cell_type": "code",
      "execution_count": null,
      "metadata": {
        "id": "Pcu2rLkeC_Hm"
      },
      "outputs": [],
      "source": []
    },
    {
      "cell_type": "code",
      "metadata": {
        "colab": {
          "base_uri": "https://localhost:8080/"
        },
        "id": "hJPI16E2kMj2",
        "outputId": "0e8780f1-9224-4ae7-92f2-de86abb6a1c8"
      },
      "source": [
        "from google.colab import drive\n",
        "drive.mount('/content/drive/')\n"
      ],
      "execution_count": 1,
      "outputs": [
        {
          "output_type": "stream",
          "name": "stdout",
          "text": [
            "Mounted at /content/drive/\n"
          ]
        }
      ]
    },
    {
      "cell_type": "code",
      "source": [],
      "metadata": {
        "id": "yYG87jLy4v3B"
      },
      "execution_count": null,
      "outputs": []
    },
    {
      "cell_type": "code",
      "metadata": {
        "id": "adJ9q_Fenr4O"
      },
      "source": [
        "import os\n",
        "import numpy as np\n",
        "import pandas as pd\n",
        "import tempfile\n",
        "from glob import glob"
      ],
      "execution_count": 5,
      "outputs": []
    },
    {
      "cell_type": "code",
      "metadata": {
        "colab": {
          "base_uri": "https://localhost:8080/",
          "height": 35
        },
        "id": "IS-g76Yanz-l",
        "outputId": "70b0870c-1a49-45b1-a3dd-bef83b91064b"
      },
      "source": [
        "path = os.getcwd()\n",
        "\n",
        "try:\n",
        "    os.chdir(path + \"/drive/My Drive/データサイエンティスト講座/\")\n",
        "except:\n",
        "    pass\n",
        "\n",
        "os.getcwd()"
      ],
      "execution_count": 6,
      "outputs": [
        {
          "output_type": "execute_result",
          "data": {
            "text/plain": [
              "'/content/drive/My Drive/データサイエンティスト講座'"
            ],
            "application/vnd.google.colaboratory.intrinsic+json": {
              "type": "string"
            }
          },
          "metadata": {},
          "execution_count": 6
        }
      ]
    },
    {
      "cell_type": "code",
      "source": [
        "!pip install semopy\n",
        "!pip install see"
      ],
      "metadata": {
        "colab": {
          "base_uri": "https://localhost:8080/"
        },
        "id": "WK73-CmJDY9g",
        "outputId": "b0a835d1-579e-4a2b-9ab5-6fbe43d62b3c"
      },
      "execution_count": 23,
      "outputs": [
        {
          "output_type": "stream",
          "name": "stdout",
          "text": [
            "Requirement already satisfied: semopy in /usr/local/lib/python3.11/dist-packages (2.3.11)\n",
            "Requirement already satisfied: scipy in /usr/local/lib/python3.11/dist-packages (from semopy) (1.13.1)\n",
            "Requirement already satisfied: numpy in /usr/local/lib/python3.11/dist-packages (from semopy) (1.26.4)\n",
            "Requirement already satisfied: pandas in /usr/local/lib/python3.11/dist-packages (from semopy) (2.2.2)\n",
            "Requirement already satisfied: sympy in /usr/local/lib/python3.11/dist-packages (from semopy) (1.13.1)\n",
            "Requirement already satisfied: scikit-learn in /usr/local/lib/python3.11/dist-packages (from semopy) (1.6.1)\n",
            "Requirement already satisfied: statsmodels in /usr/local/lib/python3.11/dist-packages (from semopy) (0.14.4)\n",
            "Requirement already satisfied: numdifftools in /usr/local/lib/python3.11/dist-packages (from semopy) (0.9.41)\n",
            "Requirement already satisfied: python-dateutil>=2.8.2 in /usr/local/lib/python3.11/dist-packages (from pandas->semopy) (2.8.2)\n",
            "Requirement already satisfied: pytz>=2020.1 in /usr/local/lib/python3.11/dist-packages (from pandas->semopy) (2025.1)\n",
            "Requirement already satisfied: tzdata>=2022.7 in /usr/local/lib/python3.11/dist-packages (from pandas->semopy) (2025.1)\n",
            "Requirement already satisfied: joblib>=1.2.0 in /usr/local/lib/python3.11/dist-packages (from scikit-learn->semopy) (1.4.2)\n",
            "Requirement already satisfied: threadpoolctl>=3.1.0 in /usr/local/lib/python3.11/dist-packages (from scikit-learn->semopy) (3.5.0)\n",
            "Requirement already satisfied: patsy>=0.5.6 in /usr/local/lib/python3.11/dist-packages (from statsmodels->semopy) (1.0.1)\n",
            "Requirement already satisfied: packaging>=21.3 in /usr/local/lib/python3.11/dist-packages (from statsmodels->semopy) (24.2)\n",
            "Requirement already satisfied: mpmath<1.4,>=1.1.0 in /usr/local/lib/python3.11/dist-packages (from sympy->semopy) (1.3.0)\n",
            "Requirement already satisfied: six>=1.5 in /usr/local/lib/python3.11/dist-packages (from python-dateutil>=2.8.2->pandas->semopy) (1.17.0)\n",
            "Collecting see\n",
            "  Downloading see-1.4.1-py2.py3-none-any.whl.metadata (4.6 kB)\n",
            "Downloading see-1.4.1-py2.py3-none-any.whl (12 kB)\n",
            "Installing collected packages: see\n",
            "Successfully installed see-1.4.1\n"
          ]
        }
      ]
    },
    {
      "cell_type": "code",
      "source": [
        "!pip install graphviz"
      ],
      "metadata": {
        "colab": {
          "base_uri": "https://localhost:8080/"
        },
        "id": "NxH2uNFiHzJW",
        "outputId": "71321d43-0571-417d-bc55-fa7c401e5c3e"
      },
      "execution_count": 34,
      "outputs": [
        {
          "output_type": "stream",
          "name": "stdout",
          "text": [
            "Requirement already satisfied: graphviz in /usr/local/lib/python3.11/dist-packages (0.20.3)\n"
          ]
        }
      ]
    },
    {
      "cell_type": "code",
      "source": [
        "import semopy as sem\n",
        "from semopy import Model\n",
        "import semopy"
      ],
      "metadata": {
        "id": "nKxyfY3XDjhl"
      },
      "execution_count": 40,
      "outputs": []
    },
    {
      "cell_type": "code",
      "source": [
        "from semopy.examples import political_democracy\n",
        "\n",
        "data = political_democracy.get_data()\n",
        "data"
      ],
      "metadata": {
        "colab": {
          "base_uri": "https://localhost:8080/",
          "height": 444
        },
        "id": "PxuCeruiDt8Z",
        "outputId": "7e2d3038-5589-4f7d-f05a-b7a933b2f460"
      },
      "execution_count": 9,
      "outputs": [
        {
          "output_type": "execute_result",
          "data": {
            "text/plain": [
              "       y1        y2        y3         y4         y5        y6        y7  \\\n",
              "1    2.50  0.000000  3.333333   0.000000   1.250000  0.000000  3.726360   \n",
              "2    1.25  0.000000  3.333333   0.000000   6.250000  1.100000  6.666666   \n",
              "3    7.50  8.800000  9.999998   9.199991   8.750000  8.094061  9.999998   \n",
              "4    8.90  8.800000  9.999998   9.199991   8.907948  8.127979  9.999998   \n",
              "5   10.00  3.333333  9.999998   6.666666   7.500000  3.333333  9.999998   \n",
              "..    ...       ...       ...        ...        ...       ...       ...   \n",
              "71   5.40  9.999998  6.666666   3.333333   3.750000  6.666666  6.666666   \n",
              "72   7.50  8.800000  9.999998   6.066666   7.500000  6.666666  9.999998   \n",
              "73   7.50  7.000000  9.999998   6.852998   7.500000  6.348340  6.666666   \n",
              "74  10.00  6.666666  9.999998  10.000000  10.000000  6.666666  9.999998   \n",
              "75   3.75  3.333333  0.000000   0.000000   1.250000  3.333333  0.000000   \n",
              "\n",
              "           y8        x1        x2        x3  \n",
              "1    3.333333  4.442651  3.637586  2.557615  \n",
              "2    0.736999  5.384495  5.062595  3.568079  \n",
              "3    8.211809  5.961005  6.255750  5.224433  \n",
              "4    4.615086  6.285998  7.567863  6.267495  \n",
              "5    6.666666  5.863631  6.818924  4.573679  \n",
              "..        ...       ...       ...       ...  \n",
              "71   1.485166  4.477337  3.091042  1.987909  \n",
              "72   6.666666  5.337538  5.631212  3.491004  \n",
              "73   7.508044  6.129050  6.403574  5.001796  \n",
              "74  10.000000  5.003946  4.962845  3.976994  \n",
              "75   0.000000  4.488636  4.897840  2.867566  \n",
              "\n",
              "[75 rows x 11 columns]"
            ],
            "text/html": [
              "\n",
              "  <div id=\"df-9f8c27ab-9325-450e-82ff-166ea1add733\" class=\"colab-df-container\">\n",
              "    <div>\n",
              "<style scoped>\n",
              "    .dataframe tbody tr th:only-of-type {\n",
              "        vertical-align: middle;\n",
              "    }\n",
              "\n",
              "    .dataframe tbody tr th {\n",
              "        vertical-align: top;\n",
              "    }\n",
              "\n",
              "    .dataframe thead th {\n",
              "        text-align: right;\n",
              "    }\n",
              "</style>\n",
              "<table border=\"1\" class=\"dataframe\">\n",
              "  <thead>\n",
              "    <tr style=\"text-align: right;\">\n",
              "      <th></th>\n",
              "      <th>y1</th>\n",
              "      <th>y2</th>\n",
              "      <th>y3</th>\n",
              "      <th>y4</th>\n",
              "      <th>y5</th>\n",
              "      <th>y6</th>\n",
              "      <th>y7</th>\n",
              "      <th>y8</th>\n",
              "      <th>x1</th>\n",
              "      <th>x2</th>\n",
              "      <th>x3</th>\n",
              "    </tr>\n",
              "  </thead>\n",
              "  <tbody>\n",
              "    <tr>\n",
              "      <th>1</th>\n",
              "      <td>2.50</td>\n",
              "      <td>0.000000</td>\n",
              "      <td>3.333333</td>\n",
              "      <td>0.000000</td>\n",
              "      <td>1.250000</td>\n",
              "      <td>0.000000</td>\n",
              "      <td>3.726360</td>\n",
              "      <td>3.333333</td>\n",
              "      <td>4.442651</td>\n",
              "      <td>3.637586</td>\n",
              "      <td>2.557615</td>\n",
              "    </tr>\n",
              "    <tr>\n",
              "      <th>2</th>\n",
              "      <td>1.25</td>\n",
              "      <td>0.000000</td>\n",
              "      <td>3.333333</td>\n",
              "      <td>0.000000</td>\n",
              "      <td>6.250000</td>\n",
              "      <td>1.100000</td>\n",
              "      <td>6.666666</td>\n",
              "      <td>0.736999</td>\n",
              "      <td>5.384495</td>\n",
              "      <td>5.062595</td>\n",
              "      <td>3.568079</td>\n",
              "    </tr>\n",
              "    <tr>\n",
              "      <th>3</th>\n",
              "      <td>7.50</td>\n",
              "      <td>8.800000</td>\n",
              "      <td>9.999998</td>\n",
              "      <td>9.199991</td>\n",
              "      <td>8.750000</td>\n",
              "      <td>8.094061</td>\n",
              "      <td>9.999998</td>\n",
              "      <td>8.211809</td>\n",
              "      <td>5.961005</td>\n",
              "      <td>6.255750</td>\n",
              "      <td>5.224433</td>\n",
              "    </tr>\n",
              "    <tr>\n",
              "      <th>4</th>\n",
              "      <td>8.90</td>\n",
              "      <td>8.800000</td>\n",
              "      <td>9.999998</td>\n",
              "      <td>9.199991</td>\n",
              "      <td>8.907948</td>\n",
              "      <td>8.127979</td>\n",
              "      <td>9.999998</td>\n",
              "      <td>4.615086</td>\n",
              "      <td>6.285998</td>\n",
              "      <td>7.567863</td>\n",
              "      <td>6.267495</td>\n",
              "    </tr>\n",
              "    <tr>\n",
              "      <th>5</th>\n",
              "      <td>10.00</td>\n",
              "      <td>3.333333</td>\n",
              "      <td>9.999998</td>\n",
              "      <td>6.666666</td>\n",
              "      <td>7.500000</td>\n",
              "      <td>3.333333</td>\n",
              "      <td>9.999998</td>\n",
              "      <td>6.666666</td>\n",
              "      <td>5.863631</td>\n",
              "      <td>6.818924</td>\n",
              "      <td>4.573679</td>\n",
              "    </tr>\n",
              "    <tr>\n",
              "      <th>...</th>\n",
              "      <td>...</td>\n",
              "      <td>...</td>\n",
              "      <td>...</td>\n",
              "      <td>...</td>\n",
              "      <td>...</td>\n",
              "      <td>...</td>\n",
              "      <td>...</td>\n",
              "      <td>...</td>\n",
              "      <td>...</td>\n",
              "      <td>...</td>\n",
              "      <td>...</td>\n",
              "    </tr>\n",
              "    <tr>\n",
              "      <th>71</th>\n",
              "      <td>5.40</td>\n",
              "      <td>9.999998</td>\n",
              "      <td>6.666666</td>\n",
              "      <td>3.333333</td>\n",
              "      <td>3.750000</td>\n",
              "      <td>6.666666</td>\n",
              "      <td>6.666666</td>\n",
              "      <td>1.485166</td>\n",
              "      <td>4.477337</td>\n",
              "      <td>3.091042</td>\n",
              "      <td>1.987909</td>\n",
              "    </tr>\n",
              "    <tr>\n",
              "      <th>72</th>\n",
              "      <td>7.50</td>\n",
              "      <td>8.800000</td>\n",
              "      <td>9.999998</td>\n",
              "      <td>6.066666</td>\n",
              "      <td>7.500000</td>\n",
              "      <td>6.666666</td>\n",
              "      <td>9.999998</td>\n",
              "      <td>6.666666</td>\n",
              "      <td>5.337538</td>\n",
              "      <td>5.631212</td>\n",
              "      <td>3.491004</td>\n",
              "    </tr>\n",
              "    <tr>\n",
              "      <th>73</th>\n",
              "      <td>7.50</td>\n",
              "      <td>7.000000</td>\n",
              "      <td>9.999998</td>\n",
              "      <td>6.852998</td>\n",
              "      <td>7.500000</td>\n",
              "      <td>6.348340</td>\n",
              "      <td>6.666666</td>\n",
              "      <td>7.508044</td>\n",
              "      <td>6.129050</td>\n",
              "      <td>6.403574</td>\n",
              "      <td>5.001796</td>\n",
              "    </tr>\n",
              "    <tr>\n",
              "      <th>74</th>\n",
              "      <td>10.00</td>\n",
              "      <td>6.666666</td>\n",
              "      <td>9.999998</td>\n",
              "      <td>10.000000</td>\n",
              "      <td>10.000000</td>\n",
              "      <td>6.666666</td>\n",
              "      <td>9.999998</td>\n",
              "      <td>10.000000</td>\n",
              "      <td>5.003946</td>\n",
              "      <td>4.962845</td>\n",
              "      <td>3.976994</td>\n",
              "    </tr>\n",
              "    <tr>\n",
              "      <th>75</th>\n",
              "      <td>3.75</td>\n",
              "      <td>3.333333</td>\n",
              "      <td>0.000000</td>\n",
              "      <td>0.000000</td>\n",
              "      <td>1.250000</td>\n",
              "      <td>3.333333</td>\n",
              "      <td>0.000000</td>\n",
              "      <td>0.000000</td>\n",
              "      <td>4.488636</td>\n",
              "      <td>4.897840</td>\n",
              "      <td>2.867566</td>\n",
              "    </tr>\n",
              "  </tbody>\n",
              "</table>\n",
              "<p>75 rows × 11 columns</p>\n",
              "</div>\n",
              "    <div class=\"colab-df-buttons\">\n",
              "\n",
              "  <div class=\"colab-df-container\">\n",
              "    <button class=\"colab-df-convert\" onclick=\"convertToInteractive('df-9f8c27ab-9325-450e-82ff-166ea1add733')\"\n",
              "            title=\"Convert this dataframe to an interactive table.\"\n",
              "            style=\"display:none;\">\n",
              "\n",
              "  <svg xmlns=\"http://www.w3.org/2000/svg\" height=\"24px\" viewBox=\"0 -960 960 960\">\n",
              "    <path d=\"M120-120v-720h720v720H120Zm60-500h600v-160H180v160Zm220 220h160v-160H400v160Zm0 220h160v-160H400v160ZM180-400h160v-160H180v160Zm440 0h160v-160H620v160ZM180-180h160v-160H180v160Zm440 0h160v-160H620v160Z\"/>\n",
              "  </svg>\n",
              "    </button>\n",
              "\n",
              "  <style>\n",
              "    .colab-df-container {\n",
              "      display:flex;\n",
              "      gap: 12px;\n",
              "    }\n",
              "\n",
              "    .colab-df-convert {\n",
              "      background-color: #E8F0FE;\n",
              "      border: none;\n",
              "      border-radius: 50%;\n",
              "      cursor: pointer;\n",
              "      display: none;\n",
              "      fill: #1967D2;\n",
              "      height: 32px;\n",
              "      padding: 0 0 0 0;\n",
              "      width: 32px;\n",
              "    }\n",
              "\n",
              "    .colab-df-convert:hover {\n",
              "      background-color: #E2EBFA;\n",
              "      box-shadow: 0px 1px 2px rgba(60, 64, 67, 0.3), 0px 1px 3px 1px rgba(60, 64, 67, 0.15);\n",
              "      fill: #174EA6;\n",
              "    }\n",
              "\n",
              "    .colab-df-buttons div {\n",
              "      margin-bottom: 4px;\n",
              "    }\n",
              "\n",
              "    [theme=dark] .colab-df-convert {\n",
              "      background-color: #3B4455;\n",
              "      fill: #D2E3FC;\n",
              "    }\n",
              "\n",
              "    [theme=dark] .colab-df-convert:hover {\n",
              "      background-color: #434B5C;\n",
              "      box-shadow: 0px 1px 3px 1px rgba(0, 0, 0, 0.15);\n",
              "      filter: drop-shadow(0px 1px 2px rgba(0, 0, 0, 0.3));\n",
              "      fill: #FFFFFF;\n",
              "    }\n",
              "  </style>\n",
              "\n",
              "    <script>\n",
              "      const buttonEl =\n",
              "        document.querySelector('#df-9f8c27ab-9325-450e-82ff-166ea1add733 button.colab-df-convert');\n",
              "      buttonEl.style.display =\n",
              "        google.colab.kernel.accessAllowed ? 'block' : 'none';\n",
              "\n",
              "      async function convertToInteractive(key) {\n",
              "        const element = document.querySelector('#df-9f8c27ab-9325-450e-82ff-166ea1add733');\n",
              "        const dataTable =\n",
              "          await google.colab.kernel.invokeFunction('convertToInteractive',\n",
              "                                                    [key], {});\n",
              "        if (!dataTable) return;\n",
              "\n",
              "        const docLinkHtml = 'Like what you see? Visit the ' +\n",
              "          '<a target=\"_blank\" href=https://colab.research.google.com/notebooks/data_table.ipynb>data table notebook</a>'\n",
              "          + ' to learn more about interactive tables.';\n",
              "        element.innerHTML = '';\n",
              "        dataTable['output_type'] = 'display_data';\n",
              "        await google.colab.output.renderOutput(dataTable, element);\n",
              "        const docLink = document.createElement('div');\n",
              "        docLink.innerHTML = docLinkHtml;\n",
              "        element.appendChild(docLink);\n",
              "      }\n",
              "    </script>\n",
              "  </div>\n",
              "\n",
              "\n",
              "<div id=\"df-94773cb2-a29d-4288-88b4-273b9799ab76\">\n",
              "  <button class=\"colab-df-quickchart\" onclick=\"quickchart('df-94773cb2-a29d-4288-88b4-273b9799ab76')\"\n",
              "            title=\"Suggest charts\"\n",
              "            style=\"display:none;\">\n",
              "\n",
              "<svg xmlns=\"http://www.w3.org/2000/svg\" height=\"24px\"viewBox=\"0 0 24 24\"\n",
              "     width=\"24px\">\n",
              "    <g>\n",
              "        <path d=\"M19 3H5c-1.1 0-2 .9-2 2v14c0 1.1.9 2 2 2h14c1.1 0 2-.9 2-2V5c0-1.1-.9-2-2-2zM9 17H7v-7h2v7zm4 0h-2V7h2v10zm4 0h-2v-4h2v4z\"/>\n",
              "    </g>\n",
              "</svg>\n",
              "  </button>\n",
              "\n",
              "<style>\n",
              "  .colab-df-quickchart {\n",
              "      --bg-color: #E8F0FE;\n",
              "      --fill-color: #1967D2;\n",
              "      --hover-bg-color: #E2EBFA;\n",
              "      --hover-fill-color: #174EA6;\n",
              "      --disabled-fill-color: #AAA;\n",
              "      --disabled-bg-color: #DDD;\n",
              "  }\n",
              "\n",
              "  [theme=dark] .colab-df-quickchart {\n",
              "      --bg-color: #3B4455;\n",
              "      --fill-color: #D2E3FC;\n",
              "      --hover-bg-color: #434B5C;\n",
              "      --hover-fill-color: #FFFFFF;\n",
              "      --disabled-bg-color: #3B4455;\n",
              "      --disabled-fill-color: #666;\n",
              "  }\n",
              "\n",
              "  .colab-df-quickchart {\n",
              "    background-color: var(--bg-color);\n",
              "    border: none;\n",
              "    border-radius: 50%;\n",
              "    cursor: pointer;\n",
              "    display: none;\n",
              "    fill: var(--fill-color);\n",
              "    height: 32px;\n",
              "    padding: 0;\n",
              "    width: 32px;\n",
              "  }\n",
              "\n",
              "  .colab-df-quickchart:hover {\n",
              "    background-color: var(--hover-bg-color);\n",
              "    box-shadow: 0 1px 2px rgba(60, 64, 67, 0.3), 0 1px 3px 1px rgba(60, 64, 67, 0.15);\n",
              "    fill: var(--button-hover-fill-color);\n",
              "  }\n",
              "\n",
              "  .colab-df-quickchart-complete:disabled,\n",
              "  .colab-df-quickchart-complete:disabled:hover {\n",
              "    background-color: var(--disabled-bg-color);\n",
              "    fill: var(--disabled-fill-color);\n",
              "    box-shadow: none;\n",
              "  }\n",
              "\n",
              "  .colab-df-spinner {\n",
              "    border: 2px solid var(--fill-color);\n",
              "    border-color: transparent;\n",
              "    border-bottom-color: var(--fill-color);\n",
              "    animation:\n",
              "      spin 1s steps(1) infinite;\n",
              "  }\n",
              "\n",
              "  @keyframes spin {\n",
              "    0% {\n",
              "      border-color: transparent;\n",
              "      border-bottom-color: var(--fill-color);\n",
              "      border-left-color: var(--fill-color);\n",
              "    }\n",
              "    20% {\n",
              "      border-color: transparent;\n",
              "      border-left-color: var(--fill-color);\n",
              "      border-top-color: var(--fill-color);\n",
              "    }\n",
              "    30% {\n",
              "      border-color: transparent;\n",
              "      border-left-color: var(--fill-color);\n",
              "      border-top-color: var(--fill-color);\n",
              "      border-right-color: var(--fill-color);\n",
              "    }\n",
              "    40% {\n",
              "      border-color: transparent;\n",
              "      border-right-color: var(--fill-color);\n",
              "      border-top-color: var(--fill-color);\n",
              "    }\n",
              "    60% {\n",
              "      border-color: transparent;\n",
              "      border-right-color: var(--fill-color);\n",
              "    }\n",
              "    80% {\n",
              "      border-color: transparent;\n",
              "      border-right-color: var(--fill-color);\n",
              "      border-bottom-color: var(--fill-color);\n",
              "    }\n",
              "    90% {\n",
              "      border-color: transparent;\n",
              "      border-bottom-color: var(--fill-color);\n",
              "    }\n",
              "  }\n",
              "</style>\n",
              "\n",
              "  <script>\n",
              "    async function quickchart(key) {\n",
              "      const quickchartButtonEl =\n",
              "        document.querySelector('#' + key + ' button');\n",
              "      quickchartButtonEl.disabled = true;  // To prevent multiple clicks.\n",
              "      quickchartButtonEl.classList.add('colab-df-spinner');\n",
              "      try {\n",
              "        const charts = await google.colab.kernel.invokeFunction(\n",
              "            'suggestCharts', [key], {});\n",
              "      } catch (error) {\n",
              "        console.error('Error during call to suggestCharts:', error);\n",
              "      }\n",
              "      quickchartButtonEl.classList.remove('colab-df-spinner');\n",
              "      quickchartButtonEl.classList.add('colab-df-quickchart-complete');\n",
              "    }\n",
              "    (() => {\n",
              "      let quickchartButtonEl =\n",
              "        document.querySelector('#df-94773cb2-a29d-4288-88b4-273b9799ab76 button');\n",
              "      quickchartButtonEl.style.display =\n",
              "        google.colab.kernel.accessAllowed ? 'block' : 'none';\n",
              "    })();\n",
              "  </script>\n",
              "</div>\n",
              "\n",
              "  <div id=\"id_1b36b9ae-9947-4e86-b734-dc4b3ce49419\">\n",
              "    <style>\n",
              "      .colab-df-generate {\n",
              "        background-color: #E8F0FE;\n",
              "        border: none;\n",
              "        border-radius: 50%;\n",
              "        cursor: pointer;\n",
              "        display: none;\n",
              "        fill: #1967D2;\n",
              "        height: 32px;\n",
              "        padding: 0 0 0 0;\n",
              "        width: 32px;\n",
              "      }\n",
              "\n",
              "      .colab-df-generate:hover {\n",
              "        background-color: #E2EBFA;\n",
              "        box-shadow: 0px 1px 2px rgba(60, 64, 67, 0.3), 0px 1px 3px 1px rgba(60, 64, 67, 0.15);\n",
              "        fill: #174EA6;\n",
              "      }\n",
              "\n",
              "      [theme=dark] .colab-df-generate {\n",
              "        background-color: #3B4455;\n",
              "        fill: #D2E3FC;\n",
              "      }\n",
              "\n",
              "      [theme=dark] .colab-df-generate:hover {\n",
              "        background-color: #434B5C;\n",
              "        box-shadow: 0px 1px 3px 1px rgba(0, 0, 0, 0.15);\n",
              "        filter: drop-shadow(0px 1px 2px rgba(0, 0, 0, 0.3));\n",
              "        fill: #FFFFFF;\n",
              "      }\n",
              "    </style>\n",
              "    <button class=\"colab-df-generate\" onclick=\"generateWithVariable('data')\"\n",
              "            title=\"Generate code using this dataframe.\"\n",
              "            style=\"display:none;\">\n",
              "\n",
              "  <svg xmlns=\"http://www.w3.org/2000/svg\" height=\"24px\"viewBox=\"0 0 24 24\"\n",
              "       width=\"24px\">\n",
              "    <path d=\"M7,19H8.4L18.45,9,17,7.55,7,17.6ZM5,21V16.75L18.45,3.32a2,2,0,0,1,2.83,0l1.4,1.43a1.91,1.91,0,0,1,.58,1.4,1.91,1.91,0,0,1-.58,1.4L9.25,21ZM18.45,9,17,7.55Zm-12,3A5.31,5.31,0,0,0,4.9,8.1,5.31,5.31,0,0,0,1,6.5,5.31,5.31,0,0,0,4.9,4.9,5.31,5.31,0,0,0,6.5,1,5.31,5.31,0,0,0,8.1,4.9,5.31,5.31,0,0,0,12,6.5,5.46,5.46,0,0,0,6.5,12Z\"/>\n",
              "  </svg>\n",
              "    </button>\n",
              "    <script>\n",
              "      (() => {\n",
              "      const buttonEl =\n",
              "        document.querySelector('#id_1b36b9ae-9947-4e86-b734-dc4b3ce49419 button.colab-df-generate');\n",
              "      buttonEl.style.display =\n",
              "        google.colab.kernel.accessAllowed ? 'block' : 'none';\n",
              "\n",
              "      buttonEl.onclick = () => {\n",
              "        google.colab.notebook.generateWithVariable('data');\n",
              "      }\n",
              "      })();\n",
              "    </script>\n",
              "  </div>\n",
              "\n",
              "    </div>\n",
              "  </div>\n"
            ],
            "application/vnd.google.colaboratory.intrinsic+json": {
              "type": "dataframe",
              "variable_name": "data",
              "summary": "{\n  \"name\": \"data\",\n  \"rows\": 75,\n  \"fields\": [\n    {\n      \"column\": \"y1\",\n      \"properties\": {\n        \"dtype\": \"number\",\n        \"std\": 2.6227019971330643,\n        \"min\": 1.25,\n        \"max\": 10.0,\n        \"num_unique_values\": 26,\n        \"samples\": [\n          2.9,\n          3.1,\n          2.5\n        ],\n        \"semantic_type\": \"\",\n        \"description\": \"\"\n      }\n    },\n    {\n      \"column\": \"y2\",\n      \"properties\": {\n        \"dtype\": \"number\",\n        \"std\": 3.9471275912704322,\n        \"min\": 0.0,\n        \"max\": 9.999998,\n        \"num_unique_values\": 15,\n        \"samples\": [\n          7.7,\n          4.9,\n          0.0\n        ],\n        \"semantic_type\": \"\",\n        \"description\": \"\"\n      }\n    },\n    {\n      \"column\": \"y3\",\n      \"properties\": {\n        \"dtype\": \"number\",\n        \"std\": 3.2808912321809887,\n        \"min\": 0.0,\n        \"max\": 10.0,\n        \"num_unique_values\": 16,\n        \"samples\": [\n          3.333333,\n          9.999998,\n          9.9\n        ],\n        \"semantic_type\": \"\",\n        \"description\": \"\"\n      }\n    },\n    {\n      \"column\": \"y4\",\n      \"properties\": {\n        \"dtype\": \"number\",\n        \"std\": 3.3494673870194696,\n        \"min\": 0.0,\n        \"max\": 10.0,\n        \"num_unique_values\": 19,\n        \"samples\": [\n          0.0,\n          8.899991,\n          6.060997\n        ],\n        \"semantic_type\": \"\",\n        \"description\": \"\"\n      }\n    },\n    {\n      \"column\": \"y5\",\n      \"properties\": {\n        \"dtype\": \"number\",\n        \"std\": 2.6126021668519765,\n        \"min\": 0.0,\n        \"max\": 10.0,\n        \"num_unique_values\": 16,\n        \"samples\": [\n          1.25,\n          6.25,\n          5.0\n        ],\n        \"semantic_type\": \"\",\n        \"description\": \"\"\n      }\n    },\n    {\n      \"column\": \"y6\",\n      \"properties\": {\n        \"dtype\": \"number\",\n        \"std\": 3.3727325851869883,\n        \"min\": 0.0,\n        \"max\": 9.999998,\n        \"num_unique_values\": 15,\n        \"samples\": [\n          4.358243,\n          4.055463,\n          0.0\n        ],\n        \"semantic_type\": \"\",\n        \"description\": \"\"\n      }\n    },\n    {\n      \"column\": \"y7\",\n      \"properties\": {\n        \"dtype\": \"number\",\n        \"std\": 3.286239784112381,\n        \"min\": 0.0,\n        \"max\": 9.999998,\n        \"num_unique_values\": 19,\n        \"samples\": [\n          3.72636,\n          0.0,\n          3.314128\n        ],\n        \"semantic_type\": \"\",\n        \"description\": \"\"\n      }\n    },\n    {\n      \"column\": \"y8\",\n      \"properties\": {\n        \"dtype\": \"number\",\n        \"std\": 3.2455926550687497,\n        \"min\": 0.0,\n        \"max\": 10.0,\n        \"num_unique_values\": 21,\n        \"samples\": [\n          3.333333,\n          3.821796,\n          4.141377\n        ],\n        \"semantic_type\": \"\",\n        \"description\": \"\"\n      }\n    },\n    {\n      \"column\": \"x1\",\n      \"properties\": {\n        \"dtype\": \"number\",\n        \"std\": 0.7329043111406437,\n        \"min\": 3.78419,\n        \"max\": 6.736967,\n        \"num_unique_values\": 69,\n        \"samples\": [\n          6.033086,\n          4.442651,\n          4.477337\n        ],\n        \"semantic_type\": \"\",\n        \"description\": \"\"\n      }\n    },\n    {\n      \"column\": \"x2\",\n      \"properties\": {\n        \"dtype\": \"number\",\n        \"std\": 1.510664419066959,\n        \"min\": 1.386294,\n        \"max\": 7.872074,\n        \"num_unique_values\": 69,\n        \"samples\": [\n          5.937536,\n          3.637586,\n          5.111988\n        ],\n        \"semantic_type\": \"\",\n        \"description\": \"\"\n      }\n    },\n    {\n      \"column\": \"x3\",\n      \"properties\": {\n        \"dtype\": \"number\",\n        \"std\": 1.4057112423745772,\n        \"min\": 1.001674,\n        \"max\": 6.424591,\n        \"num_unique_values\": 58,\n        \"samples\": [\n          2.557615,\n          3.89227,\n          3.217506\n        ],\n        \"semantic_type\": \"\",\n        \"description\": \"\"\n      }\n    }\n  ]\n}"
            }
          },
          "metadata": {},
          "execution_count": 9
        }
      ]
    },
    {
      "cell_type": "code",
      "source": [
        "data.dtypes"
      ],
      "metadata": {
        "colab": {
          "base_uri": "https://localhost:8080/",
          "height": 429
        },
        "id": "ntP44W2ZD8Gt",
        "outputId": "069e9ccd-255b-4ec4-87d1-7e44c5d8b28d"
      },
      "execution_count": 18,
      "outputs": [
        {
          "output_type": "execute_result",
          "data": {
            "text/plain": [
              "y1    float64\n",
              "y2    float64\n",
              "y3    float64\n",
              "y4    float64\n",
              "y5    float64\n",
              "y6    float64\n",
              "y7    float64\n",
              "y8    float64\n",
              "x1    float64\n",
              "x2    float64\n",
              "x3    float64\n",
              "dtype: object"
            ],
            "text/html": [
              "<div>\n",
              "<style scoped>\n",
              "    .dataframe tbody tr th:only-of-type {\n",
              "        vertical-align: middle;\n",
              "    }\n",
              "\n",
              "    .dataframe tbody tr th {\n",
              "        vertical-align: top;\n",
              "    }\n",
              "\n",
              "    .dataframe thead th {\n",
              "        text-align: right;\n",
              "    }\n",
              "</style>\n",
              "<table border=\"1\" class=\"dataframe\">\n",
              "  <thead>\n",
              "    <tr style=\"text-align: right;\">\n",
              "      <th></th>\n",
              "      <th>0</th>\n",
              "    </tr>\n",
              "  </thead>\n",
              "  <tbody>\n",
              "    <tr>\n",
              "      <th>y1</th>\n",
              "      <td>float64</td>\n",
              "    </tr>\n",
              "    <tr>\n",
              "      <th>y2</th>\n",
              "      <td>float64</td>\n",
              "    </tr>\n",
              "    <tr>\n",
              "      <th>y3</th>\n",
              "      <td>float64</td>\n",
              "    </tr>\n",
              "    <tr>\n",
              "      <th>y4</th>\n",
              "      <td>float64</td>\n",
              "    </tr>\n",
              "    <tr>\n",
              "      <th>y5</th>\n",
              "      <td>float64</td>\n",
              "    </tr>\n",
              "    <tr>\n",
              "      <th>y6</th>\n",
              "      <td>float64</td>\n",
              "    </tr>\n",
              "    <tr>\n",
              "      <th>y7</th>\n",
              "      <td>float64</td>\n",
              "    </tr>\n",
              "    <tr>\n",
              "      <th>y8</th>\n",
              "      <td>float64</td>\n",
              "    </tr>\n",
              "    <tr>\n",
              "      <th>x1</th>\n",
              "      <td>float64</td>\n",
              "    </tr>\n",
              "    <tr>\n",
              "      <th>x2</th>\n",
              "      <td>float64</td>\n",
              "    </tr>\n",
              "    <tr>\n",
              "      <th>x3</th>\n",
              "      <td>float64</td>\n",
              "    </tr>\n",
              "  </tbody>\n",
              "</table>\n",
              "</div><br><label><b>dtype:</b> object</label>"
            ]
          },
          "metadata": {},
          "execution_count": 18
        }
      ]
    },
    {
      "cell_type": "code",
      "source": [
        "desc = political_democracy.get_model()\n",
        "print(desc)"
      ],
      "metadata": {
        "colab": {
          "base_uri": "https://localhost:8080/"
        },
        "id": "BARm1SaOEDmd",
        "outputId": "37753b2c-d463-4e35-93b4-0edc995184d7"
      },
      "execution_count": 12,
      "outputs": [
        {
          "output_type": "stream",
          "name": "stdout",
          "text": [
            "# measurement model\n",
            "ind60 =~ x1 + x2 + x3\n",
            "dem60 =~ y1 + y2 + y3 + y4\n",
            "dem65 =~ y5 + y6 + y7 + y8\n",
            "# regressions\n",
            "dem60 ~ ind60\n",
            "dem65 ~ ind60 + dem60\n",
            "# residual correlations\n",
            "y1 ~~ y5\n",
            "y2 ~~ y4 + y6\n",
            "y3 ~~ y7\n",
            "y4 ~~ y8\n",
            "y6 ~~ y8\n"
          ]
        }
      ]
    },
    {
      "cell_type": "code",
      "source": [
        "# 仮説モデルを、変数descに代入する\n",
        "desc = '''\n",
        "    # measurement model\n",
        "    ind60 =~ x1 + x2 + x3\n",
        "    dem60 =~ y1 + y2 + y3 + y4\n",
        "    dem65 =~ y5 + y6 + y7 + y8\n",
        "    # regressions\n",
        "    dem60 ~ ind60\n",
        "    dem65 ~ ind60 + dem60\n",
        "    # residual correlations\n",
        "    y1 ~~ y5\n",
        "    y2 ~~ y4 + y6\n",
        "    y3 ~~ y7\n",
        "    y4 ~~ y8\n",
        "    y6 ~~ y8\n",
        "    '''\n"
      ],
      "metadata": {
        "id": "vB9KWEHKEOUk"
      },
      "execution_count": 16,
      "outputs": []
    },
    {
      "cell_type": "code",
      "source": [
        "mod = Model(desc)\n",
        "res = mod.fit(data)\n",
        "\n",
        "print(res)"
      ],
      "metadata": {
        "colab": {
          "base_uri": "https://localhost:8080/"
        },
        "id": "fgQmRlY0GTbL",
        "outputId": "3f873b9a-f3fd-4e10-d6c1-c5644aa25724"
      },
      "execution_count": 30,
      "outputs": [
        {
          "output_type": "stream",
          "name": "stdout",
          "text": [
            "Name of objective: MLW\n",
            "Optimization method: SLSQP\n",
            "Optimization successful.\n",
            "Optimization terminated successfully\n",
            "Objective value: 0.508\n",
            "Number of iterations: 52\n",
            "Params: 2.180 1.819 1.257 1.058 1.265 1.186 1.280 1.266 1.482 0.572 0.838 0.624 1.893 1.320 2.156 7.385 0.793 5.067 0.347 3.148 1.357 4.954 3.951 0.172 0.448 0.082 0.120 0.467 2.352 3.430 3.256\n"
          ]
        }
      ]
    },
    {
      "cell_type": "code",
      "source": [
        "inspect = mod.inspect()\n",
        "print(inspect)"
      ],
      "metadata": {
        "colab": {
          "base_uri": "https://localhost:8080/"
        },
        "id": "olnTfn95GYFR",
        "outputId": "9e14789a-3aba-4446-fb17-90e44099eb89"
      },
      "execution_count": 31,
      "outputs": [
        {
          "output_type": "stream",
          "name": "stdout",
          "text": [
            "     lval  op   rval  Estimate  Std. Err    z-value   p-value\n",
            "0   dem60   ~  ind60  1.482379  0.399024   3.715017  0.000203\n",
            "1   dem65   ~  ind60  0.571912  0.221383   2.583364  0.009784\n",
            "2   dem65   ~  dem60  0.837574  0.098446   8.507992       0.0\n",
            "3      x1   ~  ind60  1.000000         -          -         -\n",
            "4      x2   ~  ind60  2.180494  0.138565  15.736254       0.0\n",
            "5      x3   ~  ind60  1.818546  0.151993   11.96465       0.0\n",
            "6      y1   ~  dem60  1.000000         -          -         -\n",
            "7      y2   ~  dem60  1.256819  0.182687   6.879647       0.0\n",
            "8      y3   ~  dem60  1.058174  0.151521   6.983699       0.0\n",
            "9      y4   ~  dem60  1.265186  0.145151   8.716344       0.0\n",
            "10     y5   ~  dem65  1.000000         -          -         -\n",
            "11     y6   ~  dem65  1.185743  0.168908   7.020032       0.0\n",
            "12     y7   ~  dem65  1.279717  0.159996    7.99841       0.0\n",
            "13     y8   ~  dem65  1.266084  0.158238   8.001141       0.0\n",
            "14  dem60  ~~  dem60  3.950849  0.920451   4.292296  0.000018\n",
            "15  dem65  ~~  dem65  0.172210  0.214861   0.801494  0.422846\n",
            "16  ind60  ~~  ind60  0.448321  0.086677   5.172345       0.0\n",
            "17     y1  ~~     y5  0.624423  0.358435   1.742083  0.081494\n",
            "18     y1  ~~     y1  1.892743   0.44456   4.257565  0.000021\n",
            "19     y2  ~~     y4  1.319589   0.70268   1.877937   0.06039\n",
            "20     y2  ~~     y6  2.156164  0.734155   2.936934  0.003315\n",
            "21     y2  ~~     y2  7.385292  1.375671   5.368501       0.0\n",
            "22     y3  ~~     y7  0.793329  0.607642   1.305585  0.191694\n",
            "23     y3  ~~     y3  5.066628  0.951722   5.323646       0.0\n",
            "24     y4  ~~     y8  0.347222  0.442234   0.785154  0.432363\n",
            "25     y4  ~~     y4  3.147911  0.738841   4.260605   0.00002\n",
            "26     y6  ~~     y8  1.357037    0.5685   2.387047  0.016984\n",
            "27     y6  ~~     y6  4.954364  0.914284   5.418843       0.0\n",
            "28     x1  ~~     x1  0.081573  0.019495   4.184317  0.000029\n",
            "29     x2  ~~     x2  0.119894  0.069747   1.718973  0.085619\n",
            "30     x3  ~~     x3  0.466732  0.090168   5.176276       0.0\n",
            "31     y5  ~~     y5  2.351910  0.480369   4.896044  0.000001\n",
            "32     y7  ~~     y7  3.430032  0.712732   4.812512  0.000001\n",
            "33     y8  ~~     y8  3.256389   0.69504   4.685182  0.000003\n"
          ]
        }
      ]
    },
    {
      "cell_type": "code",
      "source": [
        "# 適合度を表示する\n",
        "stats = semopy.calc_stats(mod)\n",
        "print(stats.T)"
      ],
      "metadata": {
        "colab": {
          "base_uri": "https://localhost:8080/"
        },
        "id": "5_RnBEJjHtdP",
        "outputId": "896b4b15-248b-4187-ddf3-b5ef1bc233d7"
      },
      "execution_count": 33,
      "outputs": [
        {
          "output_type": "stream",
          "name": "stdout",
          "text": [
            "                    Value\n",
            "DoF             35.000000\n",
            "DoF Baseline    55.000000\n",
            "chi2            38.125446\n",
            "chi2 p-value     0.329171\n",
            "chi2 Baseline  730.654577\n",
            "CFI              0.995374\n",
            "GFI              0.947820\n",
            "AGFI             0.918003\n",
            "NFI              0.947820\n",
            "TLI              0.992731\n",
            "RMSEA            0.034738\n",
            "AIC             60.983321\n",
            "BIC            132.825453\n",
            "LogLik           0.508339\n"
          ]
        }
      ]
    },
    {
      "cell_type": "code",
      "source": [
        "model = Model(desc)\n",
        "result = model.fit(data)\n",
        "print(result)"
      ],
      "metadata": {
        "colab": {
          "base_uri": "https://localhost:8080/"
        },
        "id": "-xn8R1YwH-H9",
        "outputId": "82f28b1f-5e09-441f-e597-8ce46d85e935"
      },
      "execution_count": 37,
      "outputs": [
        {
          "output_type": "stream",
          "name": "stdout",
          "text": [
            "Name of objective: MLW\n",
            "Optimization method: SLSQP\n",
            "Optimization successful.\n",
            "Optimization terminated successfully\n",
            "Objective value: 0.508\n",
            "Number of iterations: 52\n",
            "Params: 2.180 1.819 1.257 1.058 1.265 1.186 1.280 1.266 1.482 0.572 0.838 0.624 1.893 1.320 2.156 7.385 0.793 5.067 0.347 3.148 1.357 4.954 3.951 0.172 0.448 0.082 0.120 0.467 2.352 3.430 3.256\n"
          ]
        }
      ]
    },
    {
      "cell_type": "code",
      "source": [
        "inspect = model.inspect()\n",
        "print(inspect)"
      ],
      "metadata": {
        "colab": {
          "base_uri": "https://localhost:8080/"
        },
        "id": "ZIdo9TdAIE2A",
        "outputId": "09942cbb-27a5-4547-a403-9b02fadc2ed6"
      },
      "execution_count": 38,
      "outputs": [
        {
          "output_type": "stream",
          "name": "stdout",
          "text": [
            "     lval  op   rval  Estimate  Std. Err    z-value   p-value\n",
            "0   dem60   ~  ind60  1.482379  0.399024   3.715017  0.000203\n",
            "1   dem65   ~  ind60  0.571912  0.221383   2.583364  0.009784\n",
            "2   dem65   ~  dem60  0.837574  0.098446   8.507992       0.0\n",
            "3      x1   ~  ind60  1.000000         -          -         -\n",
            "4      x2   ~  ind60  2.180494  0.138565  15.736254       0.0\n",
            "5      x3   ~  ind60  1.818546  0.151993   11.96465       0.0\n",
            "6      y1   ~  dem60  1.000000         -          -         -\n",
            "7      y2   ~  dem60  1.256819  0.182687   6.879647       0.0\n",
            "8      y3   ~  dem60  1.058174  0.151521   6.983699       0.0\n",
            "9      y4   ~  dem60  1.265186  0.145151   8.716344       0.0\n",
            "10     y5   ~  dem65  1.000000         -          -         -\n",
            "11     y6   ~  dem65  1.185743  0.168908   7.020032       0.0\n",
            "12     y7   ~  dem65  1.279717  0.159996    7.99841       0.0\n",
            "13     y8   ~  dem65  1.266084  0.158238   8.001141       0.0\n",
            "14  dem60  ~~  dem60  3.950849  0.920451   4.292296  0.000018\n",
            "15  dem65  ~~  dem65  0.172210  0.214861   0.801494  0.422846\n",
            "16  ind60  ~~  ind60  0.448321  0.086677   5.172345       0.0\n",
            "17     y1  ~~     y5  0.624423  0.358435   1.742083  0.081494\n",
            "18     y1  ~~     y1  1.892743   0.44456   4.257565  0.000021\n",
            "19     y2  ~~     y4  1.319589   0.70268   1.877937   0.06039\n",
            "20     y2  ~~     y6  2.156164  0.734155   2.936934  0.003315\n",
            "21     y2  ~~     y2  7.385292  1.375671   5.368501       0.0\n",
            "22     y3  ~~     y7  0.793329  0.607642   1.305585  0.191694\n",
            "23     y3  ~~     y3  5.066628  0.951722   5.323646       0.0\n",
            "24     y4  ~~     y8  0.347222  0.442234   0.785154  0.432363\n",
            "25     y4  ~~     y4  3.147911  0.738841   4.260605   0.00002\n",
            "26     y6  ~~     y8  1.357037    0.5685   2.387047  0.016984\n",
            "27     y6  ~~     y6  4.954364  0.914284   5.418843       0.0\n",
            "28     x1  ~~     x1  0.081573  0.019495   4.184317  0.000029\n",
            "29     x2  ~~     x2  0.119894  0.069747   1.718973  0.085619\n",
            "30     x3  ~~     x3  0.466732  0.090168   5.176276       0.0\n",
            "31     y5  ~~     y5  2.351910  0.480369   4.896044  0.000001\n",
            "32     y7  ~~     y7  3.430032  0.712732   4.812512  0.000001\n",
            "33     y8  ~~     y8  3.256389   0.69504   4.685182  0.000003\n"
          ]
        }
      ]
    },
    {
      "cell_type": "code",
      "source": [
        "semopy.semplot(model, \"graph.png\")"
      ],
      "metadata": {
        "colab": {
          "base_uri": "https://localhost:8080/",
          "height": 615
        },
        "id": "KnzvIcLyJwxA",
        "outputId": "d90de5ed-4f0f-46e2-cab4-d5f34aa6b0a1"
      },
      "execution_count": 39,
      "outputs": [
        {
          "output_type": "execute_result",
          "data": {
            "image/svg+xml": "<?xml version=\"1.0\" encoding=\"UTF-8\" standalone=\"no\"?>\n<!DOCTYPE svg PUBLIC \"-//W3C//DTD SVG 1.1//EN\"\n \"http://www.w3.org/Graphics/SVG/1.1/DTD/svg11.dtd\">\n<!-- Generated by graphviz version 2.43.0 (0)\n -->\n<!-- Title: G Pages: 1 -->\n<svg width=\"526pt\" height=\"431pt\"\n viewBox=\"0.00 0.00 526.00 431.48\" xmlns=\"http://www.w3.org/2000/svg\" xmlns:xlink=\"http://www.w3.org/1999/xlink\">\n<g id=\"graph0\" class=\"graph\" transform=\"scale(1 1) rotate(0) translate(4 427.48)\">\n<title>G</title>\n<polygon fill=\"white\" stroke=\"transparent\" points=\"-4,4 -4,-427.48 522,-427.48 522,4 -4,4\"/>\n<!-- dem65 -->\n<g id=\"node1\" class=\"node\">\n<title>dem65</title>\n<ellipse fill=\"#cae6df\" stroke=\"black\" cx=\"136\" cy=\"-133.1\" rx=\"35.19\" ry=\"35.19\"/>\n<text text-anchor=\"middle\" x=\"136\" y=\"-129.4\" font-family=\"Times,serif\" font-size=\"14.00\">dem65</text>\n</g>\n<!-- y5 -->\n<g id=\"node11\" class=\"node\">\n<title>y5</title>\n<polygon fill=\"none\" stroke=\"black\" points=\"54,-36 0,-36 0,0 54,0 54,-36\"/>\n<text text-anchor=\"middle\" x=\"27\" y=\"-14.3\" font-family=\"Times,serif\" font-size=\"14.00\">y5</text>\n</g>\n<!-- dem65&#45;&gt;y5 -->\n<g id=\"edge11\" class=\"edge\">\n<title>dem65&#45;&gt;y5</title>\n<path fill=\"none\" stroke=\"black\" d=\"M106.34,-114.07C92.76,-104.92 77.06,-93.01 65,-80 55.46,-69.71 46.96,-56.68 40.44,-45.31\"/>\n<polygon fill=\"black\" stroke=\"black\" points=\"43.34,-43.31 35.44,-36.24 37.21,-46.69 43.34,-43.31\"/>\n<text text-anchor=\"middle\" x=\"79\" y=\"-63.9\" font-family=\"Times,serif\" font-size=\"12.00\">1.000</text>\n</g>\n<!-- y6 -->\n<g id=\"node12\" class=\"node\">\n<title>y6</title>\n<polygon fill=\"none\" stroke=\"black\" points=\"126,-36 72,-36 72,0 126,0 126,-36\"/>\n<text text-anchor=\"middle\" x=\"99\" y=\"-14.3\" font-family=\"Times,serif\" font-size=\"14.00\">y6</text>\n</g>\n<!-- dem65&#45;&gt;y6 -->\n<g id=\"edge12\" class=\"edge\">\n<title>dem65&#45;&gt;y6</title>\n<path fill=\"none\" stroke=\"black\" d=\"M113.47,-105.87C108.02,-98.04 102.92,-89.11 100,-80 96.58,-69.33 95.81,-57.07 96.09,-46.35\"/>\n<polygon fill=\"black\" stroke=\"black\" points=\"99.59,-46.44 96.66,-36.26 92.6,-46.05 99.59,-46.44\"/>\n<text text-anchor=\"middle\" x=\"126\" y=\"-70.4\" font-family=\"Times,serif\" font-size=\"12.00\">1.186</text>\n<text text-anchor=\"middle\" x=\"126\" y=\"-57.4\" font-family=\"Times,serif\" font-size=\"12.00\">p&#45;val: 0.00</text>\n</g>\n<!-- y7 -->\n<g id=\"node13\" class=\"node\">\n<title>y7</title>\n<polygon fill=\"none\" stroke=\"black\" points=\"201,-36 147,-36 147,0 201,0 201,-36\"/>\n<text text-anchor=\"middle\" x=\"174\" y=\"-14.3\" font-family=\"Times,serif\" font-size=\"14.00\">y7</text>\n</g>\n<!-- dem65&#45;&gt;y7 -->\n<g id=\"edge13\" class=\"edge\">\n<title>dem65&#45;&gt;y7</title>\n<path fill=\"none\" stroke=\"black\" d=\"M146.89,-99.69C152.61,-82.66 159.54,-62.04 164.96,-45.91\"/>\n<polygon fill=\"black\" stroke=\"black\" points=\"168.41,-46.63 168.28,-36.03 161.77,-44.4 168.41,-46.63\"/>\n<text text-anchor=\"middle\" x=\"188\" y=\"-70.4\" font-family=\"Times,serif\" font-size=\"12.00\">1.280</text>\n<text text-anchor=\"middle\" x=\"188\" y=\"-57.4\" font-family=\"Times,serif\" font-size=\"12.00\">p&#45;val: 0.00</text>\n</g>\n<!-- y8 -->\n<g id=\"node14\" class=\"node\">\n<title>y8</title>\n<polygon fill=\"none\" stroke=\"black\" points=\"276,-36 222,-36 222,0 276,0 276,-36\"/>\n<text text-anchor=\"middle\" x=\"249\" y=\"-14.3\" font-family=\"Times,serif\" font-size=\"14.00\">y8</text>\n</g>\n<!-- dem65&#45;&gt;y8 -->\n<g id=\"edge14\" class=\"edge\">\n<title>dem65&#45;&gt;y8</title>\n<path fill=\"none\" stroke=\"black\" d=\"M164.15,-111.73C170.89,-107.08 178.12,-102.25 185,-98 199.21,-89.22 206.36,-91.98 218,-80 227.44,-70.28 234.62,-57.11 239.68,-45.5\"/>\n<polygon fill=\"black\" stroke=\"black\" points=\"242.93,-46.8 243.44,-36.22 236.44,-44.17 242.93,-46.8\"/>\n<text text-anchor=\"middle\" x=\"261\" y=\"-70.4\" font-family=\"Times,serif\" font-size=\"12.00\">1.266</text>\n<text text-anchor=\"middle\" x=\"261\" y=\"-57.4\" font-family=\"Times,serif\" font-size=\"12.00\">p&#45;val: 0.00</text>\n</g>\n<!-- dem60 -->\n<g id=\"node2\" class=\"node\">\n<title>dem60</title>\n<ellipse fill=\"#cae6df\" stroke=\"black\" cx=\"265\" cy=\"-265.29\" rx=\"35.19\" ry=\"35.19\"/>\n<text text-anchor=\"middle\" x=\"265\" y=\"-261.59\" font-family=\"Times,serif\" font-size=\"14.00\">dem60</text>\n</g>\n<!-- dem60&#45;&gt;dem65 -->\n<g id=\"edge3\" class=\"edge\">\n<title>dem60&#45;&gt;dem65</title>\n<path fill=\"none\" stroke=\"black\" d=\"M233.21,-249.78C215.96,-240.76 195.13,-227.9 180,-212.19 169.66,-201.46 160.9,-187.83 153.98,-174.98\"/>\n<polygon fill=\"black\" stroke=\"black\" points=\"156.95,-173.1 149.27,-165.8 150.72,-176.3 156.95,-173.1\"/>\n<text text-anchor=\"middle\" x=\"206\" y=\"-202.59\" font-family=\"Times,serif\" font-size=\"12.00\">0.838</text>\n<text text-anchor=\"middle\" x=\"206\" y=\"-189.59\" font-family=\"Times,serif\" font-size=\"12.00\">p&#45;val: 0.00</text>\n</g>\n<!-- y1 -->\n<g id=\"node7\" class=\"node\">\n<title>y1</title>\n<polygon fill=\"none\" stroke=\"black\" points=\"248,-151.1 194,-151.1 194,-115.1 248,-115.1 248,-151.1\"/>\n<text text-anchor=\"middle\" x=\"221\" y=\"-129.4\" font-family=\"Times,serif\" font-size=\"14.00\">y1</text>\n</g>\n<!-- dem60&#45;&gt;y1 -->\n<g id=\"edge7\" class=\"edge\">\n<title>dem60&#45;&gt;y1</title>\n<path fill=\"none\" stroke=\"black\" d=\"M251.73,-232.79C249.05,-226.04 246.34,-218.92 244,-212.19 238.15,-195.38 232.49,-176.21 228.25,-161.07\"/>\n<polygon fill=\"black\" stroke=\"black\" points=\"231.59,-160.02 225.55,-151.31 224.84,-161.88 231.59,-160.02\"/>\n<text text-anchor=\"middle\" x=\"258\" y=\"-196.09\" font-family=\"Times,serif\" font-size=\"12.00\">1.000</text>\n</g>\n<!-- y2 -->\n<g id=\"node8\" class=\"node\">\n<title>y2</title>\n<polygon fill=\"none\" stroke=\"black\" points=\"320,-151.1 266,-151.1 266,-115.1 320,-115.1 320,-151.1\"/>\n<text text-anchor=\"middle\" x=\"293\" y=\"-129.4\" font-family=\"Times,serif\" font-size=\"14.00\">y2</text>\n</g>\n<!-- dem60&#45;&gt;y2 -->\n<g id=\"edge8\" class=\"edge\">\n<title>dem60&#45;&gt;y2</title>\n<path fill=\"none\" stroke=\"black\" d=\"M272.21,-230.76C276.87,-209.08 282.86,-181.22 287.22,-160.99\"/>\n<polygon fill=\"black\" stroke=\"black\" points=\"290.65,-161.69 289.33,-151.18 283.8,-160.22 290.65,-161.69\"/>\n<text text-anchor=\"middle\" x=\"307\" y=\"-202.59\" font-family=\"Times,serif\" font-size=\"12.00\">1.257</text>\n<text text-anchor=\"middle\" x=\"307\" y=\"-189.59\" font-family=\"Times,serif\" font-size=\"12.00\">p&#45;val: 0.00</text>\n</g>\n<!-- y3 -->\n<g id=\"node9\" class=\"node\">\n<title>y3</title>\n<polygon fill=\"none\" stroke=\"black\" points=\"393,-151.1 339,-151.1 339,-115.1 393,-115.1 393,-151.1\"/>\n<text text-anchor=\"middle\" x=\"366\" y=\"-129.4\" font-family=\"Times,serif\" font-size=\"14.00\">y3</text>\n</g>\n<!-- dem60&#45;&gt;y3 -->\n<g id=\"edge9\" class=\"edge\">\n<title>dem60&#45;&gt;y3</title>\n<path fill=\"none\" stroke=\"black\" d=\"M292.18,-242.63C297.68,-238.42 303.48,-234.1 309,-230.19 321.08,-221.65 327.73,-223.72 337,-212.19 348.9,-197.4 356.22,-177.25 360.53,-161.12\"/>\n<polygon fill=\"black\" stroke=\"black\" points=\"363.98,-161.74 362.94,-151.2 357.18,-160.09 363.98,-161.74\"/>\n<text text-anchor=\"middle\" x=\"377\" y=\"-202.59\" font-family=\"Times,serif\" font-size=\"12.00\">1.058</text>\n<text text-anchor=\"middle\" x=\"377\" y=\"-189.59\" font-family=\"Times,serif\" font-size=\"12.00\">p&#45;val: 0.00</text>\n</g>\n<!-- y4 -->\n<g id=\"node10\" class=\"node\">\n<title>y4</title>\n<polygon fill=\"none\" stroke=\"black\" points=\"468,-151.1 414,-151.1 414,-115.1 468,-115.1 468,-151.1\"/>\n<text text-anchor=\"middle\" x=\"441\" y=\"-129.4\" font-family=\"Times,serif\" font-size=\"14.00\">y4</text>\n</g>\n<!-- dem60&#45;&gt;y4 -->\n<g id=\"edge10\" class=\"edge\">\n<title>dem60&#45;&gt;y4</title>\n<path fill=\"none\" stroke=\"black\" d=\"M290.67,-241.17C296.39,-236.97 302.65,-233.03 309,-230.19 349.43,-212.12 372.31,-239.73 407,-212.19 422.73,-199.71 431.34,-178.49 435.96,-161.32\"/>\n<polygon fill=\"black\" stroke=\"black\" points=\"439.44,-161.8 438.34,-151.26 432.63,-160.19 439.44,-161.8\"/>\n<text text-anchor=\"middle\" x=\"452\" y=\"-202.59\" font-family=\"Times,serif\" font-size=\"12.00\">1.265</text>\n<text text-anchor=\"middle\" x=\"452\" y=\"-189.59\" font-family=\"Times,serif\" font-size=\"12.00\">p&#45;val: 0.00</text>\n</g>\n<!-- ind60 -->\n<g id=\"node3\" class=\"node\">\n<title>ind60</title>\n<ellipse fill=\"#cae6df\" stroke=\"black\" cx=\"345\" cy=\"-392.93\" rx=\"30.59\" ry=\"30.59\"/>\n<text text-anchor=\"middle\" x=\"345\" y=\"-389.23\" font-family=\"Times,serif\" font-size=\"14.00\">ind60</text>\n</g>\n<!-- ind60&#45;&gt;dem65 -->\n<g id=\"edge2\" class=\"edge\">\n<title>ind60&#45;&gt;dem65</title>\n<path fill=\"none\" stroke=\"black\" d=\"M315.18,-385C275.32,-374.11 205.48,-349.02 169,-300.39 142.72,-265.35 135.84,-214.86 134.69,-178.72\"/>\n<polygon fill=\"black\" stroke=\"black\" points=\"138.18,-178.4 134.5,-168.46 131.19,-178.52 138.18,-178.4\"/>\n<text text-anchor=\"middle\" x=\"195\" y=\"-268.69\" font-family=\"Times,serif\" font-size=\"12.00\">0.572</text>\n<text text-anchor=\"middle\" x=\"195\" y=\"-255.69\" font-family=\"Times,serif\" font-size=\"12.00\">p&#45;val: 0.01</text>\n</g>\n<!-- ind60&#45;&gt;dem60 -->\n<g id=\"edge1\" class=\"edge\">\n<title>ind60&#45;&gt;dem60</title>\n<path fill=\"none\" stroke=\"black\" d=\"M319.81,-375.48C308.98,-367.29 297,-356.53 289,-344.39 282.17,-334.02 277.21,-321.62 273.63,-309.78\"/>\n<polygon fill=\"black\" stroke=\"black\" points=\"276.97,-308.74 270.94,-300.03 270.23,-310.6 276.97,-308.74\"/>\n<text text-anchor=\"middle\" x=\"315\" y=\"-334.79\" font-family=\"Times,serif\" font-size=\"12.00\">1.482</text>\n<text text-anchor=\"middle\" x=\"315\" y=\"-321.79\" font-family=\"Times,serif\" font-size=\"12.00\">p&#45;val: 0.00</text>\n</g>\n<!-- x1 -->\n<g id=\"node4\" class=\"node\">\n<title>x1</title>\n<polygon fill=\"none\" stroke=\"black\" points=\"372,-283.29 318,-283.29 318,-247.29 372,-247.29 372,-283.29\"/>\n<text text-anchor=\"middle\" x=\"345\" y=\"-261.59\" font-family=\"Times,serif\" font-size=\"14.00\">x1</text>\n</g>\n<!-- ind60&#45;&gt;x1 -->\n<g id=\"edge4\" class=\"edge\">\n<title>ind60&#45;&gt;x1</title>\n<path fill=\"none\" stroke=\"black\" d=\"M345,-362.16C345,-341.37 345,-313.83 345,-293.6\"/>\n<polygon fill=\"black\" stroke=\"black\" points=\"348.5,-293.48 345,-283.48 341.5,-293.48 348.5,-293.48\"/>\n<text text-anchor=\"middle\" x=\"359\" y=\"-328.29\" font-family=\"Times,serif\" font-size=\"12.00\">1.000</text>\n</g>\n<!-- x2 -->\n<g id=\"node5\" class=\"node\">\n<title>x2</title>\n<polygon fill=\"none\" stroke=\"black\" points=\"444,-283.29 390,-283.29 390,-247.29 444,-247.29 444,-283.29\"/>\n<text text-anchor=\"middle\" x=\"417\" y=\"-261.59\" font-family=\"Times,serif\" font-size=\"14.00\">x2</text>\n</g>\n<!-- ind60&#45;&gt;x2 -->\n<g id=\"edge5\" class=\"edge\">\n<title>ind60&#45;&gt;x2</title>\n<path fill=\"none\" stroke=\"black\" d=\"M362.18,-367.62C367.15,-360.27 372.45,-352.1 377,-344.39 386.9,-327.6 396.9,-308.08 404.42,-292.75\"/>\n<polygon fill=\"black\" stroke=\"black\" points=\"407.77,-293.89 408.98,-283.36 401.47,-290.83 407.77,-293.89\"/>\n<text text-anchor=\"middle\" x=\"417\" y=\"-334.79\" font-family=\"Times,serif\" font-size=\"12.00\">2.180</text>\n<text text-anchor=\"middle\" x=\"417\" y=\"-321.79\" font-family=\"Times,serif\" font-size=\"12.00\">p&#45;val: 0.00</text>\n</g>\n<!-- x3 -->\n<g id=\"node6\" class=\"node\">\n<title>x3</title>\n<polygon fill=\"none\" stroke=\"black\" points=\"517,-283.29 463,-283.29 463,-247.29 517,-247.29 517,-283.29\"/>\n<text text-anchor=\"middle\" x=\"490\" y=\"-261.59\" font-family=\"Times,serif\" font-size=\"14.00\">x3</text>\n</g>\n<!-- ind60&#45;&gt;x3 -->\n<g id=\"edge6\" class=\"edge\">\n<title>ind60&#45;&gt;x3</title>\n<path fill=\"none\" stroke=\"black\" d=\"M374.23,-383.78C396.33,-376.42 426.31,-363.74 447,-344.39 462.07,-330.29 473.11,-309.7 480.23,-293.19\"/>\n<polygon fill=\"black\" stroke=\"black\" points=\"483.63,-294.12 484.15,-283.54 477.14,-291.49 483.63,-294.12\"/>\n<text text-anchor=\"middle\" x=\"492\" y=\"-334.79\" font-family=\"Times,serif\" font-size=\"12.00\">1.819</text>\n<text text-anchor=\"middle\" x=\"492\" y=\"-321.79\" font-family=\"Times,serif\" font-size=\"12.00\">p&#45;val: 0.00</text>\n</g>\n</g>\n</svg>\n",
            "text/plain": [
              "<graphviz.graphs.Digraph at 0x7c549b7ca710>"
            ]
          },
          "metadata": {},
          "execution_count": 39
        }
      ]
    },
    {
      "cell_type": "code",
      "source": [],
      "metadata": {
        "id": "d-nKfbJEJ3tN"
      },
      "execution_count": null,
      "outputs": []
    }
  ]
}