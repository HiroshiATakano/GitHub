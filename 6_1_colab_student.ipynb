{
  "cells": [
    {
      "cell_type": "markdown",
      "metadata": {
        "id": "view-in-github",
        "colab_type": "text"
      },
      "source": [
        "<a href=\"https://colab.research.google.com/github/HiroshiATakano/GitHub/blob/master/6_1_colab_student.ipynb\" target=\"_parent\"><img src=\"https://colab.research.google.com/assets/colab-badge.svg\" alt=\"Open In Colab\"/></a>"
      ]
    },
    {
      "cell_type": "code",
      "execution_count": 273,
      "metadata": {
        "colab": {
          "base_uri": "https://localhost:8080/"
        },
        "id": "g5kprVpztvje",
        "outputId": "b9b97966-7409-429f-f1f6-9d683b5865b2"
      },
      "outputs": [
        {
          "output_type": "stream",
          "name": "stdout",
          "text": [
            "認証トークンを入力:··········\n",
            "Read JWT token.\n"
          ]
        }
      ],
      "source": [
        "# NOTE: The authoritative original source of this snippet is in\n",
        "# https://github.com/UTokyo-IPP/utpython/preamble.py.\n",
        "\n",
        "import getpass\n",
        "\n",
        "#@title Submission snippet\n",
        "#@markdown 本ツールはプログラミング授業における本学学生の学習支援のためにGoogle社と連携して開発を進めているものです。アップロードされたコードならびにその自動処理結果は匿名化され、本学教員が管理するサーバで適切に管理されます。個人情報が公にされることは一切ありません。本件について質問や不明点がある場合には、以下にお問い合わせ下さい。数理情報教育研究センター mori atmark mi.u-tokyo.ac.jp<br><br>まず、このノートブックをドライブに保存してください。G Suiteアカウントで[こちらにログイン](https://test-autograder-wi536cjdka-an.a.run.app/login)して認証トークンをコピーしてください。<br>次に、このセルを実行して認証トークンをペーストしてください。認証トークンをペーストしたらEnterを押してください。<br>'Read JWT token'と表示されたら、以下の問題の解答となるコードを入力し、'Submit'のセルを実行してください。コードは自動処理されフィードバックが返ってきます。\n",
        "SERVER_URL = 'https://test-autograder-wi536cjdka-an.a.run.app'\n",
        "JWT_TOKEN = getpass.getpass('認証トークンを入力:')\n",
        "\n",
        "import json\n",
        "import requests\n",
        "\n",
        "from google.colab import _message as google_message\n",
        "from IPython.core import display\n",
        "\n",
        "def Submit(exercise_id=None):\n",
        "  if JWT_TOKEN == \"\":\n",
        "    display.display(display.HTML(\"Googleアカウントでログインして認証トークンをコピーしてください \" +\n",
        "                                 \"<a href='\" + SERVER_URL + \"/login'>ログイン</a>\"))\n",
        "    raise Exception(\"認証トークンを入力してください\")\n",
        "  notebook = google_message.blocking_request(\n",
        "    \"get_ipynb\", request=\"\", timeout_sec=120)[\"ipynb\"]\n",
        "  ids = []\n",
        "  for cell in notebook['cells']:\n",
        "        if 'metadata' not in cell:\n",
        "          continue\n",
        "        m = cell['metadata']\n",
        "        if m and 'exercise_id' in m:\n",
        "            cell_id = m['exercise_id']\n",
        "            if cell_id:\n",
        "                ids.append(cell_id)\n",
        "  params = {}\n",
        "  if exercise_id:\n",
        "    if exercise_id not in ids:\n",
        "        raise Exception('Not valid exercise ID: ' + exercise_id + \". Valid ids: \" + \", \".join(ids))\n",
        "    params[\"exercise_id\"] = exercise_id\n",
        "  data = json.dumps(notebook)\n",
        "  r = requests.post(SERVER_URL + \"/upload\", files={\"notebook\": data},\n",
        "                    headers={\"Authorization\": \"Bearer \" + JWT_TOKEN},\n",
        "                    params=params)\n",
        "  if r.status_code == 401:\n",
        "    display.display(display.HTML(\"Not authorized: is your JWT_TOKEN correct? \" +\n",
        "                                 \"Please get JWT_TOKEN by visiting \" +\n",
        "                                 \"<a target='_blank' href='\" + SERVER_URL + \"/login'>Login page</a>\" +\n",
        "                                 \"in a new browser tab.\"))  \n",
        "  display.display(display.HTML(r.content.decode('utf-8')))\n",
        "  \n",
        "if JWT_TOKEN == \"\":\n",
        "  display.display(display.HTML(\"Googleアカウントでログインして認証トークンをコピーしてください \" +\n",
        "                                 \"<a href='\" + SERVER_URL + \"/login'>ログイン</a>\"))\n",
        "  raise Exception(\"認証トークンを入力してください\")\n",
        "\n",
        "print('Read JWT token.')\n"
      ]
    },
    {
      "cell_type": "markdown",
      "metadata": {
        "id": "rJ1Hmju9tvjl"
      },
      "source": [
        "\n",
        "\n",
        "## 練習\n",
        "文字列のリストが変数 `strings` に与えられたとき、\n",
        "それぞれの文字列の長さからなるリストを返す内包表記を記述してください。\n",
        "\n",
        "`strings = ['The', 'quick', 'brown']` のとき、結果は `[3, 5, 5]` となります。\n",
        "\n"
      ]
    },
    {
      "cell_type": "code",
      "execution_count": 274,
      "metadata": {
        "exercise_id": "StringLengths",
        "id": "sTeVxfAMtvjo"
      },
      "outputs": [],
      "source": [
        "strings = ['The', 'quick', 'brown']\n",
        "def string_lengths(strings):\n",
        "    return [ここに内包表記を書く]"
      ]
    },
    {
      "cell_type": "code",
      "source": [
        "def string_lengths(strings):\n",
        "    return [len(s) for s in strings]"
      ],
      "metadata": {
        "id": "y7UZ-Ivw0LhL"
      },
      "execution_count": 275,
      "outputs": []
    },
    {
      "cell_type": "code",
      "execution_count": 276,
      "metadata": {
        "colab": {
          "base_uri": "https://localhost:8080/",
          "height": 82
        },
        "id": "FwQG_H68tvjq",
        "outputId": "2d9ac453-f0ef-47cf-b737-6701ed5eb486"
      },
      "outputs": [
        {
          "output_type": "display_data",
          "data": {
            "text/plain": [
              "<IPython.core.display.HTML object>"
            ],
            "text/html": [
              "\n",
              "<title>Report for 6b37a63e-8034-4e0c-a5b2-ae3ab667d5fb</title>\n",
              "<style type='text/css'>\n",
              "h2 {\n",
              "  color: #697;\n",
              "  font-size: 10pt;\n",
              "  font-family: Verdana, Arial, sans-serif;\n",
              "  margin-top: 2em;\n",
              "}\n",
              ".message {\n",
              "  font-size: 14pt;\n",
              "  font-weight: medium;\n",
              "}\n",
              ".ico {\n",
              "  font-size: 16pt;\n",
              "  font-weight: bold;\n",
              "  padding: 0px 2px 0px 2px;\n",
              "  margin: 10px 4px 1px 4px;\n",
              "  background: #EEE;\n",
              "  border: 1pt solid #DDD;\n",
              "  border-radius: 3pt;\n",
              "}\n",
              ".green {\n",
              "  color: #2F2;\n",
              "}\n",
              ".red {\n",
              "  color: #F22;\n",
              "}\n",
              ".code {\n",
              "  white-space: pre;\n",
              "  font-family: monospace;\n",
              "  background: #F0F0F0;\n",
              "  padding: 3pt;\n",
              "  margin: 4pt;\n",
              "  border: 1pt solid #DDD;\n",
              "  border-radius: 3pt;\n",
              "}\n",
              ".code ol {\n",
              "  margin: 0px;\n",
              "  padding: 0px;\n",
              "  padding-inline-start: 22pt;\n",
              "  margin-block-start: 0em;\n",
              "  margin-block-end: 0em;\n",
              "  line-height: 10%;\n",
              "}\n",
              ".code ol li {\n",
              "  margin: 0px;\n",
              "  padding: 0px;\n",
              "  line-height: 120%;\n",
              "}\n",
              ".code ol li:nth-child(odd) {\n",
              "  background: #F8F8F8;\n",
              "}\n",
              ".code li:last-child {\n",
              "  margin-bottom: 0px;\n",
              "}\n",
              ".logs {\n",
              "  font-family: monospace;\n",
              "  font-size: 10pt;\n",
              "  background-color: #EEEEEE;\n",
              "  padding: 4px;\n",
              "  border-color: #E0E0E0;\n",
              "  margin: 8px;\n",
              "}\n",
              "\n",
              " \n",
              "\n",
              " \n",
              ".pln { color: #000 }   \n",
              "\n",
              "@media screen {\n",
              "  .str { color: #080 }   \n",
              "  .kwd { color: #008 }   \n",
              "  .com { color: #800 }   \n",
              "  .typ { color: #606 }   \n",
              "  .lit { color: #066 }   \n",
              "   \n",
              "  .pun, .opn, .clo { color: #660 }\n",
              "  .tag { color: #008 }   \n",
              "  .atn { color: #606 }   \n",
              "  .atv { color: #080 }   \n",
              "  .dec, .var { color: #606 }   \n",
              "  .fun { color: red }   \n",
              "}\n",
              "\n",
              " \n",
              "@media print, projection {\n",
              "  .str { color: #060 }\n",
              "  .kwd { color: #006; font-weight: bold }\n",
              "  .com { color: #600; font-style: italic }\n",
              "  .typ { color: #404; font-weight: bold }\n",
              "  .lit { color: #044 }\n",
              "  .pun, .opn, .clo { color: #440 }\n",
              "  .tag { color: #006; font-weight: bold }\n",
              "  .atn { color: #404 }\n",
              "  .atv { color: #060 }\n",
              "}\n",
              "\n",
              " \n",
              "pre.prettyprint { padding: 2px; border: 1px solid #888 }\n",
              "\n",
              " \n",
              "ol.linenums { margin-top: 0; margin-bottom: 0 }  \n",
              "li.L0,\n",
              "li.L1,\n",
              "li.L2,\n",
              "li.L3,\n",
              "li.L5,\n",
              "li.L6,\n",
              "li.L7,\n",
              "li.L8 { list-style-type: none }\n",
              " \n",
              "li.L1,\n",
              "li.L3,\n",
              "li.L5,\n",
              "li.L7,\n",
              "li.L9 { background: #eee }\n",
              "</style>\n",
              "\n",
              "\n",
              "<h2>StringLengths</h2>\n",
              "\n",
              "StringLengths: empty submission\n",
              "\n",
              "\n"
            ]
          },
          "metadata": {}
        }
      ],
      "source": [
        "# Run this cell to check your solution.\n",
        "Submit(\"StringLengths\")\n"
      ]
    },
    {
      "cell_type": "markdown",
      "metadata": {
        "id": "27AOmWQVtvjr"
      },
      "source": [
        "以下のセルを実行して、True が表示されることを確認してください。"
      ]
    },
    {
      "cell_type": "code",
      "execution_count": 277,
      "metadata": {
        "colab": {
          "base_uri": "https://localhost:8080/"
        },
        "id": "Z3YvRVDZtvjs",
        "outputId": "76d816b9-30dd-45d1-9757-4424e465b48b"
      },
      "outputs": [
        {
          "output_type": "stream",
          "name": "stdout",
          "text": [
            "True\n"
          ]
        }
      ],
      "source": [
        "print(string_lengths(['The', 'quick', 'brown']) == [3, 5, 5])"
      ]
    },
    {
      "cell_type": "markdown",
      "metadata": {
        "id": "Mtx8F7cVtvjt"
      },
      "source": [
        "## 練習\n",
        "\n",
        "コンマで区切られた10進数からなる文字列が変数 `str1` に与えられたとき、\n",
        "それぞれの10進数を数に変換して得られるリストを返す内包表記を記述してください。\n",
        "\n",
        "`str1 = '123,45,-3'` のとき、結果は `[123, 45, -3]` となります。\n",
        "\n",
        "なお、コンマで区切られた10進数からなる文字列を、10進数の文字列のリストに変換するには、メソッド `split` を用いることができます。\n",
        "また、10進数の文字列を数に変換するには、**`int`** を関数として用いることができます。\n",
        "\n"
      ]
    },
    {
      "cell_type": "code",
      "execution_count": 278,
      "metadata": {
        "exercise_id": "ParseInt",
        "id": "0lEGNoErtvju"
      },
      "outputs": [],
      "source": [
        "str1 = '123,45,-3'\n",
        "def parse_ints(str1):\n",
        "    return [ここに内包表記を書く]"
      ]
    },
    {
      "cell_type": "code",
      "source": [
        "def parse_ints(str1):\n",
        "  print(str1.split(\",\"))\n",
        "  return [int(s) for s in str1.split(\",\")]"
      ],
      "metadata": {
        "id": "koVT-E271IsV"
      },
      "execution_count": 279,
      "outputs": []
    },
    {
      "cell_type": "code",
      "execution_count": 280,
      "metadata": {
        "colab": {
          "base_uri": "https://localhost:8080/",
          "height": 82
        },
        "id": "HZiYakqEtvjv",
        "outputId": "0717da1b-5bad-444f-c720-42e267f7584b"
      },
      "outputs": [
        {
          "output_type": "display_data",
          "data": {
            "text/plain": [
              "<IPython.core.display.HTML object>"
            ],
            "text/html": [
              "\n",
              "<title>Report for 5801a1b0-f8aa-4bb0-8165-17ea789eaa54</title>\n",
              "<style type='text/css'>\n",
              "h2 {\n",
              "  color: #697;\n",
              "  font-size: 10pt;\n",
              "  font-family: Verdana, Arial, sans-serif;\n",
              "  margin-top: 2em;\n",
              "}\n",
              ".message {\n",
              "  font-size: 14pt;\n",
              "  font-weight: medium;\n",
              "}\n",
              ".ico {\n",
              "  font-size: 16pt;\n",
              "  font-weight: bold;\n",
              "  padding: 0px 2px 0px 2px;\n",
              "  margin: 10px 4px 1px 4px;\n",
              "  background: #EEE;\n",
              "  border: 1pt solid #DDD;\n",
              "  border-radius: 3pt;\n",
              "}\n",
              ".green {\n",
              "  color: #2F2;\n",
              "}\n",
              ".red {\n",
              "  color: #F22;\n",
              "}\n",
              ".code {\n",
              "  white-space: pre;\n",
              "  font-family: monospace;\n",
              "  background: #F0F0F0;\n",
              "  padding: 3pt;\n",
              "  margin: 4pt;\n",
              "  border: 1pt solid #DDD;\n",
              "  border-radius: 3pt;\n",
              "}\n",
              ".code ol {\n",
              "  margin: 0px;\n",
              "  padding: 0px;\n",
              "  padding-inline-start: 22pt;\n",
              "  margin-block-start: 0em;\n",
              "  margin-block-end: 0em;\n",
              "  line-height: 10%;\n",
              "}\n",
              ".code ol li {\n",
              "  margin: 0px;\n",
              "  padding: 0px;\n",
              "  line-height: 120%;\n",
              "}\n",
              ".code ol li:nth-child(odd) {\n",
              "  background: #F8F8F8;\n",
              "}\n",
              ".code li:last-child {\n",
              "  margin-bottom: 0px;\n",
              "}\n",
              ".logs {\n",
              "  font-family: monospace;\n",
              "  font-size: 10pt;\n",
              "  background-color: #EEEEEE;\n",
              "  padding: 4px;\n",
              "  border-color: #E0E0E0;\n",
              "  margin: 8px;\n",
              "}\n",
              "\n",
              " \n",
              "\n",
              " \n",
              ".pln { color: #000 }   \n",
              "\n",
              "@media screen {\n",
              "  .str { color: #080 }   \n",
              "  .kwd { color: #008 }   \n",
              "  .com { color: #800 }   \n",
              "  .typ { color: #606 }   \n",
              "  .lit { color: #066 }   \n",
              "   \n",
              "  .pun, .opn, .clo { color: #660 }\n",
              "  .tag { color: #008 }   \n",
              "  .atn { color: #606 }   \n",
              "  .atv { color: #080 }   \n",
              "  .dec, .var { color: #606 }   \n",
              "  .fun { color: red }   \n",
              "}\n",
              "\n",
              " \n",
              "@media print, projection {\n",
              "  .str { color: #060 }\n",
              "  .kwd { color: #006; font-weight: bold }\n",
              "  .com { color: #600; font-style: italic }\n",
              "  .typ { color: #404; font-weight: bold }\n",
              "  .lit { color: #044 }\n",
              "  .pun, .opn, .clo { color: #440 }\n",
              "  .tag { color: #006; font-weight: bold }\n",
              "  .atn { color: #404 }\n",
              "  .atv { color: #060 }\n",
              "}\n",
              "\n",
              " \n",
              "pre.prettyprint { padding: 2px; border: 1px solid #888 }\n",
              "\n",
              " \n",
              "ol.linenums { margin-top: 0; margin-bottom: 0 }  \n",
              "li.L0,\n",
              "li.L1,\n",
              "li.L2,\n",
              "li.L3,\n",
              "li.L5,\n",
              "li.L6,\n",
              "li.L7,\n",
              "li.L8 { list-style-type: none }\n",
              " \n",
              "li.L1,\n",
              "li.L3,\n",
              "li.L5,\n",
              "li.L7,\n",
              "li.L9 { background: #eee }\n",
              "</style>\n",
              "\n",
              "\n",
              "<h2>ParseInt</h2>\n",
              "\n",
              "ParseInt: empty submission\n",
              "\n",
              "\n"
            ]
          },
          "metadata": {}
        }
      ],
      "source": [
        "# Run this cell to check your solution.\n",
        "Submit(\"ParseInt\")"
      ]
    },
    {
      "cell_type": "markdown",
      "metadata": {
        "id": "3FGPjk1Qtvjw"
      },
      "source": [
        "以下のセルを実行して、True が表示されることを確認してください。"
      ]
    },
    {
      "cell_type": "code",
      "execution_count": 281,
      "metadata": {
        "colab": {
          "base_uri": "https://localhost:8080/"
        },
        "id": "khFOe6fgtvjx",
        "outputId": "14a98f1d-1fff-4d02-f7c7-d9e21451a098"
      },
      "outputs": [
        {
          "output_type": "stream",
          "name": "stdout",
          "text": [
            "['123', '45', '-3']\n",
            "True\n"
          ]
        }
      ],
      "source": [
        "print(parse_ints('123,45,-3') == [123, 45, -3])"
      ]
    },
    {
      "cell_type": "markdown",
      "metadata": {
        "id": "gjDpYuAFtvjy"
      },
      "source": [
        "## 練習\n",
        "\n",
        "数のリストが与えらえたとき、リストの要素の分散を求める関数 `var` を\n",
        "内包表記と関数 `sum` を用いて定義してください。\n",
        "以下のセルの `...` のところを書き換えて `var` を作成してください。\n",
        "\n"
      ]
    },
    {
      "cell_type": "code",
      "execution_count": 282,
      "metadata": {
        "exercise_id": "Variance",
        "id": "Xa81wIELtvjy"
      },
      "outputs": [],
      "source": [
        "import math\n",
        "def var(lst):\n",
        "    ..."
      ]
    },
    {
      "cell_type": "code",
      "source": [
        "def var(lst):\n",
        "  v = 0\n",
        "  n = len(lst)\n",
        "  ave = sum(lst)/len(lst)\n",
        "  for i in lst:\n",
        "    v += (i-ave)*(i-ave)/len(lst)\n",
        "  return sum([(i-ave)*(i-ave) for i in lst])/n\n",
        "    "
      ],
      "metadata": {
        "id": "SN9WkEHf2uRf"
      },
      "execution_count": 283,
      "outputs": []
    },
    {
      "cell_type": "code",
      "execution_count": 284,
      "metadata": {
        "colab": {
          "base_uri": "https://localhost:8080/",
          "height": 82
        },
        "id": "XN-rK_-Otvjy",
        "outputId": "1ac72c36-0bf2-4cb1-ebc4-ff18f6f4f55e"
      },
      "outputs": [
        {
          "output_type": "display_data",
          "data": {
            "text/plain": [
              "<IPython.core.display.HTML object>"
            ],
            "text/html": [
              "\n",
              "<title>Report for a4654214-84c2-4bb8-9cb9-a8be2dd8f338</title>\n",
              "<style type='text/css'>\n",
              "h2 {\n",
              "  color: #697;\n",
              "  font-size: 10pt;\n",
              "  font-family: Verdana, Arial, sans-serif;\n",
              "  margin-top: 2em;\n",
              "}\n",
              ".message {\n",
              "  font-size: 14pt;\n",
              "  font-weight: medium;\n",
              "}\n",
              ".ico {\n",
              "  font-size: 16pt;\n",
              "  font-weight: bold;\n",
              "  padding: 0px 2px 0px 2px;\n",
              "  margin: 10px 4px 1px 4px;\n",
              "  background: #EEE;\n",
              "  border: 1pt solid #DDD;\n",
              "  border-radius: 3pt;\n",
              "}\n",
              ".green {\n",
              "  color: #2F2;\n",
              "}\n",
              ".red {\n",
              "  color: #F22;\n",
              "}\n",
              ".code {\n",
              "  white-space: pre;\n",
              "  font-family: monospace;\n",
              "  background: #F0F0F0;\n",
              "  padding: 3pt;\n",
              "  margin: 4pt;\n",
              "  border: 1pt solid #DDD;\n",
              "  border-radius: 3pt;\n",
              "}\n",
              ".code ol {\n",
              "  margin: 0px;\n",
              "  padding: 0px;\n",
              "  padding-inline-start: 22pt;\n",
              "  margin-block-start: 0em;\n",
              "  margin-block-end: 0em;\n",
              "  line-height: 10%;\n",
              "}\n",
              ".code ol li {\n",
              "  margin: 0px;\n",
              "  padding: 0px;\n",
              "  line-height: 120%;\n",
              "}\n",
              ".code ol li:nth-child(odd) {\n",
              "  background: #F8F8F8;\n",
              "}\n",
              ".code li:last-child {\n",
              "  margin-bottom: 0px;\n",
              "}\n",
              ".logs {\n",
              "  font-family: monospace;\n",
              "  font-size: 10pt;\n",
              "  background-color: #EEEEEE;\n",
              "  padding: 4px;\n",
              "  border-color: #E0E0E0;\n",
              "  margin: 8px;\n",
              "}\n",
              "\n",
              " \n",
              "\n",
              " \n",
              ".pln { color: #000 }   \n",
              "\n",
              "@media screen {\n",
              "  .str { color: #080 }   \n",
              "  .kwd { color: #008 }   \n",
              "  .com { color: #800 }   \n",
              "  .typ { color: #606 }   \n",
              "  .lit { color: #066 }   \n",
              "   \n",
              "  .pun, .opn, .clo { color: #660 }\n",
              "  .tag { color: #008 }   \n",
              "  .atn { color: #606 }   \n",
              "  .atv { color: #080 }   \n",
              "  .dec, .var { color: #606 }   \n",
              "  .fun { color: red }   \n",
              "}\n",
              "\n",
              " \n",
              "@media print, projection {\n",
              "  .str { color: #060 }\n",
              "  .kwd { color: #006; font-weight: bold }\n",
              "  .com { color: #600; font-style: italic }\n",
              "  .typ { color: #404; font-weight: bold }\n",
              "  .lit { color: #044 }\n",
              "  .pun, .opn, .clo { color: #440 }\n",
              "  .tag { color: #006; font-weight: bold }\n",
              "  .atn { color: #404 }\n",
              "  .atv { color: #060 }\n",
              "}\n",
              "\n",
              " \n",
              "pre.prettyprint { padding: 2px; border: 1px solid #888 }\n",
              "\n",
              " \n",
              "ol.linenums { margin-top: 0; margin-bottom: 0 }  \n",
              "li.L0,\n",
              "li.L1,\n",
              "li.L2,\n",
              "li.L3,\n",
              "li.L5,\n",
              "li.L6,\n",
              "li.L7,\n",
              "li.L8 { list-style-type: none }\n",
              " \n",
              "li.L1,\n",
              "li.L3,\n",
              "li.L5,\n",
              "li.L7,\n",
              "li.L9 { background: #eee }\n",
              "</style>\n",
              "\n",
              "\n",
              "<h2>Variance</h2>\n",
              "\n",
              "Variance: empty submission\n",
              "\n",
              "\n"
            ]
          },
          "metadata": {}
        }
      ],
      "source": [
        "# Run this cell to check your solution.\n",
        "Submit(\"Variance\")"
      ]
    },
    {
      "cell_type": "markdown",
      "metadata": {
        "id": "gsjsBIH4tvjz"
      },
      "source": [
        "上のセルで解答を作成した後、以下のセルを実行し、実行結果が `True` になることを確認してください。"
      ]
    },
    {
      "cell_type": "code",
      "execution_count": 285,
      "metadata": {
        "colab": {
          "base_uri": "https://localhost:8080/"
        },
        "id": "L00Cvtkltvjz",
        "outputId": "6b11a5d2-e2f4-41b2-b855-324abada747a"
      },
      "outputs": [
        {
          "output_type": "stream",
          "name": "stdout",
          "text": [
            "True\n"
          ]
        }
      ],
      "source": [
        "print(var([3,4,1,2]) == 1.25)"
      ]
    },
    {
      "cell_type": "markdown",
      "metadata": {
        "id": "u8XDacBptvj0"
      },
      "source": [
        "## 練習\n",
        "\n",
        "次のような関数 `sum_lists` を作成してください。\n",
        "\n",
        "- `sum_lists` はリスト `list1` を引数とします。\n",
        "- `list1` の各要素はリストであり、そのリストの要素は数です。\n",
        "- `sum_lists` は、`list1` の各要素であるリストの総和を求め、それらの総和を足し合せて返します。\n",
        "\n",
        "ここでは、内包表記と関数 `sum` を用いて `sum_lists` を定義してください。\n",
        "以下のセルの `...` のところを書き換えて `sum_lists` を作成してください。\n",
        "\n"
      ]
    },
    {
      "cell_type": "code",
      "execution_count": 286,
      "metadata": {
        "exercise_id": "SumLists",
        "id": "dJLdJ6I0tvj0"
      },
      "outputs": [],
      "source": [
        "def sum_lists(list1):\n",
        "    ..."
      ]
    },
    {
      "cell_type": "code",
      "source": [
        "def sum_lists(list1):\n",
        "  return sum([sum(s) for s in list1])\n"
      ],
      "metadata": {
        "id": "W47-Nvsh53_F"
      },
      "execution_count": 287,
      "outputs": []
    },
    {
      "cell_type": "code",
      "execution_count": 288,
      "metadata": {
        "colab": {
          "base_uri": "https://localhost:8080/",
          "height": 82
        },
        "id": "gRsnB01mtvj1",
        "outputId": "88e97711-3823-4a3f-fb7a-60eda517fbe0"
      },
      "outputs": [
        {
          "output_type": "display_data",
          "data": {
            "text/plain": [
              "<IPython.core.display.HTML object>"
            ],
            "text/html": [
              "\n",
              "<title>Report for 551a6155-7979-42ae-ad64-97cfb8837942</title>\n",
              "<style type='text/css'>\n",
              "h2 {\n",
              "  color: #697;\n",
              "  font-size: 10pt;\n",
              "  font-family: Verdana, Arial, sans-serif;\n",
              "  margin-top: 2em;\n",
              "}\n",
              ".message {\n",
              "  font-size: 14pt;\n",
              "  font-weight: medium;\n",
              "}\n",
              ".ico {\n",
              "  font-size: 16pt;\n",
              "  font-weight: bold;\n",
              "  padding: 0px 2px 0px 2px;\n",
              "  margin: 10px 4px 1px 4px;\n",
              "  background: #EEE;\n",
              "  border: 1pt solid #DDD;\n",
              "  border-radius: 3pt;\n",
              "}\n",
              ".green {\n",
              "  color: #2F2;\n",
              "}\n",
              ".red {\n",
              "  color: #F22;\n",
              "}\n",
              ".code {\n",
              "  white-space: pre;\n",
              "  font-family: monospace;\n",
              "  background: #F0F0F0;\n",
              "  padding: 3pt;\n",
              "  margin: 4pt;\n",
              "  border: 1pt solid #DDD;\n",
              "  border-radius: 3pt;\n",
              "}\n",
              ".code ol {\n",
              "  margin: 0px;\n",
              "  padding: 0px;\n",
              "  padding-inline-start: 22pt;\n",
              "  margin-block-start: 0em;\n",
              "  margin-block-end: 0em;\n",
              "  line-height: 10%;\n",
              "}\n",
              ".code ol li {\n",
              "  margin: 0px;\n",
              "  padding: 0px;\n",
              "  line-height: 120%;\n",
              "}\n",
              ".code ol li:nth-child(odd) {\n",
              "  background: #F8F8F8;\n",
              "}\n",
              ".code li:last-child {\n",
              "  margin-bottom: 0px;\n",
              "}\n",
              ".logs {\n",
              "  font-family: monospace;\n",
              "  font-size: 10pt;\n",
              "  background-color: #EEEEEE;\n",
              "  padding: 4px;\n",
              "  border-color: #E0E0E0;\n",
              "  margin: 8px;\n",
              "}\n",
              "\n",
              " \n",
              "\n",
              " \n",
              ".pln { color: #000 }   \n",
              "\n",
              "@media screen {\n",
              "  .str { color: #080 }   \n",
              "  .kwd { color: #008 }   \n",
              "  .com { color: #800 }   \n",
              "  .typ { color: #606 }   \n",
              "  .lit { color: #066 }   \n",
              "   \n",
              "  .pun, .opn, .clo { color: #660 }\n",
              "  .tag { color: #008 }   \n",
              "  .atn { color: #606 }   \n",
              "  .atv { color: #080 }   \n",
              "  .dec, .var { color: #606 }   \n",
              "  .fun { color: red }   \n",
              "}\n",
              "\n",
              " \n",
              "@media print, projection {\n",
              "  .str { color: #060 }\n",
              "  .kwd { color: #006; font-weight: bold }\n",
              "  .com { color: #600; font-style: italic }\n",
              "  .typ { color: #404; font-weight: bold }\n",
              "  .lit { color: #044 }\n",
              "  .pun, .opn, .clo { color: #440 }\n",
              "  .tag { color: #006; font-weight: bold }\n",
              "  .atn { color: #404 }\n",
              "  .atv { color: #060 }\n",
              "}\n",
              "\n",
              " \n",
              "pre.prettyprint { padding: 2px; border: 1px solid #888 }\n",
              "\n",
              " \n",
              "ol.linenums { margin-top: 0; margin-bottom: 0 }  \n",
              "li.L0,\n",
              "li.L1,\n",
              "li.L2,\n",
              "li.L3,\n",
              "li.L5,\n",
              "li.L6,\n",
              "li.L7,\n",
              "li.L8 { list-style-type: none }\n",
              " \n",
              "li.L1,\n",
              "li.L3,\n",
              "li.L5,\n",
              "li.L7,\n",
              "li.L9 { background: #eee }\n",
              "</style>\n",
              "\n",
              "\n",
              "<h2>SumLists</h2>\n",
              "\n",
              "SumLists: empty submission\n",
              "\n",
              "\n"
            ]
          },
          "metadata": {}
        }
      ],
      "source": [
        "# Run this cell to check your solution.\n",
        "Submit(\"SumLists\")"
      ]
    },
    {
      "cell_type": "markdown",
      "metadata": {
        "id": "QZ3g9bGLtvj2"
      },
      "source": [
        "上のセルで解答を作成した後、以下のセルを実行し、実行結果が `True` になることを確認してください。"
      ]
    },
    {
      "cell_type": "code",
      "execution_count": 289,
      "metadata": {
        "colab": {
          "base_uri": "https://localhost:8080/"
        },
        "id": "KtHrJfPOtvj6",
        "outputId": "be37d421-c64a-4ae0-993b-0c0807525623"
      },
      "outputs": [
        {
          "output_type": "stream",
          "name": "stdout",
          "text": [
            "True\n"
          ]
        }
      ],
      "source": [
        "print(sum_lists([[20, 5], [6, 16, 14, 5], [16, 8, 16, 17, 14], [1], [5, 3, 5, 7]]) == 158)"
      ]
    },
    {
      "cell_type": "markdown",
      "metadata": {
        "id": "V9SXIUxktvj_"
      },
      "source": [
        "## 練習\n",
        "\n",
        "リスト `list1` と `list2` が引数として与えられたとき、次のようなリスト `list3` を返す関数 `sum_matrix` を作成してください。\n",
        "\n",
        "- `list1`, `list2`, `list3` は、3つの要素を持ちます。\n",
        "- 各要素は大きさ 3 のリストになっており、そのリストの要素は全て数です。\n",
        "- `list3[i][j]` （ただし、`i` と `j` は共に、0 以上 2 以下の整数）は `list1[i][j]` と `list2[i][j]` の値の和になっています。\n",
        "\n",
        "ここでは、内包表記を用いて`sum_matrix` を定義してください。以下のセルの `...` のところを書き換えて `sum_matrix` を作成してください。\n",
        "\n"
      ]
    },
    {
      "cell_type": "code",
      "execution_count": 290,
      "metadata": {
        "exercise_id": "SumMatrix",
        "id": "IZCjrL4ntvj_"
      },
      "outputs": [],
      "source": [
        "def sum_matrix(list1, list2):\n",
        "    ..."
      ]
    },
    {
      "cell_type": "code",
      "source": [
        "import copy\n",
        "import numpy as np\n",
        "\n",
        "def sum_matrix(list1, list2):\n",
        "  list3 = np.zeros([3,3]).astype(int)\n",
        "  for i in range(3):\n",
        "    for j in range(3):\n",
        "      list3[i][j] = int(list1[i][j] + list2[i][j])\n",
        "  return list3.tolist()\n",
        "  #return [[list1[i][j] + list2[i][j] for j in range(3)] for i in range(3)]"
      ],
      "metadata": {
        "id": "q30-1UM7ATw8"
      },
      "execution_count": 291,
      "outputs": []
    },
    {
      "cell_type": "code",
      "execution_count": 292,
      "metadata": {
        "colab": {
          "base_uri": "https://localhost:8080/",
          "height": 82
        },
        "id": "1V2X3S6qtvkA",
        "outputId": "9ac50df5-4844-4f1a-cc3a-d4dc3a340477"
      },
      "outputs": [
        {
          "output_type": "display_data",
          "data": {
            "text/plain": [
              "<IPython.core.display.HTML object>"
            ],
            "text/html": [
              "\n",
              "<title>Report for a92e27de-ee4a-453e-997e-6b17e91220b1</title>\n",
              "<style type='text/css'>\n",
              "h2 {\n",
              "  color: #697;\n",
              "  font-size: 10pt;\n",
              "  font-family: Verdana, Arial, sans-serif;\n",
              "  margin-top: 2em;\n",
              "}\n",
              ".message {\n",
              "  font-size: 14pt;\n",
              "  font-weight: medium;\n",
              "}\n",
              ".ico {\n",
              "  font-size: 16pt;\n",
              "  font-weight: bold;\n",
              "  padding: 0px 2px 0px 2px;\n",
              "  margin: 10px 4px 1px 4px;\n",
              "  background: #EEE;\n",
              "  border: 1pt solid #DDD;\n",
              "  border-radius: 3pt;\n",
              "}\n",
              ".green {\n",
              "  color: #2F2;\n",
              "}\n",
              ".red {\n",
              "  color: #F22;\n",
              "}\n",
              ".code {\n",
              "  white-space: pre;\n",
              "  font-family: monospace;\n",
              "  background: #F0F0F0;\n",
              "  padding: 3pt;\n",
              "  margin: 4pt;\n",
              "  border: 1pt solid #DDD;\n",
              "  border-radius: 3pt;\n",
              "}\n",
              ".code ol {\n",
              "  margin: 0px;\n",
              "  padding: 0px;\n",
              "  padding-inline-start: 22pt;\n",
              "  margin-block-start: 0em;\n",
              "  margin-block-end: 0em;\n",
              "  line-height: 10%;\n",
              "}\n",
              ".code ol li {\n",
              "  margin: 0px;\n",
              "  padding: 0px;\n",
              "  line-height: 120%;\n",
              "}\n",
              ".code ol li:nth-child(odd) {\n",
              "  background: #F8F8F8;\n",
              "}\n",
              ".code li:last-child {\n",
              "  margin-bottom: 0px;\n",
              "}\n",
              ".logs {\n",
              "  font-family: monospace;\n",
              "  font-size: 10pt;\n",
              "  background-color: #EEEEEE;\n",
              "  padding: 4px;\n",
              "  border-color: #E0E0E0;\n",
              "  margin: 8px;\n",
              "}\n",
              "\n",
              " \n",
              "\n",
              " \n",
              ".pln { color: #000 }   \n",
              "\n",
              "@media screen {\n",
              "  .str { color: #080 }   \n",
              "  .kwd { color: #008 }   \n",
              "  .com { color: #800 }   \n",
              "  .typ { color: #606 }   \n",
              "  .lit { color: #066 }   \n",
              "   \n",
              "  .pun, .opn, .clo { color: #660 }\n",
              "  .tag { color: #008 }   \n",
              "  .atn { color: #606 }   \n",
              "  .atv { color: #080 }   \n",
              "  .dec, .var { color: #606 }   \n",
              "  .fun { color: red }   \n",
              "}\n",
              "\n",
              " \n",
              "@media print, projection {\n",
              "  .str { color: #060 }\n",
              "  .kwd { color: #006; font-weight: bold }\n",
              "  .com { color: #600; font-style: italic }\n",
              "  .typ { color: #404; font-weight: bold }\n",
              "  .lit { color: #044 }\n",
              "  .pun, .opn, .clo { color: #440 }\n",
              "  .tag { color: #006; font-weight: bold }\n",
              "  .atn { color: #404 }\n",
              "  .atv { color: #060 }\n",
              "}\n",
              "\n",
              " \n",
              "pre.prettyprint { padding: 2px; border: 1px solid #888 }\n",
              "\n",
              " \n",
              "ol.linenums { margin-top: 0; margin-bottom: 0 }  \n",
              "li.L0,\n",
              "li.L1,\n",
              "li.L2,\n",
              "li.L3,\n",
              "li.L5,\n",
              "li.L6,\n",
              "li.L7,\n",
              "li.L8 { list-style-type: none }\n",
              " \n",
              "li.L1,\n",
              "li.L3,\n",
              "li.L5,\n",
              "li.L7,\n",
              "li.L9 { background: #eee }\n",
              "</style>\n",
              "\n",
              "\n",
              "<h2>SumMatrix</h2>\n",
              "\n",
              "SumMatrix: empty submission\n",
              "\n",
              "\n"
            ]
          },
          "metadata": {}
        }
      ],
      "source": [
        "# Run this cell to check your solution.\n",
        "Submit(\"SumMatrix\")"
      ]
    },
    {
      "cell_type": "markdown",
      "metadata": {
        "id": "sgsRT8o6tvkA"
      },
      "source": [
        "上のセルで解答を作成した後、以下のセルを実行し、実行結果が `True` になることを確認してください。"
      ]
    },
    {
      "cell_type": "code",
      "execution_count": 293,
      "metadata": {
        "colab": {
          "base_uri": "https://localhost:8080/"
        },
        "id": "WXErQVBttvkA",
        "outputId": "977a0a4d-46ac-4d1d-d2f1-196820bd4145"
      },
      "outputs": [
        {
          "output_type": "stream",
          "name": "stdout",
          "text": [
            "True\n"
          ]
        }
      ],
      "source": [
        "print(sum_matrix([[1,5,3],[4,5,6],[7,8,9]], [[1,4,7],[2,5,8],[3,6,9]])==[[2, 9, 10], [6, 10, 14], [10, 14, 18]])"
      ]
    },
    {
      "cell_type": "markdown",
      "metadata": {
        "id": "JowC-a-ttvkA"
      },
      "source": [
        "## 練習の解答"
      ]
    },
    {
      "cell_type": "code",
      "execution_count": 294,
      "metadata": {
        "colab": {
          "base_uri": "https://localhost:8080/"
        },
        "id": "lbjS9uZvtvkA",
        "outputId": "d171f0b9-1c9a-4145-d8d2-23427b57099c"
      },
      "outputs": [
        {
          "output_type": "execute_result",
          "data": {
            "text/plain": [
              "[3, 5, 5]"
            ]
          },
          "metadata": {},
          "execution_count": 294
        }
      ],
      "source": [
        "strings = ['The', 'quick', 'brown']\n",
        "[len(x) for x in strings]"
      ]
    },
    {
      "cell_type": "code",
      "execution_count": 295,
      "metadata": {
        "colab": {
          "base_uri": "https://localhost:8080/"
        },
        "id": "VgYbC-fOtvkA",
        "outputId": "c62fc28c-d7b2-4b90-9437-23472c8c8bfc"
      },
      "outputs": [
        {
          "output_type": "execute_result",
          "data": {
            "text/plain": [
              "[123, 45, -3]"
            ]
          },
          "metadata": {},
          "execution_count": 295
        }
      ],
      "source": [
        "str1 = '123,45,-3'\n",
        "[int(x) for x in str1.split(',')]"
      ]
    },
    {
      "cell_type": "code",
      "execution_count": 296,
      "metadata": {
        "id": "hs5od4zgtvkB"
      },
      "outputs": [],
      "source": [
        "def var(lst):\n",
        "    n = len(lst)\n",
        "    av = sum(lst)/n\n",
        "    return sum([(x - av)*(x - av) for x in lst])/n"
      ]
    },
    {
      "cell_type": "code",
      "execution_count": 297,
      "metadata": {
        "id": "cUXJVpdwtvkB"
      },
      "outputs": [],
      "source": [
        "def var(lst):\n",
        "    n = len(lst)\n",
        "    av = sum(lst)/n\n",
        "    return sum([x*x for x in lst])/n - av*av"
      ]
    },
    {
      "cell_type": "code",
      "execution_count": 298,
      "metadata": {
        "id": "WweJqyCCtvkB"
      },
      "outputs": [],
      "source": [
        "def sum_lists(list1):\n",
        "    return sum([sum(lst) for lst in list1])"
      ]
    },
    {
      "cell_type": "code",
      "execution_count": 299,
      "metadata": {
        "id": "oIzvJo0htvkB"
      },
      "outputs": [],
      "source": [
        "def sum_matrix(list1,list2):\n",
        "    return [[list1[i][j] + list2[i][j] for j in range(3)] for i in range(3)]"
      ]
    }
  ],
  "metadata": {
    "assignment_id": "6-1",
    "kernelspec": {
      "display_name": "Python 3",
      "language": "python",
      "name": "python3"
    },
    "language_info": {
      "codemirror_mode": {
        "name": "ipython",
        "version": 3
      },
      "file_extension": ".py",
      "mimetype": "text/x-python",
      "name": "python",
      "nbconvert_exporter": "python",
      "pygments_lexer": "ipython3",
      "version": "3.7.3"
    },
    "colab": {
      "provenance": [],
      "include_colab_link": true
    }
  },
  "nbformat": 4,
  "nbformat_minor": 0
}