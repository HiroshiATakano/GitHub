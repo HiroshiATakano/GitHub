{
  "nbformat": 4,
  "nbformat_minor": 0,
  "metadata": {
    "colab": {
      "name": "3-7-正規線形モデル.ipynb",
      "provenance": [],
      "include_colab_link": true
    },
    "kernelspec": {
      "name": "python3",
      "display_name": "Python 3"
    }
  },
  "cells": [
    {
      "cell_type": "markdown",
      "metadata": {
        "id": "view-in-github",
        "colab_type": "text"
      },
      "source": [
        "<a href=\"https://colab.research.google.com/github/HiroshiATakano/GitHub/blob/master/3_7_%E6%AD%A3%E8%A6%8F%E7%B7%9A%E5%BD%A2%E3%83%A2%E3%83%87%E3%83%AB.ipynb\" target=\"_parent\"><img src=\"https://colab.research.google.com/assets/colab-badge.svg\" alt=\"Open In Colab\"/></a>"
      ]
    },
    {
      "cell_type": "code",
      "metadata": {
        "id": "HEzKalRVkeuW",
        "colab_type": "code",
        "outputId": "65545251-d0d9-4abf-a191-246ae60fa791",
        "colab": {
          "base_uri": "https://localhost:8080/",
          "height": 54
        }
      },
      "source": [
        "from google.colab import drive\n",
        "drive.mount('/content/drive/')"
      ],
      "execution_count": 2,
      "outputs": [
        {
          "output_type": "stream",
          "text": [
            "Drive already mounted at /content/drive/; to attempt to forcibly remount, call drive.mount(\"/content/drive/\", force_remount=True).\n"
          ],
          "name": "stdout"
        }
      ]
    },
    {
      "cell_type": "code",
      "metadata": {
        "id": "dGJu9wbnkqj1",
        "colab_type": "code",
        "outputId": "b2cd5cec-602c-4960-b49d-cb1fd45d7daf",
        "colab": {
          "base_uri": "https://localhost:8080/",
          "height": 34
        }
      },
      "source": [
        "%matplotlib inline\n",
        "\n",
        "import pickle\n",
        "import statsmodels.formula.api as smf\n",
        "import pystan\n",
        "\n",
        "import pandas as pd\n",
        "import numpy as np\n",
        "import matplotlib.pyplot as plt\n",
        "from matplotlib.figure import figaspect\n",
        "from matplotlib import colors as mcolors\n",
        "from pystan import StanModel\n",
        "import pickle\n",
        "\n",
        "import seaborn as sns\n",
        "import sys\n",
        "import math\n",
        "from matplotlib.backends.backend_pdf import PdfPages\n",
        "from scipy import stats\n",
        "from scipy.stats import norm\n",
        "\n",
        "from statsmodels.formula.api import glm\n",
        "import statsmodels.api as sm\n",
        "\n",
        "\n",
        "import os\n",
        "\n",
        "path = os.getcwd()\n",
        "\n",
        "try:\n",
        "    os.chdir(path + \"/drive/My Drive/RとStanで始めるベイズ統計モデリングによるデータ分析入門\")\n",
        "except:\n",
        "    pass\n",
        "\n",
        "os.getcwd()"
      ],
      "execution_count": 3,
      "outputs": [
        {
          "output_type": "execute_result",
          "data": {
            "text/plain": [
              "'/content/drive/My Drive/RとStanで始めるベイズ統計モデリングによるデータ分析入門'"
            ]
          },
          "metadata": {
            "tags": []
          },
          "execution_count": 3
        }
      ]
    },
    {
      "cell_type": "code",
      "metadata": {
        "id": "mwO4JyMVk0KE",
        "colab_type": "code",
        "outputId": "9a563393-4906-4722-9b15-7278757512ff",
        "colab": {
          "base_uri": "https://localhost:8080/",
          "height": 204
        }
      },
      "source": [
        "sales_climate = pd.read_csv(\"input/3-7-1-beer-sales-4.csv\")\n",
        "sales_climate.head()"
      ],
      "execution_count": 4,
      "outputs": [
        {
          "output_type": "execute_result",
          "data": {
            "text/html": [
              "<div>\n",
              "<style scoped>\n",
              "    .dataframe tbody tr th:only-of-type {\n",
              "        vertical-align: middle;\n",
              "    }\n",
              "\n",
              "    .dataframe tbody tr th {\n",
              "        vertical-align: top;\n",
              "    }\n",
              "\n",
              "    .dataframe thead th {\n",
              "        text-align: right;\n",
              "    }\n",
              "</style>\n",
              "<table border=\"1\" class=\"dataframe\">\n",
              "  <thead>\n",
              "    <tr style=\"text-align: right;\">\n",
              "      <th></th>\n",
              "      <th>sales</th>\n",
              "      <th>weather</th>\n",
              "      <th>temperature</th>\n",
              "    </tr>\n",
              "  </thead>\n",
              "  <tbody>\n",
              "    <tr>\n",
              "      <th>0</th>\n",
              "      <td>40.643344</td>\n",
              "      <td>cloudy</td>\n",
              "      <td>13.7</td>\n",
              "    </tr>\n",
              "    <tr>\n",
              "      <th>1</th>\n",
              "      <td>99.552683</td>\n",
              "      <td>cloudy</td>\n",
              "      <td>24.0</td>\n",
              "    </tr>\n",
              "    <tr>\n",
              "      <th>2</th>\n",
              "      <td>85.326847</td>\n",
              "      <td>cloudy</td>\n",
              "      <td>21.5</td>\n",
              "    </tr>\n",
              "    <tr>\n",
              "      <th>3</th>\n",
              "      <td>69.287884</td>\n",
              "      <td>cloudy</td>\n",
              "      <td>13.4</td>\n",
              "    </tr>\n",
              "    <tr>\n",
              "      <th>4</th>\n",
              "      <td>71.099425</td>\n",
              "      <td>cloudy</td>\n",
              "      <td>28.9</td>\n",
              "    </tr>\n",
              "  </tbody>\n",
              "</table>\n",
              "</div>"
            ],
            "text/plain": [
              "       sales weather  temperature\n",
              "0  40.643344  cloudy         13.7\n",
              "1  99.552683  cloudy         24.0\n",
              "2  85.326847  cloudy         21.5\n",
              "3  69.287884  cloudy         13.4\n",
              "4  71.099425  cloudy         28.9"
            ]
          },
          "metadata": {
            "tags": []
          },
          "execution_count": 4
        }
      ]
    },
    {
      "cell_type": "code",
      "metadata": {
        "id": "zDBPfwQ1rjxE",
        "colab_type": "code",
        "colab": {}
      },
      "source": [
        "sales_climate_2 = pd.get_dummies(sales_climate,drop_first=True)"
      ],
      "execution_count": 0,
      "outputs": []
    },
    {
      "cell_type": "code",
      "metadata": {
        "id": "N4xXmsT5mZ4t",
        "colab_type": "code",
        "outputId": "64ba1310-acb5-4da1-aaf9-8c90f95e9528",
        "colab": {
          "base_uri": "https://localhost:8080/",
          "height": 382
        }
      },
      "source": [
        "sns.pairplot(sales_climate,hue=\"weather\")"
      ],
      "execution_count": 6,
      "outputs": [
        {
          "output_type": "execute_result",
          "data": {
            "text/plain": [
              "<seaborn.axisgrid.PairGrid at 0x7f6f89e4b7f0>"
            ]
          },
          "metadata": {
            "tags": []
          },
          "execution_count": 6
        },
        {
          "output_type": "display_data",
          "data": {
            "image/png": "[encoded data removed]",
            "text/plain": [
              "<Figure size 429x360 with 6 Axes>"
            ]
          },
          "metadata": {
            "tags": []
          }
        }
      ]
    },
    {
      "cell_type": "code",
      "metadata": {
        "id": "NdGAH4RAUNdm",
        "colab_type": "code",
        "colab": {}
      },
      "source": [
        ""
      ],
      "execution_count": 0,
      "outputs": []
    },
    {
      "cell_type": "code",
      "metadata": {
        "id": "4ZJZy-ihmZ9I",
        "colab_type": "code",
        "outputId": "dd4930ee-7b82-4d62-9595-b250ac7b9362",
        "colab": {
          "base_uri": "https://localhost:8080/",
          "height": 306
        }
      },
      "source": [
        "with open(\"model/3-4-1-lm-design-matrix.stan\") as f:\n",
        "    print(f.read())"
      ],
      "execution_count": 7,
      "outputs": [
        {
          "output_type": "stream",
          "text": [
            "data { \n",
            "  int N;                // サンプルサイズ\n",
            "  int K;                // デザイン行列の列数(説明変数の数＋１)\n",
            "  vector[N] Y;          // 応答変数 \n",
            "  matrix[N, K] X;       // デザイン行列 \n",
            "} \n",
            "\n",
            "parameters { \n",
            "  vector[K] b;          // 切片を含む係数ベクトル\n",
            "  real<lower=0> sigma;  // データのばらつきを表す標準偏差\n",
            "} \n",
            "\n",
            "model { \n",
            "  vector[N] mu = X * b;\n",
            "  Y ~ normal(mu, sigma);\n",
            "} \n",
            "\n"
          ],
          "name": "stdout"
        }
      ]
    },
    {
      "cell_type": "code",
      "metadata": {
        "id": "mctmL0tHmZ_y",
        "colab_type": "code",
        "outputId": "0c81ff6a-4983-4ae5-8895-647f1d5a2052",
        "colab": {
          "base_uri": "https://localhost:8080/",
          "height": 34
        }
      },
      "source": [
        "stanmodel = StanModel(file=\"model/3-4-1-lm-design-matrix.stan\")"
      ],
      "execution_count": 8,
      "outputs": [
        {
          "output_type": "stream",
          "text": [
            "INFO:pystan:COMPILING THE C++ CODE FOR MODEL anon_model_f80452aa85a6818d76645a3918d461a8 NOW.\n"
          ],
          "name": "stderr"
        }
      ]
    },
    {
      "cell_type": "code",
      "metadata": {
        "id": "0Cjcv8VwmaCo",
        "colab_type": "code",
        "outputId": "39ca35aa-b198-4608-9ee2-f86ef5c2ec17",
        "colab": {
          "base_uri": "https://localhost:8080/",
          "height": 493
        }
      },
      "source": [
        "N = len(sales_climate_2)\n",
        "K = 4\n",
        "Y = sales_climate_2['sales']\n",
        "col = sales_climate_2.columns\n",
        "X = pd.DataFrame({'intercept':1,\n",
        "                  col[2]:sales_climate_2[col[2]],\n",
        "                  col[3]:sales_climate_2[col[3]],\n",
        "                  col[1]:sales_climate_2[col[1]]})\n",
        "\n",
        "data = dict(N=N,K=K,Y=Y,X=X)\n",
        "data"
      ],
      "execution_count": 36,
      "outputs": [
        {
          "output_type": "execute_result",
          "data": {
            "text/plain": [
              "{'K': 4,\n",
              " 'N': 150,\n",
              " 'X':      intercept  weather_rainy  weather_sunny  temperature\n",
              " 0            1              0              0         13.7\n",
              " 1            1              0              0         24.0\n",
              " 2            1              0              0         21.5\n",
              " 3            1              0              0         13.4\n",
              " 4            1              0              0         28.9\n",
              " ..         ...            ...            ...          ...\n",
              " 145          1              1              0         24.6\n",
              " 146          1              1              0         23.4\n",
              " 147          1              1              0         16.2\n",
              " 148          1              1              0         19.6\n",
              " 149          1              1              0         15.8\n",
              " \n",
              " [150 rows x 4 columns],\n",
              " 'Y': 0      40.643344\n",
              " 1      99.552683\n",
              " 2      85.326847\n",
              " 3      69.287884\n",
              " 4      71.099425\n",
              "          ...    \n",
              " 145    85.472193\n",
              " 146    87.232787\n",
              " 147    46.602073\n",
              " 148    95.857775\n",
              " 149    58.556600\n",
              " Name: sales, Length: 150, dtype: float64}"
            ]
          },
          "metadata": {
            "tags": []
          },
          "execution_count": 36
        }
      ]
    },
    {
      "cell_type": "code",
      "metadata": {
        "id": "GzGI5leFekcz",
        "colab_type": "code",
        "outputId": "511e9843-3d44-4a08-b1e6-5c8e9c6ab9a6",
        "colab": {
          "base_uri": "https://localhost:8080/",
          "height": 289
        }
      },
      "source": [
        "fit_nuts = stanmodel.sampling(data=data,n_jobs=-1)\n",
        "fit_nuts"
      ],
      "execution_count": 37,
      "outputs": [
        {
          "output_type": "execute_result",
          "data": {
            "text/plain": [
              "Inference for Stan model: anon_model_f80452aa85a6818d76645a3918d461a8.\n",
              "4 chains, each with iter=2000; warmup=1000; thin=1; \n",
              "post-warmup draws per chain=1000, total post-warmup draws=4000.\n",
              "\n",
              "        mean se_mean     sd   2.5%    25%    50%    75%  97.5%  n_eff   Rhat\n",
              "b[1]   20.21    0.12   5.09  10.14  16.79  20.14  23.68  30.27   1890    1.0\n",
              "b[2]   -3.63    0.06   3.16  -9.94  -5.73  -3.61  -1.56   2.55   2936    1.0\n",
              "b[3]   29.45    0.06   3.18   23.1  27.34  29.47  31.57  35.54   2647    1.0\n",
              "b[4]    2.55  4.9e-3   0.22   2.11    2.4   2.55    2.7   2.98   2084    1.0\n",
              "sigma  16.07    0.02   0.95  14.32   15.4  16.04  16.67  18.06   3040    1.0\n",
              "lp__  -487.9    0.04   1.59 -491.9 -488.7 -487.6 -486.7 -485.8   1632    1.0\n",
              "\n",
              "Samples were drawn using NUTS at Mon Dec  2 07:34:26 2019.\n",
              "For each parameter, n_eff is a crude measure of effective sample size,\n",
              "and Rhat is the potential scale reduction factor on split chains (at \n",
              "convergence, Rhat=1)."
            ]
          },
          "metadata": {
            "tags": []
          },
          "execution_count": 37
        }
      ]
    },
    {
      "cell_type": "code",
      "metadata": {
        "id": "P-Q5N4zqfFT4",
        "colab_type": "code",
        "colab": {}
      },
      "source": [
        "ms = fit_nuts.extract()\n",
        "b0 = ms['b'][:,0].mean()\n",
        "b1 = ms['b'][:,1].mean()\n",
        "b2 = ms['b'][:,2].mean()\n",
        "b3 = ms['b'][:,3].mean()"
      ],
      "execution_count": 0,
      "outputs": []
    },
    {
      "cell_type": "code",
      "metadata": {
        "id": "SRUD84mVURMM",
        "colab_type": "code",
        "colab": {
          "base_uri": "https://localhost:8080/",
          "height": 386
        },
        "outputId": "4ccd48b4-2ff5-4dc7-8f8f-7ea6e47ad8f8"
      },
      "source": [
        "sns.lmplot(x=\"temperature\",y=\"sales\",data=sales_climate,hue=\"weather\")\n",
        "x = np.linspace(5,35,100)\n",
        "y = lambda x :b3*x+b0\n",
        "y1 = lambda x : b3*x+b1+b0\n",
        "y2 = lambda x : b3*x+b2+b0\n",
        "plt.plot(x,y(x))\n",
        "plt.plot(x,y1(x))\n",
        "plt.plot(x,y2(x))"
      ],
      "execution_count": 46,
      "outputs": [
        {
          "output_type": "execute_result",
          "data": {
            "text/plain": [
              "[<matplotlib.lines.Line2D at 0x7f6f66f82710>]"
            ]
          },
          "metadata": {
            "tags": []
          },
          "execution_count": 46
        },
        {
          "output_type": "display_data",
          "data": {
            "image/png": "[encoded data removed]",
            "text/plain": [
              "<Figure size 429x360 with 1 Axes>"
            ]
          },
          "metadata": {
            "tags": []
          }
        }
      ]
    },
    {
      "cell_type": "code",
      "metadata": {
        "id": "KwI9U1hMURXm",
        "colab_type": "code",
        "colab": {}
      },
      "source": [
        ""
      ],
      "execution_count": 0,
      "outputs": []
    },
    {
      "cell_type": "code",
      "metadata": {
        "id": "t-iC0wF-NsHi",
        "colab_type": "code",
        "colab": {
          "base_uri": "https://localhost:8080/",
          "height": 204
        },
        "outputId": "e5e643e5-9f3c-4861-b152-927da4a2052c"
      },
      "source": [
        "d = pd.read_csv(\"input/data-attendance-1.txt\")\n",
        "d.head()"
      ],
      "execution_count": 11,
      "outputs": [
        {
          "output_type": "execute_result",
          "data": {
            "text/html": [
              "<div>\n",
              "<style scoped>\n",
              "    .dataframe tbody tr th:only-of-type {\n",
              "        vertical-align: middle;\n",
              "    }\n",
              "\n",
              "    .dataframe tbody tr th {\n",
              "        vertical-align: top;\n",
              "    }\n",
              "\n",
              "    .dataframe thead th {\n",
              "        text-align: right;\n",
              "    }\n",
              "</style>\n",
              "<table border=\"1\" class=\"dataframe\">\n",
              "  <thead>\n",
              "    <tr style=\"text-align: right;\">\n",
              "      <th></th>\n",
              "      <th>A</th>\n",
              "      <th>Score</th>\n",
              "      <th>Y</th>\n",
              "    </tr>\n",
              "  </thead>\n",
              "  <tbody>\n",
              "    <tr>\n",
              "      <th>0</th>\n",
              "      <td>0</td>\n",
              "      <td>69</td>\n",
              "      <td>0.286</td>\n",
              "    </tr>\n",
              "    <tr>\n",
              "      <th>1</th>\n",
              "      <td>1</td>\n",
              "      <td>145</td>\n",
              "      <td>0.196</td>\n",
              "    </tr>\n",
              "    <tr>\n",
              "      <th>2</th>\n",
              "      <td>0</td>\n",
              "      <td>125</td>\n",
              "      <td>0.261</td>\n",
              "    </tr>\n",
              "    <tr>\n",
              "      <th>3</th>\n",
              "      <td>1</td>\n",
              "      <td>86</td>\n",
              "      <td>0.109</td>\n",
              "    </tr>\n",
              "    <tr>\n",
              "      <th>4</th>\n",
              "      <td>1</td>\n",
              "      <td>158</td>\n",
              "      <td>0.230</td>\n",
              "    </tr>\n",
              "  </tbody>\n",
              "</table>\n",
              "</div>"
            ],
            "text/plain": [
              "   A  Score      Y\n",
              "0  0     69  0.286\n",
              "1  1    145  0.196\n",
              "2  0    125  0.261\n",
              "3  1     86  0.109\n",
              "4  1    158  0.230"
            ]
          },
          "metadata": {
            "tags": []
          },
          "execution_count": 11
        }
      ]
    },
    {
      "cell_type": "code",
      "metadata": {
        "id": "y40cokoGNsL6",
        "colab_type": "code",
        "colab": {
          "base_uri": "https://localhost:8080/",
          "height": 314
        },
        "outputId": "8a6d75d3-2503-4d9e-c7a7-e08a0b3330d1"
      },
      "source": [
        "data = d.copy()\n",
        "data = data.sort_values(by='A').reset_index().drop('index',axis=1)\n",
        "data['Score'] = data['Score']/200\n",
        "data.describe()"
      ],
      "execution_count": 12,
      "outputs": [
        {
          "output_type": "stream",
          "text": [
            "INFO:numexpr.utils:NumExpr defaulting to 2 threads.\n"
          ],
          "name": "stderr"
        },
        {
          "output_type": "execute_result",
          "data": {
            "text/html": [
              "<div>\n",
              "<style scoped>\n",
              "    .dataframe tbody tr th:only-of-type {\n",
              "        vertical-align: middle;\n",
              "    }\n",
              "\n",
              "    .dataframe tbody tr th {\n",
              "        vertical-align: top;\n",
              "    }\n",
              "\n",
              "    .dataframe thead th {\n",
              "        text-align: right;\n",
              "    }\n",
              "</style>\n",
              "<table border=\"1\" class=\"dataframe\">\n",
              "  <thead>\n",
              "    <tr style=\"text-align: right;\">\n",
              "      <th></th>\n",
              "      <th>A</th>\n",
              "      <th>Score</th>\n",
              "      <th>Y</th>\n",
              "    </tr>\n",
              "  </thead>\n",
              "  <tbody>\n",
              "    <tr>\n",
              "      <th>count</th>\n",
              "      <td>50.000000</td>\n",
              "      <td>50.000000</td>\n",
              "      <td>50.00000</td>\n",
              "    </tr>\n",
              "    <tr>\n",
              "      <th>mean</th>\n",
              "      <td>0.400000</td>\n",
              "      <td>0.608500</td>\n",
              "      <td>0.26354</td>\n",
              "    </tr>\n",
              "    <tr>\n",
              "      <th>std</th>\n",
              "      <td>0.494872</td>\n",
              "      <td>0.140684</td>\n",
              "      <td>0.09747</td>\n",
              "    </tr>\n",
              "    <tr>\n",
              "      <th>min</th>\n",
              "      <td>0.000000</td>\n",
              "      <td>0.255000</td>\n",
              "      <td>0.02700</td>\n",
              "    </tr>\n",
              "    <tr>\n",
              "      <th>25%</th>\n",
              "      <td>0.000000</td>\n",
              "      <td>0.526250</td>\n",
              "      <td>0.19525</td>\n",
              "    </tr>\n",
              "    <tr>\n",
              "      <th>50%</th>\n",
              "      <td>0.000000</td>\n",
              "      <td>0.602500</td>\n",
              "      <td>0.27000</td>\n",
              "    </tr>\n",
              "    <tr>\n",
              "      <th>75%</th>\n",
              "      <td>1.000000</td>\n",
              "      <td>0.712500</td>\n",
              "      <td>0.34300</td>\n",
              "    </tr>\n",
              "    <tr>\n",
              "      <th>max</th>\n",
              "      <td>1.000000</td>\n",
              "      <td>0.925000</td>\n",
              "      <td>0.42300</td>\n",
              "    </tr>\n",
              "  </tbody>\n",
              "</table>\n",
              "</div>"
            ],
            "text/plain": [
              "               A      Score         Y\n",
              "count  50.000000  50.000000  50.00000\n",
              "mean    0.400000   0.608500   0.26354\n",
              "std     0.494872   0.140684   0.09747\n",
              "min     0.000000   0.255000   0.02700\n",
              "25%     0.000000   0.526250   0.19525\n",
              "50%     0.000000   0.602500   0.27000\n",
              "75%     1.000000   0.712500   0.34300\n",
              "max     1.000000   0.925000   0.42300"
            ]
          },
          "metadata": {
            "tags": []
          },
          "execution_count": 12
        }
      ]
    },
    {
      "cell_type": "code",
      "metadata": {
        "id": "Fnp6ZpBCNsP3",
        "colab_type": "code",
        "colab": {
          "base_uri": "https://localhost:8080/",
          "height": 1000
        },
        "outputId": "9853eef2-dc94-4d56-b67a-376631bf2ff8"
      },
      "source": [
        "N = len(data)\n",
        "K = 3\n",
        "Y = data['Y']\n",
        "col = data.columns\n",
        "X = pd.DataFrame({'intercept':1,\n",
        "                  col[0]:data[col[0]],\n",
        "                  col[1]:data[col[1]]})\n",
        "\n",
        "data = dict(N=N,K=K,Y=Y,X=X)\n",
        "data"
      ],
      "execution_count": 13,
      "outputs": [
        {
          "output_type": "execute_result",
          "data": {
            "text/plain": [
              "{'K': 3, 'N': 50, 'X':     intercept  A  Score\n",
              " 0           1  0  0.345\n",
              " 1           1  0  0.565\n",
              " 2           1  0  0.805\n",
              " 3           1  0  0.595\n",
              " 4           1  0  0.595\n",
              " 5           1  0  0.655\n",
              " 6           1  0  0.495\n",
              " 7           1  0  0.550\n",
              " 8           1  0  0.445\n",
              " 9           1  0  0.440\n",
              " 10          1  0  0.645\n",
              " 11          1  0  0.925\n",
              " 12          1  0  0.410\n",
              " 13          1  0  0.570\n",
              " 14          1  0  0.630\n",
              " 15          1  0  0.665\n",
              " 16          1  0  0.555\n",
              " 17          1  0  0.610\n",
              " 18          1  0  0.685\n",
              " 19          1  0  0.740\n",
              " 20          1  0  0.725\n",
              " 21          1  0  0.730\n",
              " 22          1  0  0.910\n",
              " 23          1  0  0.555\n",
              " 24          1  0  0.665\n",
              " 25          1  0  0.525\n",
              " 26          1  0  0.255\n",
              " 27          1  0  0.625\n",
              " 28          1  0  0.750\n",
              " 29          1  0  0.545\n",
              " 30          1  1  0.525\n",
              " 31          1  1  0.620\n",
              " 32          1  1  0.585\n",
              " 33          1  1  0.370\n",
              " 34          1  1  0.725\n",
              " 35          1  1  0.430\n",
              " 36          1  1  0.790\n",
              " 37          1  1  0.735\n",
              " 38          1  1  0.705\n",
              " 39          1  1  0.590\n",
              " 40          1  1  0.690\n",
              " 41          1  1  0.495\n",
              " 42          1  1  0.430\n",
              " 43          1  1  0.540\n",
              " 44          1  1  0.530\n",
              " 45          1  1  0.715\n",
              " 46          1  1  0.640\n",
              " 47          1  1  0.825\n",
              " 48          1  1  0.780\n",
              " 49          1  1  0.495, 'Y': 0     0.286\n",
              " 1     0.253\n",
              " 2     0.383\n",
              " 3     0.307\n",
              " 4     0.337\n",
              " 5     0.311\n",
              " 6     0.268\n",
              " 7     0.207\n",
              " 8     0.260\n",
              " 9     0.293\n",
              " 10    0.360\n",
              " 11    0.413\n",
              " 12    0.264\n",
              " 13    0.345\n",
              " 14    0.391\n",
              " 15    0.356\n",
              " 16    0.287\n",
              " 17    0.289\n",
              " 18    0.423\n",
              " 19    0.328\n",
              " 20    0.360\n",
              " 21    0.413\n",
              " 22    0.383\n",
              " 23    0.330\n",
              " 24    0.350\n",
              " 25    0.302\n",
              " 26    0.133\n",
              " 27    0.261\n",
              " 28    0.353\n",
              " 29    0.371\n",
              " 30    0.171\n",
              " 31    0.149\n",
              " 32    0.097\n",
              " 33    0.027\n",
              " 34    0.196\n",
              " 35    0.109\n",
              " 36    0.230\n",
              " 37    0.194\n",
              " 38    0.225\n",
              " 39    0.186\n",
              " 40    0.099\n",
              " 41    0.183\n",
              " 42    0.062\n",
              " 43    0.272\n",
              " 44    0.229\n",
              " 45    0.195\n",
              " 46    0.137\n",
              " 47    0.249\n",
              " 48    0.316\n",
              " 49    0.234\n",
              " Name: Y, dtype: float64}"
            ]
          },
          "metadata": {
            "tags": []
          },
          "execution_count": 13
        }
      ]
    },
    {
      "cell_type": "code",
      "metadata": {
        "id": "ePSko-lBPAUK",
        "colab_type": "code",
        "colab": {
          "base_uri": "https://localhost:8080/",
          "height": 272
        },
        "outputId": "28f79a58-f70c-455b-9534-3292fdeab8b2"
      },
      "source": [
        "fit_nuts = stanmodel.sampling(data=data,n_jobs=-1)\n",
        "fit_nuts"
      ],
      "execution_count": 14,
      "outputs": [
        {
          "output_type": "execute_result",
          "data": {
            "text/plain": [
              "Inference for Stan model: anon_model_f80452aa85a6818d76645a3918d461a8.\n",
              "4 chains, each with iter=2000; warmup=1000; thin=1; \n",
              "post-warmup draws per chain=1000, total post-warmup draws=4000.\n",
              "\n",
              "        mean se_mean     sd   2.5%    25%    50%    75%  97.5%  n_eff   Rhat\n",
              "b[1]    0.12  8.5e-4   0.03   0.06    0.1   0.12   0.15   0.19   1544    1.0\n",
              "b[2]   -0.14  2.7e-4   0.01  -0.17  -0.15  -0.14  -0.13  -0.11   2982    1.0\n",
              "b[3]    0.33  1.4e-3   0.05   0.22   0.29   0.32   0.36   0.43   1563    1.0\n",
              "sigma   0.05  1.1e-4 5.5e-3   0.04   0.05   0.05   0.06   0.06   2589    1.0\n",
              "lp__  120.86    0.04   1.44 117.28 120.15 121.22 121.93 122.66   1369    1.0\n",
              "\n",
              "Samples were drawn using NUTS at Mon Dec  2 06:33:10 2019.\n",
              "For each parameter, n_eff is a crude measure of effective sample size,\n",
              "and Rhat is the potential scale reduction factor on split chains (at \n",
              "convergence, Rhat=1)."
            ]
          },
          "metadata": {
            "tags": []
          },
          "execution_count": 14
        }
      ]
    },
    {
      "cell_type": "code",
      "metadata": {
        "id": "Do5v09VnPAei",
        "colab_type": "code",
        "colab": {}
      },
      "source": [
        ""
      ],
      "execution_count": 0,
      "outputs": []
    },
    {
      "cell_type": "code",
      "metadata": {
        "id": "qGxLuQBAlFfk",
        "colab_type": "code",
        "colab": {}
      },
      "source": [
        "def pairplot(df, **kwargs):\n",
        "    import numpy as np\n",
        "    import matplotlib.pyplot as plt\n",
        "    from matplotlib.figure import figaspect\n",
        "    import seaborn as sns\n",
        "\n",
        "    def corrplot(x, y, data, cmap=None, correlation='pearson', **kwargs):\n",
        "        from scipy import stats\n",
        "        from matplotlib.patches import Ellipse\n",
        "\n",
        "        if correlation is 'spearman':\n",
        "            r = stats.spearmanr(data[x], data[y])[0]\n",
        "        else:\n",
        "            r = stats.pearsonr(data[x], data[y])[0]\n",
        "        if cmap is None:\n",
        "            cmap = 'coolwarm'\n",
        "        if type(cmap) is str:\n",
        "            cmap = plt.get_cmap(cmap)\n",
        "        color = cmap((r+1)/2)\n",
        "        ax.axis('off')\n",
        "        ax.add_artist(Ellipse((0.5, 0.5), width=np.sqrt(1+r), height=np.sqrt(1-r), angle=45, color=color))\n",
        "        ax.text(0.5, 0.5, '{:.2f}'.format(r), size='x-large', horizontalalignment='center', verticalalignment='center')\n",
        "\n",
        "    def crosstabplot(x, y, data, ax, **kwargs):\n",
        "        import pandas as pd\n",
        "\n",
        "        cross = pd.crosstab(data[x], data[y]).values\n",
        "        size = cross / cross.max() * 500\n",
        "        crosstab_kws = kwargs['crosstab_kws'] if 'crosstab_kws' in kwargs else {}\n",
        "        scatter_kws = dict(color=sns.color_palette()[0], alpha=0.3)\n",
        "        scatter_kws.update(crosstab_kws['scatter_kws'] if 'scatter_kws' in crosstab_kws else {})\n",
        "        text_kws = dict(size='x-large')\n",
        "        text_kws.update(crosstab_kws['text_kws'] if 'text_kws' in crosstab_kws else {})\n",
        "        for (xx, yy), count in np.ndenumerate(cross):\n",
        "            ax.scatter(xx, yy, s=size[xx, yy], **scatter_kws)\n",
        "            ax.text(xx, yy, count, horizontalalignment='center', verticalalignment='center', **text_kws)\n",
        "\n",
        "    def catplot(x, y, hue, data, orient, ax, **kwargs):\n",
        "        box_kws = dict(color='w')\n",
        "        box_kws.update(kwargs['box_kws'] if 'box_kws' in kwargs else {})\n",
        "        sns.boxplot(x, y, data=data, orient=orient, ax=ax, **box_kws)\n",
        "        strip_kws = dict(color=None if hue else sns.color_palette()[0])\n",
        "        strip_kws.update(kwargs['strip_kws'] if 'strip_kws' in kwargs else {})\n",
        "        sns.stripplot(x, y, hue, data, orient=orient, ax=ax, **strip_kws)\n",
        "        legend = ax.get_legend()\n",
        "        if legend:\n",
        "            plt.setp(legend, visible=False)\n",
        "\n",
        "    def scatterplot(x, y, hue, data, ax, **kwargs):\n",
        "        if hue:\n",
        "            hues = data[hue].unique()\n",
        "            colors = sns.color_palette(n_colors=hues.size)\n",
        "            for h, c in zip(hues, colors):\n",
        "                ax.scatter(x, y, data=data.query('{col}=={value}'.format(col=hue, value=h)), color=c, **kwargs)\n",
        "        else:\n",
        "            ax.scatter(x, y, data=data, **kwargs)\n",
        "\n",
        "    n_variables = df.columns.size\n",
        "    hue = kwargs['hue'] if 'hue' in kwargs else None\n",
        "    figsize = kwargs['figsize'] if 'figsize' in kwargs else figaspect(1) * 0.5 * n_variables\n",
        "    _, axes = plt.subplots(n_variables, n_variables, figsize=figsize)\n",
        "    plt.subplots_adjust(hspace=0.1, wspace=0.1)\n",
        "\n",
        "    for i in range(n_variables):\n",
        "        axes[i, i].get_shared_x_axes().join(*axes[i:n_variables, i])\n",
        "        if i > 1:\n",
        "            axes[i, 0].get_shared_y_axes().join(*axes[i, :i-1])\n",
        "\n",
        "    for (row, col), ax in np.ndenumerate(axes):\n",
        "        x = df.columns[col]\n",
        "        y = df.columns[row]\n",
        "        x_data = df[x]\n",
        "        y_data = df[y]\n",
        "        x_dtype = x_data.dtype.name\n",
        "        y_dtype = y_data.dtype.name\n",
        "        if x_dtype == 'category':\n",
        "            x_categories = x_data.cat.categories\n",
        "        if y_dtype == 'category':\n",
        "            y_categories = y_data.cat.categories\n",
        "\n",
        "        if row == col: # diagonal\n",
        "            hue_data = df[hue] if hue else None\n",
        "            if x_dtype == 'category':\n",
        "                bar_kws = dict(alpha=0.4)\n",
        "                bar_kws.update(kwargs['bar_kws'] if 'bar_kws' in kwargs else {})\n",
        "                if hue:\n",
        "                    cross = pd.crosstab(x_data, hue_data)\n",
        "                    cross.index = cross.index.categories\n",
        "                    cross.columns = cross.columns.categories if hue_data.dtype.name == 'category' else hue_data.unique()\n",
        "                    cross.reset_index(inplace=True)\n",
        "                    melt = pd.melt(cross, id_vars='index',var_name='hue')\n",
        "                    sns.barplot('index', 'value', 'hue', data=melt, ci=None, orient='v', dodge=False, ax=ax, **bar_kws)\n",
        "                    plt.setp(ax.get_legend(), visible=False)\n",
        "                else:\n",
        "                    cross = pd.crosstab(x_data, []).values.ravel()\n",
        "                    sns.barplot(x_data.cat.categories, cross, ci=None, orient='v', color=sns.color_palette()[0], ax=ax, **bar_kws)\n",
        "            else:\n",
        "                dist_kws = kwargs['dist_kws'] if 'dist_kws' in kwargs else {}\n",
        "                if hue:\n",
        "                    hist_kws = dict(color=sns.color_palette(n_colors=hue_data.unique().size), alpha=0.4)\n",
        "                    hist_kws.update(dist_kws['hist_kws'] if 'hist_kws' in dist_kws else {})\n",
        "                    hue_values = df[hue].cat.categories if hue_data.dtype.name == 'category' else df[hue].unique()\n",
        "                    ax.hist([df.query('{hue}=={v}'.format(hue=hue, v=v))[x] for v in hue_values], density=True, histtype='barstacked', **hist_kws)\n",
        "                    sns.distplot(x_data, hist=False, ax=ax, **dist_kws)\n",
        "                else:\n",
        "                    sns.distplot(x_data, ax=ax, **dist_kws)\n",
        "        elif row < col: # upper\n",
        "            corr_kws = kwargs['corr_kws'] if 'corr_kws' in kwargs else {}\n",
        "            corrplot(x, y, data=df, **corr_kws)\n",
        "        else: # lower\n",
        "            if x_dtype == 'category' and y_dtype == 'category':\n",
        "                crosstabplot(x, y, data=df, ax=ax)\n",
        "            else:\n",
        "                cat_kws = kwargs['cat_kws'] if 'cat_kws' in kwargs else {}\n",
        "                if x_dtype == 'category':\n",
        "                    catplot(x, y, hue, df, 'v', ax, **cat_kws)\n",
        "                elif y_dtype == 'category':\n",
        "                    catplot(x, y, hue, df, 'h', ax, **cat_kws)\n",
        "                else:\n",
        "                    scatter_kws = kwargs['scatter_kws'] if 'scatter_kws' in kwargs else {}\n",
        "                    scatterplot(x, y, hue, df, ax, **scatter_kws)\n",
        "        if row < n_variables-1:\n",
        "            plt.setp(ax, xlabel='')\n",
        "            plt.setp(ax.get_xticklabels(), visible=False)\n",
        "        else:\n",
        "            plt.setp(ax, xlabel=x)\n",
        "            if x_dtype == 'category':\n",
        "                plt.setp(ax, xticks=np.arange(x_categories.size), xticklabels=x_data.cat.categories)\n",
        "        if col > 0:\n",
        "            plt.setp(ax, ylabel='')\n",
        "            plt.setp(ax.get_yticklabels(), visible=False)\n",
        "        else:\n",
        "            plt.setp(ax, ylabel=y)\n",
        "            if row > 0 and y_dtype == 'category':\n",
        "                plt.setp(ax, yticks=np.arange(y_categories.size), yticklabels=y_data.cat.categories)\n",
        "\n",
        "    return axes"
      ],
      "execution_count": 0,
      "outputs": []
    },
    {
      "cell_type": "code",
      "metadata": {
        "id": "kmRE2wZbO-iU",
        "colab_type": "code",
        "colab": {}
      },
      "source": [
        ""
      ],
      "execution_count": 0,
      "outputs": []
    },
    {
      "cell_type": "code",
      "metadata": {
        "id": "SOaYejk5tEdz",
        "colab_type": "code",
        "colab": {}
      },
      "source": [
        ""
      ],
      "execution_count": 0,
      "outputs": []
    }
  ]
}