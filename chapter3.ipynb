{
  "nbformat": 4,
  "nbformat_minor": 0,
  "metadata": {
    "colab": {
      "name": "chapter3.ipynb",
      "provenance": [],
      "collapsed_sections": [],
      "mount_file_id": "1-AX1ajMyX6NY-vA5I8Ge-wdKbGx4NAj9",
      "authorship_tag": "ABX9TyPoK0pJxLT9mo0DnU5GRNwe",
      "include_colab_link": true
    },
    "kernelspec": {
      "name": "python3",
      "display_name": "Python 3"
    },
    "language_info": {
      "name": "python"
    }
  },
  "cells": [
    {
      "cell_type": "markdown",
      "metadata": {
        "id": "view-in-github",
        "colab_type": "text"
      },
      "source": [
        "<a href=\"https://colab.research.google.com/github/HiroshiATakano/GitHub/blob/master/chapter3.ipynb\" target=\"_parent\"><img src=\"https://colab.research.google.com/assets/colab-badge.svg\" alt=\"Open In Colab\"/></a>"
      ]
    },
    {
      "cell_type": "code",
      "metadata": {
        "colab": {
          "base_uri": "https://localhost:8080/"
        },
        "id": "DINDLiDSlSOA",
        "outputId": "d088a62c-1774-4d6c-f1ef-23e19bdeb000"
      },
      "source": [
        "from google.colab import drive\n",
        "drive.mount('/content/drive/')"
      ],
      "execution_count": null,
      "outputs": [
        {
          "output_type": "stream",
          "text": [
            "Drive already mounted at /content/drive/; to attempt to forcibly remount, call drive.mount(\"/content/drive/\", force_remount=True).\n"
          ],
          "name": "stdout"
        }
      ]
    },
    {
      "cell_type": "code",
      "metadata": {
        "colab": {
          "base_uri": "https://localhost:8080/",
          "height": 53
        },
        "id": "eqTR9VV-WxIw",
        "outputId": "d1768460-c1bb-4242-8735-6ff7610ccbe9"
      },
      "source": [
        "import os\n",
        "\n",
        "path = os.getcwd()\n",
        "\n",
        "print(path)\n",
        "\n",
        "try:\n",
        "    os.chdir(\"/content/drive/My Drive/データ解析のための統計モデリング\")\n",
        "except:\n",
        "    pass\n",
        "\n",
        "os.getcwd()"
      ],
      "execution_count": null,
      "outputs": [
        {
          "output_type": "stream",
          "text": [
            "/content\n"
          ],
          "name": "stdout"
        },
        {
          "output_type": "execute_result",
          "data": {
            "application/vnd.google.colaboratory.intrinsic+json": {
              "type": "string"
            },
            "text/plain": [
              "'/content/drive/My Drive/データ解析のための統計モデリング'"
            ]
          },
          "metadata": {
            "tags": []
          },
          "execution_count": 3
        }
      ]
    },
    {
      "cell_type": "code",
      "metadata": {
        "colab": {
          "base_uri": "https://localhost:8080/"
        },
        "id": "D7sEXdkhlaL3",
        "outputId": "4e0d8653-0922-4cc6-ac49-0d7bf906aea3"
      },
      "source": [
        "!pip install japanize-matplotlib"
      ],
      "execution_count": null,
      "outputs": [
        {
          "output_type": "stream",
          "text": [
            "Requirement already satisfied: japanize-matplotlib in /usr/local/lib/python3.7/dist-packages (1.1.3)\n",
            "Requirement already satisfied: matplotlib in /usr/local/lib/python3.7/dist-packages (from japanize-matplotlib) (3.2.2)\n",
            "Requirement already satisfied: kiwisolver>=1.0.1 in /usr/local/lib/python3.7/dist-packages (from matplotlib->japanize-matplotlib) (1.3.1)\n",
            "Requirement already satisfied: python-dateutil>=2.1 in /usr/local/lib/python3.7/dist-packages (from matplotlib->japanize-matplotlib) (2.8.1)\n",
            "Requirement already satisfied: numpy>=1.11 in /usr/local/lib/python3.7/dist-packages (from matplotlib->japanize-matplotlib) (1.19.5)\n",
            "Requirement already satisfied: cycler>=0.10 in /usr/local/lib/python3.7/dist-packages (from matplotlib->japanize-matplotlib) (0.10.0)\n",
            "Requirement already satisfied: pyparsing!=2.0.4,!=2.1.2,!=2.1.6,>=2.0.1 in /usr/local/lib/python3.7/dist-packages (from matplotlib->japanize-matplotlib) (2.4.7)\n",
            "Requirement already satisfied: six>=1.5 in /usr/local/lib/python3.7/dist-packages (from python-dateutil>=2.1->matplotlib->japanize-matplotlib) (1.15.0)\n"
          ],
          "name": "stdout"
        }
      ]
    },
    {
      "cell_type": "code",
      "metadata": {
        "colab": {
          "base_uri": "https://localhost:8080/"
        },
        "id": "jNfpqHsil5hx",
        "outputId": "acd435ea-b349-47f9-937b-c110156050c3"
      },
      "source": [
        "import requests\n",
        "import zipfile\n",
        "import math\n",
        "import numpy as np\n",
        "import pandas as pd\n",
        "import matplotlib.pyplot as plt\n",
        "from scipy.stats import poisson\n",
        "import statsmodels.api as sm\n",
        "import statsmodels.formula.api as smf\n",
        "\n",
        "import seaborn as sns"
      ],
      "execution_count": null,
      "outputs": [
        {
          "output_type": "stream",
          "text": [
            "/usr/local/lib/python3.7/dist-packages/statsmodels/tools/_testing.py:19: FutureWarning: pandas.util.testing is deprecated. Use the functions in the public API at pandas.testing instead.\n",
            "  import pandas.util.testing as tm\n"
          ],
          "name": "stderr"
        }
      ]
    },
    {
      "cell_type": "code",
      "metadata": {
        "colab": {
          "base_uri": "https://localhost:8080/",
          "height": 202
        },
        "id": "-1_8AvHIlqJI",
        "outputId": "e8a275d7-f0f8-4168-c5fd-cc6130c517e1"
      },
      "source": [
        "df = pd.read_csv('data/data3a.csv')\n",
        "df.head()"
      ],
      "execution_count": null,
      "outputs": [
        {
          "output_type": "execute_result",
          "data": {
            "text/html": [
              "<div>\n",
              "<style scoped>\n",
              "    .dataframe tbody tr th:only-of-type {\n",
              "        vertical-align: middle;\n",
              "    }\n",
              "\n",
              "    .dataframe tbody tr th {\n",
              "        vertical-align: top;\n",
              "    }\n",
              "\n",
              "    .dataframe thead th {\n",
              "        text-align: right;\n",
              "    }\n",
              "</style>\n",
              "<table border=\"1\" class=\"dataframe\">\n",
              "  <thead>\n",
              "    <tr style=\"text-align: right;\">\n",
              "      <th></th>\n",
              "      <th>y</th>\n",
              "      <th>x</th>\n",
              "      <th>f</th>\n",
              "    </tr>\n",
              "  </thead>\n",
              "  <tbody>\n",
              "    <tr>\n",
              "      <th>0</th>\n",
              "      <td>6</td>\n",
              "      <td>8.31</td>\n",
              "      <td>C</td>\n",
              "    </tr>\n",
              "    <tr>\n",
              "      <th>1</th>\n",
              "      <td>6</td>\n",
              "      <td>9.44</td>\n",
              "      <td>C</td>\n",
              "    </tr>\n",
              "    <tr>\n",
              "      <th>2</th>\n",
              "      <td>6</td>\n",
              "      <td>9.50</td>\n",
              "      <td>C</td>\n",
              "    </tr>\n",
              "    <tr>\n",
              "      <th>3</th>\n",
              "      <td>12</td>\n",
              "      <td>9.07</td>\n",
              "      <td>C</td>\n",
              "    </tr>\n",
              "    <tr>\n",
              "      <th>4</th>\n",
              "      <td>10</td>\n",
              "      <td>10.16</td>\n",
              "      <td>C</td>\n",
              "    </tr>\n",
              "  </tbody>\n",
              "</table>\n",
              "</div>"
            ],
            "text/plain": [
              "    y      x  f\n",
              "0   6   8.31  C\n",
              "1   6   9.44  C\n",
              "2   6   9.50  C\n",
              "3  12   9.07  C\n",
              "4  10  10.16  C"
            ]
          },
          "metadata": {
            "tags": []
          },
          "execution_count": 6
        }
      ]
    },
    {
      "cell_type": "code",
      "metadata": {
        "colab": {
          "base_uri": "https://localhost:8080/",
          "height": 296
        },
        "id": "l0TF5iphl2Xf",
        "outputId": "81751745-224f-40ef-dc64-f430968deb85"
      },
      "source": [
        "# 散布図\n",
        "sns.scatterplot(x='x', y='y', hue='f', data=df)"
      ],
      "execution_count": null,
      "outputs": [
        {
          "output_type": "execute_result",
          "data": {
            "text/plain": [
              "<matplotlib.axes._subplots.AxesSubplot at 0x7f8013507fd0>"
            ]
          },
          "metadata": {
            "tags": []
          },
          "execution_count": 7
        },
        {
          "output_type": "display_data",
          "data": {
            "image/png": "[encoded data removed]",
            "text/plain": [
              "<Figure size 432x288 with 1 Axes>"
            ]
          },
          "metadata": {
            "tags": [],
            "needs_background": "light"
          }
        }
      ]
    },
    {
      "cell_type": "code",
      "metadata": {
        "colab": {
          "base_uri": "https://localhost:8080/",
          "height": 282
        },
        "id": "iUp0wZGYm7CP",
        "outputId": "2fc85ad6-8ae4-4c31-a956-64a28f58816c"
      },
      "source": [
        "labels = ['C','T']\n",
        "for label in labels:\n",
        "  plt.scatter(df[df['f']==label]['x'],df[df['f']==label]['y'],label=label)\n",
        "plt.legend(loc='best')"
      ],
      "execution_count": null,
      "outputs": [
        {
          "output_type": "execute_result",
          "data": {
            "text/plain": [
              "<matplotlib.legend.Legend at 0x7f8012199550>"
            ]
          },
          "metadata": {
            "tags": []
          },
          "execution_count": 8
        },
        {
          "output_type": "display_data",
          "data": {
            "image/png": "[encoded data removed]",
            "text/plain": [
              "<Figure size 432x288 with 1 Axes>"
            ]
          },
          "metadata": {
            "tags": [],
            "needs_background": "light"
          }
        }
      ]
    },
    {
      "cell_type": "code",
      "metadata": {
        "colab": {
          "base_uri": "https://localhost:8080/",
          "height": 282
        },
        "id": "0YxQSfOVHO0X",
        "outputId": "d2566e1d-b7c1-4942-ac2b-dbbb15170985"
      },
      "source": [
        "# 箱ひげ図\n",
        "fig, ax = plt.subplots()\n",
        "ax.boxplot([df[df['f']=='C']['y'], df[df['f']=='T']['y']])\n",
        "ax.set_xticklabels(['C', 'T'])"
      ],
      "execution_count": null,
      "outputs": [
        {
          "output_type": "execute_result",
          "data": {
            "text/plain": [
              "[Text(0, 0, 'C'), Text(0, 0, 'T')]"
            ]
          },
          "metadata": {
            "tags": []
          },
          "execution_count": 9
        },
        {
          "output_type": "display_data",
          "data": {
            "image/png": "[encoded data removed]",
            "text/plain": [
              "<Figure size 432x288 with 1 Axes>"
            ]
          },
          "metadata": {
            "tags": [],
            "needs_background": "light"
          }
        }
      ]
    },
    {
      "cell_type": "code",
      "metadata": {
        "colab": {
          "base_uri": "https://localhost:8080/",
          "height": 282
        },
        "id": "FDIVzNZnIRxW",
        "outputId": "4e012b41-fa77-4fcb-a4e4-731d64045066"
      },
      "source": [
        "x = np.arange(-4,5,0.01)\n",
        "lam1 = lambda x: np.exp(-1+0.4*x)\n",
        "lam2 = lambda x: np.exp(-2-0.8*x)\n",
        "plt.plot(x,lam1(x), label=r'{$\\beta 1, \\beta 2$} = {-1,0.4}')\n",
        "plt.plot(x,lam2(x), label=r'{$\\beta 1, \\beta 2$} = {-2,-0.8}')\n",
        "plt.legend(loc='best')"
      ],
      "execution_count": null,
      "outputs": [
        {
          "output_type": "execute_result",
          "data": {
            "text/plain": [
              "<matplotlib.legend.Legend at 0x7f8011ba1e10>"
            ]
          },
          "metadata": {
            "tags": []
          },
          "execution_count": 10
        },
        {
          "output_type": "display_data",
          "data": {
            "image/png": "[encoded data removed]",
            "text/plain": [
              "<Figure size 432x288 with 1 Axes>"
            ]
          },
          "metadata": {
            "tags": [],
            "needs_background": "light"
          }
        }
      ]
    },
    {
      "cell_type": "markdown",
      "metadata": {
        "id": "HgItLvi5lcWa"
      },
      "source": [
        ""
      ]
    },
    {
      "cell_type": "code",
      "metadata": {
        "colab": {
          "base_uri": "https://localhost:8080/",
          "height": 286
        },
        "id": "I7tr8ve6Uw-v",
        "outputId": "049d4326-814d-4a5a-9f60-f3bfc8725164"
      },
      "source": [
        "import statsmodels.formula.api as smf\n",
        "\n",
        "results = smf.poisson('y ~ x', data=df).fit()\n",
        "\n",
        "results.summary()"
      ],
      "execution_count": null,
      "outputs": [
        {
          "output_type": "stream",
          "text": [
            "Optimization terminated successfully.\n",
            "         Current function value: 2.353863\n",
            "         Iterations 4\n"
          ],
          "name": "stdout"
        },
        {
          "output_type": "execute_result",
          "data": {
            "text/html": [
              "<table class=\"simpletable\">\n",
              "<caption>Poisson Regression Results</caption>\n",
              "<tr>\n",
              "  <th>Dep. Variable:</th>           <td>y</td>        <th>  No. Observations:  </th>  <td>   100</td> \n",
              "</tr>\n",
              "<tr>\n",
              "  <th>Model:</th>                <td>Poisson</td>     <th>  Df Residuals:      </th>  <td>    98</td> \n",
              "</tr>\n",
              "<tr>\n",
              "  <th>Method:</th>                 <td>MLE</td>       <th>  Df Model:          </th>  <td>     1</td> \n",
              "</tr>\n",
              "<tr>\n",
              "  <th>Date:</th>            <td>Tue, 06 Jul 2021</td> <th>  Pseudo R-squ.:     </th> <td>0.009497</td>\n",
              "</tr>\n",
              "<tr>\n",
              "  <th>Time:</th>                <td>13:19:41</td>     <th>  Log-Likelihood:    </th> <td> -235.39</td>\n",
              "</tr>\n",
              "<tr>\n",
              "  <th>converged:</th>             <td>True</td>       <th>  LL-Null:           </th> <td> -237.64</td>\n",
              "</tr>\n",
              "<tr>\n",
              "  <th>Covariance Type:</th>     <td>nonrobust</td>    <th>  LLR p-value:       </th>  <td>0.03362</td>\n",
              "</tr>\n",
              "</table>\n",
              "<table class=\"simpletable\">\n",
              "<tr>\n",
              "      <td></td>         <th>coef</th>     <th>std err</th>      <th>z</th>      <th>P>|z|</th>  <th>[0.025</th>    <th>0.975]</th>  \n",
              "</tr>\n",
              "<tr>\n",
              "  <th>Intercept</th> <td>    1.2917</td> <td>    0.364</td> <td>    3.552</td> <td> 0.000</td> <td>    0.579</td> <td>    2.005</td>\n",
              "</tr>\n",
              "<tr>\n",
              "  <th>x</th>         <td>    0.0757</td> <td>    0.036</td> <td>    2.125</td> <td> 0.034</td> <td>    0.006</td> <td>    0.145</td>\n",
              "</tr>\n",
              "</table>"
            ],
            "text/plain": [
              "<class 'statsmodels.iolib.summary.Summary'>\n",
              "\"\"\"\n",
              "                          Poisson Regression Results                          \n",
              "==============================================================================\n",
              "Dep. Variable:                      y   No. Observations:                  100\n",
              "Model:                        Poisson   Df Residuals:                       98\n",
              "Method:                           MLE   Df Model:                            1\n",
              "Date:                Tue, 06 Jul 2021   Pseudo R-squ.:                0.009497\n",
              "Time:                        13:19:41   Log-Likelihood:                -235.39\n",
              "converged:                       True   LL-Null:                       -237.64\n",
              "Covariance Type:            nonrobust   LLR p-value:                   0.03362\n",
              "==============================================================================\n",
              "                 coef    std err          z      P>|z|      [0.025      0.975]\n",
              "------------------------------------------------------------------------------\n",
              "Intercept      1.2917      0.364      3.552      0.000       0.579       2.005\n",
              "x              0.0757      0.036      2.125      0.034       0.006       0.145\n",
              "==============================================================================\n",
              "\"\"\""
            ]
          },
          "metadata": {
            "tags": []
          },
          "execution_count": 11
        }
      ]
    },
    {
      "cell_type": "code",
      "metadata": {
        "colab": {
          "base_uri": "https://localhost:8080/",
          "height": 282
        },
        "id": "jABWAuqtWLQO",
        "outputId": "12997f7e-ba6e-4b22-dfa6-40e4cf8e6be8"
      },
      "source": [
        "# 散布図\n",
        "plt.scatter(df[df['f']=='C']['x'], df[df['f']=='C']['y'], marker='o', label='C')\n",
        "plt.scatter(df[df['f']=='T']['x'], df[df['f']=='T']['y'], marker='x', label='T')\n",
        "\n",
        "# λの予測値\n",
        "x = np.arange(df['x'].min(), df['x'].max() + 0.01, 0.01)\n",
        "y = lambda x : np.exp(results.params['Intercept'] + results.params['x'] * x)\n",
        "\n",
        "plt.plot(x,y(x))"
      ],
      "execution_count": null,
      "outputs": [
        {
          "output_type": "execute_result",
          "data": {
            "text/plain": [
              "[<matplotlib.lines.Line2D at 0x7f8011acbc10>]"
            ]
          },
          "metadata": {
            "tags": []
          },
          "execution_count": 12
        },
        {
          "output_type": "display_data",
          "data": {
            "image/png": "[encoded data removed]",
            "text/plain": [
              "<Figure size 432x288 with 1 Axes>"
            ]
          },
          "metadata": {
            "tags": [],
            "needs_background": "light"
          }
        }
      ]
    },
    {
      "cell_type": "code",
      "metadata": {
        "colab": {
          "base_uri": "https://localhost:8080/"
        },
        "id": "FpBNngx6mBac",
        "outputId": "a7120334-d108-4e5b-d5ea-db48e8ba0f77"
      },
      "source": [
        "!pip install opencv-python Pillow\n",
        "!pip install --no-deps japanmap\n",
        "import japanmap as jp"
      ],
      "execution_count": null,
      "outputs": [
        {
          "output_type": "stream",
          "text": [
            "Requirement already satisfied: opencv-python in /usr/local/lib/python3.7/dist-packages (4.1.2.30)\n",
            "Requirement already satisfied: Pillow in /usr/local/lib/python3.7/dist-packages (7.1.2)\n",
            "Requirement already satisfied: numpy>=1.14.5 in /usr/local/lib/python3.7/dist-packages (from opencv-python) (1.19.5)\n",
            "Requirement already satisfied: japanmap in /usr/local/lib/python3.7/dist-packages (0.0.23)\n"
          ],
          "name": "stdout"
        }
      ]
    },
    {
      "cell_type": "code",
      "metadata": {
        "colab": {
          "base_uri": "https://localhost:8080/",
          "height": 286
        },
        "id": "yJTtljT6pSNT",
        "outputId": "f832e0db-0c37-4a9c-ce29-bc9d9c2373cc"
      },
      "source": [
        "jp.pref_names\n",
        "plt.imshow(jp.picture())"
      ],
      "execution_count": null,
      "outputs": [
        {
          "output_type": "execute_result",
          "data": {
            "text/plain": [
              "<matplotlib.image.AxesImage at 0x7f800002ce50>"
            ]
          },
          "metadata": {
            "tags": []
          },
          "execution_count": 14
        },
        {
          "output_type": "display_data",
          "data": {
            "image/png": "[encoded data removed]",
            "text/plain": [
              "<Figure size 432x288 with 1 Axes>"
            ]
          },
          "metadata": {
            "tags": [],
            "needs_background": "light"
          }
        }
      ]
    },
    {
      "cell_type": "code",
      "metadata": {
        "colab": {
          "base_uri": "https://localhost:8080/",
          "height": 247
        },
        "id": "mvvRRi-SxW6_",
        "outputId": "e10f0e2e-ab4f-475d-b295-8012ad989a0b"
      },
      "source": [
        "df = pd.read_csv(\"https://oku.edu.mie-u.ac.jp/~okumura/stat/data/gansokuhou2016.csv\")\n",
        "x = df['年齢調整罹患率日本総数'][1:48]\n",
        "x = (x - min(x)) / (max(x) - min(x))\n",
        "cmap = plt.get_cmap('bwr')  # or 'coolwarm' or 'cividis_r' etc...\n",
        "\n",
        "# picture() がnumpy.uint8型を受け付けないみたいなのでintに変換\n",
        "def tint(t):\n",
        "    return tuple(int(_) for _ in t)\n",
        "\n",
        "d = {i: tint(cmap(x[i], bytes=True)[:3]) for i in range(1,48)}\n",
        "plt.imshow(jp.picture(d))\n",
        "\n",
        "# 不要なティックやラベルを削除する\n",
        "plt.tick_params(bottom=False, top=False, left=False, right=False,\n",
        "                labelbottom=False, labeltop=False, labelleft=False, labelright=False)\n",
        "\n",
        "plt.savefig('190613a.png', bbox_inches=\"tight\")"
      ],
      "execution_count": null,
      "outputs": [
        {
          "output_type": "display_data",
          "data": {
            "image/png": "[encoded data removed]",
            "text/plain": [
              "<Figure size 432x288 with 1 Axes>"
            ]
          },
          "metadata": {
            "tags": []
          }
        }
      ]
    },
    {
      "cell_type": "code",
      "metadata": {
        "colab": {
          "base_uri": "https://localhost:8080/"
        },
        "id": "oLGpKyJwx5zV",
        "outputId": "d2952f73-c621-4a80-8b08-9fdadb9c2a66"
      },
      "source": [
        "while True:  \n",
        "  x = input()\n",
        "\n",
        "  try:\n",
        "    x = float(x)\n",
        "\n",
        "    if x < 0:\n",
        "      print(\"マイナスなのでプラスに変換\")\n",
        "      x = abs(x)\n",
        "\n",
        "    rnew = x\n",
        "    while True:\n",
        "      r1 = rnew\n",
        "      r2 = x/r1\n",
        "      diff = abs(r2-r1)\n",
        "      if diff <= 10E-6*r1:\n",
        "        print(diff,10E-6*r1)\n",
        "        break\n",
        "      else:\n",
        "        rnew = (r1+r2)/2\n",
        "    print(rnew, np.sqrt(x))\n",
        "\n",
        "  except ValueError:\n",
        "    if x == 'end':\n",
        "      print(x)\n",
        "      break\n",
        "    print(x,\"数字を入力してください\")\n",
        "    continue\n",
        "\n",
        "  \n"
      ],
      "execution_count": null,
      "outputs": [
        {
          "output_type": "stream",
          "text": [
            "-4\n",
            "マイナスなのでプラスに変換\n",
            "1.858445852764845e-07 2.0000000929222948e-05\n",
            "2.0000000929222947 2.0\n",
            "q\n",
            "q 数字を入力してください\n",
            "-4\n",
            "マイナスなのでプラスに変換\n",
            "1.858445852764845e-07 2.0000000929222948e-05\n",
            "2.0000000929222947 2.0\n",
            "-100\n",
            "マイナスなのでプラスに変換\n",
            "2.7979396577393345e-10 0.00010000000000139898\n",
            "10.000000000139897 10.0\n",
            "end\n",
            "end\n"
          ],
          "name": "stdout"
        }
      ]
    },
    {
      "cell_type": "code",
      "metadata": {
        "id": "PeMRHbUcJQTA"
      },
      "source": [
        ""
      ],
      "execution_count": null,
      "outputs": []
    },
    {
      "cell_type": "code",
      "metadata": {
        "id": "fIMDqSHlJQqv"
      },
      "source": [
        ""
      ],
      "execution_count": null,
      "outputs": []
    },
    {
      "cell_type": "code",
      "metadata": {
        "id": "yNfa58cMY0Tl"
      },
      "source": [
        ""
      ],
      "execution_count": null,
      "outputs": []
    }
  ]
}