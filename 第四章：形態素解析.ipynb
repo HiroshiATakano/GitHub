{
  "nbformat": 4,
  "nbformat_minor": 0,
  "metadata": {
    "colab": {
      "name": "第四章：形態素解析.ipynb",
      "provenance": [],
      "collapsed_sections": [],
      "mount_file_id": "1pstK2ROvAH-TV9NZHy3WdbvIcMExleJ1",
      "authorship_tag": "ABX9TyOyIcTm1CfPvv9J6zraXmCC",
      "include_colab_link": true
    },
    "kernelspec": {
      "name": "python3",
      "display_name": "Python 3"
    },
    "language_info": {
      "name": "python"
    }
  },
  "cells": [
    {
      "cell_type": "markdown",
      "metadata": {
        "id": "view-in-github",
        "colab_type": "text"
      },
      "source": [
        "<a href=\"https://colab.research.google.com/github/HiroshiATakano/GitHub/blob/master/%E7%AC%AC%E5%9B%9B%E7%AB%A0%EF%BC%9A%E5%BD%A2%E6%85%8B%E7%B4%A0%E8%A7%A3%E6%9E%90.ipynb\" target=\"_parent\"><img src=\"https://colab.research.google.com/assets/colab-badge.svg\" alt=\"Open In Colab\"/></a>"
      ]
    },
    {
      "cell_type": "code",
      "metadata": {
        "colab": {
          "base_uri": "https://localhost:8080/"
        },
        "id": "LY-rL2ik1_CL",
        "outputId": "cf3bd7e0-e134-4e8c-d345-92fb312036dd"
      },
      "source": [
        "from google.colab import drive\n",
        "drive.mount('/content/drive/')"
      ],
      "execution_count": 1,
      "outputs": [
        {
          "output_type": "stream",
          "text": [
            "Drive already mounted at /content/drive/; to attempt to forcibly remount, call drive.mount(\"/content/drive/\", force_remount=True).\n"
          ],
          "name": "stdout"
        }
      ]
    },
    {
      "cell_type": "code",
      "metadata": {
        "colab": {
          "base_uri": "https://localhost:8080/",
          "height": 52
        },
        "id": "JJuL-0t82OaS",
        "outputId": "239fe4a0-d94a-4616-b8ce-4f67c17e8419"
      },
      "source": [
        "import os\n",
        "\n",
        "path = os.getcwd()\n",
        "\n",
        "print(path)\n",
        "\n",
        "try:\n",
        "    os.chdir(\"/content/drive/My Drive/言語処理100本ノック\")\n",
        "except:\n",
        "    pass\n",
        "\n",
        "os.getcwd()"
      ],
      "execution_count": 2,
      "outputs": [
        {
          "output_type": "stream",
          "text": [
            "/content\n"
          ],
          "name": "stdout"
        },
        {
          "output_type": "execute_result",
          "data": {
            "application/vnd.google.colaboratory.intrinsic+json": {
              "type": "string"
            },
            "text/plain": [
              "'/content/drive/My Drive/言語処理100本ノック'"
            ]
          },
          "metadata": {
            "tags": []
          },
          "execution_count": 2
        }
      ]
    },
    {
      "cell_type": "code",
      "metadata": {
        "id": "6VwPtTDW2YJh"
      },
      "source": [
        "#!wget https://nlp100.github.io/data/neko.txt Data/"
      ],
      "execution_count": 3,
      "outputs": []
    },
    {
      "cell_type": "code",
      "metadata": {
        "id": "NfVOLQUN2kIP"
      },
      "source": [
        "#!apt install mecab libmecab-dev mecab-ipadic-utf8"
      ],
      "execution_count": 4,
      "outputs": []
    },
    {
      "cell_type": "code",
      "metadata": {
        "id": "OsfV74Uz2vDf"
      },
      "source": [
        "#!mecab -o ./Data/neko.txt.mecab ./neko.txt"
      ],
      "execution_count": 5,
      "outputs": []
    },
    {
      "cell_type": "code",
      "metadata": {
        "colab": {
          "base_uri": "https://localhost:8080/"
        },
        "id": "To4sSKRo27Cw",
        "outputId": "cbffa877-2f48-4e04-aa9b-4a38c80d7c1e"
      },
      "source": [
        "!wc -l ./Data/neko.txt.mecab"
      ],
      "execution_count": 6,
      "outputs": [
        {
          "output_type": "stream",
          "text": [
            "226266 ./Data/neko.txt.mecab\n"
          ],
          "name": "stdout"
        }
      ]
    },
    {
      "cell_type": "code",
      "metadata": {
        "colab": {
          "base_uri": "https://localhost:8080/"
        },
        "id": "9tog5kya3ftv",
        "outputId": "cf65dfac-61dc-401e-e1b1-dc3d810fb2b4"
      },
      "source": [
        "!head -15 ./Data/neko.txt.mecab"
      ],
      "execution_count": 7,
      "outputs": [
        {
          "output_type": "stream",
          "text": [
            "一\t名詞,数,*,*,*,*,一,イチ,イチ\n",
            "\r\t記号,一般,*,*,*,*,*\n",
            "EOS\n",
            "\r\t記号,一般,*,*,*,*,*\n",
            "EOS\n",
            "　\t記号,空白,*,*,*,*,　,　,　\n",
            "吾輩\t名詞,代名詞,一般,*,*,*,吾輩,ワガハイ,ワガハイ\n",
            "は\t助詞,係助詞,*,*,*,*,は,ハ,ワ\n",
            "猫\t名詞,一般,*,*,*,*,猫,ネコ,ネコ\n",
            "で\t助動詞,*,*,*,特殊・ダ,連用形,だ,デ,デ\n",
            "ある\t助動詞,*,*,*,五段・ラ行アル,基本形,ある,アル,アル\n",
            "。\t記号,句点,*,*,*,*,。,。,。\n",
            "\r\t記号,一般,*,*,*,*,*\n",
            "EOS\n",
            "名前\t名詞,一般,*,*,*,*,名前,ナマエ,ナマエ\n"
          ],
          "name": "stdout"
        }
      ]
    },
    {
      "cell_type": "markdown",
      "metadata": {
        "id": "wyqkQL9O31rM"
      },
      "source": [
        "#30.形態素解析結果の読み込み"
      ]
    },
    {
      "cell_type": "code",
      "metadata": {
        "id": "vLJRcIO_3lEg"
      },
      "source": [
        "filename = './Data/neko.txt.mecab'\n",
        "\n",
        "sentences = []\n",
        "morphs = []\n",
        "\n",
        "with open(filename,mode='r') as f:\n",
        "  for line in f:\n",
        "    if line != 'EOS\\n':\n",
        "      fields = line.split('\\t')\n",
        "      if len(fields) != 2 or fields[0] == '':\n",
        "        continue\n",
        "      else:\n",
        "        attr = fields[1].split(',')\n",
        "        morph = {'surface':fields[0],'base':attr[6],'pos':attr[0],'pos1':attr[1]}\n",
        "        morphs.append(morph)\n",
        "    else:\n",
        "      sentences.append(morphs)\n",
        "      morphs = []"
      ],
      "execution_count": 8,
      "outputs": []
    },
    {
      "cell_type": "code",
      "metadata": {
        "colab": {
          "base_uri": "https://localhost:8080/"
        },
        "id": "JC8I2Bhu6nqq",
        "outputId": "7836c364-cdb7-4a43-9053-797d0dadbbb3"
      },
      "source": [
        "for morph in sentences[2]:\n",
        "  print(morph)"
      ],
      "execution_count": 9,
      "outputs": [
        {
          "output_type": "stream",
          "text": [
            "{'surface': '\\u3000', 'base': '\\u3000', 'pos': '記号', 'pos1': '空白'}\n",
            "{'surface': '吾輩', 'base': '吾輩', 'pos': '名詞', 'pos1': '代名詞'}\n",
            "{'surface': 'は', 'base': 'は', 'pos': '助詞', 'pos1': '係助詞'}\n",
            "{'surface': '猫', 'base': '猫', 'pos': '名詞', 'pos1': '一般'}\n",
            "{'surface': 'で', 'base': 'だ', 'pos': '助動詞', 'pos1': '*'}\n",
            "{'surface': 'ある', 'base': 'ある', 'pos': '助動詞', 'pos1': '*'}\n",
            "{'surface': '。', 'base': '。', 'pos': '記号', 'pos1': '句点'}\n"
          ],
          "name": "stdout"
        }
      ]
    },
    {
      "cell_type": "markdown",
      "metadata": {
        "id": "pL7Na1D2hj9A"
      },
      "source": [
        "#31.動詞"
      ]
    },
    {
      "cell_type": "code",
      "metadata": {
        "id": "48HV48jF60Rh"
      },
      "source": [
        "ans = set()\n",
        "for sentence in sentences:\n",
        "  for morph in sentence:\n",
        "    if morph['pos'] == '動詞':\n",
        "      ans.add(morph['surface'])"
      ],
      "execution_count": null,
      "outputs": []
    },
    {
      "cell_type": "code",
      "metadata": {
        "colab": {
          "base_uri": "https://localhost:8080/"
        },
        "id": "2_Pn9atJiAbX",
        "outputId": "8af5554c-d5f9-4897-86f9-a5525230d513"
      },
      "source": [
        "len(ans)"
      ],
      "execution_count": null,
      "outputs": [
        {
          "output_type": "execute_result",
          "data": {
            "text/plain": [
              "3893"
            ]
          },
          "metadata": {
            "tags": []
          },
          "execution_count": 11
        }
      ]
    },
    {
      "cell_type": "code",
      "metadata": {
        "colab": {
          "base_uri": "https://localhost:8080/"
        },
        "id": "JTuCju0KiDsI",
        "outputId": "80f6c8cb-33cb-4f18-edc5-403afad918e8"
      },
      "source": [
        "for v in list(ans)[:10]:\n",
        "  print(v)"
      ],
      "execution_count": null,
      "outputs": [
        {
          "output_type": "stream",
          "text": [
            "翳す\n",
            "溜ら\n",
            "演ずる\n",
            "纏める\n",
            "下さい\n",
            "飛ぶ\n",
            "押し出す\n",
            "とろ\n",
            "唱う\n",
            "嗅い\n"
          ],
          "name": "stdout"
        }
      ]
    },
    {
      "cell_type": "markdown",
      "metadata": {
        "id": "bPs6shz1izkn"
      },
      "source": [
        "#32.動詞の原形"
      ]
    },
    {
      "cell_type": "code",
      "metadata": {
        "id": "MWOSql3EiyZp"
      },
      "source": [
        "ans = set()\n",
        "for sentence in sentences:\n",
        "  for morph in sentence:\n",
        "    if morph['pos'] == '動詞':\n",
        "      ans.add(morph['base'])"
      ],
      "execution_count": null,
      "outputs": []
    },
    {
      "cell_type": "code",
      "metadata": {
        "colab": {
          "base_uri": "https://localhost:8080/"
        },
        "id": "2Qqn9KaYiRo_",
        "outputId": "dd0f2ebe-84d5-497f-af47-1b40aed86462"
      },
      "source": [
        "for v in list(ans)[:10]:\n",
        "  print(v)"
      ],
      "execution_count": null,
      "outputs": [
        {
          "output_type": "stream",
          "text": [
            "晴れる\n",
            "翳す\n",
            "纏める\n",
            "演ずる\n",
            "踊る\n",
            "あたう\n",
            "叶う\n",
            "称える\n",
            "飛ぶ\n",
            "押し出す\n"
          ],
          "name": "stdout"
        }
      ]
    },
    {
      "cell_type": "markdown",
      "metadata": {
        "id": "PYnsaESejECt"
      },
      "source": [
        "#33.「AのB」\n",
        "\n",
        "二つの名詞が「の」で連結されている名詞句"
      ]
    },
    {
      "cell_type": "code",
      "metadata": {
        "id": "m1Mx4zpOjAQH"
      },
      "source": [
        "ans = set()\n",
        "for sentence in sentences:\n",
        "  for i in range(1,len(sentence)-1):\n",
        "    if sentence[i-1]['pos']=='名詞' and sentence[i]['surface']=='の' and sentence[i+1]['pos']=='名詞':\n",
        "      ans.add(sentence[i-1]['surface'] + sentence[i]['surface'] + sentence[i+1]['surface']\n",
        "      )\n"
      ],
      "execution_count": null,
      "outputs": []
    },
    {
      "cell_type": "code",
      "metadata": {
        "colab": {
          "base_uri": "https://localhost:8080/"
        },
        "id": "SVHJYIqOkjhp",
        "outputId": "4d28510f-6879-433d-a741-55c4f5c3fd1d"
      },
      "source": [
        "for v in list(ans)[:10]:\n",
        "  print(v)"
      ],
      "execution_count": null,
      "outputs": [
        {
          "output_type": "stream",
          "text": [
            "彼の心\n",
            "未来の武\n",
            "ヴァイオリンの古物\n",
            "暗黒の淵\n",
            "君の特色\n",
            "大勢の事\n",
            "他の暗黒\n",
            "煙草の持ち主\n",
            "爪の先\n",
            "冗談のよう\n"
          ],
          "name": "stdout"
        }
      ]
    },
    {
      "cell_type": "markdown",
      "metadata": {
        "id": "Yv2pqiW7zUVQ"
      },
      "source": [
        "#34.名詞の連接"
      ]
    },
    {
      "cell_type": "code",
      "metadata": {
        "id": "H-lT-2NElFKB"
      },
      "source": [
        "ans = set()\n",
        "for sentence in sentences:\n",
        "  nouns = ''\n",
        "  num = 0\n",
        "  for morph in sentence:\n",
        "    if morph['pos']=='名詞':\n",
        "      nouns = ''.join([nouns,morph['surface']])\n",
        "      num += 1\n",
        "    elif num >=2:\n",
        "      ans.add(nouns)\n",
        "      nouns = ''\n",
        "      num = 0\n",
        "    else:\n",
        "      nouns = ''\n",
        "      num = 0\n",
        "  if num >= 2:\n",
        "    ans.add(nouns)"
      ],
      "execution_count": null,
      "outputs": []
    },
    {
      "cell_type": "code",
      "metadata": {
        "colab": {
          "base_uri": "https://localhost:8080/"
        },
        "id": "f7XACkgv1JUA",
        "outputId": "44957a79-c3be-444e-e100-71d8a1597c8b"
      },
      "source": [
        "# 確認\n",
        "print(f'連接名詞の種類: {len(ans)}\\n')\n",
        "print('---サンプル---')\n",
        "for n in list(ans)[:10]:\n",
        "  print(n)"
      ],
      "execution_count": null,
      "outputs": [
        {
          "output_type": "stream",
          "text": [
            "連接名詞の種類: 4457\n",
            "\n",
            "---サンプル---\n",
            "健胃\n",
            "——浅草警察署\n",
            "——なに君\n",
            "適不適\n",
            "それぎりなの\n",
            "榊原健吉\n",
            "一今\n",
            "平生学校\n",
            "一室内\n",
            "主人苦沙弥先生\n"
          ],
          "name": "stdout"
        }
      ]
    },
    {
      "cell_type": "markdown",
      "metadata": {
        "id": "f0KLoA74QOVV"
      },
      "source": [
        "#35.単語の出現頻度"
      ]
    },
    {
      "cell_type": "code",
      "metadata": {
        "id": "dNon5c0t1Jat"
      },
      "source": [
        "from collections import defaultdict"
      ],
      "execution_count": null,
      "outputs": []
    },
    {
      "cell_type": "code",
      "metadata": {
        "colab": {
          "base_uri": "https://localhost:8080/"
        },
        "id": "PcTYNw7gQarS",
        "outputId": "68e41499-c376-4dc5-cf13-1f0c52ee6b65"
      },
      "source": [
        "ans = defaultdict(int)\n",
        "for sentence in sentences:\n",
        "  for morph in sentence:\n",
        "    if morph['pos'] != '記号':\n",
        "      ans[morph['base']] += 1\n",
        "ans = sorted(ans.items(),key=lambda x: x[1], reverse=True)\n",
        "\n",
        "for w in ans[:10]:\n",
        "  print(w)"
      ],
      "execution_count": null,
      "outputs": [
        {
          "output_type": "stream",
          "text": [
            "('の', 9194)\n",
            "('て', 6848)\n",
            "('は', 6420)\n",
            "('に', 6243)\n",
            "('を', 6071)\n",
            "('だ', 5972)\n",
            "('と', 5508)\n",
            "('が', 5337)\n",
            "('た', 4267)\n",
            "('する', 3657)\n"
          ],
          "name": "stdout"
        }
      ]
    },
    {
      "cell_type": "code",
      "metadata": {
        "id": "-5tY5SqmAQHW"
      },
      "source": [
        "#!pip install japanize_matplotlib"
      ],
      "execution_count": null,
      "outputs": []
    },
    {
      "cell_type": "code",
      "metadata": {
        "colab": {
          "base_uri": "https://localhost:8080/",
          "height": 281
        },
        "id": "uuxTxo7AQaC_",
        "outputId": "aaa6d10f-48f6-4c76-e612-3e7435d54951"
      },
      "source": [
        "import japanize_matplotlib\n",
        "import matplotlib.pyplot as plt\n",
        "\n",
        "ans = defaultdict(int)\n",
        "for  sentence in sentences:\n",
        "  for morph in sentence:\n",
        "    if morph['pos'] != '記号':\n",
        "      ans[morph['base']] += 1\n",
        "ans_ = ans.values()\n",
        "ans = sorted(ans.items(),key=lambda x:x[1],reverse=True)\n",
        "\n",
        "keys = [a[0] for a in ans[0:10]]\n",
        "values = [a[1] for a in ans[0:10]]\n",
        "plt.figure(figsize=(8,4))\n",
        "plt.bar(keys,values)"
      ],
      "execution_count": null,
      "outputs": [
        {
          "output_type": "execute_result",
          "data": {
            "text/plain": [
              "<BarContainer object of 10 artists>"
            ]
          },
          "metadata": {
            "tags": []
          },
          "execution_count": 28
        },
        {
          "output_type": "display_data",
          "data": {
            "image/png": "[encoded data removed]",
            "text/plain": [
              "<Figure size 576x288 with 1 Axes>"
            ]
          },
          "metadata": {
            "tags": [],
            "needs_background": "light"
          }
        }
      ]
    },
    {
      "cell_type": "code",
      "metadata": {
        "colab": {
          "base_uri": "https://localhost:8080/",
          "height": 294
        },
        "id": "ADzn8MLJUJtp",
        "outputId": "ac5b6142-5b5c-4046-c133-8e2bd8621d97"
      },
      "source": [
        "\n",
        "plt.hist(ans_,bins=100)\n",
        "plt.xlabel('出現頻度')\n",
        "plt.ylabel('単語の種類数')"
      ],
      "execution_count": null,
      "outputs": [
        {
          "output_type": "execute_result",
          "data": {
            "text/plain": [
              "Text(0, 0.5, '単語の種類数')"
            ]
          },
          "metadata": {
            "tags": []
          },
          "execution_count": 31
        },
        {
          "output_type": "display_data",
          "data": {
            "image/png": "[encoded data removed]",
            "text/plain": [
              "<Figure size 432x288 with 1 Axes>"
            ]
          },
          "metadata": {
            "tags": [],
            "needs_background": "light"
          }
        }
      ]
    },
    {
      "cell_type": "markdown",
      "metadata": {
        "id": "LMhhVo3mQTsq"
      },
      "source": [
        "#39.Zipfの法則"
      ]
    },
    {
      "cell_type": "code",
      "metadata": {
        "colab": {
          "base_uri": "https://localhost:8080/",
          "height": 300
        },
        "id": "FRfktRjCUJ92",
        "outputId": "82ccf4ac-b880-4664-bf6d-59c22631ebd1"
      },
      "source": [
        "ranks = [r+1 for r in range(len(ans))]\n",
        "values = [a[1] for a in ans]\n",
        "plt.figure(figsize=(8,4))\n",
        "plt.scatter(ranks,values)\n",
        "plt.xscale('log')\n",
        "plt.yscale('log')\n",
        "plt.xlabel('出現頻度順位')\n",
        "plt.ylabel('出現頻度')"
      ],
      "execution_count": null,
      "outputs": [
        {
          "output_type": "execute_result",
          "data": {
            "text/plain": [
              "Text(0, 0.5, '出現頻度')"
            ]
          },
          "metadata": {
            "tags": []
          },
          "execution_count": 37
        },
        {
          "output_type": "display_data",
          "data": {
            "image/png": "[encoded data removed]",
            "text/plain": [
              "<Figure size 576x288 with 1 Axes>"
            ]
          },
          "metadata": {
            "tags": [],
            "needs_background": "light"
          }
        }
      ]
    },
    {
      "cell_type": "code",
      "metadata": {
        "id": "GTGjC1lyUJ_H"
      },
      "source": [
        ""
      ],
      "execution_count": null,
      "outputs": []
    },
    {
      "cell_type": "code",
      "metadata": {
        "id": "4dOf4r6GUKAe"
      },
      "source": [
        ""
      ],
      "execution_count": null,
      "outputs": []
    },
    {
      "cell_type": "code",
      "metadata": {
        "id": "3dkjkV-IAQRP"
      },
      "source": [
        "import random\n",
        "import string\n",
        "\n",
        "n = 100\n",
        "val_str = ''.join([random.choice(string.ascii_lowercase) for i in range(n) ])\n",
        "print(val_str)"
      ],
      "execution_count": null,
      "outputs": []
    },
    {
      "cell_type": "code",
      "metadata": {
        "id": "ZzZExPOmAny9"
      },
      "source": [
        "d = {}\n",
        "print(type(d))\n",
        "\n",
        "for key in val_str:\n",
        "  if key not in d:\n",
        "    d[key]=0\n",
        "  d[key] += 1"
      ],
      "execution_count": null,
      "outputs": []
    },
    {
      "cell_type": "code",
      "metadata": {
        "id": "m9FFOxq7A-PF"
      },
      "source": [
        "d"
      ],
      "execution_count": null,
      "outputs": []
    },
    {
      "cell_type": "code",
      "metadata": {
        "id": "0IQFvtIcBge0"
      },
      "source": [
        "from collections import defaultdict\n",
        "d = defaultdict(int)\n",
        "\n",
        "for key in val_str:\n",
        "  d[key] += 1\n",
        "\n",
        "print(d)"
      ],
      "execution_count": null,
      "outputs": []
    },
    {
      "cell_type": "code",
      "metadata": {
        "id": "1KUI2QXLCH7X"
      },
      "source": [
        "a = {'apple': 3, 'lemon': 7, 'peach': 1}\n",
        "\n",
        "b = a.keys()\n",
        "c = a.values()\n",
        "\n",
        "print(b)  # dict_keys(['apple', 'lemon', 'peach'])\n",
        "print(c)  # dict_values([3, 7, 1])"
      ],
      "execution_count": null,
      "outputs": []
    },
    {
      "cell_type": "code",
      "metadata": {
        "id": "VkY07UJZa9EN"
      },
      "source": [
        ""
      ],
      "execution_count": null,
      "outputs": []
    },
    {
      "cell_type": "code",
      "metadata": {
        "id": "tIxwHzFia_Jb"
      },
      "source": [
        ""
      ],
      "execution_count": null,
      "outputs": []
    }
  ]
}