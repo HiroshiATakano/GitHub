{
  "nbformat": 4,
  "nbformat_minor": 0,
  "metadata": {
    "colab": {
      "name": "統計学が最高の学問である「数学編」",
      "provenance": [],
      "collapsed_sections": [],
      "authorship_tag": "ABX9TyNhcQr//kPh3BkgB6HYuCoA",
      "include_colab_link": true
    },
    "kernelspec": {
      "name": "python3",
      "display_name": "Python 3"
    }
  },
  "cells": [
    {
      "cell_type": "markdown",
      "metadata": {
        "id": "view-in-github",
        "colab_type": "text"
      },
      "source": [
        "<a href=\"https://colab.research.google.com/github/HiroshiATakano/GitHub/blob/master/%E7%B5%B1%E8%A8%88%E5%AD%A6%E3%81%8C%E6%9C%80%E9%AB%98%E3%81%AE%E5%AD%A6%E5%95%8F%E3%81%A7%E3%81%82%E3%82%8B%E3%80%8C%E6%95%B0%E5%AD%A6%E7%B7%A8%E3%80%8D.ipynb\" target=\"_parent\"><img src=\"https://colab.research.google.com/assets/colab-badge.svg\" alt=\"Open In Colab\"/></a>"
      ]
    },
    {
      "cell_type": "code",
      "metadata": {
        "id": "YU6V21urzEPt",
        "colab_type": "code",
        "colab": {
          "base_uri": "https://localhost:8080/",
          "height": 34
        },
        "outputId": "3ae62609-3329-4ea4-d6e9-4297b24dde8d"
      },
      "source": [
        "from google.colab import drive\n",
        "drive.mount('/content/drive/')"
      ],
      "execution_count": 2,
      "outputs": [
        {
          "output_type": "stream",
          "text": [
            "Drive already mounted at /content/drive/; to attempt to forcibly remount, call drive.mount(\"/content/drive/\", force_remount=True).\n"
          ],
          "name": "stdout"
        }
      ]
    },
    {
      "cell_type": "code",
      "metadata": {
        "id": "iou819sOzj1V",
        "colab_type": "code",
        "colab": {
          "base_uri": "https://localhost:8080/",
          "height": 89
        },
        "outputId": "7a96ae55-c3eb-480f-9141-e0d31a6f0577"
      },
      "source": [
        "%matplotlib inline\n",
        "\n",
        "import pickle\n",
        "import statsmodels.formula.api as smf\n",
        "import pystan\n",
        "\n",
        "import pandas as pd\n",
        "import numpy as np\n",
        "import matplotlib.pyplot as plt\n",
        "from matplotlib.figure import figaspect\n",
        "from matplotlib import colors as mcolors\n",
        "from pystan import StanModel\n",
        "import pickle\n",
        "\n",
        "import seaborn as sns\n",
        "import sys\n",
        "import math\n",
        "from matplotlib.backends.backend_pdf import PdfPages\n",
        "from scipy import stats\n",
        "from scipy.stats import norm\n",
        "import itertools\n",
        "\n",
        "from statsmodels.formula.api import glm\n",
        "import statsmodels.api as sm\n",
        "\n",
        "sns.set()\n",
        "\n",
        "import os\n",
        "\n",
        "path = os.getcwd()\n",
        "\n",
        "try:\n",
        "    os.chdir(path + \"/drive/My Drive/RとStanで始めるベイズ統計モデリングによるデータ分析入門\")\n",
        "except:\n",
        "    pass\n",
        "\n",
        "os.getcwd()"
      ],
      "execution_count": 3,
      "outputs": [
        {
          "output_type": "stream",
          "text": [
            "/usr/local/lib/python3.6/dist-packages/statsmodels/tools/_testing.py:19: FutureWarning: pandas.util.testing is deprecated. Use the functions in the public API at pandas.testing instead.\n",
            "  import pandas.util.testing as tm\n"
          ],
          "name": "stderr"
        },
        {
          "output_type": "execute_result",
          "data": {
            "application/vnd.google.colaboratory.intrinsic+json": {
              "type": "string"
            },
            "text/plain": [
              "'/content/drive/My Drive/RとStanで始めるベイズ統計モデリングによるデータ分析入門'"
            ]
          },
          "metadata": {
            "tags": []
          },
          "execution_count": 3
        }
      ]
    },
    {
      "cell_type": "code",
      "metadata": {
        "id": "j-FZlfjaLc4n",
        "colab_type": "code",
        "colab": {
          "base_uri": "https://localhost:8080/",
          "height": 51
        },
        "outputId": "f3ac0ccc-2d7e-44e8-9ca2-0bc0de45230f"
      },
      "source": [
        "import scipy as sp\n",
        "print(\"Numpy\",np.__version__)\n",
        "print(\"Scipy\",sp.__version__)"
      ],
      "execution_count": 4,
      "outputs": [
        {
          "output_type": "stream",
          "text": [
            "Numpy 1.18.5\n",
            "Scipy 1.4.1\n"
          ],
          "name": "stdout"
        }
      ]
    },
    {
      "cell_type": "markdown",
      "metadata": {
        "id": "0g2vnGYxz9fU",
        "colab_type": "text"
      },
      "source": [
        "# 統計学が最強の学問である［数学編］"
      ]
    },
    {
      "cell_type": "code",
      "metadata": {
        "id": "spSVL1TD0L_4",
        "colab_type": "code",
        "colab": {
          "base_uri": "https://localhost:8080/",
          "height": 34
        },
        "outputId": "a1bbb451-3462-4b5a-8463-0bc609653bc0"
      },
      "source": [
        "import sympy\n",
        "x =sympy.Symbol('x')\n",
        "y = sympy.Symbol('y')\n",
        "a,b,c,p,q = sympy.symbols('a b c p q')\n",
        "\n",
        "print(type(a))"
      ],
      "execution_count": 5,
      "outputs": [
        {
          "output_type": "stream",
          "text": [
            "<class 'sympy.core.symbol.Symbol'>\n"
          ],
          "name": "stdout"
        }
      ]
    },
    {
      "cell_type": "code",
      "metadata": {
        "id": "L_9aAtCQ0W4G",
        "colab_type": "code",
        "colab": {
          "base_uri": "https://localhost:8080/",
          "height": 34
        },
        "outputId": "ccf4f3db-f545-4e38-e4a9-a55966f9196e"
      },
      "source": [
        "y1 = 12-5*x-y\n",
        "y2 = 3-0.5*x-y\n",
        "\n",
        "sympy.solve([y1,y2])\n"
      ],
      "execution_count": 6,
      "outputs": [
        {
          "output_type": "execute_result",
          "data": {
            "text/plain": [
              "{x: 2.00000000000000, y: 2.00000000000000}"
            ]
          },
          "metadata": {
            "tags": []
          },
          "execution_count": 6
        }
      ]
    },
    {
      "cell_type": "code",
      "metadata": {
        "id": "wKgNnRiPn9bP",
        "colab_type": "code",
        "colab": {}
      },
      "source": [
        ""
      ],
      "execution_count": 6,
      "outputs": []
    },
    {
      "cell_type": "markdown",
      "metadata": {
        "id": "0hJPlhvToIi3",
        "colab_type": "text"
      },
      "source": [
        "## 二項定理と組み合わせの数"
      ]
    },
    {
      "cell_type": "code",
      "metadata": {
        "id": "cS_2AtJs8jKn",
        "colab_type": "code",
        "colab": {
          "base_uri": "https://localhost:8080/",
          "height": 289
        },
        "outputId": "04e5b456-5716-4322-e470-cf818020e087"
      },
      "source": [
        "y = lambda x: -6+11*x-6*x**2+x**3\n",
        "x = np.linspace(0,4,50)\n",
        "\n",
        "plt.plot(x,y(x))\n",
        "plt.ylim(-10,10)"
      ],
      "execution_count": 7,
      "outputs": [
        {
          "output_type": "execute_result",
          "data": {
            "text/plain": [
              "(-10.0, 10.0)"
            ]
          },
          "metadata": {
            "tags": []
          },
          "execution_count": 7
        },
        {
          "output_type": "display_data",
          "data": {
            "image/png": "[encoded data removed]",
            "text/plain": [
              "<Figure size 432x288 with 1 Axes>"
            ]
          },
          "metadata": {
            "tags": []
          }
        }
      ]
    },
    {
      "cell_type": "code",
      "metadata": {
        "id": "gEjvHt_qoOE6",
        "colab_type": "code",
        "colab": {
          "base_uri": "https://localhost:8080/",
          "height": 289
        },
        "outputId": "1b85286d-51f6-4839-a7cb-5218d95f7246"
      },
      "source": [
        "y = lambda x: 30-61*x+41*x**2-11*x**3+x**4\n",
        "x = np.linspace(0,6,50)\n",
        "\n",
        "plt.plot(x,y(x))\n",
        "plt.ylim(-10,10)"
      ],
      "execution_count": 8,
      "outputs": [
        {
          "output_type": "execute_result",
          "data": {
            "text/plain": [
              "(-10.0, 10.0)"
            ]
          },
          "metadata": {
            "tags": []
          },
          "execution_count": 8
        },
        {
          "output_type": "display_data",
          "data": {
            "image/png": "[encoded data removed]",
            "text/plain": [
              "<Figure size 432x288 with 1 Axes>"
            ]
          },
          "metadata": {
            "tags": []
          }
        }
      ]
    },
    {
      "cell_type": "code",
      "metadata": {
        "id": "lWC2t9RtoOH-",
        "colab_type": "code",
        "colab": {
          "base_uri": "https://localhost:8080/",
          "height": 85
        },
        "outputId": "46d8e84d-9eac-445a-a9ef-48c1bfa111d3"
      },
      "source": [
        "x =sympy.Symbol('x')\n",
        "y = sympy.Symbol('y')\n",
        "\n",
        "print(sympy.expand((x+y)**2))\n",
        "print(sympy.expand((x+y)**3))\n",
        "\n",
        "print(\"16.3\")\n",
        "print(\"(x+y)**4 =  \", sympy.expand((x+y)**4))"
      ],
      "execution_count": 9,
      "outputs": [
        {
          "output_type": "stream",
          "text": [
            "x**2 + 2*x*y + y**2\n",
            "x**3 + 3*x**2*y + 3*x*y**2 + y**3\n",
            "16.3\n",
            "(x+y)**4 =   x**4 + 4*x**3*y + 6*x**2*y**2 + 4*x*y**3 + y**4\n"
          ],
          "name": "stdout"
        }
      ]
    },
    {
      "cell_type": "code",
      "metadata": {
        "id": "Qf8vsAmkukwd",
        "colab_type": "code",
        "colab": {
          "base_uri": "https://localhost:8080/",
          "height": 34
        },
        "outputId": "21f9559f-3e35-405d-c507-d79f1a02cdeb"
      },
      "source": [
        "list(itertools.product('xy',repeat=2))"
      ],
      "execution_count": 10,
      "outputs": [
        {
          "output_type": "execute_result",
          "data": {
            "text/plain": [
              "[('x', 'x'), ('x', 'y'), ('y', 'x'), ('y', 'y')]"
            ]
          },
          "metadata": {
            "tags": []
          },
          "execution_count": 10
        }
      ]
    },
    {
      "cell_type": "code",
      "metadata": {
        "id": "B01UwqXQoOLE",
        "colab_type": "code",
        "colab": {
          "base_uri": "https://localhost:8080/",
          "height": 153
        },
        "outputId": "470a3ee5-382a-4379-b88b-59049b2b5620"
      },
      "source": [
        "# 図表 3-4\n",
        "\n",
        "list(itertools.product('xy',repeat=3))"
      ],
      "execution_count": 11,
      "outputs": [
        {
          "output_type": "execute_result",
          "data": {
            "text/plain": [
              "[('x', 'x', 'x'),\n",
              " ('x', 'x', 'y'),\n",
              " ('x', 'y', 'x'),\n",
              " ('x', 'y', 'y'),\n",
              " ('y', 'x', 'x'),\n",
              " ('y', 'x', 'y'),\n",
              " ('y', 'y', 'x'),\n",
              " ('y', 'y', 'y')]"
            ]
          },
          "metadata": {
            "tags": []
          },
          "execution_count": 11
        }
      ]
    },
    {
      "cell_type": "code",
      "metadata": {
        "id": "dWNJ2VxeoOM2",
        "colab_type": "code",
        "colab": {
          "base_uri": "https://localhost:8080/",
          "height": 34
        },
        "outputId": "615d59c1-3509-4c8d-c32a-ebd7d9d03617"
      },
      "source": [
        "list(itertools.combinations_with_replacement('xy',3))"
      ],
      "execution_count": 12,
      "outputs": [
        {
          "output_type": "execute_result",
          "data": {
            "text/plain": [
              "[('x', 'x', 'x'), ('x', 'x', 'y'), ('x', 'y', 'y'), ('y', 'y', 'y')]"
            ]
          },
          "metadata": {
            "tags": []
          },
          "execution_count": 12
        }
      ]
    },
    {
      "cell_type": "code",
      "metadata": {
        "id": "tlEuuJexeF9x",
        "colab_type": "code",
        "colab": {
          "base_uri": "https://localhost:8080/",
          "height": 289
        },
        "outputId": "0724004c-c220-4a10-91b3-a5b0aabe4730"
      },
      "source": [
        "# 図表 3-5\n",
        "list(itertools.product('xy',repeat=4))"
      ],
      "execution_count": 13,
      "outputs": [
        {
          "output_type": "execute_result",
          "data": {
            "text/plain": [
              "[('x', 'x', 'x', 'x'),\n",
              " ('x', 'x', 'x', 'y'),\n",
              " ('x', 'x', 'y', 'x'),\n",
              " ('x', 'x', 'y', 'y'),\n",
              " ('x', 'y', 'x', 'x'),\n",
              " ('x', 'y', 'x', 'y'),\n",
              " ('x', 'y', 'y', 'x'),\n",
              " ('x', 'y', 'y', 'y'),\n",
              " ('y', 'x', 'x', 'x'),\n",
              " ('y', 'x', 'x', 'y'),\n",
              " ('y', 'x', 'y', 'x'),\n",
              " ('y', 'x', 'y', 'y'),\n",
              " ('y', 'y', 'x', 'x'),\n",
              " ('y', 'y', 'x', 'y'),\n",
              " ('y', 'y', 'y', 'x'),\n",
              " ('y', 'y', 'y', 'y')]"
            ]
          },
          "metadata": {
            "tags": []
          },
          "execution_count": 13
        }
      ]
    },
    {
      "cell_type": "markdown",
      "metadata": {
        "id": "8bjqtgVhJ1ny",
        "colab_type": "text"
      },
      "source": [
        "#### 順列"
      ]
    },
    {
      "cell_type": "code",
      "metadata": {
        "id": "M1Re_yQquwWD",
        "colab_type": "code",
        "colab": {
          "base_uri": "https://localhost:8080/",
          "height": 221
        },
        "outputId": "27144e11-38df-4ae3-bbdc-a94d68e65b7d"
      },
      "source": [
        "# 図表 3-6\n",
        "list(itertools.permutations('1234',2))"
      ],
      "execution_count": 14,
      "outputs": [
        {
          "output_type": "execute_result",
          "data": {
            "text/plain": [
              "[('1', '2'),\n",
              " ('1', '3'),\n",
              " ('1', '4'),\n",
              " ('2', '1'),\n",
              " ('2', '3'),\n",
              " ('2', '4'),\n",
              " ('3', '1'),\n",
              " ('3', '2'),\n",
              " ('3', '4'),\n",
              " ('4', '1'),\n",
              " ('4', '2'),\n",
              " ('4', '3')]"
            ]
          },
          "metadata": {
            "tags": []
          },
          "execution_count": 14
        }
      ]
    },
    {
      "cell_type": "code",
      "metadata": {
        "id": "dNxgYUUq783X",
        "colab_type": "code",
        "colab": {
          "base_uri": "https://localhost:8080/",
          "height": 119
        },
        "outputId": "5cea529c-ac6f-44e0-ecc5-f3b83417b73d"
      },
      "source": [
        "# 図表 3-7\n",
        "list(itertools.permutations('abc',3))"
      ],
      "execution_count": 15,
      "outputs": [
        {
          "output_type": "execute_result",
          "data": {
            "text/plain": [
              "[('a', 'b', 'c'),\n",
              " ('a', 'c', 'b'),\n",
              " ('b', 'a', 'c'),\n",
              " ('b', 'c', 'a'),\n",
              " ('c', 'a', 'b'),\n",
              " ('c', 'b', 'a')]"
            ]
          },
          "metadata": {
            "tags": []
          },
          "execution_count": 15
        }
      ]
    },
    {
      "cell_type": "code",
      "metadata": {
        "id": "03yp8A-o79HB",
        "colab_type": "code",
        "colab": {
          "base_uri": "https://localhost:8080/",
          "height": 51
        },
        "outputId": "f619c359-e2ad-43fc-d80b-2da368f8b5f9"
      },
      "source": [
        "# 階乗の計算\n",
        "\n",
        "import math\n",
        "\n",
        "def fact(n):\n",
        "  if n == 0: return 1\n",
        "  return n*fact(n-1)\n",
        "\n",
        "print(fact(3))\n",
        "\n",
        "print(math.factorial(3))"
      ],
      "execution_count": 16,
      "outputs": [
        {
          "output_type": "stream",
          "text": [
            "6\n",
            "6\n"
          ],
          "name": "stdout"
        }
      ]
    },
    {
      "cell_type": "markdown",
      "metadata": {
        "id": "L84MzjQmYn-Q",
        "colab_type": "text"
      },
      "source": [
        "### 二項定理の計算"
      ]
    },
    {
      "cell_type": "code",
      "metadata": {
        "id": "xVJ5oP4x79Kg",
        "colab_type": "code",
        "colab": {
          "base_uri": "https://localhost:8080/",
          "height": 34
        },
        "outputId": "1db0b522-69c2-4eb1-9a2d-514e12c8e5f4"
      },
      "source": [
        "def calc(k):\n",
        "  return [math.factorial(k)/(math.factorial(i)*math.factorial(k-i)) for i in range(k+1)]\n",
        "\n",
        "calc(4)"
      ],
      "execution_count": 17,
      "outputs": [
        {
          "output_type": "execute_result",
          "data": {
            "text/plain": [
              "[1.0, 4.0, 6.0, 4.0, 1.0]"
            ]
          },
          "metadata": {
            "tags": []
          },
          "execution_count": 17
        }
      ]
    },
    {
      "cell_type": "code",
      "metadata": {
        "id": "FxYA-qAWuwb7",
        "colab_type": "code",
        "colab": {
          "base_uri": "https://localhost:8080/",
          "height": 34
        },
        "outputId": "5aa85d9b-0b6d-4a1f-f94b-04abab7d3309"
      },
      "source": [
        "from scipy.special import comb\n",
        "\n",
        "n = 4\n",
        "\n",
        "print([comb(n,i,exact=True ) for i in range(n+1)])"
      ],
      "execution_count": 18,
      "outputs": [
        {
          "output_type": "stream",
          "text": [
            "[1, 4, 6, 4, 1]\n"
          ],
          "name": "stdout"
        }
      ]
    },
    {
      "cell_type": "markdown",
      "metadata": {
        "id": "R31T7GLIcM94",
        "colab_type": "text"
      },
      "source": [
        "## 二項定理と組み合わせの数から複雑な確率計算へ"
      ]
    },
    {
      "cell_type": "code",
      "metadata": {
        "id": "Zn2bSa4JlZQZ",
        "colab_type": "code",
        "colab": {
          "base_uri": "https://localhost:8080/",
          "height": 34
        },
        "outputId": "3d39be92-f471-403d-b06c-943b7fab969a"
      },
      "source": [
        "import matplotlib as mpl\n",
        "print(mpl.rcParams['font.family'])"
      ],
      "execution_count": 19,
      "outputs": [
        {
          "output_type": "stream",
          "text": [
            "['sans-serif']\n"
          ],
          "name": "stdout"
        }
      ]
    },
    {
      "cell_type": "code",
      "metadata": {
        "id": "qw8QhrlHuwZt",
        "colab_type": "code",
        "colab": {
          "base_uri": "https://localhost:8080/",
          "height": 318
        },
        "outputId": "3055d9c0-fe40-42e9-ce78-ec306d371449"
      },
      "source": [
        "from scipy.stats import binom\n",
        "\n",
        "p = 0.36\n",
        "N = 10\n",
        "\n",
        "k = np.arange(N+1)\n",
        "\n",
        "fig, ax = plt.subplots(1,1)\n",
        "ax.vlines(k,0,binom.pmf(k,N,p),color='b',lw=10,alpha=0.5)\n",
        "ax.set_xlabel('x')\n",
        "ax.set_ylabel('$ P(x=k) $')\n",
        "ax.set_title(\"3-8\")"
      ],
      "execution_count": 20,
      "outputs": [
        {
          "output_type": "execute_result",
          "data": {
            "text/plain": [
              "Text(0.5, 1.0, '3-8')"
            ]
          },
          "metadata": {
            "tags": []
          },
          "execution_count": 20
        },
        {
          "output_type": "display_data",
          "data": {
            "image/png": "[encoded data removed]",
            "text/plain": [
              "<Figure size 432x288 with 1 Axes>"
            ]
          },
          "metadata": {
            "tags": []
          }
        }
      ]
    },
    {
      "cell_type": "code",
      "metadata": {
        "id": "NX4tpyIibqFh",
        "colab_type": "code",
        "colab": {
          "base_uri": "https://localhost:8080/",
          "height": 34
        },
        "outputId": "6a1527ed-ae6b-4663-91ba-8fa9ab83db95"
      },
      "source": [
        "k = 0\n",
        "binom.pmf(k,N,p)"
      ],
      "execution_count": 21,
      "outputs": [
        {
          "output_type": "execute_result",
          "data": {
            "text/plain": [
              "0.01152921504606847"
            ]
          },
          "metadata": {
            "tags": []
          },
          "execution_count": 21
        }
      ]
    },
    {
      "cell_type": "code",
      "metadata": {
        "id": "7COhsUYNbqLU",
        "colab_type": "code",
        "colab": {
          "base_uri": "https://localhost:8080/",
          "height": 34
        },
        "outputId": "8b3bc8e5-daf9-4f34-aa58-04a95b817ee9"
      },
      "source": [
        "k = 1\n",
        "binom.pmf(k,N,p)"
      ],
      "execution_count": 22,
      "outputs": [
        {
          "output_type": "execute_result",
          "data": {
            "text/plain": [
              "0.0648518346341352"
            ]
          },
          "metadata": {
            "tags": []
          },
          "execution_count": 22
        }
      ]
    },
    {
      "cell_type": "code",
      "metadata": {
        "id": "2Kj2XatEbqP7",
        "colab_type": "code",
        "colab": {
          "base_uri": "https://localhost:8080/",
          "height": 34
        },
        "outputId": "5e979ec7-679c-4c46-8a72-4ba926928b83"
      },
      "source": [
        "k = 2\n",
        "binom.cdf(k,N,p)"
      ],
      "execution_count": 23,
      "outputs": [
        {
          "output_type": "execute_result",
          "data": {
            "text/plain": [
              "0.24053725609785823"
            ]
          },
          "metadata": {
            "tags": []
          },
          "execution_count": 23
        }
      ]
    },
    {
      "cell_type": "markdown",
      "metadata": {
        "id": "mB6uWhIwn2Ld",
        "colab_type": "text"
      },
      "source": [
        "# 掛け算と割り算を楽にする指数の考え方"
      ]
    },
    {
      "cell_type": "code",
      "metadata": {
        "id": "8-H1uQ36bqJt",
        "colab_type": "code",
        "colab": {
          "base_uri": "https://localhost:8080/",
          "height": 301
        },
        "outputId": "a2f6b404-dc66-4cbf-add7-7351318cee96"
      },
      "source": [
        "y = lambda x: 2**x\n",
        "\n",
        "x = np.linspace(-5,5,50)\n",
        "plt.plot(x,y(x))\n",
        "plt.title('3-9')\n",
        "plt.ylim(0,10)"
      ],
      "execution_count": 24,
      "outputs": [
        {
          "output_type": "execute_result",
          "data": {
            "text/plain": [
              "(0.0, 10.0)"
            ]
          },
          "metadata": {
            "tags": []
          },
          "execution_count": 24
        },
        {
          "output_type": "display_data",
          "data": {
            "image/png": "[encoded data removed]",
            "text/plain": [
              "<Figure size 432x288 with 1 Axes>"
            ]
          },
          "metadata": {
            "tags": []
          }
        }
      ]
    },
    {
      "cell_type": "code",
      "metadata": {
        "id": "2GbTf5ivn1HE",
        "colab_type": "code",
        "colab": {
          "base_uri": "https://localhost:8080/",
          "height": 301
        },
        "outputId": "c97cc29a-d0c8-4db0-ce6e-c490a8889a10"
      },
      "source": [
        "y = lambda x: 1/2**x\n",
        "\n",
        "x = np.linspace(-5,5,50)\n",
        "plt.plot(x,y(x))\n",
        "plt.title('3-10')\n",
        "plt.ylim(0,10)"
      ],
      "execution_count": 25,
      "outputs": [
        {
          "output_type": "execute_result",
          "data": {
            "text/plain": [
              "(0.0, 10.0)"
            ]
          },
          "metadata": {
            "tags": []
          },
          "execution_count": 25
        },
        {
          "output_type": "display_data",
          "data": {
            "image/png": "[encoded data removed]",
            "text/plain": [
              "<Figure size 432x288 with 1 Axes>"
            ]
          },
          "metadata": {
            "tags": []
          }
        }
      ]
    },
    {
      "cell_type": "markdown",
      "metadata": {
        "id": "wzyyWo3K1vXc",
        "colab_type": "text"
      },
      "source": [
        "## 計算機を作り始めた男"
      ]
    },
    {
      "cell_type": "code",
      "metadata": {
        "id": "kKtW4yszn1Mu",
        "colab_type": "code",
        "colab": {}
      },
      "source": [
        "x = np.arange(11,101)/10\n",
        "df = pd.DataFrame({'x':x,'log10(x)': np.log10(x)})"
      ],
      "execution_count": 26,
      "outputs": []
    },
    {
      "cell_type": "code",
      "metadata": {
        "id": "td9VpwGFn1UE",
        "colab_type": "code",
        "colab": {
          "base_uri": "https://localhost:8080/",
          "height": 111
        },
        "outputId": "bf4442b0-3763-4b16-a6e3-a4d501b9e198"
      },
      "source": [
        "df[df['x'].isin([6,7.8])]"
      ],
      "execution_count": 27,
      "outputs": [
        {
          "output_type": "execute_result",
          "data": {
            "text/html": [
              "<div>\n",
              "<style scoped>\n",
              "    .dataframe tbody tr th:only-of-type {\n",
              "        vertical-align: middle;\n",
              "    }\n",
              "\n",
              "    .dataframe tbody tr th {\n",
              "        vertical-align: top;\n",
              "    }\n",
              "\n",
              "    .dataframe thead th {\n",
              "        text-align: right;\n",
              "    }\n",
              "</style>\n",
              "<table border=\"1\" class=\"dataframe\">\n",
              "  <thead>\n",
              "    <tr style=\"text-align: right;\">\n",
              "      <th></th>\n",
              "      <th>x</th>\n",
              "      <th>log10(x)</th>\n",
              "    </tr>\n",
              "  </thead>\n",
              "  <tbody>\n",
              "    <tr>\n",
              "      <th>49</th>\n",
              "      <td>6.0</td>\n",
              "      <td>0.778151</td>\n",
              "    </tr>\n",
              "    <tr>\n",
              "      <th>67</th>\n",
              "      <td>7.8</td>\n",
              "      <td>0.892095</td>\n",
              "    </tr>\n",
              "  </tbody>\n",
              "</table>\n",
              "</div>"
            ],
            "text/plain": [
              "      x  log10(x)\n",
              "49  6.0  0.778151\n",
              "67  7.8  0.892095"
            ]
          },
          "metadata": {
            "tags": []
          },
          "execution_count": 27
        }
      ]
    },
    {
      "cell_type": "code",
      "metadata": {
        "id": "pTQXKJWTn1Xy",
        "colab_type": "code",
        "colab": {
          "base_uri": "https://localhost:8080/",
          "height": 111
        },
        "outputId": "9ea68e40-06e3-41d4-b843-5f31f09422c0"
      },
      "source": [
        "df[df['x'].isin([2,1.4])]"
      ],
      "execution_count": 28,
      "outputs": [
        {
          "output_type": "execute_result",
          "data": {
            "text/html": [
              "<div>\n",
              "<style scoped>\n",
              "    .dataframe tbody tr th:only-of-type {\n",
              "        vertical-align: middle;\n",
              "    }\n",
              "\n",
              "    .dataframe tbody tr th {\n",
              "        vertical-align: top;\n",
              "    }\n",
              "\n",
              "    .dataframe thead th {\n",
              "        text-align: right;\n",
              "    }\n",
              "</style>\n",
              "<table border=\"1\" class=\"dataframe\">\n",
              "  <thead>\n",
              "    <tr style=\"text-align: right;\">\n",
              "      <th></th>\n",
              "      <th>x</th>\n",
              "      <th>log10(x)</th>\n",
              "    </tr>\n",
              "  </thead>\n",
              "  <tbody>\n",
              "    <tr>\n",
              "      <th>3</th>\n",
              "      <td>1.4</td>\n",
              "      <td>0.146128</td>\n",
              "    </tr>\n",
              "    <tr>\n",
              "      <th>9</th>\n",
              "      <td>2.0</td>\n",
              "      <td>0.301030</td>\n",
              "    </tr>\n",
              "  </tbody>\n",
              "</table>\n",
              "</div>"
            ],
            "text/plain": [
              "     x  log10(x)\n",
              "3  1.4  0.146128\n",
              "9  2.0  0.301030"
            ]
          },
          "metadata": {
            "tags": []
          },
          "execution_count": 28
        }
      ]
    },
    {
      "cell_type": "code",
      "metadata": {
        "id": "TKB15G_xAL59",
        "colab_type": "code",
        "colab": {
          "base_uri": "https://localhost:8080/",
          "height": 128
        },
        "outputId": "8f9ac705-1d31-42dd-ca82-bb66dadcb34f"
      },
      "source": [
        "df.query('x==[2,1.4]')"
      ],
      "execution_count": 29,
      "outputs": [
        {
          "output_type": "stream",
          "text": [
            "INFO:numexpr.utils:NumExpr defaulting to 2 threads.\n"
          ],
          "name": "stderr"
        },
        {
          "output_type": "execute_result",
          "data": {
            "text/html": [
              "<div>\n",
              "<style scoped>\n",
              "    .dataframe tbody tr th:only-of-type {\n",
              "        vertical-align: middle;\n",
              "    }\n",
              "\n",
              "    .dataframe tbody tr th {\n",
              "        vertical-align: top;\n",
              "    }\n",
              "\n",
              "    .dataframe thead th {\n",
              "        text-align: right;\n",
              "    }\n",
              "</style>\n",
              "<table border=\"1\" class=\"dataframe\">\n",
              "  <thead>\n",
              "    <tr style=\"text-align: right;\">\n",
              "      <th></th>\n",
              "      <th>x</th>\n",
              "      <th>log10(x)</th>\n",
              "    </tr>\n",
              "  </thead>\n",
              "  <tbody>\n",
              "    <tr>\n",
              "      <th>3</th>\n",
              "      <td>1.4</td>\n",
              "      <td>0.146128</td>\n",
              "    </tr>\n",
              "    <tr>\n",
              "      <th>9</th>\n",
              "      <td>2.0</td>\n",
              "      <td>0.301030</td>\n",
              "    </tr>\n",
              "  </tbody>\n",
              "</table>\n",
              "</div>"
            ],
            "text/plain": [
              "     x  log10(x)\n",
              "3  1.4  0.146128\n",
              "9  2.0  0.301030"
            ]
          },
          "metadata": {
            "tags": []
          },
          "execution_count": 29
        }
      ]
    },
    {
      "cell_type": "code",
      "metadata": {
        "id": "DBRdYBlun1Ri",
        "colab_type": "code",
        "colab": {
          "base_uri": "https://localhost:8080/",
          "height": 34
        },
        "outputId": "c401f415-d5a2-4226-e699-eaa98e75b019"
      },
      "source": [
        "import matplotlib\n",
        "print(matplotlib.matplotlib_fname())"
      ],
      "execution_count": 30,
      "outputs": [
        {
          "output_type": "stream",
          "text": [
            "/usr/local/lib/python3.6/dist-packages/matplotlib/mpl-data/matplotlibrc\n"
          ],
          "name": "stdout"
        }
      ]
    },
    {
      "cell_type": "markdown",
      "metadata": {
        "id": "LeUlx0F7CMai",
        "colab_type": "text"
      },
      "source": [
        "## 対数の性質と計算のためのルール"
      ]
    },
    {
      "cell_type": "code",
      "metadata": {
        "id": "i8J0dNStn1QG",
        "colab_type": "code",
        "colab": {
          "base_uri": "https://localhost:8080/",
          "height": 319
        },
        "outputId": "43c600d4-8eae-4546-8daa-bfc57822fa61"
      },
      "source": [
        "y = lambda x: np.log2(x)\n",
        "x = np.linspace(0,5,50)\n",
        "\n",
        "plt.plot(x,y(x))\n",
        "plt.ylim(-5,5)"
      ],
      "execution_count": 31,
      "outputs": [
        {
          "output_type": "stream",
          "text": [
            "/usr/local/lib/python3.6/dist-packages/ipykernel_launcher.py:1: RuntimeWarning: divide by zero encountered in log2\n",
            "  \"\"\"Entry point for launching an IPython kernel.\n"
          ],
          "name": "stderr"
        },
        {
          "output_type": "execute_result",
          "data": {
            "text/plain": [
              "(-5.0, 5.0)"
            ]
          },
          "metadata": {
            "tags": []
          },
          "execution_count": 31
        },
        {
          "output_type": "display_data",
          "data": {
            "image/png": "[encoded data removed]",
            "text/plain": [
              "<Figure size 432x288 with 1 Axes>"
            ]
          },
          "metadata": {
            "tags": []
          }
        }
      ]
    },
    {
      "cell_type": "code",
      "metadata": {
        "id": "Hl--I7IaCvHM",
        "colab_type": "code",
        "colab": {
          "base_uri": "https://localhost:8080/",
          "height": 319
        },
        "outputId": "dd3721e0-e25d-4ee0-fbe5-5bb98f9d49a4"
      },
      "source": [
        "y = lambda x: np.log(x)/np.log(0.5)\n",
        "x = np.linspace(0,5,50)\n",
        "\n",
        "plt.plot(x,y(x))\n",
        "plt.ylim(-5,5)"
      ],
      "execution_count": 32,
      "outputs": [
        {
          "output_type": "stream",
          "text": [
            "/usr/local/lib/python3.6/dist-packages/ipykernel_launcher.py:1: RuntimeWarning: divide by zero encountered in log\n",
            "  \"\"\"Entry point for launching an IPython kernel.\n"
          ],
          "name": "stderr"
        },
        {
          "output_type": "execute_result",
          "data": {
            "text/plain": [
              "(-5.0, 5.0)"
            ]
          },
          "metadata": {
            "tags": []
          },
          "execution_count": 32
        },
        {
          "output_type": "display_data",
          "data": {
            "image/png": "[encoded data removed]",
            "text/plain": [
              "<Figure size 432x288 with 1 Axes>"
            ]
          },
          "metadata": {
            "tags": []
          }
        }
      ]
    },
    {
      "cell_type": "markdown",
      "metadata": {
        "id": "WK3_PYlxIsTO",
        "colab_type": "text"
      },
      "source": [
        "$ x = y $ <=> $ log_a x = log_a y $\n",
        "\n",
        "$ log_a xy = log_a x + log_a y $\n",
        "\n",
        "$ log_a \\dfrac{x}{y} = log_a x - log_a y $\n",
        "\n",
        "$ log_a x^n = n log_a x $\n",
        "\n",
        "$ log_a \\sqrt{x} = log_a x^\\frac{1}{2}  = \\frac{1}{2} log_a x $\n",
        "\n",
        "$ log_a x = \\dfrac{log_b x}{log_b a} $"
      ]
    },
    {
      "cell_type": "markdown",
      "metadata": {
        "id": "JmkMbH4hMour",
        "colab_type": "text"
      },
      "source": [
        "## ネイピア数 $ e $ の意味とロジスティック回帰\n",
        "\n",
        "$ \\displaystyle e = \\lim_{x \\to \\infty} \\left( 1+ \\dfrac{1}{n} \\right)^n $ \n",
        "\n",
        "$ log \\dfrac{p}{1-p} = a + bx $"
      ]
    },
    {
      "cell_type": "code",
      "metadata": {
        "id": "nSEk7jdwCvVx",
        "colab_type": "code",
        "colab": {
          "base_uri": "https://localhost:8080/",
          "height": 301
        },
        "outputId": "1f22f6d5-3d90-4f85-9f06-24c17b541010"
      },
      "source": [
        "y = lambda x: 1/(1+np.exp(-x))\n",
        "x = np.linspace(-5,5,50)\n",
        "\n",
        "plt.plot(x,y(x))\n",
        "plt.title('3-15')"
      ],
      "execution_count": 33,
      "outputs": [
        {
          "output_type": "execute_result",
          "data": {
            "text/plain": [
              "Text(0.5, 1.0, '3-15')"
            ]
          },
          "metadata": {
            "tags": []
          },
          "execution_count": 33
        },
        {
          "output_type": "display_data",
          "data": {
            "image/png": "[encoded data removed]",
            "text/plain": [
              "<Figure size 432x288 with 1 Axes>"
            ]
          },
          "metadata": {
            "tags": []
          }
        }
      ]
    },
    {
      "cell_type": "markdown",
      "metadata": {
        "id": "sWIARYrlONVm",
        "colab_type": "text"
      },
      "source": [
        "# 三平方の定理とデータの「距離」"
      ]
    },
    {
      "cell_type": "code",
      "metadata": {
        "id": "D4H3ZFl-Cvaz",
        "colab_type": "code",
        "colab": {
          "base_uri": "https://localhost:8080/",
          "height": 153
        },
        "outputId": "d1cbaf99-4995-4613-a3c5-f2b97b1628e0"
      },
      "source": [
        "cities = np.array([[43.062083, 141.354389], # 札幌\n",
        "                   [38.268056, 140.869722], # 仙台\n",
        "                   [35.689472, 139.69175], # 東京\n",
        "                   [35.181389, 136.906389], # 名古屋\n",
        "                   [34.69375, 135.502111], # 大阪\n",
        "                   [34.38525, 132.455306], # 広島\n",
        "                   [33.590139, 130.401722], # 福岡\n",
        "                   [26.213083, 127.678056]]) # 那覇\n",
        "\n",
        "cities"
      ],
      "execution_count": 34,
      "outputs": [
        {
          "output_type": "execute_result",
          "data": {
            "text/plain": [
              "array([[ 43.062083, 141.354389],\n",
              "       [ 38.268056, 140.869722],\n",
              "       [ 35.689472, 139.69175 ],\n",
              "       [ 35.181389, 136.906389],\n",
              "       [ 34.69375 , 135.502111],\n",
              "       [ 34.38525 , 132.455306],\n",
              "       [ 33.590139, 130.401722],\n",
              "       [ 26.213083, 127.678056]])"
            ]
          },
          "metadata": {
            "tags": []
          },
          "execution_count": 34
        }
      ]
    },
    {
      "cell_type": "code",
      "metadata": {
        "id": "8UnAccqMCvTi",
        "colab_type": "code",
        "colab": {
          "base_uri": "https://localhost:8080/",
          "height": 153
        },
        "outputId": "7ffc9bf4-d9f2-43f4-9324-8d67ad08e9ab"
      },
      "source": [
        "all_diffs = np.expand_dims(cities,axis=1) - np.expand_dims(cities,axis=0)\n",
        "digree_distance = np.sqrt(np.sum(all_diffs**2,axis=-1))\n",
        "distance = (101*digree_distance).astype(np.int32)\n",
        "distance"
      ],
      "execution_count": 35,
      "outputs": [
        {
          "output_type": "execute_result",
          "data": {
            "text/plain": [
              "array([[   0,  486,  763,  913, 1031, 1255, 1462, 2191],\n",
              "       [ 486,    0,  286,  507,  651,  935, 1158, 1804],\n",
              "       [ 763,  286,    0,  285,  434,  742,  961, 1545],\n",
              "       [ 913,  507,  285,    0,  150,  456,  676, 1299],\n",
              "       [1031,  651,  434,  150,    0,  309,  527, 1165],\n",
              "       [1255,  935,  742,  456,  309,    0,  222,  956],\n",
              "       [1462, 1158,  961,  676,  527,  222,    0,  794],\n",
              "       [2191, 1804, 1545, 1299, 1165,  956,  794,    0]], dtype=int32)"
            ]
          },
          "metadata": {
            "tags": []
          },
          "execution_count": 35
        }
      ]
    },
    {
      "cell_type": "code",
      "metadata": {
        "id": "y5krCJCuoOgF",
        "colab_type": "code",
        "colab": {
          "base_uri": "https://localhost:8080/",
          "height": 34
        },
        "outputId": "49609ba0-177c-4aef-aa57-8645cf3ee0be"
      },
      "source": [
        "a = cities[1]\n",
        "b = cities[0]\n",
        "np.linalg.norm(a-b)*101"
      ],
      "execution_count": 36,
      "outputs": [
        {
          "output_type": "execute_result",
          "data": {
            "text/plain": [
              "486.66488138007367"
            ]
          },
          "metadata": {
            "tags": []
          },
          "execution_count": 36
        }
      ]
    },
    {
      "cell_type": "code",
      "metadata": {
        "id": "G2mwxst-ZEZH",
        "colab_type": "code",
        "colab": {
          "base_uri": "https://localhost:8080/",
          "height": 297
        },
        "outputId": "e85b1ae9-3e8b-415c-c93d-30591c4b4ce4"
      },
      "source": [
        "pd.DataFrame(distance, index=[\"札幌\",\"仙台\",\"東京\",\"名古屋\",\"大阪\",\"広島\",\"福岡\",\"那覇\"],columns=[\"札幌\",\"仙台\",\"東京\",\"名古屋\",\"大阪\",\"広島\",\"福岡\",\"那覇\"])"
      ],
      "execution_count": 37,
      "outputs": [
        {
          "output_type": "execute_result",
          "data": {
            "text/html": [
              "<div>\n",
              "<style scoped>\n",
              "    .dataframe tbody tr th:only-of-type {\n",
              "        vertical-align: middle;\n",
              "    }\n",
              "\n",
              "    .dataframe tbody tr th {\n",
              "        vertical-align: top;\n",
              "    }\n",
              "\n",
              "    .dataframe thead th {\n",
              "        text-align: right;\n",
              "    }\n",
              "</style>\n",
              "<table border=\"1\" class=\"dataframe\">\n",
              "  <thead>\n",
              "    <tr style=\"text-align: right;\">\n",
              "      <th></th>\n",
              "      <th>札幌</th>\n",
              "      <th>仙台</th>\n",
              "      <th>東京</th>\n",
              "      <th>名古屋</th>\n",
              "      <th>大阪</th>\n",
              "      <th>広島</th>\n",
              "      <th>福岡</th>\n",
              "      <th>那覇</th>\n",
              "    </tr>\n",
              "  </thead>\n",
              "  <tbody>\n",
              "    <tr>\n",
              "      <th>札幌</th>\n",
              "      <td>0</td>\n",
              "      <td>486</td>\n",
              "      <td>763</td>\n",
              "      <td>913</td>\n",
              "      <td>1031</td>\n",
              "      <td>1255</td>\n",
              "      <td>1462</td>\n",
              "      <td>2191</td>\n",
              "    </tr>\n",
              "    <tr>\n",
              "      <th>仙台</th>\n",
              "      <td>486</td>\n",
              "      <td>0</td>\n",
              "      <td>286</td>\n",
              "      <td>507</td>\n",
              "      <td>651</td>\n",
              "      <td>935</td>\n",
              "      <td>1158</td>\n",
              "      <td>1804</td>\n",
              "    </tr>\n",
              "    <tr>\n",
              "      <th>東京</th>\n",
              "      <td>763</td>\n",
              "      <td>286</td>\n",
              "      <td>0</td>\n",
              "      <td>285</td>\n",
              "      <td>434</td>\n",
              "      <td>742</td>\n",
              "      <td>961</td>\n",
              "      <td>1545</td>\n",
              "    </tr>\n",
              "    <tr>\n",
              "      <th>名古屋</th>\n",
              "      <td>913</td>\n",
              "      <td>507</td>\n",
              "      <td>285</td>\n",
              "      <td>0</td>\n",
              "      <td>150</td>\n",
              "      <td>456</td>\n",
              "      <td>676</td>\n",
              "      <td>1299</td>\n",
              "    </tr>\n",
              "    <tr>\n",
              "      <th>大阪</th>\n",
              "      <td>1031</td>\n",
              "      <td>651</td>\n",
              "      <td>434</td>\n",
              "      <td>150</td>\n",
              "      <td>0</td>\n",
              "      <td>309</td>\n",
              "      <td>527</td>\n",
              "      <td>1165</td>\n",
              "    </tr>\n",
              "    <tr>\n",
              "      <th>広島</th>\n",
              "      <td>1255</td>\n",
              "      <td>935</td>\n",
              "      <td>742</td>\n",
              "      <td>456</td>\n",
              "      <td>309</td>\n",
              "      <td>0</td>\n",
              "      <td>222</td>\n",
              "      <td>956</td>\n",
              "    </tr>\n",
              "    <tr>\n",
              "      <th>福岡</th>\n",
              "      <td>1462</td>\n",
              "      <td>1158</td>\n",
              "      <td>961</td>\n",
              "      <td>676</td>\n",
              "      <td>527</td>\n",
              "      <td>222</td>\n",
              "      <td>0</td>\n",
              "      <td>794</td>\n",
              "    </tr>\n",
              "    <tr>\n",
              "      <th>那覇</th>\n",
              "      <td>2191</td>\n",
              "      <td>1804</td>\n",
              "      <td>1545</td>\n",
              "      <td>1299</td>\n",
              "      <td>1165</td>\n",
              "      <td>956</td>\n",
              "      <td>794</td>\n",
              "      <td>0</td>\n",
              "    </tr>\n",
              "  </tbody>\n",
              "</table>\n",
              "</div>"
            ],
            "text/plain": [
              "       札幌    仙台    東京   名古屋    大阪    広島    福岡    那覇\n",
              "札幌      0   486   763   913  1031  1255  1462  2191\n",
              "仙台    486     0   286   507   651   935  1158  1804\n",
              "東京    763   286     0   285   434   742   961  1545\n",
              "名古屋   913   507   285     0   150   456   676  1299\n",
              "大阪   1031   651   434   150     0   309   527  1165\n",
              "広島   1255   935   742   456   309     0   222   956\n",
              "福岡   1462  1158   961   676   527   222     0   794\n",
              "那覇   2191  1804  1545  1299  1165   956   794     0"
            ]
          },
          "metadata": {
            "tags": []
          },
          "execution_count": 37
        }
      ]
    },
    {
      "cell_type": "code",
      "metadata": {
        "id": "ENLtwZtkCvQY",
        "colab_type": "code",
        "colab": {
          "base_uri": "https://localhost:8080/",
          "height": 34
        },
        "outputId": "1e0ee0a8-aff9-4247-9ea7-ef27c0385bb0"
      },
      "source": [
        "array_ = np.array(cities, dtype=int)[1:3,:1]\n",
        "array_.shape"
      ],
      "execution_count": 38,
      "outputs": [
        {
          "output_type": "execute_result",
          "data": {
            "text/plain": [
              "(2, 1)"
            ]
          },
          "metadata": {
            "tags": []
          },
          "execution_count": 38
        }
      ]
    },
    {
      "cell_type": "code",
      "metadata": {
        "id": "aDGYofA0CvLT",
        "colab_type": "code",
        "colab": {
          "base_uri": "https://localhost:8080/",
          "height": 34
        },
        "outputId": "370e35c9-7b3a-4693-850c-bad4634c2cf7"
      },
      "source": [
        "np.expand_dims(array_,axis=1).shape"
      ],
      "execution_count": 39,
      "outputs": [
        {
          "output_type": "execute_result",
          "data": {
            "text/plain": [
              "(2, 1, 1)"
            ]
          },
          "metadata": {
            "tags": []
          },
          "execution_count": 39
        }
      ]
    },
    {
      "cell_type": "code",
      "metadata": {
        "id": "K3e6dZ5k78w5",
        "colab_type": "code",
        "colab": {
          "base_uri": "https://localhost:8080/",
          "height": 34
        },
        "outputId": "b6748c20-dd7f-4d10-8757-ab62d1ae5779"
      },
      "source": [
        "np.expand_dims(array_,axis=0) .shape"
      ],
      "execution_count": 40,
      "outputs": [
        {
          "output_type": "execute_result",
          "data": {
            "text/plain": [
              "(1, 2, 1)"
            ]
          },
          "metadata": {
            "tags": []
          },
          "execution_count": 40
        }
      ]
    },
    {
      "cell_type": "code",
      "metadata": {
        "id": "XnTQwFtu7891",
        "colab_type": "code",
        "colab": {
          "base_uri": "https://localhost:8080/",
          "height": 102
        },
        "outputId": "3a11a6fa-eb3a-4662-fd64-900ba2e16ce2"
      },
      "source": [
        "np.expand_dims(array_,axis=1) - np.expand_dims(array_,axis=0) "
      ],
      "execution_count": 41,
      "outputs": [
        {
          "output_type": "execute_result",
          "data": {
            "text/plain": [
              "array([[[ 0],\n",
              "        [ 3]],\n",
              "\n",
              "       [[-3],\n",
              "        [ 0]]])"
            ]
          },
          "metadata": {
            "tags": []
          },
          "execution_count": 41
        }
      ]
    },
    {
      "cell_type": "code",
      "metadata": {
        "id": "U-XOmbLh7869",
        "colab_type": "code",
        "colab": {
          "base_uri": "https://localhost:8080/",
          "height": 68
        },
        "outputId": "b5b666f8-5567-49a2-9d46-fdd9bc71a542"
      },
      "source": [
        "a = np.arange(6).reshape(3,2)\n",
        "a"
      ],
      "execution_count": 42,
      "outputs": [
        {
          "output_type": "execute_result",
          "data": {
            "text/plain": [
              "array([[0, 1],\n",
              "       [2, 3],\n",
              "       [4, 5]])"
            ]
          },
          "metadata": {
            "tags": []
          },
          "execution_count": 42
        }
      ]
    },
    {
      "cell_type": "code",
      "metadata": {
        "id": "kHE7xUvrs272",
        "colab_type": "code",
        "colab": {
          "base_uri": "https://localhost:8080/",
          "height": 68
        },
        "outputId": "432762a6-22d0-4980-d32f-cd5cb5773028"
      },
      "source": [
        "a_ = np.expand_dims(a,axis=0)\n",
        "a_"
      ],
      "execution_count": 43,
      "outputs": [
        {
          "output_type": "execute_result",
          "data": {
            "text/plain": [
              "array([[[0, 1],\n",
              "        [2, 3],\n",
              "        [4, 5]]])"
            ]
          },
          "metadata": {
            "tags": []
          },
          "execution_count": 43
        }
      ]
    },
    {
      "cell_type": "code",
      "metadata": {
        "id": "xXEeqMA0785M",
        "colab_type": "code",
        "colab": {
          "base_uri": "https://localhost:8080/",
          "height": 102
        },
        "outputId": "fe260b35-a930-493c-d4a8-6ae58e21793f"
      },
      "source": [
        "b = np.expand_dims(a,axis=1)\n",
        "b"
      ],
      "execution_count": 44,
      "outputs": [
        {
          "output_type": "execute_result",
          "data": {
            "text/plain": [
              "array([[[0, 1]],\n",
              "\n",
              "       [[2, 3]],\n",
              "\n",
              "       [[4, 5]]])"
            ]
          },
          "metadata": {
            "tags": []
          },
          "execution_count": 44
        }
      ]
    },
    {
      "cell_type": "code",
      "metadata": {
        "id": "nXcs6f3A782z",
        "colab_type": "code",
        "colab": {
          "base_uri": "https://localhost:8080/",
          "height": 204
        },
        "outputId": "3d9c359c-ef2a-4afe-f59f-a32f74ec0e3a"
      },
      "source": [
        "c = a_-b\n",
        "c"
      ],
      "execution_count": 45,
      "outputs": [
        {
          "output_type": "execute_result",
          "data": {
            "text/plain": [
              "array([[[ 0,  0],\n",
              "        [ 2,  2],\n",
              "        [ 4,  4]],\n",
              "\n",
              "       [[-2, -2],\n",
              "        [ 0,  0],\n",
              "        [ 2,  2]],\n",
              "\n",
              "       [[-4, -4],\n",
              "        [-2, -2],\n",
              "        [ 0,  0]]])"
            ]
          },
          "metadata": {
            "tags": []
          },
          "execution_count": 45
        }
      ]
    },
    {
      "cell_type": "code",
      "metadata": {
        "id": "FxffOj-n781O",
        "colab_type": "code",
        "colab": {
          "base_uri": "https://localhost:8080/",
          "height": 68
        },
        "outputId": "f9dee782-a8d9-479f-8151-7522aed4623c"
      },
      "source": [
        "np.sqrt(np.sum(c**2,axis=-1))"
      ],
      "execution_count": 46,
      "outputs": [
        {
          "output_type": "execute_result",
          "data": {
            "text/plain": [
              "array([[0.        , 2.82842712, 5.65685425],\n",
              "       [2.82842712, 0.        , 2.82842712],\n",
              "       [5.65685425, 2.82842712, 0.        ]])"
            ]
          },
          "metadata": {
            "tags": []
          },
          "execution_count": 46
        }
      ]
    },
    {
      "cell_type": "markdown",
      "metadata": {
        "id": "BawvkDlz4WQ0",
        "colab_type": "text"
      },
      "source": [
        "## 幾何学に対する代数の力業\n"
      ]
    },
    {
      "cell_type": "code",
      "metadata": {
        "id": "Lwiuygyh6Gd6",
        "colab_type": "code",
        "colab": {
          "base_uri": "https://localhost:8080/",
          "height": 34
        },
        "outputId": "45240a1c-37dc-4153-c614-7b1ea8c5bd75"
      },
      "source": [
        "1/2*12*14*np.sin(1/6*np.pi)"
      ],
      "execution_count": 47,
      "outputs": [
        {
          "output_type": "execute_result",
          "data": {
            "text/plain": [
              "41.99999999999999"
            ]
          },
          "metadata": {
            "tags": []
          },
          "execution_count": 47
        }
      ]
    },
    {
      "cell_type": "code",
      "metadata": {
        "id": "rk77Xika7Ng4",
        "colab_type": "code",
        "colab": {
          "base_uri": "https://localhost:8080/",
          "height": 34
        },
        "outputId": "18479dbd-bbe3-46f9-d70f-27aacfb2195f"
      },
      "source": [
        "np.sin(1/6*np.pi)"
      ],
      "execution_count": 48,
      "outputs": [
        {
          "output_type": "execute_result",
          "data": {
            "text/plain": [
              "0.49999999999999994"
            ]
          },
          "metadata": {
            "tags": []
          },
          "execution_count": 48
        }
      ]
    },
    {
      "cell_type": "markdown",
      "metadata": {
        "id": "_Qd-Nnrt5-Ik",
        "colab_type": "text"
      },
      "source": [
        "\n",
        "## 拡張された三角関数の定義"
      ]
    },
    {
      "cell_type": "code",
      "metadata": {
        "id": "3PadsL3E78up",
        "colab_type": "code",
        "colab": {
          "base_uri": "https://localhost:8080/",
          "height": 34
        },
        "outputId": "3c5188a9-946e-4528-dff6-166c56f45953"
      },
      "source": [
        "d = np.arange(0,370,30)\n",
        "d.dtype"
      ],
      "execution_count": 49,
      "outputs": [
        {
          "output_type": "execute_result",
          "data": {
            "text/plain": [
              "dtype('int64')"
            ]
          },
          "metadata": {
            "tags": []
          },
          "execution_count": 49
        }
      ]
    },
    {
      "cell_type": "code",
      "metadata": {
        "id": "nOD2Ytg_yEQk",
        "colab_type": "code",
        "colab": {
          "base_uri": "https://localhost:8080/",
          "height": 68
        },
        "outputId": "09b168c3-bd27-43d3-89a3-9438db64d10b"
      },
      "source": [
        "r = np.radians(d/np.pi)\n",
        "\n",
        "r"
      ],
      "execution_count": 50,
      "outputs": [
        {
          "output_type": "execute_result",
          "data": {
            "text/plain": [
              "array([0.        , 0.16666667, 0.33333333, 0.5       , 0.66666667,\n",
              "       0.83333333, 1.        , 1.16666667, 1.33333333, 1.5       ,\n",
              "       1.66666667, 1.83333333, 2.        ])"
            ]
          },
          "metadata": {
            "tags": []
          },
          "execution_count": 50
        }
      ]
    },
    {
      "cell_type": "code",
      "metadata": {
        "id": "KxScYM9cyEOA",
        "colab_type": "code",
        "colab": {
          "base_uri": "https://localhost:8080/",
          "height": 85
        },
        "outputId": "763ebdb7-e9f6-48e5-cca1-31b2407d54d7"
      },
      "source": [
        "from fractions import Fraction\n",
        "f_ =np.zeros(len(d)).astype(str)\n",
        "print(f_)\n",
        "\n",
        "for i in np.arange(len(d)):\n",
        "  f = Fraction(str(r[i]))\n",
        "  f_[i] = str(f.limit_denominator(50))\n",
        "f_\n"
      ],
      "execution_count": 51,
      "outputs": [
        {
          "output_type": "stream",
          "text": [
            "['0.0' '0.0' '0.0' '0.0' '0.0' '0.0' '0.0' '0.0' '0.0' '0.0' '0.0' '0.0'\n",
            " '0.0']\n"
          ],
          "name": "stdout"
        },
        {
          "output_type": "execute_result",
          "data": {
            "text/plain": [
              "array(['0', '1/6', '1/3', '1/2', '2/3', '5/6', '1', '7/6', '4/3', '3/2',\n",
              "       '5/3', '11/6', '2'], dtype='<U32')"
            ]
          },
          "metadata": {
            "tags": []
          },
          "execution_count": 51
        }
      ]
    },
    {
      "cell_type": "code",
      "metadata": {
        "id": "k9DxzqcSr48g",
        "colab_type": "code",
        "colab": {}
      },
      "source": [
        "df = pd.DataFrame({'度数法':d,'弧度法':f_})"
      ],
      "execution_count": 52,
      "outputs": []
    },
    {
      "cell_type": "code",
      "metadata": {
        "id": "5qbWEYG3yELs",
        "colab_type": "code",
        "colab": {
          "base_uri": "https://localhost:8080/",
          "height": 452
        },
        "outputId": "b98324f4-d09e-4b25-ada6-27fbca9c9f84"
      },
      "source": [
        "df['sin'] = np.sin(np.radians(d))\n",
        "df['cos'] = np.cos(np.radians(d))\n",
        "df"
      ],
      "execution_count": 53,
      "outputs": [
        {
          "output_type": "execute_result",
          "data": {
            "text/html": [
              "<div>\n",
              "<style scoped>\n",
              "    .dataframe tbody tr th:only-of-type {\n",
              "        vertical-align: middle;\n",
              "    }\n",
              "\n",
              "    .dataframe tbody tr th {\n",
              "        vertical-align: top;\n",
              "    }\n",
              "\n",
              "    .dataframe thead th {\n",
              "        text-align: right;\n",
              "    }\n",
              "</style>\n",
              "<table border=\"1\" class=\"dataframe\">\n",
              "  <thead>\n",
              "    <tr style=\"text-align: right;\">\n",
              "      <th></th>\n",
              "      <th>度数法</th>\n",
              "      <th>弧度法</th>\n",
              "      <th>sin</th>\n",
              "      <th>cos</th>\n",
              "    </tr>\n",
              "  </thead>\n",
              "  <tbody>\n",
              "    <tr>\n",
              "      <th>0</th>\n",
              "      <td>0</td>\n",
              "      <td>0</td>\n",
              "      <td>0.000000e+00</td>\n",
              "      <td>1.000000e+00</td>\n",
              "    </tr>\n",
              "    <tr>\n",
              "      <th>1</th>\n",
              "      <td>30</td>\n",
              "      <td>1/6</td>\n",
              "      <td>5.000000e-01</td>\n",
              "      <td>8.660254e-01</td>\n",
              "    </tr>\n",
              "    <tr>\n",
              "      <th>2</th>\n",
              "      <td>60</td>\n",
              "      <td>1/3</td>\n",
              "      <td>8.660254e-01</td>\n",
              "      <td>5.000000e-01</td>\n",
              "    </tr>\n",
              "    <tr>\n",
              "      <th>3</th>\n",
              "      <td>90</td>\n",
              "      <td>1/2</td>\n",
              "      <td>1.000000e+00</td>\n",
              "      <td>6.123234e-17</td>\n",
              "    </tr>\n",
              "    <tr>\n",
              "      <th>4</th>\n",
              "      <td>120</td>\n",
              "      <td>2/3</td>\n",
              "      <td>8.660254e-01</td>\n",
              "      <td>-5.000000e-01</td>\n",
              "    </tr>\n",
              "    <tr>\n",
              "      <th>5</th>\n",
              "      <td>150</td>\n",
              "      <td>5/6</td>\n",
              "      <td>5.000000e-01</td>\n",
              "      <td>-8.660254e-01</td>\n",
              "    </tr>\n",
              "    <tr>\n",
              "      <th>6</th>\n",
              "      <td>180</td>\n",
              "      <td>1</td>\n",
              "      <td>1.224647e-16</td>\n",
              "      <td>-1.000000e+00</td>\n",
              "    </tr>\n",
              "    <tr>\n",
              "      <th>7</th>\n",
              "      <td>210</td>\n",
              "      <td>7/6</td>\n",
              "      <td>-5.000000e-01</td>\n",
              "      <td>-8.660254e-01</td>\n",
              "    </tr>\n",
              "    <tr>\n",
              "      <th>8</th>\n",
              "      <td>240</td>\n",
              "      <td>4/3</td>\n",
              "      <td>-8.660254e-01</td>\n",
              "      <td>-5.000000e-01</td>\n",
              "    </tr>\n",
              "    <tr>\n",
              "      <th>9</th>\n",
              "      <td>270</td>\n",
              "      <td>3/2</td>\n",
              "      <td>-1.000000e+00</td>\n",
              "      <td>-1.836970e-16</td>\n",
              "    </tr>\n",
              "    <tr>\n",
              "      <th>10</th>\n",
              "      <td>300</td>\n",
              "      <td>5/3</td>\n",
              "      <td>-8.660254e-01</td>\n",
              "      <td>5.000000e-01</td>\n",
              "    </tr>\n",
              "    <tr>\n",
              "      <th>11</th>\n",
              "      <td>330</td>\n",
              "      <td>11/6</td>\n",
              "      <td>-5.000000e-01</td>\n",
              "      <td>8.660254e-01</td>\n",
              "    </tr>\n",
              "    <tr>\n",
              "      <th>12</th>\n",
              "      <td>360</td>\n",
              "      <td>2</td>\n",
              "      <td>-2.449294e-16</td>\n",
              "      <td>1.000000e+00</td>\n",
              "    </tr>\n",
              "  </tbody>\n",
              "</table>\n",
              "</div>"
            ],
            "text/plain": [
              "    度数法   弧度法           sin           cos\n",
              "0     0     0  0.000000e+00  1.000000e+00\n",
              "1    30   1/6  5.000000e-01  8.660254e-01\n",
              "2    60   1/3  8.660254e-01  5.000000e-01\n",
              "3    90   1/2  1.000000e+00  6.123234e-17\n",
              "4   120   2/3  8.660254e-01 -5.000000e-01\n",
              "5   150   5/6  5.000000e-01 -8.660254e-01\n",
              "6   180     1  1.224647e-16 -1.000000e+00\n",
              "7   210   7/6 -5.000000e-01 -8.660254e-01\n",
              "8   240   4/3 -8.660254e-01 -5.000000e-01\n",
              "9   270   3/2 -1.000000e+00 -1.836970e-16\n",
              "10  300   5/3 -8.660254e-01  5.000000e-01\n",
              "11  330  11/6 -5.000000e-01  8.660254e-01\n",
              "12  360     2 -2.449294e-16  1.000000e+00"
            ]
          },
          "metadata": {
            "tags": []
          },
          "execution_count": 53
        }
      ]
    },
    {
      "cell_type": "markdown",
      "metadata": {
        "id": "-9gxrGgGj2rI",
        "colab_type": "text"
      },
      "source": [
        "# 統計学と機械学習のための $ \\Sigma $ 、ベクトル、行列\n"
      ]
    },
    {
      "cell_type": "markdown",
      "metadata": {
        "id": "UvUGrqXukKTT",
        "colab_type": "text"
      },
      "source": [
        "## たくさんの数をまとめて書きたい"
      ]
    },
    {
      "cell_type": "code",
      "metadata": {
        "id": "wvZGN3fEyEIq",
        "colab_type": "code",
        "colab": {
          "base_uri": "https://localhost:8080/",
          "height": 34
        },
        "outputId": "2c521e16-1b1f-4d5d-acde-662a0ef771a2"
      },
      "source": [
        "n = np.array([98,99,96,91,99,91,94,93,99,90])\n",
        "c = 90\n",
        "np.mean(n)"
      ],
      "execution_count": 54,
      "outputs": [
        {
          "output_type": "execute_result",
          "data": {
            "text/plain": [
              "95.0"
            ]
          },
          "metadata": {
            "tags": []
          },
          "execution_count": 54
        }
      ]
    },
    {
      "cell_type": "code",
      "metadata": {
        "id": "G4lnQSzXyEGY",
        "colab_type": "code",
        "colab": {
          "base_uri": "https://localhost:8080/",
          "height": 34
        },
        "outputId": "f08489ee-ff63-4b0a-af81-942372a002ff"
      },
      "source": [
        "n-c"
      ],
      "execution_count": 55,
      "outputs": [
        {
          "output_type": "execute_result",
          "data": {
            "text/plain": [
              "array([8, 9, 6, 1, 9, 1, 4, 3, 9, 0])"
            ]
          },
          "metadata": {
            "tags": []
          },
          "execution_count": 55
        }
      ]
    },
    {
      "cell_type": "code",
      "metadata": {
        "id": "fT4nKlDFyEDQ",
        "colab_type": "code",
        "colab": {
          "base_uri": "https://localhost:8080/",
          "height": 34
        },
        "outputId": "c6b0862f-6b63-402b-9aa2-9072035d8b70"
      },
      "source": [
        "c+np.mean(n-c)"
      ],
      "execution_count": 56,
      "outputs": [
        {
          "output_type": "execute_result",
          "data": {
            "text/plain": [
              "95.0"
            ]
          },
          "metadata": {
            "tags": []
          },
          "execution_count": 56
        }
      ]
    },
    {
      "cell_type": "code",
      "metadata": {
        "id": "j6lb4E3vn1Kj",
        "colab_type": "code",
        "colab": {
          "base_uri": "https://localhost:8080/",
          "height": 359
        },
        "outputId": "cd7555c3-01ef-4497-b2df-ccd88b44f026"
      },
      "source": [
        "pd.DataFrame({'調査協力者':[str(i+1)+'人目' for i in np.arange(len(n))],'満足度':n, })"
      ],
      "execution_count": 57,
      "outputs": [
        {
          "output_type": "execute_result",
          "data": {
            "text/html": [
              "<div>\n",
              "<style scoped>\n",
              "    .dataframe tbody tr th:only-of-type {\n",
              "        vertical-align: middle;\n",
              "    }\n",
              "\n",
              "    .dataframe tbody tr th {\n",
              "        vertical-align: top;\n",
              "    }\n",
              "\n",
              "    .dataframe thead th {\n",
              "        text-align: right;\n",
              "    }\n",
              "</style>\n",
              "<table border=\"1\" class=\"dataframe\">\n",
              "  <thead>\n",
              "    <tr style=\"text-align: right;\">\n",
              "      <th></th>\n",
              "      <th>調査協力者</th>\n",
              "      <th>満足度</th>\n",
              "    </tr>\n",
              "  </thead>\n",
              "  <tbody>\n",
              "    <tr>\n",
              "      <th>0</th>\n",
              "      <td>1人目</td>\n",
              "      <td>98</td>\n",
              "    </tr>\n",
              "    <tr>\n",
              "      <th>1</th>\n",
              "      <td>2人目</td>\n",
              "      <td>99</td>\n",
              "    </tr>\n",
              "    <tr>\n",
              "      <th>2</th>\n",
              "      <td>3人目</td>\n",
              "      <td>96</td>\n",
              "    </tr>\n",
              "    <tr>\n",
              "      <th>3</th>\n",
              "      <td>4人目</td>\n",
              "      <td>91</td>\n",
              "    </tr>\n",
              "    <tr>\n",
              "      <th>4</th>\n",
              "      <td>5人目</td>\n",
              "      <td>99</td>\n",
              "    </tr>\n",
              "    <tr>\n",
              "      <th>5</th>\n",
              "      <td>6人目</td>\n",
              "      <td>91</td>\n",
              "    </tr>\n",
              "    <tr>\n",
              "      <th>6</th>\n",
              "      <td>7人目</td>\n",
              "      <td>94</td>\n",
              "    </tr>\n",
              "    <tr>\n",
              "      <th>7</th>\n",
              "      <td>8人目</td>\n",
              "      <td>93</td>\n",
              "    </tr>\n",
              "    <tr>\n",
              "      <th>8</th>\n",
              "      <td>9人目</td>\n",
              "      <td>99</td>\n",
              "    </tr>\n",
              "    <tr>\n",
              "      <th>9</th>\n",
              "      <td>10人目</td>\n",
              "      <td>90</td>\n",
              "    </tr>\n",
              "  </tbody>\n",
              "</table>\n",
              "</div>"
            ],
            "text/plain": [
              "  調査協力者  満足度\n",
              "0   1人目   98\n",
              "1   2人目   99\n",
              "2   3人目   96\n",
              "3   4人目   91\n",
              "4   5人目   99\n",
              "5   6人目   91\n",
              "6   7人目   94\n",
              "7   8人目   93\n",
              "8   9人目   99\n",
              "9  10人目   90"
            ]
          },
          "metadata": {
            "tags": []
          },
          "execution_count": 57
        }
      ]
    },
    {
      "cell_type": "markdown",
      "metadata": {
        "id": "dp2is6zo0iTN",
        "colab_type": "text"
      },
      "source": [
        "## $ \\Sigma $ より高密度に書くためのベクトル入門"
      ]
    },
    {
      "cell_type": "code",
      "metadata": {
        "id": "SsDkS8AKz0Yf",
        "colab_type": "code",
        "colab": {}
      },
      "source": [
        ""
      ],
      "execution_count": 57,
      "outputs": []
    },
    {
      "cell_type": "markdown",
      "metadata": {
        "id": "cUmoVv8YHb0n",
        "colab_type": "text"
      },
      "source": [
        "## ベクトルの内積と $ \\Sigma $ の関係"
      ]
    },
    {
      "cell_type": "code",
      "metadata": {
        "id": "eNwJz2ROz0Vb",
        "colab_type": "code",
        "colab": {}
      },
      "source": [
        ""
      ],
      "execution_count": 57,
      "outputs": []
    },
    {
      "cell_type": "code",
      "metadata": {
        "id": "tIErJ3thz0S3",
        "colab_type": "code",
        "colab": {}
      },
      "source": [
        ""
      ],
      "execution_count": 57,
      "outputs": []
    },
    {
      "cell_type": "code",
      "metadata": {
        "id": "I0Qql9NNz0Pe",
        "colab_type": "code",
        "colab": {}
      },
      "source": [
        ""
      ],
      "execution_count": 57,
      "outputs": []
    },
    {
      "cell_type": "code",
      "metadata": {
        "id": "yNrg7kJrz0NA",
        "colab_type": "code",
        "colab": {}
      },
      "source": [
        ""
      ],
      "execution_count": 57,
      "outputs": []
    },
    {
      "cell_type": "code",
      "metadata": {
        "id": "UFz6x7Caz0Kj",
        "colab_type": "code",
        "colab": {}
      },
      "source": [
        ""
      ],
      "execution_count": 57,
      "outputs": []
    },
    {
      "cell_type": "code",
      "metadata": {
        "id": "X-VYu0r4z0HP",
        "colab_type": "code",
        "colab": {}
      },
      "source": [
        ""
      ],
      "execution_count": 57,
      "outputs": []
    },
    {
      "cell_type": "markdown",
      "metadata": {
        "id": "swwPn5nJesC0",
        "colab_type": "text"
      },
      "source": [
        "## 同時確率\n",
        "\n",
        "$ Px(x,y) $"
      ]
    },
    {
      "cell_type": "code",
      "metadata": {
        "id": "S27MLjlWebFv",
        "colab_type": "code",
        "colab": {
          "base_uri": "https://localhost:8080/",
          "height": 173
        },
        "outputId": "7c28b5e8-84b4-4c14-cb0c-67bcf9330ddf"
      },
      "source": [
        "argvs = sys.argv\n",
        "P = np.array([[0.15,0.1,0.1,0.01],[0.1,0.2,0.05,0.04],[0.05,0,0.1,0.1]])\n",
        "Y = [\"男子\",\"女子\",\"教員\"]\n",
        "X = [\" \",\"自転車\",\"徒歩\",\"電車\",\"車\"]\n",
        "\n",
        "df = pd.DataFrame(P, columns=X[1:],index=Y)\n",
        "df['s_sum'] = df.sum(axis=1)\n",
        "df= pd.concat([df,pd.DataFrame(df.sum(axis=0),columns=['G_ttl']).T])\n",
        "df"
      ],
      "execution_count": 58,
      "outputs": [
        {
          "output_type": "execute_result",
          "data": {
            "text/html": [
              "<div>\n",
              "<style scoped>\n",
              "    .dataframe tbody tr th:only-of-type {\n",
              "        vertical-align: middle;\n",
              "    }\n",
              "\n",
              "    .dataframe tbody tr th {\n",
              "        vertical-align: top;\n",
              "    }\n",
              "\n",
              "    .dataframe thead th {\n",
              "        text-align: right;\n",
              "    }\n",
              "</style>\n",
              "<table border=\"1\" class=\"dataframe\">\n",
              "  <thead>\n",
              "    <tr style=\"text-align: right;\">\n",
              "      <th></th>\n",
              "      <th>自転車</th>\n",
              "      <th>徒歩</th>\n",
              "      <th>電車</th>\n",
              "      <th>車</th>\n",
              "      <th>s_sum</th>\n",
              "    </tr>\n",
              "  </thead>\n",
              "  <tbody>\n",
              "    <tr>\n",
              "      <th>男子</th>\n",
              "      <td>0.15</td>\n",
              "      <td>0.1</td>\n",
              "      <td>0.10</td>\n",
              "      <td>0.01</td>\n",
              "      <td>0.36</td>\n",
              "    </tr>\n",
              "    <tr>\n",
              "      <th>女子</th>\n",
              "      <td>0.10</td>\n",
              "      <td>0.2</td>\n",
              "      <td>0.05</td>\n",
              "      <td>0.04</td>\n",
              "      <td>0.39</td>\n",
              "    </tr>\n",
              "    <tr>\n",
              "      <th>教員</th>\n",
              "      <td>0.05</td>\n",
              "      <td>0.0</td>\n",
              "      <td>0.10</td>\n",
              "      <td>0.10</td>\n",
              "      <td>0.25</td>\n",
              "    </tr>\n",
              "    <tr>\n",
              "      <th>G_ttl</th>\n",
              "      <td>0.30</td>\n",
              "      <td>0.3</td>\n",
              "      <td>0.25</td>\n",
              "      <td>0.15</td>\n",
              "      <td>1.00</td>\n",
              "    </tr>\n",
              "  </tbody>\n",
              "</table>\n",
              "</div>"
            ],
            "text/plain": [
              "        自転車   徒歩    電車     車  s_sum\n",
              "男子     0.15  0.1  0.10  0.01   0.36\n",
              "女子     0.10  0.2  0.05  0.04   0.39\n",
              "教員     0.05  0.0  0.10  0.10   0.25\n",
              "G_ttl  0.30  0.3  0.25  0.15   1.00"
            ]
          },
          "metadata": {
            "tags": []
          },
          "execution_count": 58
        }
      ]
    },
    {
      "cell_type": "code",
      "metadata": {
        "id": "DkIwxJOooit7",
        "colab_type": "code",
        "colab": {
          "base_uri": "https://localhost:8080/",
          "height": 34
        },
        "outputId": "14085d97-9e91-4eff-b901-d83b0c20c95a"
      },
      "source": [
        "[df[col].sum() for col in df]"
      ],
      "execution_count": 59,
      "outputs": [
        {
          "output_type": "execute_result",
          "data": {
            "text/plain": [
              "[0.6, 0.6000000000000001, 0.5, 0.30000000000000004, 2.0]"
            ]
          },
          "metadata": {
            "tags": []
          },
          "execution_count": 59
        }
      ]
    },
    {
      "cell_type": "code",
      "metadata": {
        "id": "gR_PjfeKsZcb",
        "colab_type": "code",
        "colab": {
          "base_uri": "https://localhost:8080/",
          "height": 102
        },
        "outputId": "b8200a53-8e67-4673-8a4d-dd4913f0adbc"
      },
      "source": [
        "for c in df:\n",
        "  print(c)"
      ],
      "execution_count": 60,
      "outputs": [
        {
          "output_type": "stream",
          "text": [
            "自転車\n",
            "徒歩\n",
            "電車\n",
            "車\n",
            "s_sum\n"
          ],
          "name": "stdout"
        }
      ]
    },
    {
      "cell_type": "markdown",
      "metadata": {
        "id": "bDdFWfDUepn2",
        "colab_type": "text"
      },
      "source": [
        ""
      ]
    },
    {
      "cell_type": "code",
      "metadata": {
        "id": "aPfUTohlefyh",
        "colab_type": "code",
        "colab": {
          "base_uri": "https://localhost:8080/",
          "height": 272
        },
        "outputId": "b5d9e78f-5005-4a79-f15c-35b40ac66282"
      },
      "source": [
        "for j in range(3):  \n",
        "  for i in range(4):\n",
        "    conditional_probability = P[j][i]/sum(P[j])\n",
        "    print(conditional_probability)\n",
        "  print(\"\")"
      ],
      "execution_count": 61,
      "outputs": [
        {
          "output_type": "stream",
          "text": [
            "0.4166666666666667\n",
            "0.2777777777777778\n",
            "0.2777777777777778\n",
            "0.02777777777777778\n",
            "\n",
            "0.25641025641025644\n",
            "0.5128205128205129\n",
            "0.12820512820512822\n",
            "0.10256410256410256\n",
            "\n",
            "0.2\n",
            "0.0\n",
            "0.4\n",
            "0.4\n",
            "\n"
          ],
          "name": "stdout"
        }
      ]
    },
    {
      "cell_type": "code",
      "metadata": {
        "id": "sk4UjUC0iMOd",
        "colab_type": "code",
        "colab": {
          "base_uri": "https://localhost:8080/",
          "height": 306
        },
        "outputId": "753d7bbe-344f-4a31-d4ea-bedcb808dfaf"
      },
      "source": [
        "Pr_y = [0 for i in range(len(P))]\n",
        "for i, y in enumerate(P):\n",
        "  for j, x in enumerate(y):\n",
        "    Pr_y[i] += x\n",
        "print(\"Pr(y) : \", Pr_y)\n",
        "\n",
        "\n",
        "Pr_x = [0 for i in range(len(P[0]))]\n",
        "for i, y in enumerate(P):\n",
        "  for j, x in enumerate(y):\n",
        "    Pr_x[j] += x\n",
        "print(\"Pr(x) : \", Pr_x)\n",
        "\n",
        "total = 0\n",
        "\n",
        "for y in range(len(P)):\n",
        "  print(\"y = \",y)\n",
        "\n",
        "  conditional_probability = P[y][i]/sum(P[y])\n",
        "  likelyhood = conditional_probability\n",
        "  prior = Pr_y[y]\n",
        "  evidence = Pr_x[2]\n",
        "  bayes = likelyhood*prior/evidence\n",
        "  total += bayes\n",
        "  print(\"likelyhood : \", likelyhood)\n",
        "  print(\"prior ; \", prior)\n",
        "  print(\"evidence : \", evidence)\n",
        "  print(\"bayes : \", bayes)\n",
        "  "
      ],
      "execution_count": 62,
      "outputs": [
        {
          "output_type": "stream",
          "text": [
            "Pr(y) :  [0.36, 0.39, 0.25]\n",
            "Pr(x) :  [0.3, 0.30000000000000004, 0.25, 0.15000000000000002]\n",
            "y =  0\n",
            "likelyhood :  0.2777777777777778\n",
            "prior ;  0.36\n",
            "evidence :  0.25\n",
            "bayes :  0.4\n",
            "y =  1\n",
            "likelyhood :  0.12820512820512822\n",
            "prior ;  0.39\n",
            "evidence :  0.25\n",
            "bayes :  0.20000000000000004\n",
            "y =  2\n",
            "likelyhood :  0.4\n",
            "prior ;  0.25\n",
            "evidence :  0.25\n",
            "bayes :  0.4\n"
          ],
          "name": "stdout"
        }
      ]
    },
    {
      "cell_type": "code",
      "metadata": {
        "id": "fHZtJgeZ4d2D",
        "colab_type": "code",
        "colab": {}
      },
      "source": [
        ""
      ],
      "execution_count": 62,
      "outputs": []
    }
  ]
}