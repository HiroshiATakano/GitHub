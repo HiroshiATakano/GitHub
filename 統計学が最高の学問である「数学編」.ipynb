{
  "nbformat": 4,
  "nbformat_minor": 0,
  "metadata": {
    "colab": {
      "name": "統計学が最高の学問である「数学編」",
      "provenance": [],
      "collapsed_sections": [],
      "authorship_tag": "ABX9TyMYsjwEtEMs+DEmysBvFktc",
      "include_colab_link": true
    },
    "kernelspec": {
      "name": "python3",
      "display_name": "Python 3"
    }
  },
  "cells": [
    {
      "cell_type": "markdown",
      "metadata": {
        "id": "view-in-github",
        "colab_type": "text"
      },
      "source": [
        "<a href=\"https://colab.research.google.com/github/HiroshiATakano/GitHub/blob/master/%E7%B5%B1%E8%A8%88%E5%AD%A6%E3%81%8C%E6%9C%80%E9%AB%98%E3%81%AE%E5%AD%A6%E5%95%8F%E3%81%A7%E3%81%82%E3%82%8B%E3%80%8C%E6%95%B0%E5%AD%A6%E7%B7%A8%E3%80%8D.ipynb\" target=\"_parent\"><img src=\"https://colab.research.google.com/assets/colab-badge.svg\" alt=\"Open In Colab\"/></a>"
      ]
    },
    {
      "cell_type": "code",
      "metadata": {
        "id": "YU6V21urzEPt",
        "colab_type": "code",
        "colab": {
          "base_uri": "https://localhost:8080/",
          "height": 122
        },
        "outputId": "45840a6a-618b-464f-9c3e-ef7cac523a64"
      },
      "source": [
        "from google.colab import drive\n",
        "drive.mount('/content/drive/')"
      ],
      "execution_count": 1,
      "outputs": [
        {
          "output_type": "stream",
          "text": [
            "Go to this URL in a browser: https://accounts.google.com/o/oauth2/auth?client_id=947318989803-6bn6qk8qdgf4n4g3pfee6491hc0brc4i.apps.googleusercontent.com&redirect_uri=urn%3aietf%3awg%3aoauth%3a2.0%3aoob&scope=email%20https%3a%2f%2fwww.googleapis.com%2fauth%2fdocs.test%20https%3a%2f%2fwww.googleapis.com%2fauth%2fdrive%20https%3a%2f%2fwww.googleapis.com%2fauth%2fdrive.photos.readonly%20https%3a%2f%2fwww.googleapis.com%2fauth%2fpeopleapi.readonly&response_type=code\n",
            "\n",
            "Enter your authorization code:\n",
            "··········\n",
            "Mounted at /content/drive/\n"
          ],
          "name": "stdout"
        }
      ]
    },
    {
      "cell_type": "code",
      "metadata": {
        "id": "iou819sOzj1V",
        "colab_type": "code",
        "colab": {
          "base_uri": "https://localhost:8080/",
          "height": 89
        },
        "outputId": "f06dc921-dc3a-447e-ffdc-316307906a32"
      },
      "source": [
        "%matplotlib inline\n",
        "%precision 3\n",
        "\n",
        "import pickle\n",
        "import statsmodels.formula.api as smf\n",
        "import pystan\n",
        "\n",
        "import pandas as pd\n",
        "import numpy as np\n",
        "import matplotlib.pyplot as plt\n",
        "from matplotlib.figure import figaspect\n",
        "from matplotlib import colors as mcolors\n",
        "from pystan import StanModel\n",
        "import pickle\n",
        "\n",
        "import seaborn as sns\n",
        "import sys\n",
        "import math\n",
        "from matplotlib.backends.backend_pdf import PdfPages\n",
        "from scipy import stats\n",
        "from scipy.stats import norm\n",
        "import itertools\n",
        "\n",
        "from statsmodels.formula.api import glm\n",
        "import statsmodels.api as sm\n",
        "\n",
        "sns.set()\n",
        "\n",
        "import os\n",
        "\n",
        "path = os.getcwd()\n",
        "\n",
        "try:\n",
        "    os.chdir(path + \"/drive/My Drive/統計学が最強の学問である\")\n",
        "except:\n",
        "    pass\n",
        "\n",
        "os.getcwd()"
      ],
      "execution_count": 2,
      "outputs": [
        {
          "output_type": "stream",
          "text": [
            "/usr/local/lib/python3.6/dist-packages/statsmodels/tools/_testing.py:19: FutureWarning: pandas.util.testing is deprecated. Use the functions in the public API at pandas.testing instead.\n",
            "  import pandas.util.testing as tm\n"
          ],
          "name": "stderr"
        },
        {
          "output_type": "execute_result",
          "data": {
            "application/vnd.google.colaboratory.intrinsic+json": {
              "type": "string"
            },
            "text/plain": [
              "'/content/drive/My Drive/統計学が最強の学問である'"
            ]
          },
          "metadata": {
            "tags": []
          },
          "execution_count": 2
        }
      ]
    },
    {
      "cell_type": "code",
      "metadata": {
        "id": "j-FZlfjaLc4n",
        "colab_type": "code",
        "colab": {
          "base_uri": "https://localhost:8080/",
          "height": 51
        },
        "outputId": "67b8e14b-43f2-400a-fa14-ae1783dd5362"
      },
      "source": [
        "import scipy as sp\n",
        "print(\"Numpy\",np.__version__)\n",
        "print(\"Scipy\",sp.__version__)"
      ],
      "execution_count": 3,
      "outputs": [
        {
          "output_type": "stream",
          "text": [
            "Numpy 1.18.5\n",
            "Scipy 1.4.1\n"
          ],
          "name": "stdout"
        }
      ]
    },
    {
      "cell_type": "markdown",
      "metadata": {
        "id": "0g2vnGYxz9fU",
        "colab_type": "text"
      },
      "source": [
        "# 統計学が最強の学問である［数学編］"
      ]
    },
    {
      "cell_type": "code",
      "metadata": {
        "id": "spSVL1TD0L_4",
        "colab_type": "code",
        "colab": {
          "base_uri": "https://localhost:8080/",
          "height": 34
        },
        "outputId": "a8ea7c69-bd36-4eed-b9d8-a3b978e63654"
      },
      "source": [
        "import sympy\n",
        "x =sympy.Symbol('x')\n",
        "y = sympy.Symbol('y')\n",
        "a,b,c,p,q = sympy.symbols('a b c p q')\n",
        "\n",
        "print(type(a))"
      ],
      "execution_count": 4,
      "outputs": [
        {
          "output_type": "stream",
          "text": [
            "<class 'sympy.core.symbol.Symbol'>\n"
          ],
          "name": "stdout"
        }
      ]
    },
    {
      "cell_type": "code",
      "metadata": {
        "id": "L_9aAtCQ0W4G",
        "colab_type": "code",
        "colab": {
          "base_uri": "https://localhost:8080/",
          "height": 34
        },
        "outputId": "3bf24410-d9ab-41a7-e504-ab318ac54442"
      },
      "source": [
        "y1 = 12-5*x-y\n",
        "y2 = 3-0.5*x-y\n",
        "\n",
        "sympy.solve([y1,y2])\n"
      ],
      "execution_count": 5,
      "outputs": [
        {
          "output_type": "execute_result",
          "data": {
            "text/plain": [
              "{x: 2.00000000000000, y: 2.00000000000000}"
            ]
          },
          "metadata": {
            "tags": []
          },
          "execution_count": 5
        }
      ]
    },
    {
      "cell_type": "code",
      "metadata": {
        "id": "wKgNnRiPn9bP",
        "colab_type": "code",
        "colab": {}
      },
      "source": [
        ""
      ],
      "execution_count": 5,
      "outputs": []
    },
    {
      "cell_type": "markdown",
      "metadata": {
        "id": "0hJPlhvToIi3",
        "colab_type": "text"
      },
      "source": [
        "## 二項定理と組み合わせの数"
      ]
    },
    {
      "cell_type": "code",
      "metadata": {
        "id": "cS_2AtJs8jKn",
        "colab_type": "code",
        "colab": {
          "base_uri": "https://localhost:8080/",
          "height": 289
        },
        "outputId": "67ee4600-fcc9-42aa-94ba-9e9b98903832"
      },
      "source": [
        "y = lambda x: -6+11*x-6*x**2+x**3\n",
        "x = np.linspace(0,4,50)\n",
        "\n",
        "plt.plot(x,y(x))\n",
        "plt.ylim(-10,10)"
      ],
      "execution_count": 6,
      "outputs": [
        {
          "output_type": "execute_result",
          "data": {
            "text/plain": [
              "(-10.000, 10.000)"
            ]
          },
          "metadata": {
            "tags": []
          },
          "execution_count": 6
        },
        {
          "output_type": "display_data",
          "data": {
            "image/png": "[encoded data removed]",
            "text/plain": [
              "<Figure size 432x288 with 1 Axes>"
            ]
          },
          "metadata": {
            "tags": []
          }
        }
      ]
    },
    {
      "cell_type": "code",
      "metadata": {
        "id": "gEjvHt_qoOE6",
        "colab_type": "code",
        "colab": {
          "base_uri": "https://localhost:8080/",
          "height": 289
        },
        "outputId": "71303cbc-98c2-4a31-cbc0-b28efb39a942"
      },
      "source": [
        "y = lambda x: 30-61*x+41*x**2-11*x**3+x**4\n",
        "x = np.linspace(0,6,50)\n",
        "\n",
        "plt.plot(x,y(x))\n",
        "plt.ylim(-10,10)"
      ],
      "execution_count": 7,
      "outputs": [
        {
          "output_type": "execute_result",
          "data": {
            "text/plain": [
              "(-10.000, 10.000)"
            ]
          },
          "metadata": {
            "tags": []
          },
          "execution_count": 7
        },
        {
          "output_type": "display_data",
          "data": {
            "image/png": "[encoded data removed]",
            "text/plain": [
              "<Figure size 432x288 with 1 Axes>"
            ]
          },
          "metadata": {
            "tags": []
          }
        }
      ]
    },
    {
      "cell_type": "code",
      "metadata": {
        "id": "lWC2t9RtoOH-",
        "colab_type": "code",
        "colab": {
          "base_uri": "https://localhost:8080/",
          "height": 85
        },
        "outputId": "8a0602d5-0754-43ee-a6d9-9ba2f6513007"
      },
      "source": [
        "x =sympy.Symbol('x')\n",
        "y = sympy.Symbol('y')\n",
        "\n",
        "print(sympy.expand((x+y)**2))\n",
        "print(sympy.expand((x+y)**3))\n",
        "\n",
        "print(\"16.3\")\n",
        "print(\"(x+y)**4 =  \", sympy.expand((x+y)**4))"
      ],
      "execution_count": 8,
      "outputs": [
        {
          "output_type": "stream",
          "text": [
            "x**2 + 2*x*y + y**2\n",
            "x**3 + 3*x**2*y + 3*x*y**2 + y**3\n",
            "16.3\n",
            "(x+y)**4 =   x**4 + 4*x**3*y + 6*x**2*y**2 + 4*x*y**3 + y**4\n"
          ],
          "name": "stdout"
        }
      ]
    },
    {
      "cell_type": "code",
      "metadata": {
        "id": "Qf8vsAmkukwd",
        "colab_type": "code",
        "colab": {
          "base_uri": "https://localhost:8080/",
          "height": 34
        },
        "outputId": "ca8d9867-f267-4e23-cf7a-be63fea2b9ac"
      },
      "source": [
        "list(itertools.product('xy',repeat=2))"
      ],
      "execution_count": 9,
      "outputs": [
        {
          "output_type": "execute_result",
          "data": {
            "text/plain": [
              "[('x', 'x'), ('x', 'y'), ('y', 'x'), ('y', 'y')]"
            ]
          },
          "metadata": {
            "tags": []
          },
          "execution_count": 9
        }
      ]
    },
    {
      "cell_type": "code",
      "metadata": {
        "id": "B01UwqXQoOLE",
        "colab_type": "code",
        "colab": {
          "base_uri": "https://localhost:8080/",
          "height": 153
        },
        "outputId": "f8ed1ba4-fce5-4e99-cd13-a59f4a9243ed"
      },
      "source": [
        "# 図表 3-4\n",
        "\n",
        "list(itertools.product('xy',repeat=3))"
      ],
      "execution_count": 10,
      "outputs": [
        {
          "output_type": "execute_result",
          "data": {
            "text/plain": [
              "[('x', 'x', 'x'),\n",
              " ('x', 'x', 'y'),\n",
              " ('x', 'y', 'x'),\n",
              " ('x', 'y', 'y'),\n",
              " ('y', 'x', 'x'),\n",
              " ('y', 'x', 'y'),\n",
              " ('y', 'y', 'x'),\n",
              " ('y', 'y', 'y')]"
            ]
          },
          "metadata": {
            "tags": []
          },
          "execution_count": 10
        }
      ]
    },
    {
      "cell_type": "code",
      "metadata": {
        "id": "dWNJ2VxeoOM2",
        "colab_type": "code",
        "colab": {
          "base_uri": "https://localhost:8080/",
          "height": 34
        },
        "outputId": "45e37888-7202-4a52-ff36-cb01153a5477"
      },
      "source": [
        "list(itertools.combinations_with_replacement('xy',3))"
      ],
      "execution_count": 11,
      "outputs": [
        {
          "output_type": "execute_result",
          "data": {
            "text/plain": [
              "[('x', 'x', 'x'), ('x', 'x', 'y'), ('x', 'y', 'y'), ('y', 'y', 'y')]"
            ]
          },
          "metadata": {
            "tags": []
          },
          "execution_count": 11
        }
      ]
    },
    {
      "cell_type": "code",
      "metadata": {
        "id": "tlEuuJexeF9x",
        "colab_type": "code",
        "colab": {
          "base_uri": "https://localhost:8080/",
          "height": 289
        },
        "outputId": "65e0a8d9-3cc3-40ff-d860-a08d1f7c08af"
      },
      "source": [
        "# 図表 3-5\n",
        "list(itertools.product('xy',repeat=4))"
      ],
      "execution_count": 12,
      "outputs": [
        {
          "output_type": "execute_result",
          "data": {
            "text/plain": [
              "[('x', 'x', 'x', 'x'),\n",
              " ('x', 'x', 'x', 'y'),\n",
              " ('x', 'x', 'y', 'x'),\n",
              " ('x', 'x', 'y', 'y'),\n",
              " ('x', 'y', 'x', 'x'),\n",
              " ('x', 'y', 'x', 'y'),\n",
              " ('x', 'y', 'y', 'x'),\n",
              " ('x', 'y', 'y', 'y'),\n",
              " ('y', 'x', 'x', 'x'),\n",
              " ('y', 'x', 'x', 'y'),\n",
              " ('y', 'x', 'y', 'x'),\n",
              " ('y', 'x', 'y', 'y'),\n",
              " ('y', 'y', 'x', 'x'),\n",
              " ('y', 'y', 'x', 'y'),\n",
              " ('y', 'y', 'y', 'x'),\n",
              " ('y', 'y', 'y', 'y')]"
            ]
          },
          "metadata": {
            "tags": []
          },
          "execution_count": 12
        }
      ]
    },
    {
      "cell_type": "markdown",
      "metadata": {
        "id": "8bjqtgVhJ1ny",
        "colab_type": "text"
      },
      "source": [
        "#### 順列"
      ]
    },
    {
      "cell_type": "code",
      "metadata": {
        "id": "M1Re_yQquwWD",
        "colab_type": "code",
        "colab": {
          "base_uri": "https://localhost:8080/",
          "height": 221
        },
        "outputId": "9f36c16f-a537-451e-bf74-9a84b83c22f6"
      },
      "source": [
        "# 図表 3-6\n",
        "list(itertools.permutations('1234',2))"
      ],
      "execution_count": 13,
      "outputs": [
        {
          "output_type": "execute_result",
          "data": {
            "text/plain": [
              "[('1', '2'),\n",
              " ('1', '3'),\n",
              " ('1', '4'),\n",
              " ('2', '1'),\n",
              " ('2', '3'),\n",
              " ('2', '4'),\n",
              " ('3', '1'),\n",
              " ('3', '2'),\n",
              " ('3', '4'),\n",
              " ('4', '1'),\n",
              " ('4', '2'),\n",
              " ('4', '3')]"
            ]
          },
          "metadata": {
            "tags": []
          },
          "execution_count": 13
        }
      ]
    },
    {
      "cell_type": "code",
      "metadata": {
        "id": "dNxgYUUq783X",
        "colab_type": "code",
        "colab": {
          "base_uri": "https://localhost:8080/",
          "height": 119
        },
        "outputId": "ab85822b-fab0-488d-c07a-77ab592b0979"
      },
      "source": [
        "# 図表 3-7\n",
        "list(itertools.permutations('abc',3))"
      ],
      "execution_count": 14,
      "outputs": [
        {
          "output_type": "execute_result",
          "data": {
            "text/plain": [
              "[('a', 'b', 'c'),\n",
              " ('a', 'c', 'b'),\n",
              " ('b', 'a', 'c'),\n",
              " ('b', 'c', 'a'),\n",
              " ('c', 'a', 'b'),\n",
              " ('c', 'b', 'a')]"
            ]
          },
          "metadata": {
            "tags": []
          },
          "execution_count": 14
        }
      ]
    },
    {
      "cell_type": "code",
      "metadata": {
        "id": "03yp8A-o79HB",
        "colab_type": "code",
        "colab": {
          "base_uri": "https://localhost:8080/",
          "height": 51
        },
        "outputId": "62d60566-3431-4f88-dd14-e8c8eeb3051b"
      },
      "source": [
        "# 階乗の計算\n",
        "\n",
        "import math\n",
        "\n",
        "def fact(n):\n",
        "  if n == 0: return 1\n",
        "  return n*fact(n-1)\n",
        "\n",
        "print(fact(3))\n",
        "\n",
        "print(math.factorial(3))"
      ],
      "execution_count": 15,
      "outputs": [
        {
          "output_type": "stream",
          "text": [
            "6\n",
            "6\n"
          ],
          "name": "stdout"
        }
      ]
    },
    {
      "cell_type": "markdown",
      "metadata": {
        "id": "L84MzjQmYn-Q",
        "colab_type": "text"
      },
      "source": [
        "### 二項定理の計算"
      ]
    },
    {
      "cell_type": "code",
      "metadata": {
        "id": "xVJ5oP4x79Kg",
        "colab_type": "code",
        "colab": {
          "base_uri": "https://localhost:8080/",
          "height": 34
        },
        "outputId": "aa6a535a-0cc4-468e-87d2-a672e93eef75"
      },
      "source": [
        "def calc(k):\n",
        "  return [math.factorial(k)/(math.factorial(i)*math.factorial(k-i)) for i in range(k+1)]\n",
        "\n",
        "calc(4)"
      ],
      "execution_count": 16,
      "outputs": [
        {
          "output_type": "execute_result",
          "data": {
            "text/plain": [
              "[1.000, 4.000, 6.000, 4.000, 1.000]"
            ]
          },
          "metadata": {
            "tags": []
          },
          "execution_count": 16
        }
      ]
    },
    {
      "cell_type": "code",
      "metadata": {
        "id": "FxYA-qAWuwb7",
        "colab_type": "code",
        "colab": {
          "base_uri": "https://localhost:8080/",
          "height": 34
        },
        "outputId": "7cb844ac-8d81-46bf-81bd-0884a31d7e7a"
      },
      "source": [
        "from scipy.special import comb\n",
        "\n",
        "n = 4\n",
        "\n",
        "print([comb(n,i,exact=True ) for i in range(n+1)])"
      ],
      "execution_count": 17,
      "outputs": [
        {
          "output_type": "stream",
          "text": [
            "[1, 4, 6, 4, 1]\n"
          ],
          "name": "stdout"
        }
      ]
    },
    {
      "cell_type": "markdown",
      "metadata": {
        "id": "R31T7GLIcM94",
        "colab_type": "text"
      },
      "source": [
        "## 二項定理と組み合わせの数から複雑な確率計算へ"
      ]
    },
    {
      "cell_type": "code",
      "metadata": {
        "id": "Zn2bSa4JlZQZ",
        "colab_type": "code",
        "colab": {
          "base_uri": "https://localhost:8080/",
          "height": 34
        },
        "outputId": "7bfb1b20-c162-4a49-df31-9d5208a3d0ef"
      },
      "source": [
        "import matplotlib as mpl\n",
        "print(mpl.rcParams['font.family'])"
      ],
      "execution_count": 18,
      "outputs": [
        {
          "output_type": "stream",
          "text": [
            "['sans-serif']\n"
          ],
          "name": "stdout"
        }
      ]
    },
    {
      "cell_type": "code",
      "metadata": {
        "id": "qw8QhrlHuwZt",
        "colab_type": "code",
        "colab": {
          "base_uri": "https://localhost:8080/",
          "height": 318
        },
        "outputId": "7e3aa6ce-8367-4ada-a63f-8dfc1a68a7ac"
      },
      "source": [
        "from scipy.stats import binom\n",
        "\n",
        "p = 0.36\n",
        "N = 10\n",
        "\n",
        "k = np.arange(N+1)\n",
        "\n",
        "fig, ax = plt.subplots(1,1)\n",
        "ax.vlines(k,0,binom.pmf(k,N,p),color='b',lw=10,alpha=0.5)\n",
        "ax.set_xlabel('x')\n",
        "ax.set_ylabel('$ P(x=k) $')\n",
        "ax.set_title(\"3-8\")\n",
        "\n",
        "print(\"図表　3-8\")\n",
        "\n",
        "plt.savefig('./out/3-8.png')"
      ],
      "execution_count": 19,
      "outputs": [
        {
          "output_type": "stream",
          "text": [
            "図表　3-8\n"
          ],
          "name": "stdout"
        },
        {
          "output_type": "display_data",
          "data": {
            "image/png": "[encoded data removed]",
            "text/plain": [
              "<Figure size 432x288 with 1 Axes>"
            ]
          },
          "metadata": {
            "tags": []
          }
        }
      ]
    },
    {
      "cell_type": "code",
      "metadata": {
        "id": "NX4tpyIibqFh",
        "colab_type": "code",
        "colab": {
          "base_uri": "https://localhost:8080/",
          "height": 34
        },
        "outputId": "f3102256-32e1-43be-bfb5-740344a3fcae"
      },
      "source": [
        "k = 0\n",
        "binom.pmf(k,N,p)"
      ],
      "execution_count": 20,
      "outputs": [
        {
          "output_type": "execute_result",
          "data": {
            "text/plain": [
              "0.012"
            ]
          },
          "metadata": {
            "tags": []
          },
          "execution_count": 20
        }
      ]
    },
    {
      "cell_type": "code",
      "metadata": {
        "id": "7COhsUYNbqLU",
        "colab_type": "code",
        "colab": {
          "base_uri": "https://localhost:8080/",
          "height": 34
        },
        "outputId": "fd8a2d86-1f90-4ff0-a212-b277e9c67e65"
      },
      "source": [
        "k = 1\n",
        "binom.pmf(k,N,p)"
      ],
      "execution_count": 21,
      "outputs": [
        {
          "output_type": "execute_result",
          "data": {
            "text/plain": [
              "0.065"
            ]
          },
          "metadata": {
            "tags": []
          },
          "execution_count": 21
        }
      ]
    },
    {
      "cell_type": "code",
      "metadata": {
        "id": "2Kj2XatEbqP7",
        "colab_type": "code",
        "colab": {
          "base_uri": "https://localhost:8080/",
          "height": 34
        },
        "outputId": "0366dfe8-72f8-45a2-fae8-03edd9937ff7"
      },
      "source": [
        "k = 2\n",
        "binom.cdf(k,N,p)"
      ],
      "execution_count": 22,
      "outputs": [
        {
          "output_type": "execute_result",
          "data": {
            "text/plain": [
              "0.241"
            ]
          },
          "metadata": {
            "tags": []
          },
          "execution_count": 22
        }
      ]
    },
    {
      "cell_type": "markdown",
      "metadata": {
        "id": "mB6uWhIwn2Ld",
        "colab_type": "text"
      },
      "source": [
        "# 掛け算と割り算を楽にする指数の考え方"
      ]
    },
    {
      "cell_type": "code",
      "metadata": {
        "id": "8-H1uQ36bqJt",
        "colab_type": "code",
        "colab": {
          "base_uri": "https://localhost:8080/",
          "height": 301
        },
        "outputId": "1e693df5-6f26-4e82-d385-6eec0f7ffc7d"
      },
      "source": [
        "y = lambda x: 2**x\n",
        "\n",
        "x = np.linspace(-5,5,50)\n",
        "plt.plot(x,y(x))\n",
        "plt.title('3-9')\n",
        "plt.ylim(0,10)\n",
        "\n",
        "print(\"図表 3-9：底が２の時の指数関数グラフ\")"
      ],
      "execution_count": 23,
      "outputs": [
        {
          "output_type": "stream",
          "text": [
            "図表 3-9：底が２の時の指数関数グラフ\n"
          ],
          "name": "stdout"
        },
        {
          "output_type": "display_data",
          "data": {
            "image/png": "[encoded data removed]",
            "text/plain": [
              "<Figure size 432x288 with 1 Axes>"
            ]
          },
          "metadata": {
            "tags": []
          }
        }
      ]
    },
    {
      "cell_type": "code",
      "metadata": {
        "id": "2GbTf5ivn1HE",
        "colab_type": "code",
        "colab": {
          "base_uri": "https://localhost:8080/",
          "height": 301
        },
        "outputId": "2e640b33-3e84-49e9-c99e-a5e8ae1c2148"
      },
      "source": [
        "y = lambda x: 1/2**x\n",
        "\n",
        "x = np.linspace(-5,5,50)\n",
        "plt.plot(x,y(x))\n",
        "plt.title('3-10')\n",
        "plt.ylim(0,10)\n",
        "\n",
        "print(\"図表 3-10：底が1/2のときの指数関数グラフ\")"
      ],
      "execution_count": 24,
      "outputs": [
        {
          "output_type": "stream",
          "text": [
            "図表 3-10：底が1/2のときの指数関数グラフ\n"
          ],
          "name": "stdout"
        },
        {
          "output_type": "display_data",
          "data": {
            "image/png": "[encoded data removed]",
            "text/plain": [
              "<Figure size 432x288 with 1 Axes>"
            ]
          },
          "metadata": {
            "tags": []
          }
        }
      ]
    },
    {
      "cell_type": "markdown",
      "metadata": {
        "id": "wzyyWo3K1vXc",
        "colab_type": "text"
      },
      "source": [
        "## 計算機を作り始めた男"
      ]
    },
    {
      "cell_type": "code",
      "metadata": {
        "id": "kKtW4yszn1Mu",
        "colab_type": "code",
        "colab": {}
      },
      "source": [
        "x = np.arange(11,101)/10\n",
        "df = pd.DataFrame({'x':x,'log10(x)': np.log10(x)})"
      ],
      "execution_count": 25,
      "outputs": []
    },
    {
      "cell_type": "code",
      "metadata": {
        "id": "td9VpwGFn1UE",
        "colab_type": "code",
        "colab": {
          "base_uri": "https://localhost:8080/",
          "height": 111
        },
        "outputId": "c3326289-a0de-4088-8197-9d893e2c5672"
      },
      "source": [
        "df[df['x'].isin([6,7.8])]"
      ],
      "execution_count": 26,
      "outputs": [
        {
          "output_type": "execute_result",
          "data": {
            "text/html": [
              "<div>\n",
              "<style scoped>\n",
              "    .dataframe tbody tr th:only-of-type {\n",
              "        vertical-align: middle;\n",
              "    }\n",
              "\n",
              "    .dataframe tbody tr th {\n",
              "        vertical-align: top;\n",
              "    }\n",
              "\n",
              "    .dataframe thead th {\n",
              "        text-align: right;\n",
              "    }\n",
              "</style>\n",
              "<table border=\"1\" class=\"dataframe\">\n",
              "  <thead>\n",
              "    <tr style=\"text-align: right;\">\n",
              "      <th></th>\n",
              "      <th>x</th>\n",
              "      <th>log10(x)</th>\n",
              "    </tr>\n",
              "  </thead>\n",
              "  <tbody>\n",
              "    <tr>\n",
              "      <th>49</th>\n",
              "      <td>6.0</td>\n",
              "      <td>0.778151</td>\n",
              "    </tr>\n",
              "    <tr>\n",
              "      <th>67</th>\n",
              "      <td>7.8</td>\n",
              "      <td>0.892095</td>\n",
              "    </tr>\n",
              "  </tbody>\n",
              "</table>\n",
              "</div>"
            ],
            "text/plain": [
              "      x  log10(x)\n",
              "49  6.0  0.778151\n",
              "67  7.8  0.892095"
            ]
          },
          "metadata": {
            "tags": []
          },
          "execution_count": 26
        }
      ]
    },
    {
      "cell_type": "code",
      "metadata": {
        "id": "pTQXKJWTn1Xy",
        "colab_type": "code",
        "colab": {
          "base_uri": "https://localhost:8080/",
          "height": 111
        },
        "outputId": "f211608b-f814-4d37-c099-f2a7af0d6205"
      },
      "source": [
        "df[df['x'].isin([2,1.4])]"
      ],
      "execution_count": 27,
      "outputs": [
        {
          "output_type": "execute_result",
          "data": {
            "text/html": [
              "<div>\n",
              "<style scoped>\n",
              "    .dataframe tbody tr th:only-of-type {\n",
              "        vertical-align: middle;\n",
              "    }\n",
              "\n",
              "    .dataframe tbody tr th {\n",
              "        vertical-align: top;\n",
              "    }\n",
              "\n",
              "    .dataframe thead th {\n",
              "        text-align: right;\n",
              "    }\n",
              "</style>\n",
              "<table border=\"1\" class=\"dataframe\">\n",
              "  <thead>\n",
              "    <tr style=\"text-align: right;\">\n",
              "      <th></th>\n",
              "      <th>x</th>\n",
              "      <th>log10(x)</th>\n",
              "    </tr>\n",
              "  </thead>\n",
              "  <tbody>\n",
              "    <tr>\n",
              "      <th>3</th>\n",
              "      <td>1.4</td>\n",
              "      <td>0.146128</td>\n",
              "    </tr>\n",
              "    <tr>\n",
              "      <th>9</th>\n",
              "      <td>2.0</td>\n",
              "      <td>0.301030</td>\n",
              "    </tr>\n",
              "  </tbody>\n",
              "</table>\n",
              "</div>"
            ],
            "text/plain": [
              "     x  log10(x)\n",
              "3  1.4  0.146128\n",
              "9  2.0  0.301030"
            ]
          },
          "metadata": {
            "tags": []
          },
          "execution_count": 27
        }
      ]
    },
    {
      "cell_type": "code",
      "metadata": {
        "id": "TKB15G_xAL59",
        "colab_type": "code",
        "colab": {
          "base_uri": "https://localhost:8080/",
          "height": 128
        },
        "outputId": "95c23d11-b484-4651-c542-4d67f6289266"
      },
      "source": [
        "df.query('x==[2,1.4]')"
      ],
      "execution_count": 28,
      "outputs": [
        {
          "output_type": "stream",
          "text": [
            "INFO:numexpr.utils:NumExpr defaulting to 2 threads.\n"
          ],
          "name": "stderr"
        },
        {
          "output_type": "execute_result",
          "data": {
            "text/html": [
              "<div>\n",
              "<style scoped>\n",
              "    .dataframe tbody tr th:only-of-type {\n",
              "        vertical-align: middle;\n",
              "    }\n",
              "\n",
              "    .dataframe tbody tr th {\n",
              "        vertical-align: top;\n",
              "    }\n",
              "\n",
              "    .dataframe thead th {\n",
              "        text-align: right;\n",
              "    }\n",
              "</style>\n",
              "<table border=\"1\" class=\"dataframe\">\n",
              "  <thead>\n",
              "    <tr style=\"text-align: right;\">\n",
              "      <th></th>\n",
              "      <th>x</th>\n",
              "      <th>log10(x)</th>\n",
              "    </tr>\n",
              "  </thead>\n",
              "  <tbody>\n",
              "    <tr>\n",
              "      <th>3</th>\n",
              "      <td>1.4</td>\n",
              "      <td>0.146128</td>\n",
              "    </tr>\n",
              "    <tr>\n",
              "      <th>9</th>\n",
              "      <td>2.0</td>\n",
              "      <td>0.301030</td>\n",
              "    </tr>\n",
              "  </tbody>\n",
              "</table>\n",
              "</div>"
            ],
            "text/plain": [
              "     x  log10(x)\n",
              "3  1.4  0.146128\n",
              "9  2.0  0.301030"
            ]
          },
          "metadata": {
            "tags": []
          },
          "execution_count": 28
        }
      ]
    },
    {
      "cell_type": "code",
      "metadata": {
        "id": "DBRdYBlun1Ri",
        "colab_type": "code",
        "colab": {
          "base_uri": "https://localhost:8080/",
          "height": 34
        },
        "outputId": "8308a1a2-a371-4ff7-f384-1e0270f865a9"
      },
      "source": [
        "import matplotlib\n",
        "print(matplotlib.matplotlib_fname())"
      ],
      "execution_count": 29,
      "outputs": [
        {
          "output_type": "stream",
          "text": [
            "/usr/local/lib/python3.6/dist-packages/matplotlib/mpl-data/matplotlibrc\n"
          ],
          "name": "stdout"
        }
      ]
    },
    {
      "cell_type": "markdown",
      "metadata": {
        "id": "LeUlx0F7CMai",
        "colab_type": "text"
      },
      "source": [
        "## 対数の性質と計算のためのルール"
      ]
    },
    {
      "cell_type": "code",
      "metadata": {
        "id": "i8J0dNStn1QG",
        "colab_type": "code",
        "colab": {
          "base_uri": "https://localhost:8080/",
          "height": 319
        },
        "outputId": "60ac3ef9-2464-438a-ef70-c7c7986ed30b"
      },
      "source": [
        "y = lambda x: np.log2(x)\n",
        "x = np.linspace(0,5,50)\n",
        "\n",
        "plt.plot(x,y(x))\n",
        "plt.ylim(-5,5)\n",
        "\n",
        "print(\"図表 3-14 ：底が 2 の時の対数関数グラフ\")"
      ],
      "execution_count": 30,
      "outputs": [
        {
          "output_type": "stream",
          "text": [
            "/usr/local/lib/python3.6/dist-packages/ipykernel_launcher.py:1: RuntimeWarning: divide by zero encountered in log2\n",
            "  \"\"\"Entry point for launching an IPython kernel.\n"
          ],
          "name": "stderr"
        },
        {
          "output_type": "stream",
          "text": [
            "図表 3-14 ：底が 2 の時の対数関数グラフ\n"
          ],
          "name": "stdout"
        },
        {
          "output_type": "display_data",
          "data": {
            "image/png": "[encoded data removed]",
            "text/plain": [
              "<Figure size 432x288 with 1 Axes>"
            ]
          },
          "metadata": {
            "tags": []
          }
        }
      ]
    },
    {
      "cell_type": "code",
      "metadata": {
        "id": "Hl--I7IaCvHM",
        "colab_type": "code",
        "colab": {
          "base_uri": "https://localhost:8080/",
          "height": 319
        },
        "outputId": "a9a14c34-7827-429a-cfba-432b753d62f3"
      },
      "source": [
        "y = lambda x: np.log(x)/np.log(0.5)\n",
        "x = np.linspace(0,5,50)\n",
        "\n",
        "plt.plot(x,y(x))\n",
        "plt.ylim(-5,5)\n",
        "\n",
        "print(\"図表 3-14 ：底が 0.5 の時の対数関数グラフ\")"
      ],
      "execution_count": 31,
      "outputs": [
        {
          "output_type": "stream",
          "text": [
            "/usr/local/lib/python3.6/dist-packages/ipykernel_launcher.py:1: RuntimeWarning: divide by zero encountered in log\n",
            "  \"\"\"Entry point for launching an IPython kernel.\n"
          ],
          "name": "stderr"
        },
        {
          "output_type": "stream",
          "text": [
            "図表 3-14 ：底が 0.5 の時の対数関数グラフ\n"
          ],
          "name": "stdout"
        },
        {
          "output_type": "display_data",
          "data": {
            "image/png": "[encoded data removed]",
            "text/plain": [
              "<Figure size 432x288 with 1 Axes>"
            ]
          },
          "metadata": {
            "tags": []
          }
        }
      ]
    },
    {
      "cell_type": "markdown",
      "metadata": {
        "id": "WK3_PYlxIsTO",
        "colab_type": "text"
      },
      "source": [
        "$ x = y $ <=> $ log_a x = log_a y $\n",
        "\n",
        "$ log_a xy = log_a x + log_a y $\n",
        "\n",
        "$ log_a \\dfrac{x}{y} = log_a x - log_a y $\n",
        "\n",
        "$ log_a x^n = n log_a x $\n",
        "\n",
        "$ log_a \\sqrt{x} = log_a x^\\frac{1}{2}  = \\frac{1}{2} log_a x $\n",
        "\n",
        "$ log_a x = \\dfrac{log_b x}{log_b a} $"
      ]
    },
    {
      "cell_type": "markdown",
      "metadata": {
        "id": "JmkMbH4hMour",
        "colab_type": "text"
      },
      "source": [
        "## ネイピア数 $ e $ の意味とロジスティック回帰\n",
        "\n",
        "$ \\displaystyle e = \\lim_{x \\to \\infty} \\left( 1+ \\dfrac{1}{n} \\right)^n $ \n",
        "\n",
        "$ log \\dfrac{p}{1-p} = a + bx $"
      ]
    },
    {
      "cell_type": "code",
      "metadata": {
        "id": "nSEk7jdwCvVx",
        "colab_type": "code",
        "colab": {
          "base_uri": "https://localhost:8080/",
          "height": 301
        },
        "outputId": "2d15cdc5-2eb1-49a8-a861-bc2659534e41"
      },
      "source": [
        "y = lambda x: 1/(1+np.exp(-x))\n",
        "x = np.linspace(-5,5,50)\n",
        "\n",
        "plt.plot(x,y(x))\n",
        "plt.title('3-15')\n",
        "\n",
        "print(\"図表 3-15\")"
      ],
      "execution_count": 32,
      "outputs": [
        {
          "output_type": "stream",
          "text": [
            "図表 3-15\n"
          ],
          "name": "stdout"
        },
        {
          "output_type": "display_data",
          "data": {
            "image/png": "[encoded data removed]",
            "text/plain": [
              "<Figure size 432x288 with 1 Axes>"
            ]
          },
          "metadata": {
            "tags": []
          }
        }
      ]
    },
    {
      "cell_type": "markdown",
      "metadata": {
        "id": "sWIARYrlONVm",
        "colab_type": "text"
      },
      "source": [
        "# 三平方の定理とデータの「距離」"
      ]
    },
    {
      "cell_type": "code",
      "metadata": {
        "id": "D4H3ZFl-Cvaz",
        "colab_type": "code",
        "colab": {
          "base_uri": "https://localhost:8080/",
          "height": 153
        },
        "outputId": "3b1045f5-9bd5-4c75-e501-d80fbddc0832"
      },
      "source": [
        "cities = np.array([[43.062083, 141.354389], # 札幌\n",
        "                   [38.268056, 140.869722], # 仙台\n",
        "                   [35.689472, 139.69175], # 東京\n",
        "                   [35.181389, 136.906389], # 名古屋\n",
        "                   [34.69375, 135.502111], # 大阪\n",
        "                   [34.38525, 132.455306], # 広島\n",
        "                   [33.590139, 130.401722], # 福岡\n",
        "                   [26.213083, 127.678056]]) # 那覇\n",
        "\n",
        "cities"
      ],
      "execution_count": 33,
      "outputs": [
        {
          "output_type": "execute_result",
          "data": {
            "text/plain": [
              "array([[ 43.062, 141.354],\n",
              "       [ 38.268, 140.87 ],\n",
              "       [ 35.689, 139.692],\n",
              "       [ 35.181, 136.906],\n",
              "       [ 34.694, 135.502],\n",
              "       [ 34.385, 132.455],\n",
              "       [ 33.59 , 130.402],\n",
              "       [ 26.213, 127.678]])"
            ]
          },
          "metadata": {
            "tags": []
          },
          "execution_count": 33
        }
      ]
    },
    {
      "cell_type": "code",
      "metadata": {
        "id": "8UnAccqMCvTi",
        "colab_type": "code",
        "colab": {
          "base_uri": "https://localhost:8080/",
          "height": 153
        },
        "outputId": "e0686088-cc20-450d-c6d8-83cc82ae2d45"
      },
      "source": [
        "all_diffs = np.expand_dims(cities,axis=1) - np.expand_dims(cities,axis=0)\n",
        "digree_distance = np.sqrt(np.sum(all_diffs**2,axis=-1))\n",
        "distance = (101*digree_distance).astype(np.int32)\n",
        "distance"
      ],
      "execution_count": 34,
      "outputs": [
        {
          "output_type": "execute_result",
          "data": {
            "text/plain": [
              "array([[   0,  486,  763,  913, 1031, 1255, 1462, 2191],\n",
              "       [ 486,    0,  286,  507,  651,  935, 1158, 1804],\n",
              "       [ 763,  286,    0,  285,  434,  742,  961, 1545],\n",
              "       [ 913,  507,  285,    0,  150,  456,  676, 1299],\n",
              "       [1031,  651,  434,  150,    0,  309,  527, 1165],\n",
              "       [1255,  935,  742,  456,  309,    0,  222,  956],\n",
              "       [1462, 1158,  961,  676,  527,  222,    0,  794],\n",
              "       [2191, 1804, 1545, 1299, 1165,  956,  794,    0]], dtype=int32)"
            ]
          },
          "metadata": {
            "tags": []
          },
          "execution_count": 34
        }
      ]
    },
    {
      "cell_type": "code",
      "metadata": {
        "id": "y5krCJCuoOgF",
        "colab_type": "code",
        "colab": {
          "base_uri": "https://localhost:8080/",
          "height": 34
        },
        "outputId": "2457565d-e97a-4d0d-8fff-89e52f1e5170"
      },
      "source": [
        "a = cities[1]\n",
        "b = cities[0]\n",
        "np.linalg.norm(a-b)*101"
      ],
      "execution_count": 35,
      "outputs": [
        {
          "output_type": "execute_result",
          "data": {
            "text/plain": [
              "486.665"
            ]
          },
          "metadata": {
            "tags": []
          },
          "execution_count": 35
        }
      ]
    },
    {
      "cell_type": "code",
      "metadata": {
        "id": "G2mwxst-ZEZH",
        "colab_type": "code",
        "colab": {
          "base_uri": "https://localhost:8080/",
          "height": 297
        },
        "outputId": "2e49c644-e887-4ad4-fe54-fc07ae84bc75"
      },
      "source": [
        "pd.DataFrame(distance, index=[\"札幌\",\"仙台\",\"東京\",\"名古屋\",\"大阪\",\"広島\",\"福岡\",\"那覇\"],columns=[\"札幌\",\"仙台\",\"東京\",\"名古屋\",\"大阪\",\"広島\",\"福岡\",\"那覇\"])"
      ],
      "execution_count": 36,
      "outputs": [
        {
          "output_type": "execute_result",
          "data": {
            "text/html": [
              "<div>\n",
              "<style scoped>\n",
              "    .dataframe tbody tr th:only-of-type {\n",
              "        vertical-align: middle;\n",
              "    }\n",
              "\n",
              "    .dataframe tbody tr th {\n",
              "        vertical-align: top;\n",
              "    }\n",
              "\n",
              "    .dataframe thead th {\n",
              "        text-align: right;\n",
              "    }\n",
              "</style>\n",
              "<table border=\"1\" class=\"dataframe\">\n",
              "  <thead>\n",
              "    <tr style=\"text-align: right;\">\n",
              "      <th></th>\n",
              "      <th>札幌</th>\n",
              "      <th>仙台</th>\n",
              "      <th>東京</th>\n",
              "      <th>名古屋</th>\n",
              "      <th>大阪</th>\n",
              "      <th>広島</th>\n",
              "      <th>福岡</th>\n",
              "      <th>那覇</th>\n",
              "    </tr>\n",
              "  </thead>\n",
              "  <tbody>\n",
              "    <tr>\n",
              "      <th>札幌</th>\n",
              "      <td>0</td>\n",
              "      <td>486</td>\n",
              "      <td>763</td>\n",
              "      <td>913</td>\n",
              "      <td>1031</td>\n",
              "      <td>1255</td>\n",
              "      <td>1462</td>\n",
              "      <td>2191</td>\n",
              "    </tr>\n",
              "    <tr>\n",
              "      <th>仙台</th>\n",
              "      <td>486</td>\n",
              "      <td>0</td>\n",
              "      <td>286</td>\n",
              "      <td>507</td>\n",
              "      <td>651</td>\n",
              "      <td>935</td>\n",
              "      <td>1158</td>\n",
              "      <td>1804</td>\n",
              "    </tr>\n",
              "    <tr>\n",
              "      <th>東京</th>\n",
              "      <td>763</td>\n",
              "      <td>286</td>\n",
              "      <td>0</td>\n",
              "      <td>285</td>\n",
              "      <td>434</td>\n",
              "      <td>742</td>\n",
              "      <td>961</td>\n",
              "      <td>1545</td>\n",
              "    </tr>\n",
              "    <tr>\n",
              "      <th>名古屋</th>\n",
              "      <td>913</td>\n",
              "      <td>507</td>\n",
              "      <td>285</td>\n",
              "      <td>0</td>\n",
              "      <td>150</td>\n",
              "      <td>456</td>\n",
              "      <td>676</td>\n",
              "      <td>1299</td>\n",
              "    </tr>\n",
              "    <tr>\n",
              "      <th>大阪</th>\n",
              "      <td>1031</td>\n",
              "      <td>651</td>\n",
              "      <td>434</td>\n",
              "      <td>150</td>\n",
              "      <td>0</td>\n",
              "      <td>309</td>\n",
              "      <td>527</td>\n",
              "      <td>1165</td>\n",
              "    </tr>\n",
              "    <tr>\n",
              "      <th>広島</th>\n",
              "      <td>1255</td>\n",
              "      <td>935</td>\n",
              "      <td>742</td>\n",
              "      <td>456</td>\n",
              "      <td>309</td>\n",
              "      <td>0</td>\n",
              "      <td>222</td>\n",
              "      <td>956</td>\n",
              "    </tr>\n",
              "    <tr>\n",
              "      <th>福岡</th>\n",
              "      <td>1462</td>\n",
              "      <td>1158</td>\n",
              "      <td>961</td>\n",
              "      <td>676</td>\n",
              "      <td>527</td>\n",
              "      <td>222</td>\n",
              "      <td>0</td>\n",
              "      <td>794</td>\n",
              "    </tr>\n",
              "    <tr>\n",
              "      <th>那覇</th>\n",
              "      <td>2191</td>\n",
              "      <td>1804</td>\n",
              "      <td>1545</td>\n",
              "      <td>1299</td>\n",
              "      <td>1165</td>\n",
              "      <td>956</td>\n",
              "      <td>794</td>\n",
              "      <td>0</td>\n",
              "    </tr>\n",
              "  </tbody>\n",
              "</table>\n",
              "</div>"
            ],
            "text/plain": [
              "       札幌    仙台    東京   名古屋    大阪    広島    福岡    那覇\n",
              "札幌      0   486   763   913  1031  1255  1462  2191\n",
              "仙台    486     0   286   507   651   935  1158  1804\n",
              "東京    763   286     0   285   434   742   961  1545\n",
              "名古屋   913   507   285     0   150   456   676  1299\n",
              "大阪   1031   651   434   150     0   309   527  1165\n",
              "広島   1255   935   742   456   309     0   222   956\n",
              "福岡   1462  1158   961   676   527   222     0   794\n",
              "那覇   2191  1804  1545  1299  1165   956   794     0"
            ]
          },
          "metadata": {
            "tags": []
          },
          "execution_count": 36
        }
      ]
    },
    {
      "cell_type": "code",
      "metadata": {
        "id": "ENLtwZtkCvQY",
        "colab_type": "code",
        "colab": {
          "base_uri": "https://localhost:8080/",
          "height": 34
        },
        "outputId": "706237a9-608f-43a8-df25-6d56a9fb75f4"
      },
      "source": [
        "array_ = np.array(cities, dtype=int)[1:3,:1]\n",
        "array_.shape"
      ],
      "execution_count": 37,
      "outputs": [
        {
          "output_type": "execute_result",
          "data": {
            "text/plain": [
              "(2, 1)"
            ]
          },
          "metadata": {
            "tags": []
          },
          "execution_count": 37
        }
      ]
    },
    {
      "cell_type": "code",
      "metadata": {
        "id": "aDGYofA0CvLT",
        "colab_type": "code",
        "colab": {
          "base_uri": "https://localhost:8080/",
          "height": 34
        },
        "outputId": "b3c17720-5587-4d1d-9405-6e4547cf0035"
      },
      "source": [
        "np.expand_dims(array_,axis=1).shape"
      ],
      "execution_count": 38,
      "outputs": [
        {
          "output_type": "execute_result",
          "data": {
            "text/plain": [
              "(2, 1, 1)"
            ]
          },
          "metadata": {
            "tags": []
          },
          "execution_count": 38
        }
      ]
    },
    {
      "cell_type": "code",
      "metadata": {
        "id": "K3e6dZ5k78w5",
        "colab_type": "code",
        "colab": {
          "base_uri": "https://localhost:8080/",
          "height": 34
        },
        "outputId": "a00b2bed-685b-4039-dfbc-cf3a1e88ca6d"
      },
      "source": [
        "np.expand_dims(array_,axis=0) .shape"
      ],
      "execution_count": 39,
      "outputs": [
        {
          "output_type": "execute_result",
          "data": {
            "text/plain": [
              "(1, 2, 1)"
            ]
          },
          "metadata": {
            "tags": []
          },
          "execution_count": 39
        }
      ]
    },
    {
      "cell_type": "code",
      "metadata": {
        "id": "XnTQwFtu7891",
        "colab_type": "code",
        "colab": {
          "base_uri": "https://localhost:8080/",
          "height": 102
        },
        "outputId": "4c2d6398-837b-4f06-ebcd-ca9f638e9bc1"
      },
      "source": [
        "np.expand_dims(array_,axis=1) - np.expand_dims(array_,axis=0) "
      ],
      "execution_count": 40,
      "outputs": [
        {
          "output_type": "execute_result",
          "data": {
            "text/plain": [
              "array([[[ 0],\n",
              "        [ 3]],\n",
              "\n",
              "       [[-3],\n",
              "        [ 0]]])"
            ]
          },
          "metadata": {
            "tags": []
          },
          "execution_count": 40
        }
      ]
    },
    {
      "cell_type": "code",
      "metadata": {
        "id": "U-XOmbLh7869",
        "colab_type": "code",
        "colab": {
          "base_uri": "https://localhost:8080/",
          "height": 68
        },
        "outputId": "fd20902b-d5da-40ff-bb65-b84263cf6904"
      },
      "source": [
        "a = np.arange(6).reshape(3,2)\n",
        "a"
      ],
      "execution_count": 41,
      "outputs": [
        {
          "output_type": "execute_result",
          "data": {
            "text/plain": [
              "array([[0, 1],\n",
              "       [2, 3],\n",
              "       [4, 5]])"
            ]
          },
          "metadata": {
            "tags": []
          },
          "execution_count": 41
        }
      ]
    },
    {
      "cell_type": "code",
      "metadata": {
        "id": "kHE7xUvrs272",
        "colab_type": "code",
        "colab": {
          "base_uri": "https://localhost:8080/",
          "height": 68
        },
        "outputId": "6a5596d8-61d2-4042-9212-a58b8e15441b"
      },
      "source": [
        "a_ = np.expand_dims(a,axis=0)\n",
        "a_"
      ],
      "execution_count": 42,
      "outputs": [
        {
          "output_type": "execute_result",
          "data": {
            "text/plain": [
              "array([[[0, 1],\n",
              "        [2, 3],\n",
              "        [4, 5]]])"
            ]
          },
          "metadata": {
            "tags": []
          },
          "execution_count": 42
        }
      ]
    },
    {
      "cell_type": "code",
      "metadata": {
        "id": "xXEeqMA0785M",
        "colab_type": "code",
        "colab": {
          "base_uri": "https://localhost:8080/",
          "height": 102
        },
        "outputId": "18ebe93a-6b1d-4460-f662-68594e97098f"
      },
      "source": [
        "b = np.expand_dims(a,axis=1)\n",
        "b"
      ],
      "execution_count": 43,
      "outputs": [
        {
          "output_type": "execute_result",
          "data": {
            "text/plain": [
              "array([[[0, 1]],\n",
              "\n",
              "       [[2, 3]],\n",
              "\n",
              "       [[4, 5]]])"
            ]
          },
          "metadata": {
            "tags": []
          },
          "execution_count": 43
        }
      ]
    },
    {
      "cell_type": "code",
      "metadata": {
        "id": "nXcs6f3A782z",
        "colab_type": "code",
        "colab": {
          "base_uri": "https://localhost:8080/",
          "height": 204
        },
        "outputId": "d0a62bed-057c-4c5f-99aa-5379cf30273c"
      },
      "source": [
        "c = a_-b\n",
        "c"
      ],
      "execution_count": 44,
      "outputs": [
        {
          "output_type": "execute_result",
          "data": {
            "text/plain": [
              "array([[[ 0,  0],\n",
              "        [ 2,  2],\n",
              "        [ 4,  4]],\n",
              "\n",
              "       [[-2, -2],\n",
              "        [ 0,  0],\n",
              "        [ 2,  2]],\n",
              "\n",
              "       [[-4, -4],\n",
              "        [-2, -2],\n",
              "        [ 0,  0]]])"
            ]
          },
          "metadata": {
            "tags": []
          },
          "execution_count": 44
        }
      ]
    },
    {
      "cell_type": "code",
      "metadata": {
        "id": "FxffOj-n781O",
        "colab_type": "code",
        "colab": {
          "base_uri": "https://localhost:8080/",
          "height": 68
        },
        "outputId": "d8bec67f-6f9c-4823-a35a-cc7ff26e1b27"
      },
      "source": [
        "np.sqrt(np.sum(c**2,axis=-1))"
      ],
      "execution_count": 45,
      "outputs": [
        {
          "output_type": "execute_result",
          "data": {
            "text/plain": [
              "array([[0.   , 2.828, 5.657],\n",
              "       [2.828, 0.   , 2.828],\n",
              "       [5.657, 2.828, 0.   ]])"
            ]
          },
          "metadata": {
            "tags": []
          },
          "execution_count": 45
        }
      ]
    },
    {
      "cell_type": "markdown",
      "metadata": {
        "id": "BawvkDlz4WQ0",
        "colab_type": "text"
      },
      "source": [
        "## 幾何学に対する代数の力業\n"
      ]
    },
    {
      "cell_type": "code",
      "metadata": {
        "id": "Lwiuygyh6Gd6",
        "colab_type": "code",
        "colab": {
          "base_uri": "https://localhost:8080/",
          "height": 34
        },
        "outputId": "a82dd98e-1065-4570-8269-0c450052936c"
      },
      "source": [
        "1/2*12*14*np.sin(1/6*np.pi)"
      ],
      "execution_count": 46,
      "outputs": [
        {
          "output_type": "execute_result",
          "data": {
            "text/plain": [
              "42.000"
            ]
          },
          "metadata": {
            "tags": []
          },
          "execution_count": 46
        }
      ]
    },
    {
      "cell_type": "code",
      "metadata": {
        "id": "rk77Xika7Ng4",
        "colab_type": "code",
        "colab": {
          "base_uri": "https://localhost:8080/",
          "height": 34
        },
        "outputId": "f04844f8-c4bc-4461-eef0-ad349e7a1196"
      },
      "source": [
        "np.sin(1/6*np.pi)"
      ],
      "execution_count": 47,
      "outputs": [
        {
          "output_type": "execute_result",
          "data": {
            "text/plain": [
              "0.500"
            ]
          },
          "metadata": {
            "tags": []
          },
          "execution_count": 47
        }
      ]
    },
    {
      "cell_type": "markdown",
      "metadata": {
        "id": "_Qd-Nnrt5-Ik",
        "colab_type": "text"
      },
      "source": [
        "\n",
        "## 拡張された三角関数の定義"
      ]
    },
    {
      "cell_type": "code",
      "metadata": {
        "id": "3PadsL3E78up",
        "colab_type": "code",
        "colab": {
          "base_uri": "https://localhost:8080/",
          "height": 34
        },
        "outputId": "6f20a3ec-b72f-40b1-efa2-c542fc098853"
      },
      "source": [
        "d = np.arange(0,370,30)\n",
        "d.dtype"
      ],
      "execution_count": 48,
      "outputs": [
        {
          "output_type": "execute_result",
          "data": {
            "text/plain": [
              "dtype('int64')"
            ]
          },
          "metadata": {
            "tags": []
          },
          "execution_count": 48
        }
      ]
    },
    {
      "cell_type": "code",
      "metadata": {
        "id": "nOD2Ytg_yEQk",
        "colab_type": "code",
        "colab": {
          "base_uri": "https://localhost:8080/",
          "height": 51
        },
        "outputId": "47bb0907-02a0-42c5-81b3-276e534b1f62"
      },
      "source": [
        "r = np.radians(d/np.pi)\n",
        "\n",
        "r"
      ],
      "execution_count": 49,
      "outputs": [
        {
          "output_type": "execute_result",
          "data": {
            "text/plain": [
              "array([0.   , 0.167, 0.333, 0.5  , 0.667, 0.833, 1.   , 1.167, 1.333,\n",
              "       1.5  , 1.667, 1.833, 2.   ])"
            ]
          },
          "metadata": {
            "tags": []
          },
          "execution_count": 49
        }
      ]
    },
    {
      "cell_type": "code",
      "metadata": {
        "id": "KxScYM9cyEOA",
        "colab_type": "code",
        "colab": {
          "base_uri": "https://localhost:8080/",
          "height": 85
        },
        "outputId": "dc5ce95c-0f18-4a36-c2cc-52781707221a"
      },
      "source": [
        "from fractions import Fraction\n",
        "f_ =np.zeros(len(d)).astype(str)\n",
        "print(f_)\n",
        "\n",
        "for i in np.arange(len(d)):\n",
        "  f = Fraction(str(r[i]))\n",
        "  f_[i] = str(f.limit_denominator(50))\n",
        "f_\n"
      ],
      "execution_count": 50,
      "outputs": [
        {
          "output_type": "stream",
          "text": [
            "['0.0' '0.0' '0.0' '0.0' '0.0' '0.0' '0.0' '0.0' '0.0' '0.0' '0.0' '0.0'\n",
            " '0.0']\n"
          ],
          "name": "stdout"
        },
        {
          "output_type": "execute_result",
          "data": {
            "text/plain": [
              "array(['0', '1/6', '1/3', '1/2', '2/3', '5/6', '1', '7/6', '4/3', '3/2',\n",
              "       '5/3', '11/6', '2'], dtype='<U32')"
            ]
          },
          "metadata": {
            "tags": []
          },
          "execution_count": 50
        }
      ]
    },
    {
      "cell_type": "code",
      "metadata": {
        "id": "k9DxzqcSr48g",
        "colab_type": "code",
        "colab": {}
      },
      "source": [
        "df = pd.DataFrame({'度数法':d,'弧度法':f_})"
      ],
      "execution_count": 51,
      "outputs": []
    },
    {
      "cell_type": "code",
      "metadata": {
        "id": "5qbWEYG3yELs",
        "colab_type": "code",
        "colab": {
          "base_uri": "https://localhost:8080/",
          "height": 469
        },
        "outputId": "3420fb0b-c350-4483-ac08-87f657ca4211"
      },
      "source": [
        "print(\"図表 3-32\")\n",
        "\n",
        "df['sin'] = np.sin(np.radians(d))\n",
        "df['cos'] = np.cos(np.radians(d))\n",
        "df"
      ],
      "execution_count": 52,
      "outputs": [
        {
          "output_type": "stream",
          "text": [
            "図表 3-32\n"
          ],
          "name": "stdout"
        },
        {
          "output_type": "execute_result",
          "data": {
            "text/html": [
              "<div>\n",
              "<style scoped>\n",
              "    .dataframe tbody tr th:only-of-type {\n",
              "        vertical-align: middle;\n",
              "    }\n",
              "\n",
              "    .dataframe tbody tr th {\n",
              "        vertical-align: top;\n",
              "    }\n",
              "\n",
              "    .dataframe thead th {\n",
              "        text-align: right;\n",
              "    }\n",
              "</style>\n",
              "<table border=\"1\" class=\"dataframe\">\n",
              "  <thead>\n",
              "    <tr style=\"text-align: right;\">\n",
              "      <th></th>\n",
              "      <th>度数法</th>\n",
              "      <th>弧度法</th>\n",
              "      <th>sin</th>\n",
              "      <th>cos</th>\n",
              "    </tr>\n",
              "  </thead>\n",
              "  <tbody>\n",
              "    <tr>\n",
              "      <th>0</th>\n",
              "      <td>0</td>\n",
              "      <td>0</td>\n",
              "      <td>0.000000e+00</td>\n",
              "      <td>1.000000e+00</td>\n",
              "    </tr>\n",
              "    <tr>\n",
              "      <th>1</th>\n",
              "      <td>30</td>\n",
              "      <td>1/6</td>\n",
              "      <td>5.000000e-01</td>\n",
              "      <td>8.660254e-01</td>\n",
              "    </tr>\n",
              "    <tr>\n",
              "      <th>2</th>\n",
              "      <td>60</td>\n",
              "      <td>1/3</td>\n",
              "      <td>8.660254e-01</td>\n",
              "      <td>5.000000e-01</td>\n",
              "    </tr>\n",
              "    <tr>\n",
              "      <th>3</th>\n",
              "      <td>90</td>\n",
              "      <td>1/2</td>\n",
              "      <td>1.000000e+00</td>\n",
              "      <td>6.123234e-17</td>\n",
              "    </tr>\n",
              "    <tr>\n",
              "      <th>4</th>\n",
              "      <td>120</td>\n",
              "      <td>2/3</td>\n",
              "      <td>8.660254e-01</td>\n",
              "      <td>-5.000000e-01</td>\n",
              "    </tr>\n",
              "    <tr>\n",
              "      <th>5</th>\n",
              "      <td>150</td>\n",
              "      <td>5/6</td>\n",
              "      <td>5.000000e-01</td>\n",
              "      <td>-8.660254e-01</td>\n",
              "    </tr>\n",
              "    <tr>\n",
              "      <th>6</th>\n",
              "      <td>180</td>\n",
              "      <td>1</td>\n",
              "      <td>1.224647e-16</td>\n",
              "      <td>-1.000000e+00</td>\n",
              "    </tr>\n",
              "    <tr>\n",
              "      <th>7</th>\n",
              "      <td>210</td>\n",
              "      <td>7/6</td>\n",
              "      <td>-5.000000e-01</td>\n",
              "      <td>-8.660254e-01</td>\n",
              "    </tr>\n",
              "    <tr>\n",
              "      <th>8</th>\n",
              "      <td>240</td>\n",
              "      <td>4/3</td>\n",
              "      <td>-8.660254e-01</td>\n",
              "      <td>-5.000000e-01</td>\n",
              "    </tr>\n",
              "    <tr>\n",
              "      <th>9</th>\n",
              "      <td>270</td>\n",
              "      <td>3/2</td>\n",
              "      <td>-1.000000e+00</td>\n",
              "      <td>-1.836970e-16</td>\n",
              "    </tr>\n",
              "    <tr>\n",
              "      <th>10</th>\n",
              "      <td>300</td>\n",
              "      <td>5/3</td>\n",
              "      <td>-8.660254e-01</td>\n",
              "      <td>5.000000e-01</td>\n",
              "    </tr>\n",
              "    <tr>\n",
              "      <th>11</th>\n",
              "      <td>330</td>\n",
              "      <td>11/6</td>\n",
              "      <td>-5.000000e-01</td>\n",
              "      <td>8.660254e-01</td>\n",
              "    </tr>\n",
              "    <tr>\n",
              "      <th>12</th>\n",
              "      <td>360</td>\n",
              "      <td>2</td>\n",
              "      <td>-2.449294e-16</td>\n",
              "      <td>1.000000e+00</td>\n",
              "    </tr>\n",
              "  </tbody>\n",
              "</table>\n",
              "</div>"
            ],
            "text/plain": [
              "    度数法   弧度法           sin           cos\n",
              "0     0     0  0.000000e+00  1.000000e+00\n",
              "1    30   1/6  5.000000e-01  8.660254e-01\n",
              "2    60   1/3  8.660254e-01  5.000000e-01\n",
              "3    90   1/2  1.000000e+00  6.123234e-17\n",
              "4   120   2/3  8.660254e-01 -5.000000e-01\n",
              "5   150   5/6  5.000000e-01 -8.660254e-01\n",
              "6   180     1  1.224647e-16 -1.000000e+00\n",
              "7   210   7/6 -5.000000e-01 -8.660254e-01\n",
              "8   240   4/3 -8.660254e-01 -5.000000e-01\n",
              "9   270   3/2 -1.000000e+00 -1.836970e-16\n",
              "10  300   5/3 -8.660254e-01  5.000000e-01\n",
              "11  330  11/6 -5.000000e-01  8.660254e-01\n",
              "12  360     2 -2.449294e-16  1.000000e+00"
            ]
          },
          "metadata": {
            "tags": []
          },
          "execution_count": 52
        }
      ]
    },
    {
      "cell_type": "markdown",
      "metadata": {
        "id": "-9gxrGgGj2rI",
        "colab_type": "text"
      },
      "source": [
        "# 統計学と機械学習のための $ \\Sigma $ 、ベクトル、行列\n"
      ]
    },
    {
      "cell_type": "markdown",
      "metadata": {
        "id": "UvUGrqXukKTT",
        "colab_type": "text"
      },
      "source": [
        "## たくさんの数をまとめて書きたい"
      ]
    },
    {
      "cell_type": "code",
      "metadata": {
        "id": "wvZGN3fEyEIq",
        "colab_type": "code",
        "colab": {
          "base_uri": "https://localhost:8080/",
          "height": 34
        },
        "outputId": "96b3cf83-bdbb-4f02-8a2c-3797b6f2f8e9"
      },
      "source": [
        "n = np.array([98,99,96,91,99,91,94,93,99,90])\n",
        "c = 90\n",
        "np.mean(n)"
      ],
      "execution_count": 53,
      "outputs": [
        {
          "output_type": "execute_result",
          "data": {
            "text/plain": [
              "95.000"
            ]
          },
          "metadata": {
            "tags": []
          },
          "execution_count": 53
        }
      ]
    },
    {
      "cell_type": "code",
      "metadata": {
        "id": "G4lnQSzXyEGY",
        "colab_type": "code",
        "colab": {
          "base_uri": "https://localhost:8080/",
          "height": 34
        },
        "outputId": "4c5426c5-fd01-4fab-e3a2-09db9dd55948"
      },
      "source": [
        "n-c"
      ],
      "execution_count": 54,
      "outputs": [
        {
          "output_type": "execute_result",
          "data": {
            "text/plain": [
              "array([8, 9, 6, 1, 9, 1, 4, 3, 9, 0])"
            ]
          },
          "metadata": {
            "tags": []
          },
          "execution_count": 54
        }
      ]
    },
    {
      "cell_type": "code",
      "metadata": {
        "id": "fT4nKlDFyEDQ",
        "colab_type": "code",
        "colab": {
          "base_uri": "https://localhost:8080/",
          "height": 34
        },
        "outputId": "51612682-7350-4a29-ba45-44fe134569bd"
      },
      "source": [
        "c+np.mean(n-c)"
      ],
      "execution_count": 55,
      "outputs": [
        {
          "output_type": "execute_result",
          "data": {
            "text/plain": [
              "95.000"
            ]
          },
          "metadata": {
            "tags": []
          },
          "execution_count": 55
        }
      ]
    },
    {
      "cell_type": "code",
      "metadata": {
        "id": "j6lb4E3vn1Kj",
        "colab_type": "code",
        "colab": {
          "base_uri": "https://localhost:8080/",
          "height": 359
        },
        "outputId": "93dae026-1ca0-48c3-9ca8-7bbce99c3f45"
      },
      "source": [
        "pd.DataFrame({'調査協力者':[str(i+1)+'人目' for i in np.arange(len(n))],'満足度':n, })"
      ],
      "execution_count": 56,
      "outputs": [
        {
          "output_type": "execute_result",
          "data": {
            "text/html": [
              "<div>\n",
              "<style scoped>\n",
              "    .dataframe tbody tr th:only-of-type {\n",
              "        vertical-align: middle;\n",
              "    }\n",
              "\n",
              "    .dataframe tbody tr th {\n",
              "        vertical-align: top;\n",
              "    }\n",
              "\n",
              "    .dataframe thead th {\n",
              "        text-align: right;\n",
              "    }\n",
              "</style>\n",
              "<table border=\"1\" class=\"dataframe\">\n",
              "  <thead>\n",
              "    <tr style=\"text-align: right;\">\n",
              "      <th></th>\n",
              "      <th>調査協力者</th>\n",
              "      <th>満足度</th>\n",
              "    </tr>\n",
              "  </thead>\n",
              "  <tbody>\n",
              "    <tr>\n",
              "      <th>0</th>\n",
              "      <td>1人目</td>\n",
              "      <td>98</td>\n",
              "    </tr>\n",
              "    <tr>\n",
              "      <th>1</th>\n",
              "      <td>2人目</td>\n",
              "      <td>99</td>\n",
              "    </tr>\n",
              "    <tr>\n",
              "      <th>2</th>\n",
              "      <td>3人目</td>\n",
              "      <td>96</td>\n",
              "    </tr>\n",
              "    <tr>\n",
              "      <th>3</th>\n",
              "      <td>4人目</td>\n",
              "      <td>91</td>\n",
              "    </tr>\n",
              "    <tr>\n",
              "      <th>4</th>\n",
              "      <td>5人目</td>\n",
              "      <td>99</td>\n",
              "    </tr>\n",
              "    <tr>\n",
              "      <th>5</th>\n",
              "      <td>6人目</td>\n",
              "      <td>91</td>\n",
              "    </tr>\n",
              "    <tr>\n",
              "      <th>6</th>\n",
              "      <td>7人目</td>\n",
              "      <td>94</td>\n",
              "    </tr>\n",
              "    <tr>\n",
              "      <th>7</th>\n",
              "      <td>8人目</td>\n",
              "      <td>93</td>\n",
              "    </tr>\n",
              "    <tr>\n",
              "      <th>8</th>\n",
              "      <td>9人目</td>\n",
              "      <td>99</td>\n",
              "    </tr>\n",
              "    <tr>\n",
              "      <th>9</th>\n",
              "      <td>10人目</td>\n",
              "      <td>90</td>\n",
              "    </tr>\n",
              "  </tbody>\n",
              "</table>\n",
              "</div>"
            ],
            "text/plain": [
              "  調査協力者  満足度\n",
              "0   1人目   98\n",
              "1   2人目   99\n",
              "2   3人目   96\n",
              "3   4人目   91\n",
              "4   5人目   99\n",
              "5   6人目   91\n",
              "6   7人目   94\n",
              "7   8人目   93\n",
              "8   9人目   99\n",
              "9  10人目   90"
            ]
          },
          "metadata": {
            "tags": []
          },
          "execution_count": 56
        }
      ]
    },
    {
      "cell_type": "markdown",
      "metadata": {
        "id": "dp2is6zo0iTN",
        "colab_type": "text"
      },
      "source": [
        "## $ \\Sigma $ より高密度に書くためのベクトル入門"
      ]
    },
    {
      "cell_type": "code",
      "metadata": {
        "id": "SsDkS8AKz0Yf",
        "colab_type": "code",
        "colab": {
          "base_uri": "https://localhost:8080/",
          "height": 34
        },
        "outputId": "4d762d64-b170-4b6f-a240-210e19b19a58"
      },
      "source": [
        "val = np.array([0.0,0.0,0.0])\n",
        "val[0] = 2.1\n",
        "val"
      ],
      "execution_count": 57,
      "outputs": [
        {
          "output_type": "execute_result",
          "data": {
            "text/plain": [
              "array([2.1, 0. , 0. ])"
            ]
          },
          "metadata": {
            "tags": []
          },
          "execution_count": 57
        }
      ]
    },
    {
      "cell_type": "code",
      "metadata": {
        "id": "fVtYT51w6K-z",
        "colab_type": "code",
        "colab": {
          "base_uri": "https://localhost:8080/",
          "height": 34
        },
        "outputId": "19611a95-b0f5-46d3-b116-a25494a2af30"
      },
      "source": [
        "a = np.array([1,4])\n",
        "b = np.array([5,2])\n",
        "c = np.array([1,4])\n",
        "\n",
        "-a+b+c"
      ],
      "execution_count": 58,
      "outputs": [
        {
          "output_type": "execute_result",
          "data": {
            "text/plain": [
              "array([5, 2])"
            ]
          },
          "metadata": {
            "tags": []
          },
          "execution_count": 58
        }
      ]
    },
    {
      "cell_type": "code",
      "metadata": {
        "id": "jjVKa6alIzUP",
        "colab_type": "code",
        "colab": {
          "base_uri": "https://localhost:8080/",
          "height": 34
        },
        "outputId": "48d675b8-5414-4548-e972-c6fcb7ff059e"
      },
      "source": [
        "-a+b"
      ],
      "execution_count": 59,
      "outputs": [
        {
          "output_type": "execute_result",
          "data": {
            "text/plain": [
              "array([ 4, -2])"
            ]
          },
          "metadata": {
            "tags": []
          },
          "execution_count": 59
        }
      ]
    },
    {
      "cell_type": "code",
      "metadata": {
        "id": "XXCGVg9FI4nr",
        "colab_type": "code",
        "colab": {}
      },
      "source": [
        ""
      ],
      "execution_count": 59,
      "outputs": []
    },
    {
      "cell_type": "markdown",
      "metadata": {
        "id": "cUmoVv8YHb0n",
        "colab_type": "text"
      },
      "source": [
        "## ベクトルの内積と $ \\Sigma $ の関係"
      ]
    },
    {
      "cell_type": "code",
      "metadata": {
        "id": "eNwJz2ROz0Vb",
        "colab_type": "code",
        "colab": {
          "base_uri": "https://localhost:8080/",
          "height": 34
        },
        "outputId": "5450e95b-481e-4333-fed7-4e80f5a602f8"
      },
      "source": [
        "sp.linalg.norm(b)"
      ],
      "execution_count": 60,
      "outputs": [
        {
          "output_type": "execute_result",
          "data": {
            "text/plain": [
              "5.385"
            ]
          },
          "metadata": {
            "tags": []
          },
          "execution_count": 60
        }
      ]
    },
    {
      "cell_type": "code",
      "metadata": {
        "id": "tIErJ3thz0S3",
        "colab_type": "code",
        "colab": {
          "base_uri": "https://localhost:8080/",
          "height": 34
        },
        "outputId": "051717e8-8f86-4ba9-9988-4a046b843e25"
      },
      "source": [
        "a@b"
      ],
      "execution_count": 61,
      "outputs": [
        {
          "output_type": "execute_result",
          "data": {
            "text/plain": [
              "13"
            ]
          },
          "metadata": {
            "tags": []
          },
          "execution_count": 61
        }
      ]
    },
    {
      "cell_type": "code",
      "metadata": {
        "id": "I0Qql9NNz0Pe",
        "colab_type": "code",
        "colab": {
          "base_uri": "https://localhost:8080/",
          "height": 34
        },
        "outputId": "714d41cb-0ebf-4040-cfd6-07773eb72cb1"
      },
      "source": [
        "b@a"
      ],
      "execution_count": 62,
      "outputs": [
        {
          "output_type": "execute_result",
          "data": {
            "text/plain": [
              "13"
            ]
          },
          "metadata": {
            "tags": []
          },
          "execution_count": 62
        }
      ]
    },
    {
      "cell_type": "code",
      "metadata": {
        "id": "yNrg7kJrz0NA",
        "colab_type": "code",
        "colab": {
          "base_uri": "https://localhost:8080/",
          "height": 34
        },
        "outputId": "83c8fd85-7c90-41b4-ca82-70dcd014d060"
      },
      "source": [
        "a@(b+c) == a@b+a@c"
      ],
      "execution_count": 63,
      "outputs": [
        {
          "output_type": "execute_result",
          "data": {
            "text/plain": [
              "True"
            ]
          },
          "metadata": {
            "tags": []
          },
          "execution_count": 63
        }
      ]
    },
    {
      "cell_type": "code",
      "metadata": {
        "id": "UFz6x7Caz0Kj",
        "colab_type": "code",
        "colab": {
          "base_uri": "https://localhost:8080/",
          "height": 34
        },
        "outputId": "25798db8-6bed-4017-9448-95cb8b1cd09c"
      },
      "source": [
        "sum([(a[i]*b[i]) for i in np.arange(len(a))])"
      ],
      "execution_count": 64,
      "outputs": [
        {
          "output_type": "execute_result",
          "data": {
            "text/plain": [
              "13"
            ]
          },
          "metadata": {
            "tags": []
          },
          "execution_count": 64
        }
      ]
    },
    {
      "cell_type": "code",
      "metadata": {
        "id": "1iBWpphuP8aQ",
        "colab_type": "code",
        "colab": {}
      },
      "source": [
        ""
      ],
      "execution_count": 64,
      "outputs": []
    },
    {
      "cell_type": "markdown",
      "metadata": {
        "id": "VF276sajNtUI",
        "colab_type": "text"
      },
      "source": [
        "## 統計学で内積の使い方\n",
        "\n",
        "相関係数 $ = \\displaystyle \\frac{\\Sigma_{i=1}^n (x_i - \\bar{x})(y_i - \\bar{y})}{\\sqrt{\\Sigma_{i=1}^n (x_i - \\bar{x})^2 }\\sqrt{\\Sigma_{i=1}^n (y_i - \\bar{y})^2}} $"
      ]
    },
    {
      "cell_type": "code",
      "metadata": {
        "id": "IIJ-soxCP8Xm",
        "colab_type": "code",
        "colab": {
          "base_uri": "https://localhost:8080/",
          "height": 359
        },
        "outputId": "4b520968-343f-44e5-ec74-788b66b6f1fb"
      },
      "source": [
        "x = np.array([85,73,52,88,98,81,92,87,96,88])\n",
        "y = np.array([8,6,2,2,9,7,9,8,5,4])\n",
        "df = pd.DataFrame({'調査協力者':[str(i+1)+'人目' for i in np.arange(len(x))],'満足度(x)':x, '購買回数（y）':y })\n",
        "df"
      ],
      "execution_count": 65,
      "outputs": [
        {
          "output_type": "execute_result",
          "data": {
            "text/html": [
              "<div>\n",
              "<style scoped>\n",
              "    .dataframe tbody tr th:only-of-type {\n",
              "        vertical-align: middle;\n",
              "    }\n",
              "\n",
              "    .dataframe tbody tr th {\n",
              "        vertical-align: top;\n",
              "    }\n",
              "\n",
              "    .dataframe thead th {\n",
              "        text-align: right;\n",
              "    }\n",
              "</style>\n",
              "<table border=\"1\" class=\"dataframe\">\n",
              "  <thead>\n",
              "    <tr style=\"text-align: right;\">\n",
              "      <th></th>\n",
              "      <th>調査協力者</th>\n",
              "      <th>満足度(x)</th>\n",
              "      <th>購買回数（y）</th>\n",
              "    </tr>\n",
              "  </thead>\n",
              "  <tbody>\n",
              "    <tr>\n",
              "      <th>0</th>\n",
              "      <td>1人目</td>\n",
              "      <td>85</td>\n",
              "      <td>8</td>\n",
              "    </tr>\n",
              "    <tr>\n",
              "      <th>1</th>\n",
              "      <td>2人目</td>\n",
              "      <td>73</td>\n",
              "      <td>6</td>\n",
              "    </tr>\n",
              "    <tr>\n",
              "      <th>2</th>\n",
              "      <td>3人目</td>\n",
              "      <td>52</td>\n",
              "      <td>2</td>\n",
              "    </tr>\n",
              "    <tr>\n",
              "      <th>3</th>\n",
              "      <td>4人目</td>\n",
              "      <td>88</td>\n",
              "      <td>2</td>\n",
              "    </tr>\n",
              "    <tr>\n",
              "      <th>4</th>\n",
              "      <td>5人目</td>\n",
              "      <td>98</td>\n",
              "      <td>9</td>\n",
              "    </tr>\n",
              "    <tr>\n",
              "      <th>5</th>\n",
              "      <td>6人目</td>\n",
              "      <td>81</td>\n",
              "      <td>7</td>\n",
              "    </tr>\n",
              "    <tr>\n",
              "      <th>6</th>\n",
              "      <td>7人目</td>\n",
              "      <td>92</td>\n",
              "      <td>9</td>\n",
              "    </tr>\n",
              "    <tr>\n",
              "      <th>7</th>\n",
              "      <td>8人目</td>\n",
              "      <td>87</td>\n",
              "      <td>8</td>\n",
              "    </tr>\n",
              "    <tr>\n",
              "      <th>8</th>\n",
              "      <td>9人目</td>\n",
              "      <td>96</td>\n",
              "      <td>5</td>\n",
              "    </tr>\n",
              "    <tr>\n",
              "      <th>9</th>\n",
              "      <td>10人目</td>\n",
              "      <td>88</td>\n",
              "      <td>4</td>\n",
              "    </tr>\n",
              "  </tbody>\n",
              "</table>\n",
              "</div>"
            ],
            "text/plain": [
              "  調査協力者  満足度(x)  購買回数（y）\n",
              "0   1人目      85        8\n",
              "1   2人目      73        6\n",
              "2   3人目      52        2\n",
              "3   4人目      88        2\n",
              "4   5人目      98        9\n",
              "5   6人目      81        7\n",
              "6   7人目      92        9\n",
              "7   8人目      87        8\n",
              "8   9人目      96        5\n",
              "9  10人目      88        4"
            ]
          },
          "metadata": {
            "tags": []
          },
          "execution_count": 65
        }
      ]
    },
    {
      "cell_type": "code",
      "metadata": {
        "id": "t8PwMK0jXg34",
        "colab_type": "code",
        "colab": {
          "base_uri": "https://localhost:8080/",
          "height": 111
        },
        "outputId": "ab34894b-d514-4ac7-ba41-9eca0e521bef"
      },
      "source": [
        "df.corr()"
      ],
      "execution_count": 66,
      "outputs": [
        {
          "output_type": "execute_result",
          "data": {
            "text/html": [
              "<div>\n",
              "<style scoped>\n",
              "    .dataframe tbody tr th:only-of-type {\n",
              "        vertical-align: middle;\n",
              "    }\n",
              "\n",
              "    .dataframe tbody tr th {\n",
              "        vertical-align: top;\n",
              "    }\n",
              "\n",
              "    .dataframe thead th {\n",
              "        text-align: right;\n",
              "    }\n",
              "</style>\n",
              "<table border=\"1\" class=\"dataframe\">\n",
              "  <thead>\n",
              "    <tr style=\"text-align: right;\">\n",
              "      <th></th>\n",
              "      <th>満足度(x)</th>\n",
              "      <th>購買回数（y）</th>\n",
              "    </tr>\n",
              "  </thead>\n",
              "  <tbody>\n",
              "    <tr>\n",
              "      <th>満足度(x)</th>\n",
              "      <td>1.000000</td>\n",
              "      <td>0.509375</td>\n",
              "    </tr>\n",
              "    <tr>\n",
              "      <th>購買回数（y）</th>\n",
              "      <td>0.509375</td>\n",
              "      <td>1.000000</td>\n",
              "    </tr>\n",
              "  </tbody>\n",
              "</table>\n",
              "</div>"
            ],
            "text/plain": [
              "           満足度(x)   購買回数（y）\n",
              "満足度(x)   1.000000  0.509375\n",
              "購買回数（y）  0.509375  1.000000"
            ]
          },
          "metadata": {
            "tags": []
          },
          "execution_count": 66
        }
      ]
    },
    {
      "cell_type": "code",
      "metadata": {
        "id": "rrzRKCRdNsgJ",
        "colab_type": "code",
        "colab": {
          "base_uri": "https://localhost:8080/",
          "height": 376
        },
        "outputId": "ee847f03-a092-4cfa-eeb4-0feda9f09159"
      },
      "source": [
        "print('図表 4-9')\n",
        "\n",
        "df['満足度-平均値'] = df['満足度(x)']- df['満足度(x)'].mean()\n",
        "df['購買回数-平均値'] = df['購買回数（y）'] - df['購買回数（y）'].mean()\n",
        "df['pq'] = df['満足度-平均値']*df['購買回数-平均値']\n",
        "df['p**2'] = df['満足度-平均値']**2\n",
        "df['q**2'] = df['購買回数-平均値']**2\n",
        "df"
      ],
      "execution_count": 67,
      "outputs": [
        {
          "output_type": "stream",
          "text": [
            "図表 4-9\n"
          ],
          "name": "stdout"
        },
        {
          "output_type": "execute_result",
          "data": {
            "text/html": [
              "<div>\n",
              "<style scoped>\n",
              "    .dataframe tbody tr th:only-of-type {\n",
              "        vertical-align: middle;\n",
              "    }\n",
              "\n",
              "    .dataframe tbody tr th {\n",
              "        vertical-align: top;\n",
              "    }\n",
              "\n",
              "    .dataframe thead th {\n",
              "        text-align: right;\n",
              "    }\n",
              "</style>\n",
              "<table border=\"1\" class=\"dataframe\">\n",
              "  <thead>\n",
              "    <tr style=\"text-align: right;\">\n",
              "      <th></th>\n",
              "      <th>調査協力者</th>\n",
              "      <th>満足度(x)</th>\n",
              "      <th>購買回数（y）</th>\n",
              "      <th>満足度-平均値</th>\n",
              "      <th>購買回数-平均値</th>\n",
              "      <th>pq</th>\n",
              "      <th>p**2</th>\n",
              "      <th>q**2</th>\n",
              "    </tr>\n",
              "  </thead>\n",
              "  <tbody>\n",
              "    <tr>\n",
              "      <th>0</th>\n",
              "      <td>1人目</td>\n",
              "      <td>85</td>\n",
              "      <td>8</td>\n",
              "      <td>1.0</td>\n",
              "      <td>2.0</td>\n",
              "      <td>2.0</td>\n",
              "      <td>1.0</td>\n",
              "      <td>4.0</td>\n",
              "    </tr>\n",
              "    <tr>\n",
              "      <th>1</th>\n",
              "      <td>2人目</td>\n",
              "      <td>73</td>\n",
              "      <td>6</td>\n",
              "      <td>-11.0</td>\n",
              "      <td>0.0</td>\n",
              "      <td>-0.0</td>\n",
              "      <td>121.0</td>\n",
              "      <td>0.0</td>\n",
              "    </tr>\n",
              "    <tr>\n",
              "      <th>2</th>\n",
              "      <td>3人目</td>\n",
              "      <td>52</td>\n",
              "      <td>2</td>\n",
              "      <td>-32.0</td>\n",
              "      <td>-4.0</td>\n",
              "      <td>128.0</td>\n",
              "      <td>1024.0</td>\n",
              "      <td>16.0</td>\n",
              "    </tr>\n",
              "    <tr>\n",
              "      <th>3</th>\n",
              "      <td>4人目</td>\n",
              "      <td>88</td>\n",
              "      <td>2</td>\n",
              "      <td>4.0</td>\n",
              "      <td>-4.0</td>\n",
              "      <td>-16.0</td>\n",
              "      <td>16.0</td>\n",
              "      <td>16.0</td>\n",
              "    </tr>\n",
              "    <tr>\n",
              "      <th>4</th>\n",
              "      <td>5人目</td>\n",
              "      <td>98</td>\n",
              "      <td>9</td>\n",
              "      <td>14.0</td>\n",
              "      <td>3.0</td>\n",
              "      <td>42.0</td>\n",
              "      <td>196.0</td>\n",
              "      <td>9.0</td>\n",
              "    </tr>\n",
              "    <tr>\n",
              "      <th>5</th>\n",
              "      <td>6人目</td>\n",
              "      <td>81</td>\n",
              "      <td>7</td>\n",
              "      <td>-3.0</td>\n",
              "      <td>1.0</td>\n",
              "      <td>-3.0</td>\n",
              "      <td>9.0</td>\n",
              "      <td>1.0</td>\n",
              "    </tr>\n",
              "    <tr>\n",
              "      <th>6</th>\n",
              "      <td>7人目</td>\n",
              "      <td>92</td>\n",
              "      <td>9</td>\n",
              "      <td>8.0</td>\n",
              "      <td>3.0</td>\n",
              "      <td>24.0</td>\n",
              "      <td>64.0</td>\n",
              "      <td>9.0</td>\n",
              "    </tr>\n",
              "    <tr>\n",
              "      <th>7</th>\n",
              "      <td>8人目</td>\n",
              "      <td>87</td>\n",
              "      <td>8</td>\n",
              "      <td>3.0</td>\n",
              "      <td>2.0</td>\n",
              "      <td>6.0</td>\n",
              "      <td>9.0</td>\n",
              "      <td>4.0</td>\n",
              "    </tr>\n",
              "    <tr>\n",
              "      <th>8</th>\n",
              "      <td>9人目</td>\n",
              "      <td>96</td>\n",
              "      <td>5</td>\n",
              "      <td>12.0</td>\n",
              "      <td>-1.0</td>\n",
              "      <td>-12.0</td>\n",
              "      <td>144.0</td>\n",
              "      <td>1.0</td>\n",
              "    </tr>\n",
              "    <tr>\n",
              "      <th>9</th>\n",
              "      <td>10人目</td>\n",
              "      <td>88</td>\n",
              "      <td>4</td>\n",
              "      <td>4.0</td>\n",
              "      <td>-2.0</td>\n",
              "      <td>-8.0</td>\n",
              "      <td>16.0</td>\n",
              "      <td>4.0</td>\n",
              "    </tr>\n",
              "  </tbody>\n",
              "</table>\n",
              "</div>"
            ],
            "text/plain": [
              "  調査協力者  満足度(x)  購買回数（y）  満足度-平均値  購買回数-平均値     pq    p**2  q**2\n",
              "0   1人目      85        8      1.0       2.0    2.0     1.0   4.0\n",
              "1   2人目      73        6    -11.0       0.0   -0.0   121.0   0.0\n",
              "2   3人目      52        2    -32.0      -4.0  128.0  1024.0  16.0\n",
              "3   4人目      88        2      4.0      -4.0  -16.0    16.0  16.0\n",
              "4   5人目      98        9     14.0       3.0   42.0   196.0   9.0\n",
              "5   6人目      81        7     -3.0       1.0   -3.0     9.0   1.0\n",
              "6   7人目      92        9      8.0       3.0   24.0    64.0   9.0\n",
              "7   8人目      87        8      3.0       2.0    6.0     9.0   4.0\n",
              "8   9人目      96        5     12.0      -1.0  -12.0   144.0   1.0\n",
              "9  10人目      88        4      4.0      -2.0   -8.0    16.0   4.0"
            ]
          },
          "metadata": {
            "tags": []
          },
          "execution_count": 67
        }
      ]
    },
    {
      "cell_type": "code",
      "metadata": {
        "id": "kXGK084ISIA9",
        "colab_type": "code",
        "colab": {
          "base_uri": "https://localhost:8080/",
          "height": 34
        },
        "outputId": "21e47330-5907-4fde-89e0-4736791d214f"
      },
      "source": [
        "df['p**2'].sum()"
      ],
      "execution_count": 68,
      "outputs": [
        {
          "output_type": "execute_result",
          "data": {
            "text/plain": [
              "1600.000"
            ]
          },
          "metadata": {
            "tags": []
          },
          "execution_count": 68
        }
      ]
    },
    {
      "cell_type": "code",
      "metadata": {
        "id": "smH6DfYRSRen",
        "colab_type": "code",
        "colab": {
          "base_uri": "https://localhost:8080/",
          "height": 34
        },
        "outputId": "b1227f0a-7209-47c8-d2af-d4a08d3920e6"
      },
      "source": [
        "df['q**2'].sum()"
      ],
      "execution_count": 69,
      "outputs": [
        {
          "output_type": "execute_result",
          "data": {
            "text/plain": [
              "64.000"
            ]
          },
          "metadata": {
            "tags": []
          },
          "execution_count": 69
        }
      ]
    },
    {
      "cell_type": "code",
      "metadata": {
        "id": "OWEjD2zYSXqm",
        "colab_type": "code",
        "colab": {
          "base_uri": "https://localhost:8080/",
          "height": 34
        },
        "outputId": "3fe34d96-fa19-452f-e45a-92e830acd7c1"
      },
      "source": [
        "np.sqrt(df['p**2'].sum()*df['q**2'].sum())"
      ],
      "execution_count": 70,
      "outputs": [
        {
          "output_type": "execute_result",
          "data": {
            "text/plain": [
              "320.000"
            ]
          },
          "metadata": {
            "tags": []
          },
          "execution_count": 70
        }
      ]
    },
    {
      "cell_type": "code",
      "metadata": {
        "id": "TorhqfIZSRlR",
        "colab_type": "code",
        "colab": {
          "base_uri": "https://localhost:8080/",
          "height": 34
        },
        "outputId": "f7cd8c8e-77c2-4720-f764-d60c801753b2"
      },
      "source": [
        "df['pq'].sum()"
      ],
      "execution_count": 71,
      "outputs": [
        {
          "output_type": "execute_result",
          "data": {
            "text/plain": [
              "163.000"
            ]
          },
          "metadata": {
            "tags": []
          },
          "execution_count": 71
        }
      ]
    },
    {
      "cell_type": "code",
      "metadata": {
        "id": "Pq6DKQHZSRjD",
        "colab_type": "code",
        "colab": {
          "base_uri": "https://localhost:8080/",
          "height": 34
        },
        "outputId": "b76f5a39-715f-4ab2-823e-398d98e333b7"
      },
      "source": [
        "df['pq'].sum()/np.sqrt(df['p**2'].sum()*df['q**2'].sum())"
      ],
      "execution_count": 72,
      "outputs": [
        {
          "output_type": "execute_result",
          "data": {
            "text/plain": [
              "0.509"
            ]
          },
          "metadata": {
            "tags": []
          },
          "execution_count": 72
        }
      ]
    },
    {
      "cell_type": "code",
      "metadata": {
        "id": "GXzpW7ysNspi",
        "colab_type": "code",
        "colab": {
          "base_uri": "https://localhost:8080/",
          "height": 301
        },
        "outputId": "b5ce1017-d4a5-441d-940f-fcef45f656f0"
      },
      "source": [
        "plt.scatter(x,y)\n",
        "plt.hlines(y=y.mean(),xmin=50,xmax=100,linestyles='--')\n",
        "plt.vlines(x=x.mean(),ymin=0,ymax=10,linestyles='--')\n",
        "plt.title('4-10')\n",
        "\n",
        "print(\"図表 4-10\")"
      ],
      "execution_count": 73,
      "outputs": [
        {
          "output_type": "stream",
          "text": [
            "図表 4-10\n"
          ],
          "name": "stdout"
        },
        {
          "output_type": "display_data",
          "data": {
            "image/png": "[encoded data removed]",
            "text/plain": [
              "<Figure size 432x288 with 1 Axes>"
            ]
          },
          "metadata": {
            "tags": []
          }
        }
      ]
    },
    {
      "cell_type": "code",
      "metadata": {
        "id": "D6iWQLypoN9U",
        "colab_type": "code",
        "colab": {
          "base_uri": "https://localhost:8080/",
          "height": 285
        },
        "outputId": "8fa002dd-8651-47cd-bd75-4f28badbd104"
      },
      "source": [
        "A = np.vstack((x,np.ones(len(x)))).T\n",
        "v = y.T\n",
        "\n",
        "u, residuals, rank, s = np.linalg.lstsq(A,v,rcond=None)\n",
        "\n",
        "xx = np.linspace(50,100,50)\n",
        "yy = xx*u[0]+u[1]\n",
        "\n",
        "plt.scatter(x,y)\n",
        "plt.plot(xx,yy)\n",
        "plt.hlines(y=y.mean(),xmin=50,xmax=100,linestyles='--')\n",
        "plt.vlines(x=x.mean(),ymin=0,ymax=10,linestyles='--')"
      ],
      "execution_count": 74,
      "outputs": [
        {
          "output_type": "execute_result",
          "data": {
            "text/plain": [
              "<matplotlib.collections.LineCollection at 0x7fdbf0bfec88>"
            ]
          },
          "metadata": {
            "tags": []
          },
          "execution_count": 74
        },
        {
          "output_type": "display_data",
          "data": {
            "image/png": "[encoded data removed]",
            "text/plain": [
              "<Figure size 432x288 with 1 Axes>"
            ]
          },
          "metadata": {
            "tags": []
          }
        }
      ]
    },
    {
      "cell_type": "markdown",
      "metadata": {
        "id": "yaADl_MciSyS",
        "colab_type": "text"
      },
      "source": [
        "相関係数  $ = cos\\theta = \\dfrac{pq}{\\| p \\| \\| q \\|} $\n",
        "\n",
        "$ =  \\dfrac{p^T q}{\\sqrt{p^T p}\\sqrt{q^T q}} $\n",
        "\n",
        "相関係数とは、 x y それぞれの平均値からのズレをベクトル p q としたときに、これらのベクトルのなす角の cos である  \n",
        "\n",
        "これらのベクトルの内積をそれぞれのベクトルの大きさで割ったもの"
      ]
    },
    {
      "cell_type": "code",
      "metadata": {
        "id": "yoyzT9_oNsno",
        "colab_type": "code",
        "colab": {}
      },
      "source": [
        ""
      ],
      "execution_count": 74,
      "outputs": []
    },
    {
      "cell_type": "markdown",
      "metadata": {
        "id": "Im08EuLekakQ",
        "colab_type": "text"
      },
      "source": [
        "## ベクトル以上に高密度な書き方\n",
        "\n",
        "行列を使って回帰分析を表してみよう\n",
        "\n",
        "$ y = a + bx + \\epsilon $\n",
        "\n",
        "$ y = X \\beta + \\epsilon $\n",
        "\n"
      ]
    },
    {
      "cell_type": "markdown",
      "metadata": {
        "id": "STLA0fHTe2a6",
        "colab_type": "text"
      },
      "source": [
        "## 行列計算同士の四則演算\n",
        "\n"
      ]
    },
    {
      "cell_type": "code",
      "metadata": {
        "id": "vCjVbFfiNslh",
        "colab_type": "code",
        "colab": {}
      },
      "source": [
        ""
      ],
      "execution_count": 74,
      "outputs": []
    },
    {
      "cell_type": "markdown",
      "metadata": {
        "id": "yWyRgjR0lMY_",
        "colab_type": "text"
      },
      "source": [
        "## 行列をひっくり返す転置行列と正規方程式の考え方\n",
        "\n",
        "$ (A^T)^T = A $\n",
        "\n",
        "$ (A+B)^T = A^T + B^T $\n",
        "\n",
        "$ (cA)^T = c A^T $\n",
        "\n",
        "$ (AB)^T = B^T A^T $\n",
        "\n",
        "$ (A^{-1})^T = (A^T)^{-1} $\n",
        "\n"
      ]
    },
    {
      "cell_type": "code",
      "metadata": {
        "id": "g1BBOtOy2BU1",
        "colab_type": "code",
        "colab": {
          "base_uri": "https://localhost:8080/",
          "height": 85
        },
        "outputId": "a9da0c7b-8e1f-455f-ed03-c5b0971725cf"
      },
      "source": [
        "A = np.arange(4*4).reshape(4,-1)\n",
        "B = np.arange(10,10+4*4).reshape(4,-1)\n",
        "B"
      ],
      "execution_count": 75,
      "outputs": [
        {
          "output_type": "execute_result",
          "data": {
            "text/plain": [
              "array([[10, 11, 12, 13],\n",
              "       [14, 15, 16, 17],\n",
              "       [18, 19, 20, 21],\n",
              "       [22, 23, 24, 25]])"
            ]
          },
          "metadata": {
            "tags": []
          },
          "execution_count": 75
        }
      ]
    },
    {
      "cell_type": "code",
      "metadata": {
        "id": "0yQv_dLX2Bhr",
        "colab_type": "code",
        "colab": {
          "base_uri": "https://localhost:8080/",
          "height": 85
        },
        "outputId": "6cd969e7-68b2-4caf-fe9b-895e1088ad25"
      },
      "source": [
        "(A.T).T == A"
      ],
      "execution_count": 76,
      "outputs": [
        {
          "output_type": "execute_result",
          "data": {
            "text/plain": [
              "array([[ True,  True,  True,  True],\n",
              "       [ True,  True,  True,  True],\n",
              "       [ True,  True,  True,  True],\n",
              "       [ True,  True,  True,  True]])"
            ]
          },
          "metadata": {
            "tags": []
          },
          "execution_count": 76
        }
      ]
    },
    {
      "cell_type": "code",
      "metadata": {
        "id": "iwX3zBJsNsdp",
        "colab_type": "code",
        "colab": {
          "base_uri": "https://localhost:8080/",
          "height": 85
        },
        "outputId": "82823c74-ce24-46c1-991d-35d47b5f7694"
      },
      "source": [
        "(A+B).T == B.T+A.T"
      ],
      "execution_count": 77,
      "outputs": [
        {
          "output_type": "execute_result",
          "data": {
            "text/plain": [
              "array([[ True,  True,  True,  True],\n",
              "       [ True,  True,  True,  True],\n",
              "       [ True,  True,  True,  True],\n",
              "       [ True,  True,  True,  True]])"
            ]
          },
          "metadata": {
            "tags": []
          },
          "execution_count": 77
        }
      ]
    },
    {
      "cell_type": "code",
      "metadata": {
        "id": "HshITQTReCXk",
        "colab_type": "code",
        "colab": {
          "base_uri": "https://localhost:8080/",
          "height": 85
        },
        "outputId": "2403c7af-37de-4d38-f67c-c3045070ad0d"
      },
      "source": [
        "c = 5\n",
        "(c*A).T == c*A.T"
      ],
      "execution_count": 78,
      "outputs": [
        {
          "output_type": "execute_result",
          "data": {
            "text/plain": [
              "array([[ True,  True,  True,  True],\n",
              "       [ True,  True,  True,  True],\n",
              "       [ True,  True,  True,  True],\n",
              "       [ True,  True,  True,  True]])"
            ]
          },
          "metadata": {
            "tags": []
          },
          "execution_count": 78
        }
      ]
    },
    {
      "cell_type": "code",
      "metadata": {
        "id": "4JQEDl8KeCce",
        "colab_type": "code",
        "colab": {
          "base_uri": "https://localhost:8080/",
          "height": 85
        },
        "outputId": "8e73e917-dc67-4cd9-c2f6-238c66016e97"
      },
      "source": [
        "(A*B).T == B.T*A.T"
      ],
      "execution_count": 79,
      "outputs": [
        {
          "output_type": "execute_result",
          "data": {
            "text/plain": [
              "array([[ True,  True,  True,  True],\n",
              "       [ True,  True,  True,  True],\n",
              "       [ True,  True,  True,  True],\n",
              "       [ True,  True,  True,  True]])"
            ]
          },
          "metadata": {
            "tags": []
          },
          "execution_count": 79
        }
      ]
    },
    {
      "cell_type": "code",
      "metadata": {
        "id": "8y7izrmffQvm",
        "colab_type": "code",
        "colab": {
          "base_uri": "https://localhost:8080/",
          "height": 34
        },
        "outputId": "0a923bde-1855-49e0-8534-c2021a5b641d"
      },
      "source": [
        "A = np.arange(1,5).reshape(2,-1)\n",
        "np.linalg.det(A)"
      ],
      "execution_count": 80,
      "outputs": [
        {
          "output_type": "execute_result",
          "data": {
            "text/plain": [
              "-2.000"
            ]
          },
          "metadata": {
            "tags": []
          },
          "execution_count": 80
        }
      ]
    },
    {
      "cell_type": "code",
      "metadata": {
        "id": "cahMVS-NeCUr",
        "colab_type": "code",
        "colab": {
          "base_uri": "https://localhost:8080/",
          "height": 51
        },
        "outputId": "27a36cfc-d4b7-414b-c1bc-b7cf2b29b58c"
      },
      "source": [
        "np.linalg.inv(A).T"
      ],
      "execution_count": 81,
      "outputs": [
        {
          "output_type": "execute_result",
          "data": {
            "text/plain": [
              "array([[-2. ,  1.5],\n",
              "       [ 1. , -0.5]])"
            ]
          },
          "metadata": {
            "tags": []
          },
          "execution_count": 81
        }
      ]
    },
    {
      "cell_type": "code",
      "metadata": {
        "id": "el916XpveCSP",
        "colab_type": "code",
        "colab": {
          "base_uri": "https://localhost:8080/",
          "height": 51
        },
        "outputId": "6cdab6c1-0750-4e94-cb01-08a1c25e4598"
      },
      "source": [
        "np.linalg.inv(A.T)"
      ],
      "execution_count": 82,
      "outputs": [
        {
          "output_type": "execute_result",
          "data": {
            "text/plain": [
              "array([[-2. ,  1.5],\n",
              "       [ 1. , -0.5]])"
            ]
          },
          "metadata": {
            "tags": []
          },
          "execution_count": 82
        }
      ]
    },
    {
      "cell_type": "code",
      "metadata": {
        "id": "QXZH2tqgeCMf",
        "colab_type": "code",
        "colab": {
          "base_uri": "https://localhost:8080/",
          "height": 51
        },
        "outputId": "c946aa87-accb-4822-8228-2f1a4705cf2d"
      },
      "source": [
        "np.linalg.inv(A).T == np.linalg.inv(A.T)"
      ],
      "execution_count": 83,
      "outputs": [
        {
          "output_type": "execute_result",
          "data": {
            "text/plain": [
              "array([[False, False],\n",
              "       [False, False]])"
            ]
          },
          "metadata": {
            "tags": []
          },
          "execution_count": 83
        }
      ]
    },
    {
      "cell_type": "code",
      "metadata": {
        "id": "pI5zE3sneCKL",
        "colab_type": "code",
        "colab": {
          "base_uri": "https://localhost:8080/",
          "height": 51
        },
        "outputId": "8db23ac3-0545-4026-d305-be26d928829f"
      },
      "source": [
        "np.isclose(np.linalg.inv(A).T, np.linalg.inv(A.T))"
      ],
      "execution_count": 84,
      "outputs": [
        {
          "output_type": "execute_result",
          "data": {
            "text/plain": [
              "array([[ True,  True],\n",
              "       [ True,  True]])"
            ]
          },
          "metadata": {
            "tags": []
          },
          "execution_count": 84
        }
      ]
    },
    {
      "cell_type": "code",
      "metadata": {
        "id": "IbcCPjumeCHj",
        "colab_type": "code",
        "colab": {
          "base_uri": "https://localhost:8080/",
          "height": 51
        },
        "outputId": "42a4733e-9240-4df9-be60-968b91edc732"
      },
      "source": [
        "np.isclose((np.linalg.inv(A).T @ A.T),np.eye(2))"
      ],
      "execution_count": 85,
      "outputs": [
        {
          "output_type": "execute_result",
          "data": {
            "text/plain": [
              "array([[ True,  True],\n",
              "       [ True,  True]])"
            ]
          },
          "metadata": {
            "tags": []
          },
          "execution_count": 85
        }
      ]
    },
    {
      "cell_type": "code",
      "metadata": {
        "id": "LiA0GT8QeCEb",
        "colab_type": "code",
        "colab": {
          "base_uri": "https://localhost:8080/",
          "height": 51
        },
        "outputId": "69886dcc-984c-4c1b-9425-d38a4bc0f376"
      },
      "source": [
        "np.isclose(A.T @ np.linalg.inv(A).T , np.eye(2))"
      ],
      "execution_count": 86,
      "outputs": [
        {
          "output_type": "execute_result",
          "data": {
            "text/plain": [
              "array([[ True,  True],\n",
              "       [ True,  True]])"
            ]
          },
          "metadata": {
            "tags": []
          },
          "execution_count": 86
        }
      ]
    },
    {
      "cell_type": "code",
      "metadata": {
        "id": "g2GFllaTw_DM",
        "colab_type": "code",
        "colab": {
          "base_uri": "https://localhost:8080/",
          "height": 51
        },
        "outputId": "79ce2640-07fd-4a26-a72f-a87e57a1d008"
      },
      "source": [
        "np.eye(2)"
      ],
      "execution_count": 87,
      "outputs": [
        {
          "output_type": "execute_result",
          "data": {
            "text/plain": [
              "array([[1., 0.],\n",
              "       [0., 1.]])"
            ]
          },
          "metadata": {
            "tags": []
          },
          "execution_count": 87
        }
      ]
    },
    {
      "cell_type": "markdown",
      "metadata": {
        "id": "rxXT5Ig_1Kb9",
        "colab_type": "text"
      },
      "source": [
        "# 統計学と機械学習のための微分・積分\n",
        "\n",
        "## 関数の「ちょうどいいところ」を探して\n",
        "\n",
        "統計学と機械学習のための微分入門"
      ]
    },
    {
      "cell_type": "code",
      "metadata": {
        "id": "eJbAJHeWw_KR",
        "colab_type": "code",
        "colab": {
          "base_uri": "https://localhost:8080/",
          "height": 268
        },
        "outputId": "00cac221-627b-4e0d-b995-401e96ac7625"
      },
      "source": [
        "y = lambda x: 216+560*x-100*x**2\n",
        "x = np.linspace(1.0,2.0,11)\n",
        "xx = np.linspace(0,4,50)\n",
        "x_ = [1,2,3]\n",
        "plt.plot(xx,y(xx))\n",
        "\n",
        "for xx_ in x_:\n",
        "  plt.scatter(xx_,y(xx_))"
      ],
      "execution_count": 88,
      "outputs": [
        {
          "output_type": "display_data",
          "data": {
            "image/png": "[encoded data removed]",
            "text/plain": [
              "<Figure size 432x288 with 1 Axes>"
            ]
          },
          "metadata": {
            "tags": []
          }
        }
      ]
    },
    {
      "cell_type": "code",
      "metadata": {
        "id": "0yf-0Ce9w_Hz",
        "colab_type": "code",
        "colab": {}
      },
      "source": [
        "df = pd.DataFrame({'x':x,'y':y(x)})\n"
      ],
      "execution_count": 89,
      "outputs": []
    },
    {
      "cell_type": "code",
      "metadata": {
        "id": "Zj7-nA_Gw-_p",
        "colab_type": "code",
        "colab": {
          "base_uri": "https://localhost:8080/",
          "height": 390
        },
        "outputId": "b043c416-c0a6-4012-e132-dd0465543da6"
      },
      "source": [
        "df['delta_x'] = df['x'].diff().cumsum()\n",
        "df['delta_y'] = df['y'].diff().cumsum()\n",
        "df['傾き'] = df['delta_y']/df['delta_x']\n",
        "df"
      ],
      "execution_count": 90,
      "outputs": [
        {
          "output_type": "execute_result",
          "data": {
            "text/html": [
              "<div>\n",
              "<style scoped>\n",
              "    .dataframe tbody tr th:only-of-type {\n",
              "        vertical-align: middle;\n",
              "    }\n",
              "\n",
              "    .dataframe tbody tr th {\n",
              "        vertical-align: top;\n",
              "    }\n",
              "\n",
              "    .dataframe thead th {\n",
              "        text-align: right;\n",
              "    }\n",
              "</style>\n",
              "<table border=\"1\" class=\"dataframe\">\n",
              "  <thead>\n",
              "    <tr style=\"text-align: right;\">\n",
              "      <th></th>\n",
              "      <th>x</th>\n",
              "      <th>y</th>\n",
              "      <th>delta_x</th>\n",
              "      <th>delta_y</th>\n",
              "      <th>傾き</th>\n",
              "    </tr>\n",
              "  </thead>\n",
              "  <tbody>\n",
              "    <tr>\n",
              "      <th>0</th>\n",
              "      <td>1.0</td>\n",
              "      <td>676.0</td>\n",
              "      <td>NaN</td>\n",
              "      <td>NaN</td>\n",
              "      <td>NaN</td>\n",
              "    </tr>\n",
              "    <tr>\n",
              "      <th>1</th>\n",
              "      <td>1.1</td>\n",
              "      <td>711.0</td>\n",
              "      <td>0.1</td>\n",
              "      <td>35.0</td>\n",
              "      <td>350.0</td>\n",
              "    </tr>\n",
              "    <tr>\n",
              "      <th>2</th>\n",
              "      <td>1.2</td>\n",
              "      <td>744.0</td>\n",
              "      <td>0.2</td>\n",
              "      <td>68.0</td>\n",
              "      <td>340.0</td>\n",
              "    </tr>\n",
              "    <tr>\n",
              "      <th>3</th>\n",
              "      <td>1.3</td>\n",
              "      <td>775.0</td>\n",
              "      <td>0.3</td>\n",
              "      <td>99.0</td>\n",
              "      <td>330.0</td>\n",
              "    </tr>\n",
              "    <tr>\n",
              "      <th>4</th>\n",
              "      <td>1.4</td>\n",
              "      <td>804.0</td>\n",
              "      <td>0.4</td>\n",
              "      <td>128.0</td>\n",
              "      <td>320.0</td>\n",
              "    </tr>\n",
              "    <tr>\n",
              "      <th>5</th>\n",
              "      <td>1.5</td>\n",
              "      <td>831.0</td>\n",
              "      <td>0.5</td>\n",
              "      <td>155.0</td>\n",
              "      <td>310.0</td>\n",
              "    </tr>\n",
              "    <tr>\n",
              "      <th>6</th>\n",
              "      <td>1.6</td>\n",
              "      <td>856.0</td>\n",
              "      <td>0.6</td>\n",
              "      <td>180.0</td>\n",
              "      <td>300.0</td>\n",
              "    </tr>\n",
              "    <tr>\n",
              "      <th>7</th>\n",
              "      <td>1.7</td>\n",
              "      <td>879.0</td>\n",
              "      <td>0.7</td>\n",
              "      <td>203.0</td>\n",
              "      <td>290.0</td>\n",
              "    </tr>\n",
              "    <tr>\n",
              "      <th>8</th>\n",
              "      <td>1.8</td>\n",
              "      <td>900.0</td>\n",
              "      <td>0.8</td>\n",
              "      <td>224.0</td>\n",
              "      <td>280.0</td>\n",
              "    </tr>\n",
              "    <tr>\n",
              "      <th>9</th>\n",
              "      <td>1.9</td>\n",
              "      <td>919.0</td>\n",
              "      <td>0.9</td>\n",
              "      <td>243.0</td>\n",
              "      <td>270.0</td>\n",
              "    </tr>\n",
              "    <tr>\n",
              "      <th>10</th>\n",
              "      <td>2.0</td>\n",
              "      <td>936.0</td>\n",
              "      <td>1.0</td>\n",
              "      <td>260.0</td>\n",
              "      <td>260.0</td>\n",
              "    </tr>\n",
              "  </tbody>\n",
              "</table>\n",
              "</div>"
            ],
            "text/plain": [
              "      x      y  delta_x  delta_y     傾き\n",
              "0   1.0  676.0      NaN      NaN    NaN\n",
              "1   1.1  711.0      0.1     35.0  350.0\n",
              "2   1.2  744.0      0.2     68.0  340.0\n",
              "3   1.3  775.0      0.3     99.0  330.0\n",
              "4   1.4  804.0      0.4    128.0  320.0\n",
              "5   1.5  831.0      0.5    155.0  310.0\n",
              "6   1.6  856.0      0.6    180.0  300.0\n",
              "7   1.7  879.0      0.7    203.0  290.0\n",
              "8   1.8  900.0      0.8    224.0  280.0\n",
              "9   1.9  919.0      0.9    243.0  270.0\n",
              "10  2.0  936.0      1.0    260.0  260.0"
            ]
          },
          "metadata": {
            "tags": []
          },
          "execution_count": 90
        }
      ]
    },
    {
      "cell_type": "code",
      "metadata": {
        "id": "8JmFeM1Zw-8r",
        "colab_type": "code",
        "colab": {
          "base_uri": "https://localhost:8080/",
          "height": 298
        },
        "outputId": "490f1f4f-e968-483f-98b1-0e4bfa28eba4"
      },
      "source": [
        "x = np.linspace(1.0,1.0001,11)\n",
        "plt.plot(x,y(x))\n",
        "plt.scatter(x,y(x))"
      ],
      "execution_count": 91,
      "outputs": [
        {
          "output_type": "execute_result",
          "data": {
            "text/plain": [
              "<matplotlib.collections.PathCollection at 0x7fdbf0c9a400>"
            ]
          },
          "metadata": {
            "tags": []
          },
          "execution_count": 91
        },
        {
          "output_type": "display_data",
          "data": {
            "image/png": "[encoded data removed]",
            "text/plain": [
              "<Figure size 432x288 with 1 Axes>"
            ]
          },
          "metadata": {
            "tags": []
          }
        }
      ]
    },
    {
      "cell_type": "code",
      "metadata": {
        "id": "UBIUT_Oew-5G",
        "colab_type": "code",
        "colab": {
          "base_uri": "https://localhost:8080/",
          "height": 390
        },
        "outputId": "266be203-df5f-44ae-8b74-183a81a0abe7"
      },
      "source": [
        "df = pd.DataFrame({'x':x,'y':y(x)})\n",
        "df['delta_x'] = df['x'].diff().cumsum()\n",
        "df['delta_y'] = df['y'].diff().cumsum()\n",
        "df['傾き'] = df['delta_y']/df['delta_x']\n",
        "df"
      ],
      "execution_count": 92,
      "outputs": [
        {
          "output_type": "execute_result",
          "data": {
            "text/html": [
              "<div>\n",
              "<style scoped>\n",
              "    .dataframe tbody tr th:only-of-type {\n",
              "        vertical-align: middle;\n",
              "    }\n",
              "\n",
              "    .dataframe tbody tr th {\n",
              "        vertical-align: top;\n",
              "    }\n",
              "\n",
              "    .dataframe thead th {\n",
              "        text-align: right;\n",
              "    }\n",
              "</style>\n",
              "<table border=\"1\" class=\"dataframe\">\n",
              "  <thead>\n",
              "    <tr style=\"text-align: right;\">\n",
              "      <th></th>\n",
              "      <th>x</th>\n",
              "      <th>y</th>\n",
              "      <th>delta_x</th>\n",
              "      <th>delta_y</th>\n",
              "      <th>傾き</th>\n",
              "    </tr>\n",
              "  </thead>\n",
              "  <tbody>\n",
              "    <tr>\n",
              "      <th>0</th>\n",
              "      <td>1.00000</td>\n",
              "      <td>676.000000</td>\n",
              "      <td>NaN</td>\n",
              "      <td>NaN</td>\n",
              "      <td>NaN</td>\n",
              "    </tr>\n",
              "    <tr>\n",
              "      <th>1</th>\n",
              "      <td>1.00001</td>\n",
              "      <td>676.003600</td>\n",
              "      <td>0.00001</td>\n",
              "      <td>0.003600</td>\n",
              "      <td>359.999</td>\n",
              "    </tr>\n",
              "    <tr>\n",
              "      <th>2</th>\n",
              "      <td>1.00002</td>\n",
              "      <td>676.007200</td>\n",
              "      <td>0.00002</td>\n",
              "      <td>0.007200</td>\n",
              "      <td>359.998</td>\n",
              "    </tr>\n",
              "    <tr>\n",
              "      <th>3</th>\n",
              "      <td>1.00003</td>\n",
              "      <td>676.010800</td>\n",
              "      <td>0.00003</td>\n",
              "      <td>0.010800</td>\n",
              "      <td>359.997</td>\n",
              "    </tr>\n",
              "    <tr>\n",
              "      <th>4</th>\n",
              "      <td>1.00004</td>\n",
              "      <td>676.014400</td>\n",
              "      <td>0.00004</td>\n",
              "      <td>0.014400</td>\n",
              "      <td>359.996</td>\n",
              "    </tr>\n",
              "    <tr>\n",
              "      <th>5</th>\n",
              "      <td>1.00005</td>\n",
              "      <td>676.018000</td>\n",
              "      <td>0.00005</td>\n",
              "      <td>0.018000</td>\n",
              "      <td>359.995</td>\n",
              "    </tr>\n",
              "    <tr>\n",
              "      <th>6</th>\n",
              "      <td>1.00006</td>\n",
              "      <td>676.021600</td>\n",
              "      <td>0.00006</td>\n",
              "      <td>0.021600</td>\n",
              "      <td>359.994</td>\n",
              "    </tr>\n",
              "    <tr>\n",
              "      <th>7</th>\n",
              "      <td>1.00007</td>\n",
              "      <td>676.025200</td>\n",
              "      <td>0.00007</td>\n",
              "      <td>0.025200</td>\n",
              "      <td>359.993</td>\n",
              "    </tr>\n",
              "    <tr>\n",
              "      <th>8</th>\n",
              "      <td>1.00008</td>\n",
              "      <td>676.028799</td>\n",
              "      <td>0.00008</td>\n",
              "      <td>0.028799</td>\n",
              "      <td>359.992</td>\n",
              "    </tr>\n",
              "    <tr>\n",
              "      <th>9</th>\n",
              "      <td>1.00009</td>\n",
              "      <td>676.032399</td>\n",
              "      <td>0.00009</td>\n",
              "      <td>0.032399</td>\n",
              "      <td>359.991</td>\n",
              "    </tr>\n",
              "    <tr>\n",
              "      <th>10</th>\n",
              "      <td>1.00010</td>\n",
              "      <td>676.035999</td>\n",
              "      <td>0.00010</td>\n",
              "      <td>0.035999</td>\n",
              "      <td>359.990</td>\n",
              "    </tr>\n",
              "  </tbody>\n",
              "</table>\n",
              "</div>"
            ],
            "text/plain": [
              "          x           y  delta_x   delta_y       傾き\n",
              "0   1.00000  676.000000      NaN       NaN      NaN\n",
              "1   1.00001  676.003600  0.00001  0.003600  359.999\n",
              "2   1.00002  676.007200  0.00002  0.007200  359.998\n",
              "3   1.00003  676.010800  0.00003  0.010800  359.997\n",
              "4   1.00004  676.014400  0.00004  0.014400  359.996\n",
              "5   1.00005  676.018000  0.00005  0.018000  359.995\n",
              "6   1.00006  676.021600  0.00006  0.021600  359.994\n",
              "7   1.00007  676.025200  0.00007  0.025200  359.993\n",
              "8   1.00008  676.028799  0.00008  0.028799  359.992\n",
              "9   1.00009  676.032399  0.00009  0.032399  359.991\n",
              "10  1.00010  676.035999  0.00010  0.035999  359.990"
            ]
          },
          "metadata": {
            "tags": []
          },
          "execution_count": 92
        }
      ]
    },
    {
      "cell_type": "markdown",
      "metadata": {
        "id": "22U6HRssyZ_f",
        "colab_type": "text"
      },
      "source": [
        "## n 次元関数の微分の仕方\n",
        "\n",
        "$ \\dfrac{d}{dx} x^n = n x^{n-1} $\n",
        "\n",
        "二つの関数を足してから微分しも、それぞれ微分してから足しても良い\n",
        "\n",
        "$ \\dfrac{d}{dx} (f(x)+g(x)) = \\dfrac{d}{dx} f(x) + \\dfrac{d}{dx} g(x) $\n",
        "\n",
        "関数を定数倍してから微分しても、微分してから定数倍しても良い\n",
        "\n",
        "$ \\dfrac{d}{dx} (a f(x)) = a \\dfrac{d}{dx} f(x) $\n",
        "\n",
        "$ \\dfrac{d}{dx} (a f(x)+b g(x)) = a \\dfrac{d}{dx} f(x) + b \\dfrac{d}{dx} g(x) $\n",
        "\n",
        "関数同士の掛け算の微分は、それぞれ「元の関数と相手のどう関数の掛け算」を足したものになる\n",
        "\n",
        "$ \\dfrac{d}{dx} (f(x) g(x)) = f(x) \\dfrac{d}{dx} g(x) + g(x) \\dfrac{d}{dx} f(x) $\n",
        "\n",
        "関数同士の割り算の微分は、それぞれ「元の関数と相手のどう関数の掛け算」を引いたもの（引き算の順番に注意）を「分母の方の関数の２乗で割ったものになる\n",
        "\n",
        "$ \\dfrac{d}{dx} \\left( \\dfrac{g(x)}{f(x)} \\right) = \\dfrac{ f(x) \\dfrac{d}{dx} g(x) - g(x) \\dfrac{d}{dx} f(x)}{(f(x))^2} $\n",
        "\n",
        "\n",
        "\n"
      ]
    },
    {
      "cell_type": "code",
      "metadata": {
        "id": "VUm1fABnNsa9",
        "colab_type": "code",
        "colab": {
          "base_uri": "https://localhost:8080/",
          "height": 289
        },
        "outputId": "eec30b77-1baa-41cc-99e1-9e92ef269bff"
      },
      "source": [
        "y = lambda x: x**(-1)\n",
        "x = np.linspace(-10,10,100)\n",
        "plt.plot(x,y(x))\n",
        "plt.ylim(-10,10)"
      ],
      "execution_count": 93,
      "outputs": [
        {
          "output_type": "execute_result",
          "data": {
            "text/plain": [
              "(-10.000, 10.000)"
            ]
          },
          "metadata": {
            "tags": []
          },
          "execution_count": 93
        },
        {
          "output_type": "display_data",
          "data": {
            "image/png": "[encoded data removed]",
            "text/plain": [
              "<Figure size 432x288 with 1 Axes>"
            ]
          },
          "metadata": {
            "tags": []
          }
        }
      ]
    },
    {
      "cell_type": "markdown",
      "metadata": {
        "id": "XYlof26kp5vW",
        "colab_type": "text"
      },
      "source": [
        "## 統計学と機械学習で積分を必要とするところ\n",
        "\n",
        "連続値に対する確率密度関数"
      ]
    },
    {
      "cell_type": "code",
      "metadata": {
        "id": "LK0Xq_0sw7tZ",
        "colab_type": "code",
        "colab": {}
      },
      "source": [
        ""
      ],
      "execution_count": 93,
      "outputs": []
    },
    {
      "cell_type": "markdown",
      "metadata": {
        "id": "Xq4jklRlMnES",
        "colab_type": "text"
      },
      "source": [
        "## 小さく分けていっぱい集めて\n",
        "\n",
        "統計学と機械学習のための積分の基礎\n",
        "\n",
        "ある関数 $ F(x) $ を x で微分した場合に $ f(x) $ となるとき $ F(x) $ は $ f(x) $ にとって原始関数と呼ばれ、逆に $ f(x) $ の不定積分を求めると　$ F(x) + C $ となる\n",
        "\n",
        "$ f(x) $ の不定積分が $ F(x) + C $ なら、「 a から b までの定積分」は $ F(b) - F(a) $ で求められる\n",
        "\n",
        "定積分の「 a から b まで」という積分区間を「 a から c までと c から b まで」というように分割して考えるのは自由だが「 b から a まで」と逆向きに考える場合はマイナスをつけて考える\n",
        "\n",
        "積分記号の中身を定数倍してから積分を計算しても、積分の計算をしてから定数倍してもどちらでも良い\n",
        "\n",
        "積分記号の中身を足し合わせてから積分の計算をしても、積分の計算をしてから足し合わせてもどっちでも良い\n",
        "\n",
        "基本的な x の n 乗の不定積分\n",
        "\n",
        "$ \\int x^n dx = \\dfrac{1}{n+1} x^{n+1} + C $\n",
        "\n",
        "関数同士の掛け算の積分\n",
        "\n",
        "$ \\int (f(x) G(x) dx = F(x) G(x) - \\int (F(x) g(x) dx $\n",
        "\n"
      ]
    },
    {
      "cell_type": "code",
      "metadata": {
        "id": "6yqKCdnmw8A3",
        "colab_type": "code",
        "colab": {
          "base_uri": "https://localhost:8080/",
          "height": 34
        },
        "outputId": "75801b01-8134-43ee-f59a-7d50d5de0a9f"
      },
      "source": [
        "x = sympy.symbols('x')\n",
        "t = sympy.symbols('t')\n",
        "\n",
        "f = -1/18 + (1/18)*x \n",
        "g = 4/9 - (2/45)*x\n",
        "sympy.integrate(f,(x,1,5))"
      ],
      "execution_count": 94,
      "outputs": [
        {
          "output_type": "execute_result",
          "data": {
            "text/plain": [
              "0.444444444444444"
            ]
          },
          "metadata": {
            "tags": []
          },
          "execution_count": 94
        }
      ]
    },
    {
      "cell_type": "code",
      "metadata": {
        "id": "HWw-Fc6Ew79L",
        "colab_type": "code",
        "colab": {
          "base_uri": "https://localhost:8080/",
          "height": 34
        },
        "outputId": "2636a257-b418-4991-9e28-d2ebec2cabe6"
      },
      "source": [
        "g_ = sympy.integrate(g,(x,5,t)) + sympy.integrate(f,(x,1,5)) -0.95\n",
        "g_"
      ],
      "execution_count": 95,
      "outputs": [
        {
          "output_type": "execute_result",
          "data": {
            "text/plain": [
              "-0.0222222222222222*t**2 + 0.444444444444444*t - 2.17222222222222"
            ]
          },
          "metadata": {
            "tags": []
          },
          "execution_count": 95
        }
      ]
    },
    {
      "cell_type": "code",
      "metadata": {
        "id": "kOQRBKCew762",
        "colab_type": "code",
        "colab": {
          "base_uri": "https://localhost:8080/",
          "height": 34
        },
        "outputId": "f52d36b3-22dd-48f3-880c-94cdd2644c63"
      },
      "source": [
        "sympy.solve(g_,t)"
      ],
      "execution_count": 96,
      "outputs": [
        {
          "output_type": "execute_result",
          "data": {
            "text/plain": [
              "[8.49999999999997, 11.5000000000000]"
            ]
          },
          "metadata": {
            "tags": []
          },
          "execution_count": 96
        }
      ]
    },
    {
      "cell_type": "markdown",
      "metadata": {
        "id": "f8F2tD7M6lJR",
        "colab_type": "text"
      },
      "source": [
        "## 微積分記号に対する操作とライプニッツ記号の意味"
      ]
    },
    {
      "cell_type": "code",
      "metadata": {
        "id": "4NOfM_cmw72x",
        "colab_type": "code",
        "colab": {
          "base_uri": "https://localhost:8080/",
          "height": 268
        },
        "outputId": "c4172a44-6031-4b47-a25b-3ed8bca51c7f"
      },
      "source": [
        "y = lambda x: -100*(x-2.8)**2+1000\n",
        "x = np.linspace(0,4,50)\n",
        "x_ = [1,2,3]\n",
        "\n",
        "plt.plot(x,y(x))\n",
        "\n",
        "for xx_ in x_:\n",
        "  plt.scatter(xx_,y(xx_))"
      ],
      "execution_count": 97,
      "outputs": [
        {
          "output_type": "display_data",
          "data": {
            "image/png": "[encoded data removed]",
            "text/plain": [
              "<Figure size 432x288 with 1 Axes>"
            ]
          },
          "metadata": {
            "tags": []
          }
        }
      ]
    },
    {
      "cell_type": "markdown",
      "metadata": {
        "id": "8-Or-Tx6GM5L",
        "colab_type": "text"
      },
      "source": [
        "### 「ユーザー数の伸び」「 y を t で微分したもの」は、 y の値自体と「全潜在顧客のうちまだユーザーとなっていない子供の人数」の両方に比例する\n",
        "\n",
        "$ \\dfrac{dy}{dt} = ay(N-y) $\n",
        "\n",
        "$ \\dfrac{1}{y(N-y)} dy = a dt $\n",
        "\n",
        "$ \\dfrac{1}{N} \\left( \\dfrac{1}{y} + \\dfrac{1}{N-y} \\right) dy = a dt $\n",
        "\n",
        "$ \\dfrac{1}{N} \\left( \\displaystyle \\int \\dfrac{1}{y} dy + \\int \\dfrac{1}{N-y} dy \\right) = a \\displaystyle \\int 1 dt $\n",
        "\n",
        "定石\n",
        "\n",
        "$ \\dfrac{1}{y} + \\dfrac{1}{N-y} = \\dfrac{N-y}{y(N-y)} + \\dfrac{y}{y(N-y)} = \\dfrac{N-y+y}{y(N-y} = \\dfrac{N}{y(N-y)} $\n",
        "\n",
        "\n",
        "\n",
        "\n"
      ]
    },
    {
      "cell_type": "markdown",
      "metadata": {
        "id": "mr8iqx8NiBS1",
        "colab_type": "text"
      },
      "source": [
        "$ u = N-y $ <=> $ y = N - u $\n",
        "\n",
        "$ \\displaystyle \\int \\dfrac{1}{N-y} dy = \\displaystyle \\int \\dfrac{1}{u} \\dfrac{dy}{du} du = \\int \\dfrac{1}{u} \\cdot (-1) du = -log|u| + C = -log|N-y| + C $\n",
        "\n",
        "$ \\dfrac{1}{N} (log y + C_1 -log(N-y) + C_2 = at + C_3    $\n",
        "\n",
        " <=> $ logy+C_1-log(N-y)+C_2 = Nat + NC_3  $\n",
        "\n",
        " <=> $ logy -log(N-y) = Nat + C $\n",
        "\n",
        " <=> $ log \\dfrac{y}{N-y} = Nat + C $\n",
        "\n",
        " <=> $ \\displaystyle y = e^{Nat + c} (N-y) = N e^{Nat+C} - e^{Nat+C} y $\n",
        "\n",
        " <=> $ \\displaystyle e^{Nat+C} y + y = N e^{Nat+c} $\n",
        "\n",
        " <=> $ (e^{} + 1) \\cdot y = Ne^{Nat+C} $\n",
        "\n",
        " <=> $ y = N \\cdot \\dfrac{e^{Nat+C}}{e^{Nat+C} + 1} = N \\cdot \\dfrac{1}{1+ \\dfrac{1}{e^{Nat+C}}} $\n",
        "\n",
        " <=> $ y = N \\cdot \\dfrac{1}{1+e^{-(Nat+C)}} $\n",
        "\n",
        " \n",
        "\n",
        "\n"
      ]
    },
    {
      "cell_type": "code",
      "metadata": {
        "id": "jTzs8Bb064bL",
        "colab_type": "code",
        "colab": {}
      },
      "source": [
        ""
      ],
      "execution_count": 97,
      "outputs": []
    },
    {
      "cell_type": "markdown",
      "metadata": {
        "id": "k2yjFQk3K38B",
        "colab_type": "text"
      },
      "source": [
        "## 指数関数・対数関数の微分／積分とネイピア数の意味\n",
        "\n",
        "$ \\dfrac{d}{dx} e^x = e^x $\n",
        "\n",
        "底が e の指数関数は微分しても積分しても同じ関数になる\n",
        "\n",
        "底が e の対数関数を微分すると　$ \\dfrac{1}{x} $ になり、逆に n 次関数のルールで例外だった「マイナス一乗の積分」は　$ log|x| $ になる\n",
        "\n",
        "$ \\dfrac{d}{dx} log_e x  = \\dfrac{1}{x} $\n",
        "\n",
        "$ \\displaystyle \\int x^{-1} dx = \\int \\frac{1}{x} dx = log_e | x | + C $\n",
        "\n",
        "\n",
        "\n",
        "底が e でない指数間酢を微分した場合、もとの関数を $ log_e a $ 倍したものになり、積分を求める場合はもとの関数を $ log_e a $ で割ったものになる\n",
        "\n",
        "$ \\dfrac{d}{dx} a^x = a^x log_e a $\n",
        "\n",
        "$ \\displaystyle \\int a^x dx = \\dfrac{a^x}{log_e a} + C $\n",
        "\n",
        "底が e でない対数関数を微分すると $ \\dfrac{1}{x} $ を $ log_e a $ で割ったものになる\n",
        "\n",
        "$ \\dfrac{d}{dx} log_a x = \\dfrac{1}{log_e a} \\dfrac{1}{x} $\n",
        "\n",
        "底が e の対数関数の積分\n",
        "\n",
        "$ \\int log_e x = x log x -x + C $"
      ]
    },
    {
      "cell_type": "markdown",
      "metadata": {
        "id": "mPEnMWbqiSOR",
        "colab_type": "text"
      },
      "source": [
        "$ \\displaystyle \\int \\dfrac{1}{y} dy = log|y| + C $\n",
        "\n",
        "$ u = N-y $ <=> $ y = N - u $\n",
        "\n",
        "$ \\displaystyle \\int \\dfrac{1}{N-y} dy = \\displaystyle \\int \\dfrac{1}{u} \\dfrac{dy}{du} du = \\int \\dfrac{1}{u} \\cdot (-1) du = -log|u| + C = -log|N-y| + C $\n",
        "\n"
      ]
    },
    {
      "cell_type": "markdown",
      "metadata": {
        "id": "FSMpt-91arQX",
        "colab_type": "text"
      },
      "source": [
        "「ユーザー数の伸び」あるいは「 y を t で積分したもの」は、 y の値自体と「全潜在顧客のうちまだユーザーとなっていない子供の人数」の両方に比例する\n",
        "\n",
        "$ \\dfrac{dy}{dt} = ay(N-y) $\n",
        "\n",
        "$ \\dfrac{1}{y(N-y)} dy = a dt $\n",
        "\n",
        "$ \\dfrac{1}{N} \\left( \\dfrac{1}{y} + \\dfrac{1}{N-y} \\right) dy = a dt $ \n",
        "\n",
        "定石：\n",
        "$ \\dfrac{1}{y} + \\dfrac{1}{N-y} = \\dfrac{N}{y(N-y)} $\n",
        "\n",
        "両辺の不定積分\n",
        "\n",
        "$ \\displaystyle \\dfrac{1}{N} \\left(\\int \\dfrac{1}{y} + \\int \\dfrac{1}{N-y} \\right) dy = a \\int 1dt $ \n",
        "\n",
        "$ \\dfrac{1}{N} (logy+C_1-log(N-y) + C_2) = at + C_3 $\n",
        "\n",
        "$ logy - log(N-y) = Nat + NC_3 - C_2 - C_1 $\n",
        "\n",
        "$ log \\dfrac{y}{N-y} = Nat + C $\n",
        "\n",
        "$ \\dfrac{y}{N-y} = e^{Nat+C} $\n",
        "\n",
        "$ y = e^{Nat+c}(N-y) $\n",
        "\n",
        "$ e^{Nat+c} y + y = N e^{Nat+C} $\n",
        "\n",
        "$ y = N \\dfrac{e^{Nat + C}}{e^{Nat+C} + 1} = N \\dfrac{1}{1+e^{-(Nat+C)}} $\n",
        "\n",
        "\n",
        "\n",
        "\n"
      ]
    },
    {
      "cell_type": "code",
      "metadata": {
        "id": "FNr5d0Ew643V",
        "colab_type": "code",
        "colab": {
          "base_uri": "https://localhost:8080/",
          "height": 285
        },
        "outputId": "48c39c8f-1f74-472e-937f-016d3c3de68b"
      },
      "source": [
        "x = np.linspace(-5,5,50)\n",
        "y = 1/(1+np.exp(-x))\n",
        "\n",
        "plt.plot(x,y)"
      ],
      "execution_count": 108,
      "outputs": [
        {
          "output_type": "execute_result",
          "data": {
            "text/plain": [
              "[<matplotlib.lines.Line2D at 0x7fdbf18a3e10>]"
            ]
          },
          "metadata": {
            "tags": []
          },
          "execution_count": 108
        },
        {
          "output_type": "display_data",
          "data": {
            "image/png": "[encoded data removed]",
            "text/plain": [
              "<Figure size 432x288 with 1 Axes>"
            ]
          },
          "metadata": {
            "tags": []
          }
        }
      ]
    },
    {
      "cell_type": "code",
      "metadata": {
        "id": "rnXIjpUUZ-yc",
        "colab_type": "code",
        "colab": {}
      },
      "source": [
        ""
      ],
      "execution_count": 98,
      "outputs": []
    },
    {
      "cell_type": "code",
      "metadata": {
        "id": "XCoBquOKZ_IO",
        "colab_type": "code",
        "colab": {}
      },
      "source": [
        ""
      ],
      "execution_count": 98,
      "outputs": []
    },
    {
      "cell_type": "code",
      "metadata": {
        "id": "WwxJl9SP64j3",
        "colab_type": "code",
        "colab": {}
      },
      "source": [
        ""
      ],
      "execution_count": 98,
      "outputs": []
    },
    {
      "cell_type": "code",
      "metadata": {
        "id": "LTr_QUKd64gL",
        "colab_type": "code",
        "colab": {}
      },
      "source": [
        ""
      ],
      "execution_count": 98,
      "outputs": []
    },
    {
      "cell_type": "code",
      "metadata": {
        "id": "m3OMtdctw7zU",
        "colab_type": "code",
        "colab": {}
      },
      "source": [
        ""
      ],
      "execution_count": 98,
      "outputs": []
    },
    {
      "cell_type": "markdown",
      "metadata": {
        "id": "swwPn5nJesC0",
        "colab_type": "text"
      },
      "source": [
        "## 同時確率\n",
        "\n",
        "$ Px(x,y) $"
      ]
    },
    {
      "cell_type": "code",
      "metadata": {
        "id": "S27MLjlWebFv",
        "colab_type": "code",
        "colab": {
          "base_uri": "https://localhost:8080/",
          "height": 173
        },
        "outputId": "42e15083-2305-496d-acfb-1fe0e61306bf"
      },
      "source": [
        "argvs = sys.argv\n",
        "P = np.array([[0.15,0.1,0.1,0.01],[0.1,0.2,0.05,0.04],[0.05,0,0.1,0.1]])\n",
        "Y = [\"男子\",\"女子\",\"教員\"]\n",
        "X = [\" \",\"自転車\",\"徒歩\",\"電車\",\"車\"]\n",
        "\n",
        "df = pd.DataFrame(P, columns=X[1:],index=Y)\n",
        "df['s_sum'] = df.sum(axis=1)\n",
        "df= pd.concat([df,pd.DataFrame(df.sum(axis=0),columns=['G_ttl']).T])\n",
        "df"
      ],
      "execution_count": 99,
      "outputs": [
        {
          "output_type": "execute_result",
          "data": {
            "text/html": [
              "<div>\n",
              "<style scoped>\n",
              "    .dataframe tbody tr th:only-of-type {\n",
              "        vertical-align: middle;\n",
              "    }\n",
              "\n",
              "    .dataframe tbody tr th {\n",
              "        vertical-align: top;\n",
              "    }\n",
              "\n",
              "    .dataframe thead th {\n",
              "        text-align: right;\n",
              "    }\n",
              "</style>\n",
              "<table border=\"1\" class=\"dataframe\">\n",
              "  <thead>\n",
              "    <tr style=\"text-align: right;\">\n",
              "      <th></th>\n",
              "      <th>自転車</th>\n",
              "      <th>徒歩</th>\n",
              "      <th>電車</th>\n",
              "      <th>車</th>\n",
              "      <th>s_sum</th>\n",
              "    </tr>\n",
              "  </thead>\n",
              "  <tbody>\n",
              "    <tr>\n",
              "      <th>男子</th>\n",
              "      <td>0.15</td>\n",
              "      <td>0.1</td>\n",
              "      <td>0.10</td>\n",
              "      <td>0.01</td>\n",
              "      <td>0.36</td>\n",
              "    </tr>\n",
              "    <tr>\n",
              "      <th>女子</th>\n",
              "      <td>0.10</td>\n",
              "      <td>0.2</td>\n",
              "      <td>0.05</td>\n",
              "      <td>0.04</td>\n",
              "      <td>0.39</td>\n",
              "    </tr>\n",
              "    <tr>\n",
              "      <th>教員</th>\n",
              "      <td>0.05</td>\n",
              "      <td>0.0</td>\n",
              "      <td>0.10</td>\n",
              "      <td>0.10</td>\n",
              "      <td>0.25</td>\n",
              "    </tr>\n",
              "    <tr>\n",
              "      <th>G_ttl</th>\n",
              "      <td>0.30</td>\n",
              "      <td>0.3</td>\n",
              "      <td>0.25</td>\n",
              "      <td>0.15</td>\n",
              "      <td>1.00</td>\n",
              "    </tr>\n",
              "  </tbody>\n",
              "</table>\n",
              "</div>"
            ],
            "text/plain": [
              "        自転車   徒歩    電車     車  s_sum\n",
              "男子     0.15  0.1  0.10  0.01   0.36\n",
              "女子     0.10  0.2  0.05  0.04   0.39\n",
              "教員     0.05  0.0  0.10  0.10   0.25\n",
              "G_ttl  0.30  0.3  0.25  0.15   1.00"
            ]
          },
          "metadata": {
            "tags": []
          },
          "execution_count": 99
        }
      ]
    },
    {
      "cell_type": "code",
      "metadata": {
        "id": "DkIwxJOooit7",
        "colab_type": "code",
        "colab": {
          "base_uri": "https://localhost:8080/",
          "height": 34
        },
        "outputId": "b46e0beb-c062-4649-824e-f467e4e9e56a"
      },
      "source": [
        "[df[col].sum() for col in df]"
      ],
      "execution_count": 100,
      "outputs": [
        {
          "output_type": "execute_result",
          "data": {
            "text/plain": [
              "[0.600, 0.600, 0.500, 0.300, 2.000]"
            ]
          },
          "metadata": {
            "tags": []
          },
          "execution_count": 100
        }
      ]
    },
    {
      "cell_type": "code",
      "metadata": {
        "id": "gR_PjfeKsZcb",
        "colab_type": "code",
        "colab": {
          "base_uri": "https://localhost:8080/",
          "height": 102
        },
        "outputId": "e8198287-b92a-4292-f882-0c2c626eecb3"
      },
      "source": [
        "for c in df:\n",
        "  print(c)"
      ],
      "execution_count": 101,
      "outputs": [
        {
          "output_type": "stream",
          "text": [
            "自転車\n",
            "徒歩\n",
            "電車\n",
            "車\n",
            "s_sum\n"
          ],
          "name": "stdout"
        }
      ]
    },
    {
      "cell_type": "markdown",
      "metadata": {
        "id": "bDdFWfDUepn2",
        "colab_type": "text"
      },
      "source": [
        ""
      ]
    },
    {
      "cell_type": "code",
      "metadata": {
        "id": "aPfUTohlefyh",
        "colab_type": "code",
        "colab": {
          "base_uri": "https://localhost:8080/",
          "height": 272
        },
        "outputId": "cd83aa84-a4b3-4cbf-c2fc-7c5e6de833de"
      },
      "source": [
        "for j in range(3):  \n",
        "  for i in range(4):\n",
        "    conditional_probability = P[j][i]/sum(P[j])\n",
        "    print(conditional_probability)\n",
        "  print(\"\")"
      ],
      "execution_count": 102,
      "outputs": [
        {
          "output_type": "stream",
          "text": [
            "0.4166666666666667\n",
            "0.2777777777777778\n",
            "0.2777777777777778\n",
            "0.02777777777777778\n",
            "\n",
            "0.25641025641025644\n",
            "0.5128205128205129\n",
            "0.12820512820512822\n",
            "0.10256410256410256\n",
            "\n",
            "0.2\n",
            "0.0\n",
            "0.4\n",
            "0.4\n",
            "\n"
          ],
          "name": "stdout"
        }
      ]
    },
    {
      "cell_type": "code",
      "metadata": {
        "id": "sk4UjUC0iMOd",
        "colab_type": "code",
        "colab": {
          "base_uri": "https://localhost:8080/",
          "height": 306
        },
        "outputId": "98684560-fcf7-4d67-d4c8-0ef831e6cf1c"
      },
      "source": [
        "Pr_y = [0 for i in range(len(P))]\n",
        "for i, y in enumerate(P):\n",
        "  for j, x in enumerate(y):\n",
        "    Pr_y[i] += x\n",
        "print(\"Pr(y) : \", Pr_y)\n",
        "\n",
        "\n",
        "Pr_x = [0 for i in range(len(P[0]))]\n",
        "for i, y in enumerate(P):\n",
        "  for j, x in enumerate(y):\n",
        "    Pr_x[j] += x\n",
        "print(\"Pr(x) : \", Pr_x)\n",
        "\n",
        "total = 0\n",
        "\n",
        "for y in range(len(P)):\n",
        "  print(\"y = \",y)\n",
        "\n",
        "  conditional_probability = P[y][i]/sum(P[y])\n",
        "  likelyhood = conditional_probability\n",
        "  prior = Pr_y[y]\n",
        "  evidence = Pr_x[2]\n",
        "  bayes = likelyhood*prior/evidence\n",
        "  total += bayes\n",
        "  print(\"likelyhood : \", likelyhood)\n",
        "  print(\"prior ; \", prior)\n",
        "  print(\"evidence : \", evidence)\n",
        "  print(\"bayes : \", bayes)\n",
        "  "
      ],
      "execution_count": 103,
      "outputs": [
        {
          "output_type": "stream",
          "text": [
            "Pr(y) :  [0.36, 0.39, 0.25]\n",
            "Pr(x) :  [0.3, 0.30000000000000004, 0.25, 0.15000000000000002]\n",
            "y =  0\n",
            "likelyhood :  0.2777777777777778\n",
            "prior ;  0.36\n",
            "evidence :  0.25\n",
            "bayes :  0.4\n",
            "y =  1\n",
            "likelyhood :  0.12820512820512822\n",
            "prior ;  0.39\n",
            "evidence :  0.25\n",
            "bayes :  0.20000000000000004\n",
            "y =  2\n",
            "likelyhood :  0.4\n",
            "prior ;  0.25\n",
            "evidence :  0.25\n",
            "bayes :  0.4\n"
          ],
          "name": "stdout"
        }
      ]
    },
    {
      "cell_type": "code",
      "metadata": {
        "id": "fHZtJgeZ4d2D",
        "colab_type": "code",
        "colab": {}
      },
      "source": [
        ""
      ],
      "execution_count": 103,
      "outputs": []
    }
  ]
}