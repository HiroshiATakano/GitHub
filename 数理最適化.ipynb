{
  "cells": [
    {
      "cell_type": "markdown",
      "metadata": {
        "id": "view-in-github",
        "colab_type": "text"
      },
      "source": [
        "<a href=\"https://colab.research.google.com/github/HiroshiATakano/GitHub/blob/master/%E6%95%B0%E7%90%86%E6%9C%80%E9%81%A9%E5%8C%96.ipynb\" target=\"_parent\"><img src=\"https://colab.research.google.com/assets/colab-badge.svg\" alt=\"Open In Colab\"/></a>"
      ]
    },
    {
      "cell_type": "code",
      "execution_count": 1,
      "metadata": {
        "id": "uEcAMdh8OeH3"
      },
      "outputs": [],
      "source": [
        "def ensure_and_move_to_folder(folder_name):\n",
        "  current_dir = os.getcwd()\n",
        "  target_path = os.path.join(current_dir, folder_name)\n",
        "\n",
        "  if not os.path.exists(target_path):\n",
        "    os.makedirs(target_path)\n",
        "    print(f\"Folder '{folder_name}' created successfully.\")\n",
        "  else:\n",
        "    print(f\"Folder '{folder_name}' already exists.\")\n",
        "\n",
        "  #os.chdir(target_path)"
      ]
    },
    {
      "cell_type": "code",
      "execution_count": 2,
      "metadata": {
        "colab": {
          "base_uri": "https://localhost:8080/",
          "height": 54
        },
        "id": "ptVJzelSOeH4",
        "outputId": "d1be2d8e-1352-4daa-d083-6db884c22890"
      },
      "outputs": [
        {
          "output_type": "stream",
          "name": "stdout",
          "text": [
            "Folder '数理最適化' created successfully.\n"
          ]
        },
        {
          "output_type": "execute_result",
          "data": {
            "text/plain": [
              "'/content'"
            ],
            "application/vnd.google.colaboratory.intrinsic+json": {
              "type": "string"
            }
          },
          "metadata": {},
          "execution_count": 2
        }
      ],
      "source": [
        "import os\n",
        "\n",
        "folder_name = '数理最適化'\n",
        "ensure_and_move_to_folder(folder_name)\n",
        "\n",
        "path = os.getcwd()\n",
        "\n",
        "try:\n",
        "    os.chdir('../Python/数理最適化')\n",
        "except:\n",
        "    pass\n",
        "\n",
        "os.getcwd()"
      ]
    },
    {
      "cell_type": "code",
      "source": [
        "!pip install japanize_matplotlib\n",
        "!pip install pulp"
      ],
      "metadata": {
        "colab": {
          "base_uri": "https://localhost:8080/"
        },
        "id": "1lXeoEOPOmto",
        "outputId": "8a33b2c3-6e44-49e5-87d2-6c6dc3a25c70"
      },
      "execution_count": 6,
      "outputs": [
        {
          "output_type": "stream",
          "name": "stdout",
          "text": [
            "Requirement already satisfied: japanize_matplotlib in /usr/local/lib/python3.11/dist-packages (1.1.3)\n",
            "Requirement already satisfied: matplotlib in /usr/local/lib/python3.11/dist-packages (from japanize_matplotlib) (3.10.0)\n",
            "Requirement already satisfied: contourpy>=1.0.1 in /usr/local/lib/python3.11/dist-packages (from matplotlib->japanize_matplotlib) (1.3.1)\n",
            "Requirement already satisfied: cycler>=0.10 in /usr/local/lib/python3.11/dist-packages (from matplotlib->japanize_matplotlib) (0.12.1)\n",
            "Requirement already satisfied: fonttools>=4.22.0 in /usr/local/lib/python3.11/dist-packages (from matplotlib->japanize_matplotlib) (4.56.0)\n",
            "Requirement already satisfied: kiwisolver>=1.3.1 in /usr/local/lib/python3.11/dist-packages (from matplotlib->japanize_matplotlib) (1.4.8)\n",
            "Requirement already satisfied: numpy>=1.23 in /usr/local/lib/python3.11/dist-packages (from matplotlib->japanize_matplotlib) (1.26.4)\n",
            "Requirement already satisfied: packaging>=20.0 in /usr/local/lib/python3.11/dist-packages (from matplotlib->japanize_matplotlib) (24.2)\n",
            "Requirement already satisfied: pillow>=8 in /usr/local/lib/python3.11/dist-packages (from matplotlib->japanize_matplotlib) (11.1.0)\n",
            "Requirement already satisfied: pyparsing>=2.3.1 in /usr/local/lib/python3.11/dist-packages (from matplotlib->japanize_matplotlib) (3.2.1)\n",
            "Requirement already satisfied: python-dateutil>=2.7 in /usr/local/lib/python3.11/dist-packages (from matplotlib->japanize_matplotlib) (2.8.2)\n",
            "Requirement already satisfied: six>=1.5 in /usr/local/lib/python3.11/dist-packages (from python-dateutil>=2.7->matplotlib->japanize_matplotlib) (1.17.0)\n",
            "Collecting pulp\n",
            "  Downloading PuLP-3.0.2-py3-none-any.whl.metadata (6.7 kB)\n",
            "Downloading PuLP-3.0.2-py3-none-any.whl (17.7 MB)\n",
            "\u001b[2K   \u001b[90m━━━━━━━━━━━━━━━━━━━━━━━━━━━━━━━━━━━━━━━━\u001b[0m \u001b[32m17.7/17.7 MB\u001b[0m \u001b[31m84.1 MB/s\u001b[0m eta \u001b[36m0:00:00\u001b[0m\n",
            "\u001b[?25hInstalling collected packages: pulp\n",
            "Successfully installed pulp-3.0.2\n"
          ]
        }
      ]
    },
    {
      "cell_type": "code",
      "execution_count": 7,
      "metadata": {
        "colab": {
          "base_uri": "https://localhost:8080/",
          "height": 447
        },
        "id": "wr8ycSPtOeH4",
        "outputId": "685b2447-d2d3-4f89-89ba-90bddd3f763a"
      },
      "outputs": [
        {
          "output_type": "error",
          "ename": "FileNotFoundError",
          "evalue": "[Errno 2] No such file or directory: 'my-project-vscode-452201-249bdb033f8c.json'",
          "traceback": [
            "\u001b[0;31m---------------------------------------------------------------------------\u001b[0m",
            "\u001b[0;31mFileNotFoundError\u001b[0m                         Traceback (most recent call last)",
            "\u001b[0;32m<ipython-input-7-a45abf30e943>\u001b[0m in \u001b[0;36m<cell line: 0>\u001b[0;34m()\u001b[0m\n\u001b[1;32m     16\u001b[0m \u001b[0mSCOPES\u001b[0m \u001b[0;34m=\u001b[0m \u001b[0;34m[\u001b[0m\u001b[0;34m\"https://www.googleapis.com/auth/spreadsheets\"\u001b[0m\u001b[0;34m]\u001b[0m\u001b[0;34m\u001b[0m\u001b[0;34m\u001b[0m\u001b[0m\n\u001b[1;32m     17\u001b[0m \u001b[0;34m\u001b[0m\u001b[0m\n\u001b[0;32m---> 18\u001b[0;31m \u001b[0mcredentials\u001b[0m \u001b[0;34m=\u001b[0m \u001b[0mCredentials\u001b[0m\u001b[0;34m.\u001b[0m\u001b[0mfrom_service_account_file\u001b[0m\u001b[0;34m(\u001b[0m\u001b[0mSERVICE_ACCOUNT_FILE\u001b[0m\u001b[0;34m,\u001b[0m \u001b[0mscopes\u001b[0m\u001b[0;34m=\u001b[0m\u001b[0mSCOPES\u001b[0m\u001b[0;34m)\u001b[0m\u001b[0;34m\u001b[0m\u001b[0;34m\u001b[0m\u001b[0m\n\u001b[0m\u001b[1;32m     19\u001b[0m \u001b[0mclient\u001b[0m \u001b[0;34m=\u001b[0m \u001b[0mgspread\u001b[0m\u001b[0;34m.\u001b[0m\u001b[0mauthorize\u001b[0m\u001b[0;34m(\u001b[0m\u001b[0mcredentials\u001b[0m\u001b[0;34m)\u001b[0m\u001b[0;34m\u001b[0m\u001b[0;34m\u001b[0m\u001b[0m\n\u001b[1;32m     20\u001b[0m \u001b[0;34m\u001b[0m\u001b[0m\n",
            "\u001b[0;32m/usr/local/lib/python3.11/dist-packages/google/oauth2/service_account.py\u001b[0m in \u001b[0;36mfrom_service_account_file\u001b[0;34m(cls, filename, **kwargs)\u001b[0m\n\u001b[1;32m    258\u001b[0m                 \u001b[0mcredentials\u001b[0m\u001b[0;34m.\u001b[0m\u001b[0;34m\u001b[0m\u001b[0;34m\u001b[0m\u001b[0m\n\u001b[1;32m    259\u001b[0m         \"\"\"\n\u001b[0;32m--> 260\u001b[0;31m         info, signer = _service_account_info.from_filename(\n\u001b[0m\u001b[1;32m    261\u001b[0m             \u001b[0mfilename\u001b[0m\u001b[0;34m,\u001b[0m \u001b[0mrequire\u001b[0m\u001b[0;34m=\u001b[0m\u001b[0;34m[\u001b[0m\u001b[0;34m\"client_email\"\u001b[0m\u001b[0;34m,\u001b[0m \u001b[0;34m\"token_uri\"\u001b[0m\u001b[0;34m]\u001b[0m\u001b[0;34m\u001b[0m\u001b[0;34m\u001b[0m\u001b[0m\n\u001b[1;32m    262\u001b[0m         )\n",
            "\u001b[0;32m/usr/local/lib/python3.11/dist-packages/google/auth/_service_account_info.py\u001b[0m in \u001b[0;36mfrom_filename\u001b[0;34m(filename, require, use_rsa_signer)\u001b[0m\n\u001b[1;32m     76\u001b[0m             \u001b[0minfo\u001b[0m \u001b[0;32mand\u001b[0m \u001b[0ma\u001b[0m \u001b[0msigner\u001b[0m \u001b[0minstance\u001b[0m\u001b[0;34m.\u001b[0m\u001b[0;34m\u001b[0m\u001b[0;34m\u001b[0m\u001b[0m\n\u001b[1;32m     77\u001b[0m     \"\"\"\n\u001b[0;32m---> 78\u001b[0;31m     \u001b[0;32mwith\u001b[0m \u001b[0mio\u001b[0m\u001b[0;34m.\u001b[0m\u001b[0mopen\u001b[0m\u001b[0;34m(\u001b[0m\u001b[0mfilename\u001b[0m\u001b[0;34m,\u001b[0m \u001b[0;34m\"r\"\u001b[0m\u001b[0;34m,\u001b[0m \u001b[0mencoding\u001b[0m\u001b[0;34m=\u001b[0m\u001b[0;34m\"utf-8\"\u001b[0m\u001b[0;34m)\u001b[0m \u001b[0;32mas\u001b[0m \u001b[0mjson_file\u001b[0m\u001b[0;34m:\u001b[0m\u001b[0;34m\u001b[0m\u001b[0;34m\u001b[0m\u001b[0m\n\u001b[0m\u001b[1;32m     79\u001b[0m         \u001b[0mdata\u001b[0m \u001b[0;34m=\u001b[0m \u001b[0mjson\u001b[0m\u001b[0;34m.\u001b[0m\u001b[0mload\u001b[0m\u001b[0;34m(\u001b[0m\u001b[0mjson_file\u001b[0m\u001b[0;34m)\u001b[0m\u001b[0;34m\u001b[0m\u001b[0;34m\u001b[0m\u001b[0m\n\u001b[1;32m     80\u001b[0m         \u001b[0;32mreturn\u001b[0m \u001b[0mdata\u001b[0m\u001b[0;34m,\u001b[0m \u001b[0mfrom_dict\u001b[0m\u001b[0;34m(\u001b[0m\u001b[0mdata\u001b[0m\u001b[0;34m,\u001b[0m \u001b[0mrequire\u001b[0m\u001b[0;34m=\u001b[0m\u001b[0mrequire\u001b[0m\u001b[0;34m,\u001b[0m \u001b[0muse_rsa_signer\u001b[0m\u001b[0;34m=\u001b[0m\u001b[0muse_rsa_signer\u001b[0m\u001b[0;34m)\u001b[0m\u001b[0;34m\u001b[0m\u001b[0;34m\u001b[0m\u001b[0m\n",
            "\u001b[0;31mFileNotFoundError\u001b[0m: [Errno 2] No such file or directory: 'my-project-vscode-452201-249bdb033f8c.json'"
          ]
        }
      ],
      "source": [
        "import numpy as np\n",
        "import matplotlib.pyplot as plt\n",
        "import japanize_matplotlib\n",
        "import pandas as pd\n",
        "\n",
        "import gspread\n",
        "from google.oauth2.service_account import Credentials\n",
        "\n",
        "import polars as pl\n",
        "import numpy as np\n",
        "import pulp\n",
        "#from pulp import LpProblem, LpVariable, LpMaximize, LpSum, value\n",
        "\n",
        "# 認証情報の設定\n",
        "SERVICE_ACCOUNT_FILE = \"my-project-vscode-452201-249bdb033f8c.json\"  # JSONファイルのパス\n",
        "SCOPES = [\"https://www.googleapis.com/auth/spreadsheets\"]\n",
        "\n",
        "credentials = Credentials.from_service_account_file(SERVICE_ACCOUNT_FILE, scopes=SCOPES)\n",
        "client = gspread.authorize(credentials)\n",
        "\n",
        "# スプレッドシートを開く（URLまたはスプレッドシートIDを使用）\n",
        "#SPREADSHEET_ID = \"1Ma7ehT4TAnkUwJjspP-C3mwJA1hYmbJr8B9GJSFI0lU\"  # スプレッドシートのID\n",
        "SPREADSHEET_ID = \"1Ma7ehT4TAnkUwJjspP-C3mwJA1hYmbJr8B9GJSFI0lU\"\n",
        "sheet = client.open_by_key(SPREADSHEET_ID).worksheet(\"Sheet4\") # 最初のシートを取得\n",
        "\n",
        "# データを取得\n",
        "list_of_lists = sheet.get_all_records()\n",
        "df = pd.DataFrame(list_of_lists)\n",
        "df = df.set_index(df.columns[0])\n",
        "\n",
        "df\n"
      ]
    },
    {
      "cell_type": "code",
      "execution_count": null,
      "metadata": {
        "id": "W85uUQ_uOeH5"
      },
      "outputs": [],
      "source": [
        "P = df.columns[:2].to_list()\n",
        "M = df.index[:2].to_list()\n",
        "stock = dict(df['Stock'][:2])\n",
        "gain = dict(df.loc['Venefit'][:2])\n",
        "require = {(p, m): df.loc[m, p] for p in P for m in M}\n",
        "\n",
        "x = {}\n",
        "for p in P:\n",
        "  x[p] = pulp.LpVariable(p, lowBound=0, cat='Continuous')"
      ]
    },
    {
      "cell_type": "code",
      "execution_count": null,
      "metadata": {
        "id": "61-vT_3YOeH5",
        "outputId": "e0abbba3-f107-4370-8867-724644460afc"
      },
      "outputs": [
        {
          "name": "stdout",
          "output_type": "stream",
          "text": [
            "Welcome to the CBC MILP Solver \n",
            "Version: 2.10.3 \n",
            "Build Date: Dec 15 2019 \n",
            "\n",
            "command line - /Users/takanohiroshi/.pyenv/versions/3.10.5/lib/python3.10/site-packages/pulp/solverdir/cbc/osx/64/cbc /var/folders/52/k1p3ltss0cx1z00jsbnh_2xr0000gn/T/1a9cb69787d6420bbac5cd042fc7cbc5-pulp.mps -max -timeMode elapsed -branch -printingOptions all -solution /var/folders/52/k1p3ltss0cx1z00jsbnh_2xr0000gn/T/1a9cb69787d6420bbac5cd042fc7cbc5-pulp.sol (default strategy 1)\n",
            "At line 2 NAME          MODEL\n",
            "At line 3 ROWS\n",
            "At line 9 COLUMNS\n",
            "At line 20 RHS\n",
            "At line 25 BOUNDS\n",
            "At line 26 ENDATA\n",
            "Problem MODEL has 4 rows, 2 columns and 8 elements\n",
            "Coin0008I MODEL read with 0 errors\n",
            "Option for timeMode changed from cpu to elapsed\n",
            "Presolve 2 (-2) rows, 2 (0) columns and 4 (-4) elements\n",
            "0  Obj -0 Dual inf 18.164964 (2)\n",
            "2  Obj 200\n",
            "Optimal - objective value 200\n",
            "After Postsolve, objective 200, infeasibilities - dual 0 (0), primal 0 (0)\n",
            "Optimal objective 200 - 2 iterations time 0.002, Presolve 0.00\n",
            "Option for printingOptions changed from normal to all\n",
            "Total time (CPU seconds):       0.00   (Wallclock seconds):       0.01\n",
            "\n",
            "Optimal\n"
          ]
        }
      ],
      "source": [
        "problem = pulp.LpProblem(\"Maximize_gain\", pulp.LpMaximize)\n",
        "\n",
        "for m in M:\n",
        "  for p in P:\n",
        "    problem += pulp.lpSum([require[(p,m)] * x[p] for p in P]) <= stock[m]\n",
        "\n",
        "problem += pulp.lpSum([gain[p]*x[p] for p in P])\n",
        "\n",
        "status = problem.solve()\n",
        "print(pulp.LpStatus[status])"
      ]
    },
    {
      "cell_type": "code",
      "execution_count": null,
      "metadata": {
        "id": "hHMOaV1uOeH5",
        "outputId": "41adc681-629f-4f3e-8260-1823a14df520"
      },
      "outputs": [
        {
          "name": "stdout",
          "output_type": "stream",
          "text": [
            "X 12.0\n",
            "Y 4.0\n",
            "obj= 200.0\n"
          ]
        }
      ],
      "source": [
        "for p in P:\n",
        "  print(p, x[p].value())\n",
        "print(\"obj=\", problem.objective.value())"
      ]
    },
    {
      "cell_type": "code",
      "execution_count": null,
      "metadata": {
        "id": "9hQRjsWTOeH5"
      },
      "outputs": [],
      "source": []
    },
    {
      "cell_type": "code",
      "execution_count": null,
      "metadata": {
        "id": "Pq2cmKF2OeH5"
      },
      "outputs": [],
      "source": [
        "# データ取得\n",
        "stock_df = pl.read_csv('2.tutorial/stocks.csv')\n",
        "require_df = pl.read_csv('2.tutorial/requires.csv')\n",
        "gain_df = pl.read_csv('2.tutorial/gains.csv')"
      ]
    },
    {
      "cell_type": "code",
      "execution_count": null,
      "metadata": {
        "id": "fDloInrYOeH5"
      },
      "outputs": [],
      "source": [
        "stock = dict(zip(stock_df[\"m\"], stock_df[\"stock\"]))\n",
        "require = dict(zip(zip(require_df[\"p\"],require_df[\"m\"]), require_df[\"require\"]))\n",
        "gain = dict(zip(gain_df[\"p\"], gain_df['gain']))"
      ]
    },
    {
      "cell_type": "code",
      "execution_count": null,
      "metadata": {
        "id": "Ntx1zqUKOeH5"
      },
      "outputs": [],
      "source": [
        "P = gain_df['p'].to_list()\n",
        "M = stock_df['m'].to_list()"
      ]
    },
    {
      "cell_type": "code",
      "execution_count": null,
      "metadata": {
        "id": "GAhyM_44OeH5"
      },
      "outputs": [],
      "source": [
        "#　線形計画問題の定義\n",
        "problem = pulp.LpProblem('LP', pulp.LpMaximize)\n",
        "\n",
        "# 変数の定義 整数計算問題は安定して解くことは期待できない\n",
        "x = pulp.LpVariable.dicts(\"x\", P, lowBound=0, cat='Continuous')\n",
        "\n",
        "# 生産量は在庫の範囲で行うという制約\n",
        "for m in M:\n",
        "    problem += pulp.lpSum(require[p, m] * x[p] for p in P) <= stock[m]\n",
        "\n",
        "# 目的関数の定義\n",
        "problem += pulp.lpSum([gain[p]*x[p] for p in P])\n"
      ]
    },
    {
      "cell_type": "code",
      "execution_count": null,
      "metadata": {
        "id": "3-J6-I6-OeH5",
        "outputId": "8a2de49c-6b91-4a15-ee8f-8ad3cd3fdaaf"
      },
      "outputs": [
        {
          "name": "stdout",
          "output_type": "stream",
          "text": [
            "Welcome to the CBC MILP Solver \n",
            "Version: 2.10.3 \n",
            "Build Date: Dec 15 2019 \n",
            "\n",
            "command line - /Users/takanohiroshi/.pyenv/versions/3.10.5/lib/python3.10/site-packages/pulp/solverdir/cbc/osx/64/cbc /var/folders/52/k1p3ltss0cx1z00jsbnh_2xr0000gn/T/0e23a61f1f984c2587e4c17671345f42-pulp.mps -max -timeMode elapsed -branch -printingOptions all -solution /var/folders/52/k1p3ltss0cx1z00jsbnh_2xr0000gn/T/0e23a61f1f984c2587e4c17671345f42-pulp.sol (default strategy 1)\n",
            "At line 2 NAME          MODEL\n",
            "At line 3 ROWS\n",
            "At line 8 COLUMNS\n",
            "At line 22 RHS\n",
            "At line 26 BOUNDS\n",
            "At line 27 ENDATA\n",
            "Problem MODEL has 3 rows, 4 columns and 9 elements\n",
            "Coin0008I MODEL read with 0 errors\n",
            "Option for timeMode changed from cpu to elapsed\n",
            "Presolve 3 (0) rows, 4 (0) columns and 9 (0) elements\n",
            "0  Obj -0 Dual inf 17.5 (4)\n",
            "0  Obj -0 Dual inf 17.5 (4)\n",
            "4  Obj 80.428571\n",
            "Optimal - objective value 80.428571\n",
            "Optimal objective 80.42857143 - 4 iterations time 0.002\n",
            "Option for printingOptions changed from normal to all\n",
            "Total time (CPU seconds):       0.00   (Wallclock seconds):       0.00\n",
            "\n",
            "status Optimal\n"
          ]
        }
      ],
      "source": [
        "status = problem.solve()\n",
        "print('status', pulp.LpStatus[status])"
      ]
    },
    {
      "cell_type": "code",
      "execution_count": null,
      "metadata": {
        "id": "V3a3oatrOeH6",
        "outputId": "f6f2578d-bea3-4dff-8973-f72c0c3e7428"
      },
      "outputs": [
        {
          "name": "stdout",
          "output_type": "stream",
          "text": [
            "p1 12.142857\n",
            "p2 3.5714286\n",
            "p3 7.4285714\n",
            "p4 0.0\n",
            "obj= 80.42857099999999\n"
          ]
        }
      ],
      "source": [
        "for p in P:\n",
        "  print(p, x[p].value())\n",
        "\n",
        "print('obj=', problem.objective.value())"
      ]
    },
    {
      "cell_type": "code",
      "execution_count": null,
      "metadata": {
        "id": "Qb3LmheZOeH6"
      },
      "outputs": [],
      "source": []
    },
    {
      "cell_type": "markdown",
      "metadata": {
        "id": "jEqwbjZwOeH6"
      },
      "source": [
        "# 割引クーポンキャンペーンの効果最大化"
      ]
    },
    {
      "cell_type": "code",
      "execution_count": null,
      "metadata": {
        "id": "vSDW3V7AOeH6"
      },
      "outputs": [],
      "source": [
        "import pandas as pd\n",
        "import polars as pu\n",
        "import seaborn as sns\n",
        "import matplotlib.pyplot as plt\n",
        "\n",
        "cust_df = pl.read_csv('4.coupon/customers.csv')\n",
        "prob_df = pl.read_csv('4.coupon/visit_probability.csv')"
      ]
    },
    {
      "cell_type": "markdown",
      "metadata": {
        "id": "1XivNJgHOeH6"
      },
      "source": []
    },
    {
      "cell_type": "code",
      "execution_count": null,
      "metadata": {
        "id": "F10Vr2N4OeH6",
        "outputId": "fd81172e-7d34-47ca-9919-29bcde6f2ec4"
      },
      "outputs": [
        {
          "name": "stdout",
          "output_type": "stream",
          "text": [
            "Rows: 16\n",
            "Columns: 6\n",
            "$ age_cat    <str> age~19, age~19, age~19, age~19, age20~34, age20~34, age20~34, age20~34, age35~49, age35~49\n",
            "$ freq_cat   <str> freq0, freq1, freq2, freq3~, freq0, freq1, freq2, freq3~, freq0, freq1\n",
            "$ segment_id <i64> 1, 2, 3, 4, 5, 6, 7, 8, 9, 10\n",
            "$ prob_dm1   <f64> 0.07, 0.21, 0.28, 0.35, 0.11, 0.32, 0.42, 0.52, 0.08, 0.25\n",
            "$ prob_dm2   <f64> 0.12, 0.3, 0.39, 0.45, 0.17, 0.43, 0.55, 0.63, 0.14, 0.35\n",
            "$ prob_dm3   <f64> 0.29, 0.58, 0.74, 0.77, 0.37, 0.72, 0.93, 0.94, 0.33, 0.67\n",
            "\n"
          ]
        }
      ],
      "source": [
        "print(prob_df.glimpse())"
      ]
    },
    {
      "cell_type": "code",
      "execution_count": null,
      "metadata": {
        "id": "xmU57GXXOeH6",
        "outputId": "54df4614-11e5-4a8a-ff0b-81e1497d373a"
      },
      "outputs": [
        {
          "data": {
            "text/plain": [
              "<AxesSubplot:ylabel='Count'>"
            ]
          },
          "execution_count": 126,
          "metadata": {},
          "output_type": "execute_result"
        },
        {
          "data": {
            "image/png": "[encoded data removed]",
            "text/plain": [
              "<Figure size 432x288 with 1 Axes>"
            ]
          },
          "metadata": {
            "needs_background": "light"
          },
          "output_type": "display_data"
        }
      ],
      "source": [
        "sns.histplot(cust_df['age_cat'].to_list(), bins=5)"
      ]
    },
    {
      "cell_type": "markdown",
      "metadata": {
        "id": "GvVX6_LcOeH7"
      },
      "source": [
        "#"
      ]
    },
    {
      "cell_type": "code",
      "execution_count": null,
      "metadata": {
        "id": "YP0ZvPdUOeH7",
        "outputId": "dd08e077-dfad-4951-cf00-bf7f136f89c2"
      },
      "outputs": [
        {
          "data": {
            "text/plain": [
              "<AxesSubplot:ylabel='Count'>"
            ]
          },
          "execution_count": 127,
          "metadata": {},
          "output_type": "execute_result"
        },
        {
          "data": {
            "image/png": "[encoded data removed]",
            "text/plain": [
              "<Figure size 432x288 with 1 Axes>"
            ]
          },
          "metadata": {
            "needs_background": "light"
          },
          "output_type": "display_data"
        }
      ],
      "source": [
        "sns.histplot(cust_df['freq_cat'].to_list(),bins=5)"
      ]
    },
    {
      "cell_type": "code",
      "execution_count": null,
      "metadata": {
        "id": "E7obEeaeOeH7",
        "outputId": "87172af2-b11d-433c-b4f2-df4ef9f727cf"
      },
      "outputs": [
        {
          "data": {
            "text/html": [
              "<div>\n",
              "<style scoped>\n",
              "    .dataframe tbody tr th:only-of-type {\n",
              "        vertical-align: middle;\n",
              "    }\n",
              "\n",
              "    .dataframe tbody tr th {\n",
              "        vertical-align: top;\n",
              "    }\n",
              "\n",
              "    .dataframe thead th {\n",
              "        text-align: right;\n",
              "    }\n",
              "</style>\n",
              "<table border=\"1\" class=\"dataframe\">\n",
              "  <thead>\n",
              "    <tr style=\"text-align: right;\">\n",
              "      <th></th>\n",
              "      <th>freq0</th>\n",
              "      <th>freq1</th>\n",
              "      <th>freq2</th>\n",
              "      <th>freq3~</th>\n",
              "    </tr>\n",
              "    <tr>\n",
              "      <th>age_cat</th>\n",
              "      <th></th>\n",
              "      <th></th>\n",
              "      <th></th>\n",
              "      <th></th>\n",
              "    </tr>\n",
              "  </thead>\n",
              "  <tbody>\n",
              "    <tr>\n",
              "      <th>age~19</th>\n",
              "      <td>200</td>\n",
              "      <td>150</td>\n",
              "      <td>50</td>\n",
              "      <td>100</td>\n",
              "    </tr>\n",
              "    <tr>\n",
              "      <th>age20~34</th>\n",
              "      <td>600</td>\n",
              "      <td>450</td>\n",
              "      <td>150</td>\n",
              "      <td>300</td>\n",
              "    </tr>\n",
              "    <tr>\n",
              "      <th>age35~49</th>\n",
              "      <td>800</td>\n",
              "      <td>600</td>\n",
              "      <td>200</td>\n",
              "      <td>400</td>\n",
              "    </tr>\n",
              "    <tr>\n",
              "      <th>age50~</th>\n",
              "      <td>400</td>\n",
              "      <td>300</td>\n",
              "      <td>100</td>\n",
              "      <td>200</td>\n",
              "    </tr>\n",
              "  </tbody>\n",
              "</table>\n",
              "</div>"
            ],
            "text/plain": [
              "          freq0  freq1  freq2  freq3~\n",
              "age_cat                              \n",
              "age~19      200    150     50     100\n",
              "age20~34    600    450    150     300\n",
              "age35~49    800    600    200     400\n",
              "age50~      400    300    100     200"
            ]
          },
          "execution_count": 128,
          "metadata": {},
          "output_type": "execute_result"
        }
      ],
      "source": [
        "pivot_table_df = cust_df.pivot(\n",
        "    values=\"customer_id\",\n",
        "    index=\"age_cat\",\n",
        "    columns=\"freq_cat\",\n",
        "    aggregate_fn=\"count\"  #\n",
        ")\n",
        "\n",
        "pivot_table_df = pivot_table_df.sort(\"age_cat\")\n",
        "\n",
        "age_order = [\"age~19\", \"age20~34\",\"age35~49\",\"age50~\"]\n",
        "order_map = {v: i for i, v in enumerate(age_order)}\n",
        "\n",
        "pivot_table_df = pivot_table_df.with_columns(pl.col(\"age_cat\").apply(lambda x : order_map.get(x,-1)).alias(\"sort_order\"))\n",
        "pivot_table_df = pivot_table_df.sort(\"sort_order\").drop(\"sort_order\")\n",
        "\n",
        "sorted_table = sorted(pivot_table_df.columns)\n",
        "pivot_table_df = pivot_table_df[sorted_table]\n",
        "\n",
        "df_pandas = pivot_table_df.to_pandas().set_index('age_cat')\n",
        "df_pandas"
      ]
    },
    {
      "cell_type": "code",
      "execution_count": null,
      "metadata": {
        "id": "Z2lD-QEwOeH7",
        "outputId": "e331e994-f5f3-42d3-aac2-61b93afa495f"
      },
      "outputs": [
        {
          "data": {
            "image/png": "[encoded data removed]",
            "text/plain": [
              "<Figure size 432x288 with 2 Axes>"
            ]
          },
          "metadata": {
            "needs_background": "light"
          },
          "output_type": "display_data"
        }
      ],
      "source": [
        "import seaborn as sns\n",
        "import matplotlib.pyplot as plt\n",
        "\n",
        "\n",
        "# Heatmapの描画\n",
        "sns.heatmap(df_pandas, annot=True, fmt='d', cmap='Blues')\n",
        "\n",
        "plt.show()\n"
      ]
    },
    {
      "cell_type": "code",
      "execution_count": null,
      "metadata": {
        "id": "S8kV6HHYOeH7",
        "outputId": "fe0700a6-a524-4930-9276-23b5f2c21f49"
      },
      "outputs": [
        {
          "data": {
            "text/html": [
              "<div>\n",
              "<style scoped>\n",
              "    .dataframe tbody tr th:only-of-type {\n",
              "        vertical-align: middle;\n",
              "    }\n",
              "\n",
              "    .dataframe tbody tr th {\n",
              "        vertical-align: top;\n",
              "    }\n",
              "\n",
              "    .dataframe thead th {\n",
              "        text-align: right;\n",
              "    }\n",
              "</style>\n",
              "<table border=\"1\" class=\"dataframe\">\n",
              "  <thead>\n",
              "    <tr style=\"text-align: right;\">\n",
              "      <th></th>\n",
              "      <th>age_cat</th>\n",
              "      <th>freq_cat</th>\n",
              "      <th>segment_id</th>\n",
              "      <th>prob_dm1</th>\n",
              "      <th>prob_dm2</th>\n",
              "      <th>prob_dm3</th>\n",
              "    </tr>\n",
              "  </thead>\n",
              "  <tbody>\n",
              "    <tr>\n",
              "      <th>0</th>\n",
              "      <td>age~19</td>\n",
              "      <td>freq0</td>\n",
              "      <td>1</td>\n",
              "      <td>0.07</td>\n",
              "      <td>0.12</td>\n",
              "      <td>0.29</td>\n",
              "    </tr>\n",
              "    <tr>\n",
              "      <th>1</th>\n",
              "      <td>age~19</td>\n",
              "      <td>freq1</td>\n",
              "      <td>2</td>\n",
              "      <td>0.21</td>\n",
              "      <td>0.30</td>\n",
              "      <td>0.58</td>\n",
              "    </tr>\n",
              "    <tr>\n",
              "      <th>2</th>\n",
              "      <td>age~19</td>\n",
              "      <td>freq2</td>\n",
              "      <td>3</td>\n",
              "      <td>0.28</td>\n",
              "      <td>0.39</td>\n",
              "      <td>0.74</td>\n",
              "    </tr>\n",
              "    <tr>\n",
              "      <th>3</th>\n",
              "      <td>age~19</td>\n",
              "      <td>freq3~</td>\n",
              "      <td>4</td>\n",
              "      <td>0.35</td>\n",
              "      <td>0.45</td>\n",
              "      <td>0.77</td>\n",
              "    </tr>\n",
              "    <tr>\n",
              "      <th>4</th>\n",
              "      <td>age20~34</td>\n",
              "      <td>freq0</td>\n",
              "      <td>5</td>\n",
              "      <td>0.11</td>\n",
              "      <td>0.17</td>\n",
              "      <td>0.37</td>\n",
              "    </tr>\n",
              "    <tr>\n",
              "      <th>5</th>\n",
              "      <td>age20~34</td>\n",
              "      <td>freq1</td>\n",
              "      <td>6</td>\n",
              "      <td>0.32</td>\n",
              "      <td>0.43</td>\n",
              "      <td>0.72</td>\n",
              "    </tr>\n",
              "    <tr>\n",
              "      <th>6</th>\n",
              "      <td>age20~34</td>\n",
              "      <td>freq2</td>\n",
              "      <td>7</td>\n",
              "      <td>0.42</td>\n",
              "      <td>0.55</td>\n",
              "      <td>0.93</td>\n",
              "    </tr>\n",
              "    <tr>\n",
              "      <th>7</th>\n",
              "      <td>age20~34</td>\n",
              "      <td>freq3~</td>\n",
              "      <td>8</td>\n",
              "      <td>0.52</td>\n",
              "      <td>0.63</td>\n",
              "      <td>0.94</td>\n",
              "    </tr>\n",
              "    <tr>\n",
              "      <th>8</th>\n",
              "      <td>age35~49</td>\n",
              "      <td>freq0</td>\n",
              "      <td>9</td>\n",
              "      <td>0.08</td>\n",
              "      <td>0.14</td>\n",
              "      <td>0.33</td>\n",
              "    </tr>\n",
              "    <tr>\n",
              "      <th>9</th>\n",
              "      <td>age35~49</td>\n",
              "      <td>freq1</td>\n",
              "      <td>10</td>\n",
              "      <td>0.25</td>\n",
              "      <td>0.35</td>\n",
              "      <td>0.67</td>\n",
              "    </tr>\n",
              "    <tr>\n",
              "      <th>10</th>\n",
              "      <td>age35~49</td>\n",
              "      <td>freq2</td>\n",
              "      <td>11</td>\n",
              "      <td>0.34</td>\n",
              "      <td>0.45</td>\n",
              "      <td>0.86</td>\n",
              "    </tr>\n",
              "    <tr>\n",
              "      <th>11</th>\n",
              "      <td>age35~49</td>\n",
              "      <td>freq3~</td>\n",
              "      <td>12</td>\n",
              "      <td>0.42</td>\n",
              "      <td>0.52</td>\n",
              "      <td>0.89</td>\n",
              "    </tr>\n",
              "    <tr>\n",
              "      <th>12</th>\n",
              "      <td>age50~</td>\n",
              "      <td>freq0</td>\n",
              "      <td>13</td>\n",
              "      <td>0.07</td>\n",
              "      <td>0.13</td>\n",
              "      <td>0.32</td>\n",
              "    </tr>\n",
              "    <tr>\n",
              "      <th>13</th>\n",
              "      <td>age50~</td>\n",
              "      <td>freq1</td>\n",
              "      <td>14</td>\n",
              "      <td>0.21</td>\n",
              "      <td>0.33</td>\n",
              "      <td>0.65</td>\n",
              "    </tr>\n",
              "    <tr>\n",
              "      <th>14</th>\n",
              "      <td>age50~</td>\n",
              "      <td>freq2</td>\n",
              "      <td>15</td>\n",
              "      <td>0.28</td>\n",
              "      <td>0.42</td>\n",
              "      <td>0.84</td>\n",
              "    </tr>\n",
              "    <tr>\n",
              "      <th>15</th>\n",
              "      <td>age50~</td>\n",
              "      <td>freq3~</td>\n",
              "      <td>16</td>\n",
              "      <td>0.35</td>\n",
              "      <td>0.49</td>\n",
              "      <td>0.88</td>\n",
              "    </tr>\n",
              "  </tbody>\n",
              "</table>\n",
              "</div>"
            ],
            "text/plain": [
              "     age_cat freq_cat  segment_id  prob_dm1  prob_dm2  prob_dm3\n",
              "0     age~19    freq0           1      0.07      0.12      0.29\n",
              "1     age~19    freq1           2      0.21      0.30      0.58\n",
              "2     age~19    freq2           3      0.28      0.39      0.74\n",
              "3     age~19   freq3~           4      0.35      0.45      0.77\n",
              "4   age20~34    freq0           5      0.11      0.17      0.37\n",
              "5   age20~34    freq1           6      0.32      0.43      0.72\n",
              "6   age20~34    freq2           7      0.42      0.55      0.93\n",
              "7   age20~34   freq3~           8      0.52      0.63      0.94\n",
              "8   age35~49    freq0           9      0.08      0.14      0.33\n",
              "9   age35~49    freq1          10      0.25      0.35      0.67\n",
              "10  age35~49    freq2          11      0.34      0.45      0.86\n",
              "11  age35~49   freq3~          12      0.42      0.52      0.89\n",
              "12    age50~    freq0          13      0.07      0.13      0.32\n",
              "13    age50~    freq1          14      0.21      0.33      0.65\n",
              "14    age50~    freq2          15      0.28      0.42      0.84\n",
              "15    age50~   freq3~          16      0.35      0.49      0.88"
            ]
          },
          "execution_count": 130,
          "metadata": {},
          "output_type": "execute_result"
        }
      ],
      "source": [
        "df_pandas2 = prob_df.to_pandas()\n",
        "df_pandas2"
      ]
    },
    {
      "cell_type": "code",
      "execution_count": null,
      "metadata": {
        "id": "QoHBbwM9OeH7",
        "outputId": "a8108a81-5563-47bc-ae4e-9ad3fbb04d31"
      },
      "outputs": [
        {
          "data": {
            "image/png": "[encoded data removed]",
            "text/plain": [
              "<Figure size 1440x216 with 4 Axes>"
            ]
          },
          "metadata": {
            "needs_background": "light"
          },
          "output_type": "display_data"
        }
      ],
      "source": [
        "cols = ['age~19','age20~34','age35~49','age50~']\n",
        "ax = {}\n",
        "fig, (ax[0],ax[1],ax[2]) = plt.subplots(1,3, figsize=(20,3))\n",
        "for i, ptn in enumerate(['prob_dm1', 'prob_dm2','prob_dm3']):\n",
        "    prob_pivot_df = pd.pivot_table(data=df_pandas2, values=ptn, columns='freq_cat', index='age_cat')\n",
        "    prob_pivot_df = prob_pivot_df.reindex(cols)\n",
        "    prob_pivot_df = prob_pivot_df.rename(index=lambda x: x.replace(\"age\",\"\"))\n",
        "    if i == 2:\n",
        "        sns.heatmap(prob_pivot_df, vmin=0, vmax=1, annot=True, fmt='.0%', cmap='Blues',ax=ax[i])\n",
        "    else:\n",
        "        sns.heatmap(prob_pivot_df, vmin=0, vmax=1, annot=True, fmt='.0%', cmap='Blues',ax=ax[i], cbar=False)\n",
        "    ax[i].set_title(f'Visit Probability of {ptn}')\n"
      ]
    },
    {
      "cell_type": "markdown",
      "metadata": {
        "id": "q44T4KA_OeH7"
      },
      "source": [
        "* 同じセグメントでは、クーポンの金額が大きいパターンの順に来店率が高くなる。\n",
        "* 同じ年齢区分では、昨年度の来店回数が多いほどれ来店率が高くなる。\n",
        "* 同じ昨年度来店回数区分では、age20~34の来店率が高くage~19の来店率が低い。\n"
      ]
    },
    {
      "cell_type": "markdown",
      "metadata": {
        "id": "VKIcqWQLOeH7"
      },
      "source": [
        "1. 各会員に対してどのパターンのダイレクトメールを送付するかを決定\n",
        "2. 各会員に対して送付するダイレクトメールはいずれか１パターン\n",
        "3. クーポン付与による来客増加数を最大化する\n",
        "4. 怪異の予算消費期待値の合計は100万円以下\n",
        "5. 各パターンのダイレクトメールをそれぞれのセグメントに属する会員の10%以下に送付"
      ]
    },
    {
      "cell_type": "markdown",
      "metadata": {
        "id": "CXEl3IBJOeH7"
      },
      "source": [
        "## モデリング１：会員別送付モデル\n"
      ]
    },
    {
      "cell_type": "code",
      "execution_count": null,
      "metadata": {
        "id": "0XuH_eqYOeH7"
      },
      "outputs": [],
      "source": [
        "import pulp\n",
        "\n",
        "problem = pulp.LpProblem(name='DiscountCouponProblem1', sense=pulp.LpMaximize)"
      ]
    },
    {
      "cell_type": "code",
      "execution_count": null,
      "metadata": {
        "id": "CbzrpFnPOeH7",
        "outputId": "6182e360-2afa-4f46-8aee-e8329342c4cf"
      },
      "outputs": [
        {
          "data": {
            "text/plain": [
              "'/Users/takanohiroshi/Library/CloudStorage/OneDrive-YokohamaInternationalExchangeAssociation/Python/GitHub'"
            ]
          },
          "execution_count": 133,
          "metadata": {},
          "output_type": "execute_result"
        }
      ],
      "source": [
        "\"https://github.com/HiroshiATakano/GitHub\"\n",
        "\"/Users/takanohiroshi/Library/CloudStorage/OneDrive-YokohamaInternationalExchangeAssociation/Python/GitHub\""
      ]
    },
    {
      "cell_type": "code",
      "execution_count": null,
      "metadata": {
        "id": "QUi7Oh2VOeH7"
      },
      "outputs": [],
      "source": []
    },
    {
      "cell_type": "code",
      "execution_count": null,
      "metadata": {
        "id": "m11BNZEdOeH7"
      },
      "outputs": [],
      "source": []
    }
  ],
  "metadata": {
    "kernelspec": {
      "display_name": "Python 3",
      "language": "python",
      "name": "python3"
    },
    "language_info": {
      "codemirror_mode": {
        "name": "ipython",
        "version": 3
      },
      "file_extension": ".py",
      "mimetype": "text/x-python",
      "name": "python",
      "nbconvert_exporter": "python",
      "pygments_lexer": "ipython3",
      "version": "3.10.5"
    },
    "colab": {
      "provenance": [],
      "include_colab_link": true
    }
  },
  "nbformat": 4,
  "nbformat_minor": 0
}