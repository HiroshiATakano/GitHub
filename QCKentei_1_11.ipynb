{
  "nbformat": 4,
  "nbformat_minor": 0,
  "metadata": {
    "colab": {
      "provenance": [],
      "include_colab_link": true
    },
    "kernelspec": {
      "name": "python3",
      "display_name": "Python 3"
    },
    "language_info": {
      "name": "python"
    }
  },
  "cells": [
    {
      "cell_type": "markdown",
      "metadata": {
        "id": "view-in-github",
        "colab_type": "text"
      },
      "source": [
        "<a href=\"https://colab.research.google.com/github/HiroshiATakano/GitHub/blob/master/QCKentei_1_11.ipynb\" target=\"_parent\"><img src=\"https://colab.research.google.com/assets/colab-badge.svg\" alt=\"Open In Colab\"/></a>"
      ]
    },
    {
      "cell_type": "markdown",
      "source": [
        "# Ingeniería de la confiabilidad\n",
        "\n",
        "\n"
      ],
      "metadata": {
        "id": "e-QyG_B2JVKN"
      }
    },
    {
      "cell_type": "markdown",
      "source": [
        "### Preparación"
      ],
      "metadata": {
        "id": "cSUS_nOpOq8g"
      }
    },
    {
      "cell_type": "code",
      "execution_count": 43,
      "metadata": {
        "colab": {
          "base_uri": "https://localhost:8080/"
        },
        "id": "_ZJN0BiNbKNL",
        "outputId": "c798aca9-0341-481f-83bb-369ff2e353e2"
      },
      "outputs": [
        {
          "output_type": "stream",
          "name": "stdout",
          "text": [
            "Drive already mounted at /content/drive/; to attempt to forcibly remount, call drive.mount(\"/content/drive/\", force_remount=True).\n"
          ]
        }
      ],
      "source": [
        "from google.colab import drive\n",
        "drive.mount('/content/drive/')"
      ]
    },
    {
      "cell_type": "code",
      "source": [
        "def ensure_and_move_to_folder(folder_name):\n",
        "  current_dir = os.getcwd()\n",
        "  target_path = os.path.join(current_dir, folder_name)\n",
        "\n",
        "  if not os.path.exists(target_path):\n",
        "    os.makedirs(target_path)\n",
        "    print(f\"Folder '{folder_name}' created successfully.\")\n",
        "  else:\n",
        "    print(f\"Folder '{folder_name}' already exists.\")\n",
        "\n",
        "  #os.chdir(target_path)"
      ],
      "metadata": {
        "id": "PAPD2pri8m7k"
      },
      "execution_count": 44,
      "outputs": []
    },
    {
      "cell_type": "code",
      "source": [
        "import os\n",
        "\n",
        "folder_name = 'QC_Kentei'\n",
        "ensure_and_move_to_folder(folder_name)\n",
        "\n",
        "path = os.getcwd()\n",
        "\n",
        "try:\n",
        "  os.chdir(path + '/drive/My Drive/QC_Kentei')\n",
        "except:\n",
        "  pass\n",
        "\n",
        "os.getcwd()"
      ],
      "metadata": {
        "colab": {
          "base_uri": "https://localhost:8080/",
          "height": 54
        },
        "id": "8PsBJYd8bPmS",
        "outputId": "b11cc3d1-972e-4907-a60f-c97f1b0bad5b"
      },
      "execution_count": 45,
      "outputs": [
        {
          "output_type": "stream",
          "name": "stdout",
          "text": [
            "Folder 'QC_Kentei' already exists.\n"
          ]
        },
        {
          "output_type": "execute_result",
          "data": {
            "text/plain": [
              "'/content/drive/My Drive/QC_Kentei'"
            ],
            "application/vnd.google.colaboratory.intrinsic+json": {
              "type": "string"
            }
          },
          "metadata": {},
          "execution_count": 45
        }
      ]
    },
    {
      "cell_type": "code",
      "source": [
        "import gspread\n",
        "\n",
        "from google.colab import auth\n",
        "auth.authenticate_user()\n",
        "\n",
        "from google.auth import default\n",
        "creds, _ = default()\n",
        "\n",
        "gc = gspread.authorize(creds)\n",
        "\n",
        "url = \"https://docs.google.com/spreadsheets/d/1RkO0VL4WR6cbPBfBEjz693Lo4SdUAoSvRHV491ggXTo/edit?usp=sharing\"\n",
        "ss = gc.open_by_url(url)"
      ],
      "metadata": {
        "id": "WoPjsTdVbjcT"
      },
      "execution_count": 46,
      "outputs": []
    },
    {
      "cell_type": "code",
      "source": [
        "folder_name = 'Data_1'\n",
        "ensure_and_move_to_folder(folder_name)"
      ],
      "metadata": {
        "colab": {
          "base_uri": "https://localhost:8080/"
        },
        "id": "pZKNh2za-NxX",
        "outputId": "b3cd9fc7-4f7e-4c98-e704-8951bc032219"
      },
      "execution_count": 47,
      "outputs": [
        {
          "output_type": "stream",
          "name": "stdout",
          "text": [
            "Folder 'Data_1' already exists.\n"
          ]
        }
      ]
    },
    {
      "cell_type": "code",
      "source": [
        "!pip install japanize-matplotlib"
      ],
      "metadata": {
        "colab": {
          "base_uri": "https://localhost:8080/"
        },
        "id": "CGw_d4dwbokc",
        "outputId": "c1062bad-e6dc-4742-8818-c07fa0e7cc2b"
      },
      "execution_count": 48,
      "outputs": [
        {
          "output_type": "stream",
          "name": "stdout",
          "text": [
            "Requirement already satisfied: japanize-matplotlib in /usr/local/lib/python3.11/dist-packages (1.1.3)\n",
            "Requirement already satisfied: matplotlib in /usr/local/lib/python3.11/dist-packages (from japanize-matplotlib) (3.10.0)\n",
            "Requirement already satisfied: contourpy>=1.0.1 in /usr/local/lib/python3.11/dist-packages (from matplotlib->japanize-matplotlib) (1.3.1)\n",
            "Requirement already satisfied: cycler>=0.10 in /usr/local/lib/python3.11/dist-packages (from matplotlib->japanize-matplotlib) (0.12.1)\n",
            "Requirement already satisfied: fonttools>=4.22.0 in /usr/local/lib/python3.11/dist-packages (from matplotlib->japanize-matplotlib) (4.55.8)\n",
            "Requirement already satisfied: kiwisolver>=1.3.1 in /usr/local/lib/python3.11/dist-packages (from matplotlib->japanize-matplotlib) (1.4.8)\n",
            "Requirement already satisfied: numpy>=1.23 in /usr/local/lib/python3.11/dist-packages (from matplotlib->japanize-matplotlib) (1.26.4)\n",
            "Requirement already satisfied: packaging>=20.0 in /usr/local/lib/python3.11/dist-packages (from matplotlib->japanize-matplotlib) (24.2)\n",
            "Requirement already satisfied: pillow>=8 in /usr/local/lib/python3.11/dist-packages (from matplotlib->japanize-matplotlib) (11.1.0)\n",
            "Requirement already satisfied: pyparsing>=2.3.1 in /usr/local/lib/python3.11/dist-packages (from matplotlib->japanize-matplotlib) (3.2.1)\n",
            "Requirement already satisfied: python-dateutil>=2.7 in /usr/local/lib/python3.11/dist-packages (from matplotlib->japanize-matplotlib) (2.8.2)\n",
            "Requirement already satisfied: six>=1.5 in /usr/local/lib/python3.11/dist-packages (from python-dateutil>=2.7->matplotlib->japanize-matplotlib) (1.17.0)\n"
          ]
        }
      ]
    },
    {
      "cell_type": "code",
      "source": [
        "import pandas as pd\n",
        "import numpy as np\n",
        "\n",
        "import matplotlib.pyplot as plt\n",
        "import seaborn as sns\n",
        "import japanize_matplotlib"
      ],
      "metadata": {
        "id": "baG5ZCoHbukO"
      },
      "execution_count": 49,
      "outputs": []
    },
    {
      "cell_type": "markdown",
      "source": [
        "## 11-01 Ingeniería de la confiabilidad\n",
        "\n",
        "### 1. Ingenieria de la confiabilidad\n",
        " * La confiabilidad se define como la capacidad de un artículo para desempeñar su función durante un período determinado sin fallar, bajo condiciones específicas.\n",
        "\n",
        " * La confiabilidad $ R $ se refiere a la probabilidad de que un artículo realice su función correctamente durante el intervalo de tiempo $ (t_1, t_2) $, bajo condiciones dadas, y se expresa como $ R = 1-F $ (donde F es la no confiabilidad)\n",
        "\n",
        " * Confiabilidad de un sistema en serie\n",
        "\n",
        " $ R = R_1 \\times R_2 \\times ... \\times R_n $\n",
        "\n",
        " * Confiabilidad de un sistema en paralelo\n",
        "\n",
        " $ R = 1 - (1 - R_1) \\times (1-R_2) \\times ... \\times (1 - R_n) $\n"
      ],
      "metadata": {
        "id": "px2rU1szOfyB"
      }
    },
    {
      "cell_type": "markdown",
      "source": [
        "## 11.1\n",
        "\n",
        "信頼度が80%のA部品を三つ用いて直列に結合した時の信頼度を求めよ。また、A部品を用いて、システムの信頼度を99%以上にするためには、少なくと何個の部品を用いて並列系を構成する必要があるかを求めよ。\n",
        "\n",
        "Determina la confiabilidad cuando tres componentes A, cada uno con una confiabilidad del 80%, se conectan en serie. Además, calcula cuántos componentes A se necesitan en paralelo para que la confiabilidad del sistema sea de al menos del 99%.\n",
        "\n"
      ],
      "metadata": {
        "id": "s4Y-tzAMWfCs"
      }
    },
    {
      "cell_type": "code",
      "source": [
        "# Confiabilidad cuando tres componentes A con una confiabilidad del 80% están conectado en serie.\n",
        "\n",
        "def series_reliability(r, n):\n",
        "    return r ** n\n",
        "\n",
        "# Determinar el número mínimo de componentes A con una confiabilidad 80% conectados\n",
        "# en paralelo para lograr una confiabilidad del sistema de al menos el 99%\n",
        "\n",
        "def required_parallel_units(r, target):\n",
        "    n = 1\n",
        "    while 1 - (1 - r) ** n < target:\n",
        "        n += 1\n",
        "    return n\n",
        "\n",
        "# Confiabilidad del componente A\n",
        "r_A = 0.8\n",
        "\n",
        "# Confiabilidad en conexión en serie\n",
        "series_r = series_reliability(r_A, 3)\n",
        "print(f\"Confiabilidad cuando tres componentes A están conectados en serie: {series_r:.4f}\")\n",
        "\n",
        "# Número mínimo de componentes en conecxión en paralelo para alcanzar al menos un 99% de confiabilidad\n",
        "min_parallel_units = required_parallel_units(r_A, 0.99)\n",
        "print(f\"Número mínimo de componentes A necesarios para que la confiabilidad del sistema sea de la menos el 99%: {min_parallel_units}\")"
      ],
      "metadata": {
        "colab": {
          "base_uri": "https://localhost:8080/"
        },
        "id": "QUBIP8D1Whh9",
        "outputId": "24d9cafc-074d-49ba-f1e1-da3e5e0faf3a"
      },
      "execution_count": 50,
      "outputs": [
        {
          "output_type": "stream",
          "name": "stdout",
          "text": [
            "Confiabilidad cuando tres componentes A están conectados en serie: 0.5120\n",
            "Número mínimo de componentes A necesarios para que la confiabilidad del sistema sea de la menos el 99%: 3\n"
          ]
        }
      ]
    },
    {
      "cell_type": "markdown",
      "source": [
        "### 1. FMEA (Failure Modes and Effects Analysis)\n",
        "\n",
        "Es un método para analizar los modos de fallo de los componentes y su impacto en los elementos superiores, con el fin de identificar posibles defectos.\n",
        "\n",
        "### 2. FTA (Fault Tree Analysis)\n",
        "\n",
        "Es un método para analizar los modos de fallo y las probabilidades de su ocurrencia utilizando símbolos lógicos, expandiendo los sucesos en un diagrama de árbol, retrocediendo a lo largo de la secuencia de eventos, y analizando las rutas y causas de ocurrencia.\n",
        "\n",
        "### 3. DR (Design Review)\n",
        "\n",
        "Debido a la complejización de las funciones del producto, depender únicamente de uno o pocos técnicos puede dar lugar a errores, omisiones o fallos relacionados con las nuevas tecnologías. Este enfoque busca prevenir estos problemas de manera proactiva y mejorar el nivel de diseño del producto mediante la integración de las perspectivas de un grupo más amplio de expertos.\n"
      ],
      "metadata": {
        "id": "XKelOf0TPGNC"
      }
    },
    {
      "cell_type": "markdown",
      "source": [
        "### 2. Durabilidad, Mantenibilidad y Fiabilidad del deseño\n",
        "\n",
        "#### (1) Durabilidad:\n",
        "* Robustez\n",
        "* Fiabilidad R\n",
        "* MTTF (Tiempo Medio Hasta Fallo)\n",
        "* Vida B10\n",
        "* Tasa de fallos $ \\lambda $\n",
        "* MTBF (Tiempo Medio Entre Fallos=\n",
        "\n",
        "#### (2) Mantenibilidad:\n",
        "* Facilidad de reparación\n",
        "* Mantenimiento correctivo\n",
        "* Mantenimiento preventivo\n",
        "* Índice de mantenibilidad R\n",
        "* MTTR (Tiempo Medio de Reparación\n",
        "\n",
        "#### (3) Fiabilidad del diseño:\n",
        "* Prevención de errores\n",
        "* Sistemas a prueba de fallos\n",
        "Fallo suave (sin daño completo)\n",
        "* Fallo suave (progresivo)\n"
      ],
      "metadata": {
        "id": "aofTksxqU_C9"
      }
    },
    {
      "cell_type": "markdown",
      "source": [
        "## 11.2\n",
        "\n",
        "ある部品について、寿命の平均値が1200時間、標準偏差が20時間の正規分布に従うとき、B10ライフを求めよ。\n",
        "\n",
        "Para un determinado componente cuya vida útil sigue una distribución normal con una media de 1200 horas y una desviación estándar de 20 horas, determina la vida B10.\n",
        "\n",
        "\n",
        "\n"
      ],
      "metadata": {
        "id": "FAkbkmd4co2k"
      }
    },
    {
      "cell_type": "code",
      "source": [
        "import scipy.stats as stats\n",
        "\n",
        "# Vida útil promedio y desviación estándar\n",
        "mean_life = 1200\n",
        "std_dev = 20\n",
        "\n",
        "# Cálculo de la vida B10 (percentil inferior del 10%)\n",
        "b10_life = stats.norm.ppf(0.10, loc=mean_life, scale=std_dev)\n",
        "\n",
        "print(f\"Vida B10: {b10_life:.2f} horas\")"
      ],
      "metadata": {
        "colab": {
          "base_uri": "https://localhost:8080/"
        },
        "id": "D2_H5aEoZPkp",
        "outputId": "4401ce7a-dfbb-4202-9cbe-a189cf5ef68d"
      },
      "execution_count": 51,
      "outputs": [
        {
          "output_type": "stream",
          "name": "stdout",
          "text": [
            "Vida B10: 1174.37 horas\n"
          ]
        }
      ]
    },
    {
      "cell_type": "markdown",
      "source": [
        "## 11.3\n",
        "\n",
        "６台のシステムの故障データは次のとおりであり、寿命分布は指数分布に従うとき、MTBFの点推定値と故障率λを求めよ。653,780,798,854,911,1038（時間）\n",
        "\n",
        "Los datos de fallos de seis sistemas son los siguientes: 653, 780, 798, 911 y 1038 horas.\n",
        "\n",
        "Si la distribución de vida sigue una distribución exponencial, determina la estimación puntual del MTBF y la tasa de fallos $ \\lambda $."
      ],
      "metadata": {
        "id": "A0N74CUOe5BU"
      }
    },
    {
      "cell_type": "code",
      "source": [
        "# Datos de fallos\n",
        "failure_times = [653, 780, 798, 854, 911, 1038]\n",
        "\n",
        "# Cálculo del MTBF（Tiempo Medio Entre Fallos）\n",
        "mtbf = sum(failure_times) / len(failure_times)\n",
        "\n",
        "# Cálculo de la tasa de fallos λ （λ = 1/MTBF）\n",
        "failure_rate = 1 / mtbf\n",
        "\n",
        "print(f\"MTBF（Fallos por unidad de tiemp）: {mtbf:.2f} horas\")\n",
        "print(f\"Tasa de fallos λ: {failure_rate:.4f} （fallos/horas）\")\n"
      ],
      "metadata": {
        "colab": {
          "base_uri": "https://localhost:8080/"
        },
        "id": "AD9_i4tIdugf",
        "outputId": "ddf6d919-519b-460c-acd2-b779afdeb9e3"
      },
      "execution_count": 52,
      "outputs": [
        {
          "output_type": "stream",
          "name": "stdout",
          "text": [
            "MTBF（Fallos por unidad de tiemp）: 839.00 horas\n",
            "Tasa de fallos λ: 0.0012 （fallos/horas）\n"
          ]
        }
      ]
    },
    {
      "cell_type": "markdown",
      "source": [
        "## 11.4\n",
        "\n",
        "故障した場合に修理を考える修理系では、耐久性と保全性を同時に考慮し総合的に評価する尺度としてアベイラビリティが用いられる。アベイラビリティを求める式に用いる耐久性の尺度と保全性の尺度について答え、それらの尺度を用いてアベイラビリティの計算式を答えよ。\n",
        "\n",
        "En los sistemas de reparación donde se considera la reparación en caso de fallos, se utiliza la disponibilidad como un indicador integral que evalúa simultáneamente la durabilidad y la mantenibilidad. Responde sobre las métricas de durabilidad y mantenibilidad que se utilizan en la fórmula para calcular la disponibilidad y proporciona la fórmula de cálculo de la disponibilidad utilizando estas métricas.\n",
        "\n"
      ],
      "metadata": {
        "id": "DXnKClM-iiMs"
      }
    },
    {
      "cell_type": "markdown",
      "source": [
        "La disponibilidad en un sistema de reparación se calcula como la relación entre el tiempo de funcionamiento del sistema (tiempo de actividad) y el tiempo total, cuando se divide en tiempo de actividad y tiempo de inactividad (tiempo de reparación).\n",
        "* Métrica de durabilidad: MTBF (Tiempo Medio Entre Fallos)\n",
        "* Métrica de mantenibilidad: MTTR (Tiempo Medio de Reparación)\n",
        "* Disponibilidad = MTBF / (MTBF + MTTR)\n"
      ],
      "metadata": {
        "id": "iPbDxaw1kW4f"
      }
    },
    {
      "cell_type": "markdown",
      "source": [
        "## 11-02 Cómo resumir y analizar los datos de confiabilidad\n",
        "\n",
        "### 1. Distribución de Weibull\n",
        "* Función de distribución de la distribución de Weibull: No confiabilidad F(t)\n",
        "* Parámetro de ubicación\n",
        "* Parámetro de forma\n",
        "* Curva en forma de de bañera\n",
        "* Parámetro de escala\n"
      ],
      "metadata": {
        "id": "7n9enNpNanne"
      }
    },
    {
      "cell_type": "markdown",
      "source": [
        "## 11-02\n",
        "\n",
        "ある部品の寿命データをワイブル確率紙で解析し、図１１．４の結果を得た。以下の設問に答えよ。\n",
        "1. 形状パラメータ $ m $ を求め、故障パターンを答えよ。\n",
        "2. 尺度パラメータ $ \\eta $ を求めよ。\n",
        "3. 3000時間での部品信頼度を求めよ。\n",
        "\n",
        "Se realizó un análisis de los datos de vida útil de un componente utilizando el papel de probabilidad de Weibull, y se obtuvo el resultado mostrado en la Figura 11.4. Responda las siguientes preguntas:\n",
        "1. Calcule el parámetro de forma $ m $ y determine el patrón de fallas.\n",
        "2. Calcule el parámetro de escala $ \\eta $.\n",
        "3. Calcule la fiabilidad del componente a las 3000 horas."
      ],
      "metadata": {
        "id": "s5xjtsUhhuwP"
      }
    },
    {
      "cell_type": "code",
      "source": [
        "# Obtener los datos (como lista)\n",
        "\n",
        "st = ss.worksheet(\"Sheet18\")\n",
        "list_of_lists = st.get_all_values()\n",
        "\n",
        "df = pd.DataFrame.from_records(list_of_lists)\n",
        "df.columns = df.iloc[0]\n",
        "df = df.drop(index=0)\n",
        "df = df.apply(pd.to_numeric)\n",
        "\n",
        "df.to_excel('Data_1/11_2.xlsx')"
      ],
      "metadata": {
        "id": "-vo2zSSkratw"
      },
      "execution_count": 53,
      "outputs": []
    },
    {
      "cell_type": "code",
      "source": [
        "from scipy.stats import linregress\n",
        "import matplotlib.ticker as ticker\n",
        "\n",
        "# Data\n",
        "Time = df['Time']\n",
        "F = df['F']\n",
        "\n",
        "# Eje Y transformado a Weibull\n",
        "Y = np.log(np.log(1 / (1 - F)))\n",
        "\n",
        "# Eje X transformado a logaritmo\n",
        "X = np.log(Time)\n",
        "\n",
        "# Estimación de los parámetros de Weibull mediante regresión lineal\n",
        "slope, intercept, r_value, p_value, std_err = linregress(X, Y)\n",
        "\n",
        "# Cálculo del parámetro de forma m y del parámetro de escala η\n",
        "m = slope\n",
        "eta = np.exp(-intercept / m)\n",
        "\n",
        "# Plot\n",
        "plt.figure(figsize=(8, 6))\n",
        "plt.scatter(X, Y, color='blue', label='Data')\n",
        "plt.plot(X, slope * X + intercept, color='red', label=f'Línea de Weibull (m={m:.2f}, η={eta:.0f})')\n",
        "\n",
        "\n",
        "#\n",
        "plt.xlabel(\"ln t(horas)\")\n",
        "plt.ylabel(\"ln(ln(1/(1-F(t))))\")\n",
        "plt.title(\"Figura 11.4: Análisis de datos mediante el papel de probabilidad de Weibull\")\n",
        "\n",
        "#\n",
        "plt.grid(True, which=\"both\", linestyle=\"--\")\n",
        "plt.legend()\n",
        "plt.show()\n",
        "\n",
        "# Representacion del parámetro de forma m y η\n",
        "print(f\"Parámetro de forma estimado m = {m:.2f}\")\n",
        "print(f\"Parámetro de escala estimado η = {eta:.0f}\")\n",
        "\n",
        "# Cálculo de la fiabilidad a t=3000\n",
        "t = 3000\n",
        "R_t = np.exp(- (t / eta) ** m)\n",
        "\n",
        "#\n",
        "print(f\"t = Fiabilidad R(t) en {t}: {R_t:.3f}\")\n"
      ],
      "metadata": {
        "colab": {
          "base_uri": "https://localhost:8080/",
          "height": 616
        },
        "id": "-FHSA3nK3-57",
        "outputId": "6281a1ed-93f4-4010-e72b-6984716de7d2"
      },
      "execution_count": 54,
      "outputs": [
        {
          "output_type": "display_data",
          "data": {
            "text/plain": [
              "<Figure size 800x600 with 1 Axes>"
            ],
            "image/png": "[encoded data removed]"
          },
          "metadata": {}
        },
        {
          "output_type": "stream",
          "name": "stdout",
          "text": [
            "Parámetro de forma estimado m = 1.49\n",
            "Parámetro de escala estimado η = 20033\n",
            "t = Fiabilidad R(t) en 3000: 0.943\n"
          ]
        }
      ]
    },
    {
      "cell_type": "markdown",
      "source": [
        "## 2. Datos censurados a mitad de periodo\n",
        "\n",
        "* Datos censurados a tiempo\n",
        "* Datos censurados a tiempo (Tipo II)\n",
        "* Datos censurados aleatoriamente"
      ],
      "metadata": {
        "id": "JVh27NXrdWdk"
      }
    },
    {
      "cell_type": "markdown",
      "source": [
        "## 11.6\n",
        "\n",
        "ある部品についてサンプル数 $ n = 7 $で寿命試験を行った。その結果を表１１．２に示す。〇印は故障前に中途打ち切りしたデータでｘ印は故障を示す。以下の設問に答えよ。\n",
        "1. 表１１．２のデータ打ち切りデータの区分は何かを答えよ。\n",
        "2. Ｎｏ４の故障データ４５０００時間における累積ハザード関数$ H(t) $を求めよ。\n",
        "\n",
        "Se realizó una prueba de vida útil en un determinado componente con un tamaño de muestra de $ n=7 $. Los resultados se muestran en la Table 11.2. El símbolo $ \\bigcirc $ indica datos censurados antes de la falla, mientras que el símbolo $ \\times $ indica fallas. Responda las siguientes preguntas:\n",
        "1. ¿Cuál es la clasificación de los datos censurados en la Tabla 11.2?\n",
        "2. Calcula la función de riesgo acumulada $ H(t) $ en $ t=45000 $ horas para el dato de falla del No.4.\n"
      ],
      "metadata": {
        "id": "c00E-6QfymsQ"
      }
    },
    {
      "cell_type": "code",
      "source": [
        "# Data\n",
        "data_dict = {\n",
        "    \"No\": [1, 2, 3, 4, 5, 6, 7],\n",
        "    \"Data (Hora)\": [25, 34, 38, 45, 51, 54, 68],\n",
        "    \"〇／✕\": ['✕', '✕', '〇', '✕', '〇', '✕', '✕']\n",
        "}\n",
        "\n",
        "df = pd.DataFrame(data_dict)\n",
        "\n",
        "print(\"Tabla 11.2: Resultados de la prueba de vida útil (unidad: x1000 horas) \")\n",
        "print(df.to_string(index=False))\n",
        "\n",
        "# ① Clasificación de los datos censuados\n",
        "censored_types = \"Los datos de 38 horas y 51 horas son censurados aleatoriamente (censura por la derecha）\"\n",
        "\n",
        "# ② Cálculo de la función de riesgo acumulada H(t) mediante el método de Nelson-Aalen\n",
        "df_sorted = df.sort_values(\"Data (Hora)\").reset_index(drop=True)\n",
        "\n",
        "# Extraer solo los datos de fallos\n",
        "failure_times = df_sorted[df_sorted[\"〇／✕\"] == '✕'][\"Data (Hora)\"].values\n",
        "\n",
        "# Cálculo de H(t)\n",
        "H_t_values = []\n",
        "H_t = 0\n",
        "n = len(df)  # Número inicial de sujetos de prueba\n",
        "\n",
        "for i, t_i in enumerate(failure_times):\n",
        "    r_i = n - i  # Número de suetos de prueba que sobreviven en el tiempo t_i\n",
        "    H_t += 1 / r_i\n",
        "    H_t_values.append((t_i, H_t))\n",
        "\n",
        "# H(t) en el tiempo de 45,000 horas para el No.4\n",
        "H_45000 = next(H for t, H in H_t_values if t == 45)\n",
        "\n",
        "'''\n",
        "# Cálculo de la función de riesto acumulada H(t)（método Kaplan-Meier）\n",
        "failure_times = np.array([25, 34, 45, 54, 68])  # Solo datos de fallos\n",
        "n = len(df)  # Tamaño de la muestra 7\n",
        "H_t = sum(1 / (n - i) for i in range(len(failure_times)) if failure_times[i] <= 45)\n",
        "'''\n",
        "\n",
        "#\n",
        "print(\"\\n【Respuesta】\")\n",
        "print(f\"1. Clasificación de los datos censurados: \")\n",
        "print(f\"   {censored_types}\")\n",
        "print(f\"2. Función de riesgo acumulada H(t) para el No.4（45,000 horas）: {H_45000:.3f}\")\n"
      ],
      "metadata": {
        "colab": {
          "base_uri": "https://localhost:8080/"
        },
        "id": "oHzdOgGb42SP",
        "outputId": "371cf1cf-44a1-439a-bda1-31d46222e1cc"
      },
      "execution_count": 55,
      "outputs": [
        {
          "output_type": "stream",
          "name": "stdout",
          "text": [
            "Tabla 11.2: Resultados de la prueba de vida útil (unidad: x1000 horas) \n",
            " No  Data (Hora) 〇／✕\n",
            "  1           25   ✕\n",
            "  2           34   ✕\n",
            "  3           38   〇\n",
            "  4           45   ✕\n",
            "  5           51   〇\n",
            "  6           54   ✕\n",
            "  7           68   ✕\n",
            "\n",
            "【Respuesta】\n",
            "1. Clasificación de los datos censurados: \n",
            "   Los datos de 38 horas y 51 horas son censurados aleatoriamente (censura por la derecha）\n",
            "2. Función de riesgo acumulada H(t) para el No.4（45,000 horas）: 0.510\n"
          ]
        }
      ]
    }
  ]
}