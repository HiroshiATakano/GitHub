{
  "nbformat": 4,
  "nbformat_minor": 0,
  "metadata": {
    "colab": {
      "name": "3-2-単回帰モデル.ipynb",
      "provenance": [],
      "collapsed_sections": [],
      "include_colab_link": true
    },
    "kernelspec": {
      "name": "python3",
      "display_name": "Python 3"
    }
  },
  "cells": [
    {
      "cell_type": "markdown",
      "metadata": {
        "id": "view-in-github",
        "colab_type": "text"
      },
      "source": [
        "<a href=\"https://colab.research.google.com/github/HiroshiATakano/GitHub/blob/master/3_2_%E5%8D%98%E5%9B%9E%E5%B8%B0%E3%83%A2%E3%83%87%E3%83%AB.ipynb\" target=\"_parent\"><img src=\"https://colab.research.google.com/assets/colab-badge.svg\" alt=\"Open In Colab\"/></a>"
      ]
    },
    {
      "cell_type": "code",
      "metadata": {
        "id": "z-b5sU7dhRO3",
        "colab_type": "code",
        "colab": {
          "base_uri": "https://localhost:8080/",
          "height": 122
        },
        "outputId": "982494c8-d253-45f9-93b8-376d223f0220"
      },
      "source": [
        "from google.colab import drive\n",
        "drive.mount('/content/drive/')"
      ],
      "execution_count": 1,
      "outputs": [
        {
          "output_type": "stream",
          "text": [
            "Go to this URL in a browser: https://accounts.google.com/o/oauth2/auth?client_id=947318989803-6bn6qk8qdgf4n4g3pfee6491hc0brc4i.apps.googleusercontent.com&redirect_uri=urn%3aietf%3awg%3aoauth%3a2.0%3aoob&response_type=code&scope=email%20https%3a%2f%2fwww.googleapis.com%2fauth%2fdocs.test%20https%3a%2f%2fwww.googleapis.com%2fauth%2fdrive%20https%3a%2f%2fwww.googleapis.com%2fauth%2fdrive.photos.readonly%20https%3a%2f%2fwww.googleapis.com%2fauth%2fpeopleapi.readonly\n",
            "\n",
            "Enter your authorization code:\n",
            "··········\n",
            "Mounted at /content/drive/\n"
          ],
          "name": "stdout"
        }
      ]
    },
    {
      "cell_type": "code",
      "metadata": {
        "id": "TNjqjyy4hcB-",
        "colab_type": "code",
        "colab": {
          "base_uri": "https://localhost:8080/",
          "height": 35
        },
        "outputId": "2ae3130c-cf22-45b5-cb0d-a05c466825c1"
      },
      "source": [
        "%matplotlib inline\n",
        "\n",
        "import pickle\n",
        "import statsmodels.formula.api as smf\n",
        "import pystan\n",
        "\n",
        "import pandas as pd\n",
        "import numpy as np\n",
        "import matplotlib.pyplot as plt\n",
        "from matplotlib.figure import figaspect\n",
        "from matplotlib import colors as mcolors\n",
        "from pystan import StanModel\n",
        "import pickle\n",
        "\n",
        "import seaborn as sns\n",
        "import sys\n",
        "import math\n",
        "from matplotlib.backends.backend_pdf import PdfPages\n",
        "from scipy import stats\n",
        "from scipy.stats import norm\n",
        "\n",
        "from statsmodels.formula.api import glm\n",
        "import statsmodels.api as sm\n",
        "\n",
        "sns.set()\n",
        "\n",
        "import os\n",
        "\n",
        "path = os.getcwd()\n",
        "\n",
        "try:\n",
        "    os.chdir(path + \"/drive/My Drive/RとStanで始めるベイズ統計モデリングによるデータ分析入門\")\n",
        "except:\n",
        "    pass\n",
        "\n",
        "os.getcwd()"
      ],
      "execution_count": 27,
      "outputs": [
        {
          "output_type": "execute_result",
          "data": {
            "application/vnd.google.colaboratory.intrinsic+json": {
              "type": "string"
            },
            "text/plain": [
              "'/content/drive/My Drive/RとStanで始めるベイズ統計モデリングによるデータ分析入門'"
            ]
          },
          "metadata": {
            "tags": []
          },
          "execution_count": 27
        }
      ]
    },
    {
      "cell_type": "code",
      "metadata": {
        "id": "m6NYX-HVhoAu",
        "colab_type": "code",
        "colab": {
          "base_uri": "https://localhost:8080/",
          "height": 204
        },
        "outputId": "c6258b7e-aa8c-4972-a2d9-96de1c806704"
      },
      "source": [
        "file_beer_sales_2 = pd.read_csv(\"input/3-2-1-beer-sales-2.csv\")\n",
        "file_beer_sales_2.head()"
      ],
      "execution_count": 28,
      "outputs": [
        {
          "output_type": "execute_result",
          "data": {
            "text/html": [
              "<div>\n",
              "<style scoped>\n",
              "    .dataframe tbody tr th:only-of-type {\n",
              "        vertical-align: middle;\n",
              "    }\n",
              "\n",
              "    .dataframe tbody tr th {\n",
              "        vertical-align: top;\n",
              "    }\n",
              "\n",
              "    .dataframe thead th {\n",
              "        text-align: right;\n",
              "    }\n",
              "</style>\n",
              "<table border=\"1\" class=\"dataframe\">\n",
              "  <thead>\n",
              "    <tr style=\"text-align: right;\">\n",
              "      <th></th>\n",
              "      <th>sales</th>\n",
              "      <th>temperature</th>\n",
              "    </tr>\n",
              "  </thead>\n",
              "  <tbody>\n",
              "    <tr>\n",
              "      <th>0</th>\n",
              "      <td>41.68</td>\n",
              "      <td>13.7</td>\n",
              "    </tr>\n",
              "    <tr>\n",
              "      <th>1</th>\n",
              "      <td>110.99</td>\n",
              "      <td>24.0</td>\n",
              "    </tr>\n",
              "    <tr>\n",
              "      <th>2</th>\n",
              "      <td>65.32</td>\n",
              "      <td>21.5</td>\n",
              "    </tr>\n",
              "    <tr>\n",
              "      <th>3</th>\n",
              "      <td>72.64</td>\n",
              "      <td>13.4</td>\n",
              "    </tr>\n",
              "    <tr>\n",
              "      <th>4</th>\n",
              "      <td>76.54</td>\n",
              "      <td>28.9</td>\n",
              "    </tr>\n",
              "  </tbody>\n",
              "</table>\n",
              "</div>"
            ],
            "text/plain": [
              "    sales  temperature\n",
              "0   41.68         13.7\n",
              "1  110.99         24.0\n",
              "2   65.32         21.5\n",
              "3   72.64         13.4\n",
              "4   76.54         28.9"
            ]
          },
          "metadata": {
            "tags": []
          },
          "execution_count": 28
        }
      ]
    },
    {
      "cell_type": "code",
      "metadata": {
        "id": "MwJDCbwtr5g4",
        "colab_type": "code",
        "colab": {
          "base_uri": "https://localhost:8080/",
          "height": 173
        },
        "outputId": "a6cef5cf-d2a1-4947-fef0-a3b4f92755a9"
      },
      "source": [
        "file_beer_sales_2.iloc[np.r_[0:3, -1]]"
      ],
      "execution_count": 4,
      "outputs": [
        {
          "output_type": "execute_result",
          "data": {
            "text/html": [
              "<div>\n",
              "<style scoped>\n",
              "    .dataframe tbody tr th:only-of-type {\n",
              "        vertical-align: middle;\n",
              "    }\n",
              "\n",
              "    .dataframe tbody tr th {\n",
              "        vertical-align: top;\n",
              "    }\n",
              "\n",
              "    .dataframe thead th {\n",
              "        text-align: right;\n",
              "    }\n",
              "</style>\n",
              "<table border=\"1\" class=\"dataframe\">\n",
              "  <thead>\n",
              "    <tr style=\"text-align: right;\">\n",
              "      <th></th>\n",
              "      <th>sales</th>\n",
              "      <th>temperature</th>\n",
              "    </tr>\n",
              "  </thead>\n",
              "  <tbody>\n",
              "    <tr>\n",
              "      <th>0</th>\n",
              "      <td>41.68</td>\n",
              "      <td>13.7</td>\n",
              "    </tr>\n",
              "    <tr>\n",
              "      <th>1</th>\n",
              "      <td>110.99</td>\n",
              "      <td>24.0</td>\n",
              "    </tr>\n",
              "    <tr>\n",
              "      <th>2</th>\n",
              "      <td>65.32</td>\n",
              "      <td>21.5</td>\n",
              "    </tr>\n",
              "    <tr>\n",
              "      <th>99</th>\n",
              "      <td>52.04</td>\n",
              "      <td>18.8</td>\n",
              "    </tr>\n",
              "  </tbody>\n",
              "</table>\n",
              "</div>"
            ],
            "text/plain": [
              "     sales  temperature\n",
              "0    41.68         13.7\n",
              "1   110.99         24.0\n",
              "2    65.32         21.5\n",
              "99   52.04         18.8"
            ]
          },
          "metadata": {
            "tags": []
          },
          "execution_count": 4
        }
      ]
    },
    {
      "cell_type": "code",
      "metadata": {
        "id": "oxIEWajprngt",
        "colab_type": "code",
        "colab": {
          "base_uri": "https://localhost:8080/",
          "height": 339
        },
        "outputId": "1da4294c-7fec-425a-f29b-1ae53cec28d0"
      },
      "source": [
        "file_beer_sales_2.plot(x='temperature', y='sales', kind='scatter')"
      ],
      "execution_count": 5,
      "outputs": [
        {
          "output_type": "stream",
          "text": [
            "WARNING:matplotlib.axes._axes:*c* argument looks like a single numeric RGB or RGBA sequence, which should be avoided as value-mapping will have precedence in case its length matches with *x* & *y*.  Please use the *color* keyword-argument or provide a 2-D array with a single row if you intend to specify the same RGB or RGBA value for all points.\n"
          ],
          "name": "stderr"
        },
        {
          "output_type": "execute_result",
          "data": {
            "text/plain": [
              "<matplotlib.axes._subplots.AxesSubplot at 0x7ff894a1ea58>"
            ]
          },
          "metadata": {
            "tags": []
          },
          "execution_count": 5
        },
        {
          "output_type": "display_data",
          "data": {
            "image/png": "[encoded data removed]",
            "text/plain": [
              "<Figure size 432x288 with 1 Axes>"
            ]
          },
          "metadata": {
            "tags": []
          }
        }
      ]
    },
    {
      "cell_type": "code",
      "metadata": {
        "id": "V9kPTS1Uhze1",
        "colab_type": "code",
        "colab": {
          "base_uri": "https://localhost:8080/",
          "height": 454
        },
        "outputId": "805cea7d-e602-422b-c1a0-085fcd82fd91"
      },
      "source": [
        "sns.set_style(\"whitegrid\")\n",
        "sns.jointplot(x=\"temperature\",y=\"sales\",data=file_beer_sales_2)"
      ],
      "execution_count": 6,
      "outputs": [
        {
          "output_type": "execute_result",
          "data": {
            "text/plain": [
              "<seaborn.axisgrid.JointGrid at 0x7ff89496d828>"
            ]
          },
          "metadata": {
            "tags": []
          },
          "execution_count": 6
        },
        {
          "output_type": "display_data",
          "data": {
            "image/png": "[encoded data removed]",
            "text/plain": [
              "<Figure size 432x432 with 3 Axes>"
            ]
          },
          "metadata": {
            "tags": []
          }
        }
      ]
    },
    {
      "cell_type": "code",
      "metadata": {
        "id": "2cHlr9qfsPmh",
        "colab_type": "code",
        "colab": {
          "base_uri": "https://localhost:8080/",
          "height": 85
        },
        "outputId": "f5bd5255-46ca-4dd1-a878-a40b6361019b"
      },
      "source": [
        "model = smf.ols('sales ~ temperature', data=file_beer_sales_2)\n",
        "res = model.fit()\n",
        "res.params"
      ],
      "execution_count": 7,
      "outputs": [
        {
          "output_type": "stream",
          "text": [
            "INFO:numexpr.utils:NumExpr defaulting to 2 threads.\n"
          ],
          "name": "stderr"
        },
        {
          "output_type": "execute_result",
          "data": {
            "text/plain": [
              "Intercept      21.171660\n",
              "temperature     2.459096\n",
              "dtype: float64"
            ]
          },
          "metadata": {
            "tags": []
          },
          "execution_count": 7
        }
      ]
    },
    {
      "cell_type": "code",
      "metadata": {
        "id": "CTYpJrUItCO5",
        "colab_type": "code",
        "colab": {
          "base_uri": "https://localhost:8080/",
          "height": 285
        },
        "outputId": "96a0b006-2c4a-4900-df3d-6b23a488a2c5"
      },
      "source": [
        "X_new = pd.DataFrame(data=np.arange(10, 31).reshape((-1, 1)), columns=['temperature'])\n",
        "predictions = res.get_prediction(X_new)\n",
        "int_95 = predictions.summary_frame(alpha=0.05)\n",
        "int_50 = predictions.summary_frame(alpha=0.5)\n",
        "\n",
        "x, y = X_new['temperature'], int_95['mean']\n",
        "\n",
        "_, axes = plt.subplots(1, 2, figsize=figaspect(3/8), sharex=True, sharey=True)\n",
        "for ax, category in zip(axes, ['mean', 'obs']):\n",
        "    color = 'k'\n",
        "    ax.scatter(file_beer_sales_2['temperature'], file_beer_sales_2['sales'], c=color)\n",
        "    ax.plot(x, y, c=color)\n",
        "    lower = '{}_ci_lower'.format(category)\n",
        "    upper = '{}_ci_upper'.format(category)\n",
        "    ax.fill_between(x, int_50[lower], int_50[upper], color=color, alpha=0.5)\n",
        "    ax.fill_between(x, int_95[lower], int_95[upper], color=color, alpha=0.3)\n",
        "    plt.setp(ax, xlabel='temperature', ylabel='sales')\n",
        "plt.show()"
      ],
      "execution_count": 8,
      "outputs": [
        {
          "output_type": "display_data",
          "data": {
            "image/png": "[encoded data removed]",
            "text/plain": [
              "<Figure size 768x288 with 2 Axes>"
            ]
          },
          "metadata": {
            "tags": []
          }
        }
      ]
    },
    {
      "cell_type": "code",
      "metadata": {
        "id": "rE8nmyqgiaDF",
        "colab_type": "code",
        "colab": {
          "base_uri": "https://localhost:8080/",
          "height": 357
        },
        "outputId": "9a24ab4e-e542-49c3-ab89-92de8821096c"
      },
      "source": [
        "with open(\"model/3-2-1-simple-lm.stan\") as f:\n",
        "    print(f.read())"
      ],
      "execution_count": 9,
      "outputs": [
        {
          "output_type": "stream",
          "text": [
            "data {\n",
            "  int N;                  // サンプルサイズ\n",
            "  vector[N] sales;        // 売り上げデータ\n",
            "  vector[N] temperature;  // 気温データ\n",
            "}\n",
            "\n",
            "parameters {\n",
            "  real Intercept;         // 切片\n",
            "  real beta;              // 係数\n",
            "  real<lower=0> sigma;    // 標準偏差\n",
            "}\n",
            "\n",
            "model {\n",
            "  // 平均Intercept + beta*temperature\n",
            "  // 標準偏差sigmaの正規分布に従ってデータが得られたと仮定\n",
            "  for (i in 1:N) {\n",
            "    sales[i] ~ normal(Intercept + beta*temperature[i], sigma);\n",
            "  }\n",
            "}\n",
            "\n"
          ],
          "name": "stdout"
        }
      ]
    },
    {
      "cell_type": "code",
      "metadata": {
        "id": "jTBh3DaCkD_W",
        "colab_type": "code",
        "colab": {
          "base_uri": "https://localhost:8080/",
          "height": 408
        },
        "outputId": "e72fd005-3ef8-464e-bdf3-fb0660e90836"
      },
      "source": [
        "data = {'N':len(file_beer_sales_2),'sales':file_beer_sales_2['sales'],'temperature':file_beer_sales_2['temperature']}\n",
        "data"
      ],
      "execution_count": 10,
      "outputs": [
        {
          "output_type": "execute_result",
          "data": {
            "text/plain": [
              "{'N': 100, 'sales': 0      41.68\n",
              " 1     110.99\n",
              " 2      65.32\n",
              " 3      72.64\n",
              " 4      76.54\n",
              "        ...  \n",
              " 95     44.94\n",
              " 96     76.11\n",
              " 97     58.00\n",
              " 98     38.65\n",
              " 99     52.04\n",
              " Name: sales, Length: 100, dtype: float64, 'temperature': 0     13.7\n",
              " 1     24.0\n",
              " 2     21.5\n",
              " 3     13.4\n",
              " 4     28.9\n",
              "       ... \n",
              " 95    13.9\n",
              " 96    18.5\n",
              " 97    11.9\n",
              " 98    12.3\n",
              " 99    18.8\n",
              " Name: temperature, Length: 100, dtype: float64}"
            ]
          },
          "metadata": {
            "tags": []
          },
          "execution_count": 10
        }
      ]
    },
    {
      "cell_type": "code",
      "metadata": {
        "id": "xW-FXBwpkui1",
        "colab_type": "code",
        "colab": {
          "base_uri": "https://localhost:8080/",
          "height": 34
        },
        "outputId": "708ba99d-ea99-4dbd-a343-d835c73503c0"
      },
      "source": [
        "stanmodel = StanModel(file=\"model/3-2-1-simple-lm.stan\")"
      ],
      "execution_count": 11,
      "outputs": [
        {
          "output_type": "stream",
          "text": [
            "INFO:pystan:COMPILING THE C++ CODE FOR MODEL anon_model_75accf505028bba5572c105072f99a10 NOW.\n"
          ],
          "name": "stderr"
        }
      ]
    },
    {
      "cell_type": "code",
      "metadata": {
        "id": "25YCXbA2k8ZP",
        "colab_type": "code",
        "colab": {
          "base_uri": "https://localhost:8080/",
          "height": 255
        },
        "outputId": "118b119c-7a14-41af-a048-8d66eaff54a7"
      },
      "source": [
        "fit_nuts = stanmodel.sampling(data=data,n_jobs=-1)\n",
        "fit_nuts"
      ],
      "execution_count": 12,
      "outputs": [
        {
          "output_type": "execute_result",
          "data": {
            "text/plain": [
              "Inference for Stan model: anon_model_75accf505028bba5572c105072f99a10.\n",
              "4 chains, each with iter=2000; warmup=1000; thin=1; \n",
              "post-warmup draws per chain=1000, total post-warmup draws=4000.\n",
              "\n",
              "            mean se_mean     sd   2.5%    25%    50%    75%  97.5%  n_eff   Rhat\n",
              "Intercept  21.16    0.17    5.9   9.75   17.2  21.11  25.12  32.82   1214    1.0\n",
              "beta        2.46  8.4e-3   0.28   1.91   2.27   2.46   2.65    3.0   1141    1.0\n",
              "sigma      17.12    0.03   1.28  14.83  16.22  17.06  17.94  19.79   1646    1.0\n",
              "lp__      -330.2    0.04    1.3 -333.6 -330.7 -329.8 -329.2 -328.7   1297    1.0\n",
              "\n",
              "Samples were drawn using NUTS at Wed Jul 29 09:46:41 2020.\n",
              "For each parameter, n_eff is a crude measure of effective sample size,\n",
              "and Rhat is the potential scale reduction factor on split chains (at \n",
              "convergence, Rhat=1)."
            ]
          },
          "metadata": {
            "tags": []
          },
          "execution_count": 12
        }
      ]
    },
    {
      "cell_type": "code",
      "metadata": {
        "id": "TnYBcATYlRCu",
        "colab_type": "code",
        "colab": {
          "base_uri": "https://localhost:8080/",
          "height": 323
        },
        "outputId": "c259b104-518b-47ff-f28a-cf0a59816aa5"
      },
      "source": [
        "with open(\"model/3-2-2-simple-lm-vec.stan\") as f:\n",
        "    print(f.read())"
      ],
      "execution_count": 13,
      "outputs": [
        {
          "output_type": "stream",
          "text": [
            "data {\n",
            "  int N;                  // サンプルサイズ\n",
            "  vector[N] sales;        // 売り上げデータ\n",
            "  vector[N] temperature;  // 気温データ\n",
            "}\n",
            "\n",
            "parameters {\n",
            "  real Intercept;         // 切片\n",
            "  real beta;              // 係数\n",
            "  real<lower=0> sigma;    // 標準偏差\n",
            "}\n",
            "\n",
            "model {\n",
            "  // 平均Intercept + beta*temperature\n",
            "  // 標準偏差sigmaの正規分布に従ってデータが得られたと仮定\n",
            "  sales ~ normal(Intercept + beta*temperature, sigma);\n",
            "}\n",
            "\n"
          ],
          "name": "stdout"
        }
      ]
    },
    {
      "cell_type": "code",
      "metadata": {
        "id": "LHo6IsuHlyWN",
        "colab_type": "code",
        "colab": {
          "base_uri": "https://localhost:8080/",
          "height": 34
        },
        "outputId": "2ed8a80a-81fd-4e38-b564-e441c33f2403"
      },
      "source": [
        "sample_file = \"sample/3-2-2-simple-lm-vec\"\n",
        "stanmodel = StanModel(file=\"model/3-2-2-simple-lm-vec.stan\")\n"
      ],
      "execution_count": 14,
      "outputs": [
        {
          "output_type": "stream",
          "text": [
            "INFO:pystan:COMPILING THE C++ CODE FOR MODEL anon_model_8b9e76e8f370b768c1b6faec53a5dd6b NOW.\n"
          ],
          "name": "stderr"
        }
      ]
    },
    {
      "cell_type": "code",
      "metadata": {
        "id": "wgTCh3bDl8To",
        "colab_type": "code",
        "colab": {
          "base_uri": "https://localhost:8080/",
          "height": 255
        },
        "outputId": "ea27986a-c8dd-4b90-e2e7-fee256d22ff0"
      },
      "source": [
        "fit_nuts = stanmodel.sampling(data=data,n_jobs=-1,sample_file=sample_file)\n",
        "fit_nuts"
      ],
      "execution_count": 15,
      "outputs": [
        {
          "output_type": "execute_result",
          "data": {
            "text/plain": [
              "Inference for Stan model: anon_model_8b9e76e8f370b768c1b6faec53a5dd6b.\n",
              "4 chains, each with iter=2000; warmup=1000; thin=1; \n",
              "post-warmup draws per chain=1000, total post-warmup draws=4000.\n",
              "\n",
              "            mean se_mean     sd   2.5%    25%    50%    75%  97.5%  n_eff   Rhat\n",
              "Intercept  21.16    0.16   5.98   9.63  17.12  21.12  25.29  32.87   1445    1.0\n",
              "beta        2.46  7.7e-3   0.29   1.88   2.26   2.46   2.65   3.02   1425    1.0\n",
              "sigma      17.05    0.03    1.2  14.87   16.2  16.99  17.83  19.61   2011    1.0\n",
              "lp__      -330.1    0.03   1.22 -333.3 -330.7 -329.8 -329.2 -328.7   1571    1.0\n",
              "\n",
              "Samples were drawn using NUTS at Wed Jul 29 09:47:57 2020.\n",
              "For each parameter, n_eff is a crude measure of effective sample size,\n",
              "and Rhat is the potential scale reduction factor on split chains (at \n",
              "convergence, Rhat=1)."
            ]
          },
          "metadata": {
            "tags": []
          },
          "execution_count": 15
        }
      ]
    },
    {
      "cell_type": "code",
      "metadata": {
        "id": "oFIqIMNCmAiF",
        "colab_type": "code",
        "colab": {
          "base_uri": "https://localhost:8080/",
          "height": 670
        },
        "outputId": "14b11268-b8e3-488b-d069-37bfbf4a14a3"
      },
      "source": [
        "fit_nuts.plot()\n",
        "plt.setp(plt.gcf(), size_inches=figaspect(3/2) * 1.5)\n",
        "plt.tight_layout()"
      ],
      "execution_count": 16,
      "outputs": [
        {
          "output_type": "stream",
          "text": [
            "WARNING:pystan:Deprecation warning. PyStan plotting deprecated, use ArviZ library (Python 3.5+). `pip install arviz`; `arviz.plot_trace(fit)`)\n"
          ],
          "name": "stderr"
        },
        {
          "output_type": "display_data",
          "data": {
            "image/png": "[encoded data removed]",
            "text/plain": [
              "<Figure size 432x648 with 6 Axes>"
            ]
          },
          "metadata": {
            "tags": []
          }
        }
      ]
    },
    {
      "cell_type": "code",
      "metadata": {
        "id": "zqW6z5Bww6rV",
        "colab_type": "code",
        "colab": {}
      },
      "source": [
        "names = fit_nuts.sim['fnames_oi']\n",
        "color_list = [mcolors.to_rgba(c) for c in plt.rcParams['axes.prop_cycle'].by_key()['color']]\n",
        "chains = [pd.read_csv('{name}_{i}.csv'.format(name=sample_file, i=i), usecols=names, engine='python', comment='#') for i in range(fit_nuts.sim['chains'])]\n",
        "\n"
      ],
      "execution_count": 17,
      "outputs": []
    },
    {
      "cell_type": "code",
      "metadata": {
        "id": "9fMeYmjm-lk_",
        "colab_type": "code",
        "colab": {
          "base_uri": "https://localhost:8080/",
          "height": 936
        },
        "outputId": "f342dafc-233d-43e5-cbb0-8afdaee1790d"
      },
      "source": [
        "_, axes = plt.subplots(len(names), 1, figsize=figaspect(len(names)))\n",
        "for name, ax in zip(names, axes):\n",
        "    ax.set_title(name)\n",
        "    # 対数尤度の描画は時間がかかるので省略\n",
        "    if name == 'lp__':\n",
        "        continue\n",
        "    for i, chain in enumerate(chains):\n",
        "        ax.plot(chain.index, chain[name], label='Chain{}'.format(i+1))\n",
        "    ax.legend()"
      ],
      "execution_count": 18,
      "outputs": [
        {
          "output_type": "display_data",
          "data": {
            "image/png": "[encoded data removed]",
            "text/plain": [
              "<Figure size 288x1152 with 4 Axes>"
            ]
          },
          "metadata": {
            "tags": []
          }
        }
      ]
    },
    {
      "cell_type": "code",
      "metadata": {
        "id": "VZgsUf1C-6DJ",
        "colab_type": "code",
        "colab": {
          "base_uri": "https://localhost:8080/",
          "height": 323
        },
        "outputId": "a11ae8b2-4fa5-41a8-921e-964024f0bf0c"
      },
      "source": [
        "# モデルの保存にはpickleを利用\n",
        "with open('model.pkl', 'wb') as f:\n",
        "    pickle.dump(fit_nuts, f, protocol=pickle.HIGHEST_PROTOCOL)\n",
        "# 並列計算はn_jobsで指定\n",
        "stanmodel.sampling(data=data, n_jobs=-1)"
      ],
      "execution_count": 19,
      "outputs": [
        {
          "output_type": "stream",
          "text": [
            "/usr/local/lib/python3.6/dist-packages/ipykernel_launcher.py:3: UserWarning: Pickling fit objects is an experimental feature!\n",
            "The relevant StanModel instance must be pickled along with this fit object.\n",
            "When unpickling the StanModel must be unpickled first.\n",
            "  This is separate from the ipykernel package so we can avoid doing imports until\n"
          ],
          "name": "stderr"
        },
        {
          "output_type": "execute_result",
          "data": {
            "text/plain": [
              "Inference for Stan model: anon_model_8b9e76e8f370b768c1b6faec53a5dd6b.\n",
              "4 chains, each with iter=2000; warmup=1000; thin=1; \n",
              "post-warmup draws per chain=1000, total post-warmup draws=4000.\n",
              "\n",
              "            mean se_mean     sd   2.5%    25%    50%    75%  97.5%  n_eff   Rhat\n",
              "Intercept  21.38    0.15   5.72  10.26  17.58  21.25  25.22  32.71   1453    1.0\n",
              "beta        2.45  7.3e-3   0.28    1.9   2.26   2.45   2.63   2.99   1448    1.0\n",
              "sigma      17.05    0.03   1.26  14.79  16.17  16.97  17.84  19.76   1926    1.0\n",
              "lp__      -330.1    0.03   1.25 -333.4 -330.6 -329.7 -329.2 -328.7   1284    1.0\n",
              "\n",
              "Samples were drawn using NUTS at Wed Jul 29 09:48:02 2020.\n",
              "For each parameter, n_eff is a crude measure of effective sample size,\n",
              "and Rhat is the potential scale reduction factor on split chains (at \n",
              "convergence, Rhat=1)."
            ]
          },
          "metadata": {
            "tags": []
          },
          "execution_count": 19
        }
      ]
    },
    {
      "cell_type": "code",
      "metadata": {
        "id": "Io1WRqRZ_VzA",
        "colab_type": "code",
        "colab": {}
      },
      "source": [
        "with open('model.pkl', 'rb') as f:\n",
        "    fit = pickle.load(f)\n",
        "ms = fit.extract()"
      ],
      "execution_count": 20,
      "outputs": []
    },
    {
      "cell_type": "code",
      "metadata": {
        "id": "uWz096cH_Yzg",
        "colab_type": "code",
        "colab": {
          "base_uri": "https://localhost:8080/",
          "height": 51
        },
        "outputId": "2549a46a-a1b3-4089-f9d4-4e421ee2d804"
      },
      "source": [
        "ms['beta']"
      ],
      "execution_count": 21,
      "outputs": [
        {
          "output_type": "execute_result",
          "data": {
            "text/plain": [
              "array([2.38796872, 2.46806508, 1.92810693, ..., 2.30931726, 2.114146  ,\n",
              "       2.32001791])"
            ]
          },
          "metadata": {
            "tags": []
          },
          "execution_count": 21
        }
      ]
    },
    {
      "cell_type": "code",
      "metadata": {
        "id": "R1uK0Iw1_pkN",
        "colab_type": "code",
        "colab": {
          "base_uri": "https://localhost:8080/",
          "height": 34
        },
        "outputId": "f0006dfd-2fa2-4fef-ac42-ee5735ca89d1"
      },
      "source": [
        "np.percentile(ms['beta'],(2.5,97.5))"
      ],
      "execution_count": 22,
      "outputs": [
        {
          "output_type": "execute_result",
          "data": {
            "text/plain": [
              "array([1.87716147, 3.01649889])"
            ]
          },
          "metadata": {
            "tags": []
          },
          "execution_count": 22
        }
      ]
    },
    {
      "cell_type": "code",
      "metadata": {
        "id": "nmAhZQptqxVf",
        "colab_type": "code",
        "colab": {
          "base_uri": "https://localhost:8080/",
          "height": 173
        },
        "outputId": "4fb64fe6-6a9f-4e8a-9668-b905a75ee1b6"
      },
      "source": [
        "N_mcmc = len(ms['lp__'])\n",
        "y25_base = ms['Intercept'] + ms['beta']*25\n",
        "y25 = np.random.normal(loc=y25_base,scale=ms['sigma'],size=N_mcmc)\n",
        "d_mcmc = pd.DataFrame(data=dict(a=ms['Intercept'],b=ms['beta'],sigma=ms['sigma'],y25_base=y25_base,y25=y25))\n",
        "d_mcmc.iloc[np.r_[:3,-1]]"
      ],
      "execution_count": 23,
      "outputs": [
        {
          "output_type": "execute_result",
          "data": {
            "text/html": [
              "<div>\n",
              "<style scoped>\n",
              "    .dataframe tbody tr th:only-of-type {\n",
              "        vertical-align: middle;\n",
              "    }\n",
              "\n",
              "    .dataframe tbody tr th {\n",
              "        vertical-align: top;\n",
              "    }\n",
              "\n",
              "    .dataframe thead th {\n",
              "        text-align: right;\n",
              "    }\n",
              "</style>\n",
              "<table border=\"1\" class=\"dataframe\">\n",
              "  <thead>\n",
              "    <tr style=\"text-align: right;\">\n",
              "      <th></th>\n",
              "      <th>a</th>\n",
              "      <th>b</th>\n",
              "      <th>sigma</th>\n",
              "      <th>y25_base</th>\n",
              "      <th>y25</th>\n",
              "    </tr>\n",
              "  </thead>\n",
              "  <tbody>\n",
              "    <tr>\n",
              "      <th>0</th>\n",
              "      <td>21.967817</td>\n",
              "      <td>2.387969</td>\n",
              "      <td>17.645050</td>\n",
              "      <td>81.667035</td>\n",
              "      <td>74.764709</td>\n",
              "    </tr>\n",
              "    <tr>\n",
              "      <th>1</th>\n",
              "      <td>23.769909</td>\n",
              "      <td>2.468065</td>\n",
              "      <td>16.478682</td>\n",
              "      <td>85.471536</td>\n",
              "      <td>93.562141</td>\n",
              "    </tr>\n",
              "    <tr>\n",
              "      <th>2</th>\n",
              "      <td>28.736494</td>\n",
              "      <td>1.928107</td>\n",
              "      <td>17.491633</td>\n",
              "      <td>76.939167</td>\n",
              "      <td>73.779301</td>\n",
              "    </tr>\n",
              "    <tr>\n",
              "      <th>3999</th>\n",
              "      <td>23.857372</td>\n",
              "      <td>2.320018</td>\n",
              "      <td>14.239570</td>\n",
              "      <td>81.857820</td>\n",
              "      <td>83.376262</td>\n",
              "    </tr>\n",
              "  </tbody>\n",
              "</table>\n",
              "</div>"
            ],
            "text/plain": [
              "              a         b      sigma   y25_base        y25\n",
              "0     21.967817  2.387969  17.645050  81.667035  74.764709\n",
              "1     23.769909  2.468065  16.478682  85.471536  93.562141\n",
              "2     28.736494  1.928107  17.491633  76.939167  73.779301\n",
              "3999  23.857372  2.320018  14.239570  81.857820  83.376262"
            ]
          },
          "metadata": {
            "tags": []
          },
          "execution_count": 23
        }
      ]
    },
    {
      "cell_type": "code",
      "metadata": {
        "id": "cWDFyUuc1-0X",
        "colab_type": "code",
        "colab": {
          "base_uri": "https://localhost:8080/",
          "height": 297
        },
        "outputId": "2ed9aa14-eb35-474b-dfb9-b585fa5433d1"
      },
      "source": [
        "d_mcmc.describe()"
      ],
      "execution_count": 24,
      "outputs": [
        {
          "output_type": "execute_result",
          "data": {
            "text/html": [
              "<div>\n",
              "<style scoped>\n",
              "    .dataframe tbody tr th:only-of-type {\n",
              "        vertical-align: middle;\n",
              "    }\n",
              "\n",
              "    .dataframe tbody tr th {\n",
              "        vertical-align: top;\n",
              "    }\n",
              "\n",
              "    .dataframe thead th {\n",
              "        text-align: right;\n",
              "    }\n",
              "</style>\n",
              "<table border=\"1\" class=\"dataframe\">\n",
              "  <thead>\n",
              "    <tr style=\"text-align: right;\">\n",
              "      <th></th>\n",
              "      <th>a</th>\n",
              "      <th>b</th>\n",
              "      <th>sigma</th>\n",
              "      <th>y25_base</th>\n",
              "      <th>y25</th>\n",
              "    </tr>\n",
              "  </thead>\n",
              "  <tbody>\n",
              "    <tr>\n",
              "      <th>count</th>\n",
              "      <td>4000.000000</td>\n",
              "      <td>4000.000000</td>\n",
              "      <td>4000.000000</td>\n",
              "      <td>4000.000000</td>\n",
              "      <td>4000.000000</td>\n",
              "    </tr>\n",
              "    <tr>\n",
              "      <th>mean</th>\n",
              "      <td>21.155942</td>\n",
              "      <td>2.458179</td>\n",
              "      <td>17.050377</td>\n",
              "      <td>82.610422</td>\n",
              "      <td>82.413598</td>\n",
              "    </tr>\n",
              "    <tr>\n",
              "      <th>std</th>\n",
              "      <td>5.979985</td>\n",
              "      <td>0.290388</td>\n",
              "      <td>1.200715</td>\n",
              "      <td>2.319683</td>\n",
              "      <td>17.386778</td>\n",
              "    </tr>\n",
              "    <tr>\n",
              "      <th>min</th>\n",
              "      <td>-2.127814</td>\n",
              "      <td>1.354516</td>\n",
              "      <td>13.631662</td>\n",
              "      <td>74.546769</td>\n",
              "      <td>16.649639</td>\n",
              "    </tr>\n",
              "    <tr>\n",
              "      <th>25%</th>\n",
              "      <td>17.123026</td>\n",
              "      <td>2.260110</td>\n",
              "      <td>16.202038</td>\n",
              "      <td>81.008518</td>\n",
              "      <td>70.658695</td>\n",
              "    </tr>\n",
              "    <tr>\n",
              "      <th>50%</th>\n",
              "      <td>21.117437</td>\n",
              "      <td>2.459828</td>\n",
              "      <td>16.991128</td>\n",
              "      <td>82.617911</td>\n",
              "      <td>82.229405</td>\n",
              "    </tr>\n",
              "    <tr>\n",
              "      <th>75%</th>\n",
              "      <td>25.290469</td>\n",
              "      <td>2.650218</td>\n",
              "      <td>17.825212</td>\n",
              "      <td>84.185460</td>\n",
              "      <td>94.025046</td>\n",
              "    </tr>\n",
              "    <tr>\n",
              "      <th>max</th>\n",
              "      <td>44.356308</td>\n",
              "      <td>3.642429</td>\n",
              "      <td>21.485621</td>\n",
              "      <td>91.096062</td>\n",
              "      <td>142.977717</td>\n",
              "    </tr>\n",
              "  </tbody>\n",
              "</table>\n",
              "</div>"
            ],
            "text/plain": [
              "                 a            b        sigma     y25_base          y25\n",
              "count  4000.000000  4000.000000  4000.000000  4000.000000  4000.000000\n",
              "mean     21.155942     2.458179    17.050377    82.610422    82.413598\n",
              "std       5.979985     0.290388     1.200715     2.319683    17.386778\n",
              "min      -2.127814     1.354516    13.631662    74.546769    16.649639\n",
              "25%      17.123026     2.260110    16.202038    81.008518    70.658695\n",
              "50%      21.117437     2.459828    16.991128    82.617911    82.229405\n",
              "75%      25.290469     2.650218    17.825212    84.185460    94.025046\n",
              "max      44.356308     3.642429    21.485621    91.096062   142.977717"
            ]
          },
          "metadata": {
            "tags": []
          },
          "execution_count": 24
        }
      ]
    },
    {
      "cell_type": "code",
      "metadata": {
        "id": "TGjFQhC54YhG",
        "colab_type": "code",
        "colab": {
          "base_uri": "https://localhost:8080/",
          "height": 34
        },
        "outputId": "40764014-bc90-4782-d7a0-eae63eceed7c"
      },
      "source": [
        "np.percentile(d_mcmc['y25'], (2.5, 97.5))"
      ],
      "execution_count": 25,
      "outputs": [
        {
          "output_type": "execute_result",
          "data": {
            "text/plain": [
              "array([ 49.73286317, 117.18203191])"
            ]
          },
          "metadata": {
            "tags": []
          },
          "execution_count": 25
        }
      ]
    },
    {
      "cell_type": "code",
      "metadata": {
        "id": "XZBtUBITtvlr",
        "colab_type": "code",
        "colab": {
          "base_uri": "https://localhost:8080/",
          "height": 491
        },
        "outputId": "f748ab56-7e3d-4e92-ae05-28cd460929be"
      },
      "source": [
        "temps = np.arange(10,31)\n",
        "steps = temps.size\n",
        "median = np.empty(steps)\n",
        "conf50 = np.empty((steps, 2))\n",
        "conf95 = np.empty((steps, 2))\n",
        "pred50 = np.empty((steps, 2))\n",
        "pred95 = np.empty((steps, 2))\n",
        "np.random.seed(1234)\n",
        "for i, temp in enumerate(temps):\n",
        "    base = ms['Intercept'] + ms['beta'] * temp\n",
        "    y = np.random.normal(loc=base, scale=ms['sigma'], size=N_mcmc)\n",
        "    median[i] = np.median(base)\n",
        "    conf50[i] = np.percentile(base, (25, 75))\n",
        "    pred50[i] = np.percentile(y, (25, 75))\n",
        "    conf95[i] = np.percentile(base, (2.5, 97.5))\n",
        "    pred95[i] = np.percentile(y, (2.5, 97.5))\n",
        "_, axes = plt.subplots(1, 2, figsize=figaspect(3/8), sharex=True, sharey=True)\n",
        "for interval50, interval95, ax in zip([conf50, pred50], [conf95, pred95], axes):\n",
        "    color='k'\n",
        "    ax.plot(ages, median, c=color)\n",
        "    ax.scatter('temperature','sales', data=file_beer_sales_2, c=color)\n",
        "    ax.fill_between(ages, interval50[:, 0], interval50[:, 1], color=color, alpha=0.5)\n",
        "    ax.fill_between(ages, interval95[:, 0], interval95[:, 1], color=color, alpha=0.3)\n",
        "    plt.setp(ax, xlabel='X', ylabel='Y')"
      ],
      "execution_count": 26,
      "outputs": [
        {
          "output_type": "error",
          "ename": "NameError",
          "evalue": "ignored",
          "traceback": [
            "\u001b[0;31m---------------------------------------------------------------------------\u001b[0m",
            "\u001b[0;31mNameError\u001b[0m                                 Traceback (most recent call last)",
            "\u001b[0;32m<ipython-input-26-3322722efd03>\u001b[0m in \u001b[0;36m<module>\u001b[0;34m()\u001b[0m\n\u001b[1;32m     18\u001b[0m \u001b[0;32mfor\u001b[0m \u001b[0minterval50\u001b[0m\u001b[0;34m,\u001b[0m \u001b[0minterval95\u001b[0m\u001b[0;34m,\u001b[0m \u001b[0max\u001b[0m \u001b[0;32min\u001b[0m \u001b[0mzip\u001b[0m\u001b[0;34m(\u001b[0m\u001b[0;34m[\u001b[0m\u001b[0mconf50\u001b[0m\u001b[0;34m,\u001b[0m \u001b[0mpred50\u001b[0m\u001b[0;34m]\u001b[0m\u001b[0;34m,\u001b[0m \u001b[0;34m[\u001b[0m\u001b[0mconf95\u001b[0m\u001b[0;34m,\u001b[0m \u001b[0mpred95\u001b[0m\u001b[0;34m]\u001b[0m\u001b[0;34m,\u001b[0m \u001b[0maxes\u001b[0m\u001b[0;34m)\u001b[0m\u001b[0;34m:\u001b[0m\u001b[0;34m\u001b[0m\u001b[0;34m\u001b[0m\u001b[0m\n\u001b[1;32m     19\u001b[0m     \u001b[0mcolor\u001b[0m\u001b[0;34m=\u001b[0m\u001b[0;34m'k'\u001b[0m\u001b[0;34m\u001b[0m\u001b[0;34m\u001b[0m\u001b[0m\n\u001b[0;32m---> 20\u001b[0;31m     \u001b[0max\u001b[0m\u001b[0;34m.\u001b[0m\u001b[0mplot\u001b[0m\u001b[0;34m(\u001b[0m\u001b[0mages\u001b[0m\u001b[0;34m,\u001b[0m \u001b[0mmedian\u001b[0m\u001b[0;34m,\u001b[0m \u001b[0mc\u001b[0m\u001b[0;34m=\u001b[0m\u001b[0mcolor\u001b[0m\u001b[0;34m)\u001b[0m\u001b[0;34m\u001b[0m\u001b[0;34m\u001b[0m\u001b[0m\n\u001b[0m\u001b[1;32m     21\u001b[0m     \u001b[0max\u001b[0m\u001b[0;34m.\u001b[0m\u001b[0mscatter\u001b[0m\u001b[0;34m(\u001b[0m\u001b[0;34m'temperature'\u001b[0m\u001b[0;34m,\u001b[0m\u001b[0;34m'sales'\u001b[0m\u001b[0;34m,\u001b[0m \u001b[0mdata\u001b[0m\u001b[0;34m=\u001b[0m\u001b[0mfile_beer_sales_2\u001b[0m\u001b[0;34m,\u001b[0m \u001b[0mc\u001b[0m\u001b[0;34m=\u001b[0m\u001b[0mcolor\u001b[0m\u001b[0;34m)\u001b[0m\u001b[0;34m\u001b[0m\u001b[0;34m\u001b[0m\u001b[0m\n\u001b[1;32m     22\u001b[0m     \u001b[0max\u001b[0m\u001b[0;34m.\u001b[0m\u001b[0mfill_between\u001b[0m\u001b[0;34m(\u001b[0m\u001b[0mages\u001b[0m\u001b[0;34m,\u001b[0m \u001b[0minterval50\u001b[0m\u001b[0;34m[\u001b[0m\u001b[0;34m:\u001b[0m\u001b[0;34m,\u001b[0m \u001b[0;36m0\u001b[0m\u001b[0;34m]\u001b[0m\u001b[0;34m,\u001b[0m \u001b[0minterval50\u001b[0m\u001b[0;34m[\u001b[0m\u001b[0;34m:\u001b[0m\u001b[0;34m,\u001b[0m \u001b[0;36m1\u001b[0m\u001b[0;34m]\u001b[0m\u001b[0;34m,\u001b[0m \u001b[0mcolor\u001b[0m\u001b[0;34m=\u001b[0m\u001b[0mcolor\u001b[0m\u001b[0;34m,\u001b[0m \u001b[0malpha\u001b[0m\u001b[0;34m=\u001b[0m\u001b[0;36m0.5\u001b[0m\u001b[0;34m)\u001b[0m\u001b[0;34m\u001b[0m\u001b[0;34m\u001b[0m\u001b[0m\n",
            "\u001b[0;31mNameError\u001b[0m: name 'ages' is not defined"
          ]
        },
        {
          "output_type": "display_data",
          "data": {
            "image/png": "[encoded data removed]",
            "text/plain": [
              "<Figure size 768x288 with 2 Axes>"
            ]
          },
          "metadata": {
            "tags": []
          }
        }
      ]
    },
    {
      "cell_type": "code",
      "metadata": {
        "id": "LQB1AEiwnX1V",
        "colab_type": "code",
        "colab": {}
      },
      "source": [
        "from scipy.stats import gaussian_kde\n",
        "\n",
        "fit_smp = fit_nuts.extract()\n",
        "s = pd.DataFrame(fit_smp['beta'])\n",
        "s.plot(kind='kde')\n",
        "\n",
        "data = fit_smp['beta']\n",
        "density = gaussian_kde(data)\n",
        "\n",
        "print(max(data))\n",
        "xs = np.linspace(min(data),max(data),100)\n",
        "plt.plot(xs,density(xs))\n",
        "\n",
        "xs[np.argmax(density(xs))]"
      ],
      "execution_count": null,
      "outputs": []
    },
    {
      "cell_type": "code",
      "metadata": {
        "id": "ecAH313EYFjD",
        "colab_type": "code",
        "colab": {}
      },
      "source": [
        "para = ['Intercept','beta','sigma']\n",
        "est = []\n",
        "fig, axes = plt.subplots(nrows=len(para),figsize=(10,8))\n",
        "\n",
        "for i in np.arange(len(para)):\n",
        "    data = fit_smp[para[i]]\n",
        "    density = gaussian_kde(data)\n",
        "    xs = np.linspace(min(data),max(data),100)\n",
        "    axes[i].plot(xs,density(xs))\n",
        "\n",
        "    est.append(xs[np.argmax(density(xs))])\n",
        "est "
      ],
      "execution_count": null,
      "outputs": []
    },
    {
      "cell_type": "code",
      "metadata": {
        "id": "N8Etpqu7ZeRr",
        "colab_type": "code",
        "colab": {}
      },
      "source": [
        "d = file_beer_sales_2.copy()\n",
        "\n",
        "plt.scatter(d[\"temperature\"],d[\"sales\"])\n",
        "x = np.linspace(min(d[\"temperature\"]),max(d[\"temperature\"]),100)\n",
        "y = est[0]+est[1]*x\n",
        "plt.plot(x,y)\n",
        "plt.fill_between(x,y+est[2],y-est[2],facecolor='green',alpha=0.4)"
      ],
      "execution_count": null,
      "outputs": []
    },
    {
      "cell_type": "code",
      "metadata": {
        "id": "IWcQw4z5aQGc",
        "colab_type": "code",
        "colab": {}
      },
      "source": [
        "df = pd.DataFrame({'Intercept':fit_smp['Intercept'],'beta':fit_smp['beta'],'sigma':fit_smp['sigma']})\n",
        "df.head()\n",
        "\n",
        "df.shape"
      ],
      "execution_count": null,
      "outputs": []
    },
    {
      "cell_type": "code",
      "metadata": {
        "id": "rk6l-3DZaU5z",
        "colab_type": "code",
        "colab": {}
      },
      "source": [
        "sns.jointplot(x=df[\"Intercept\"],y=df[\"beta\"],data=df,alpha=0.1)"
      ],
      "execution_count": null,
      "outputs": []
    },
    {
      "cell_type": "code",
      "metadata": {
        "id": "T81Pqj442zPQ",
        "colab_type": "code",
        "colab": {}
      },
      "source": [
        "#MCMCサンプリングの結果を抽出\n",
        "ms = fit_nuts.extract(permuted=False, inc_warmup=True)\n",
        "\n",
        "#ウォームアップ（バーンイン）のサイズを取得\n",
        "iter_from = fit_nuts.sim['warmup']\n",
        "\n",
        "#ウォームアップの区間を省いた区間\n",
        "iter_range = np.arange(iter_from, ms.shape[0])\n",
        "\n",
        "#各変数名を取得\n",
        "paraname = fit_nuts.sim['fnames_oi']\n",
        "\n",
        "#全て描画したいので、こちらを使う\n",
        "iter_start = np.arange(0, ms.shape[0])\n",
        "\n",
        "print(iter_from)\n",
        "print(iter_start)\n",
        "print(ms.shape[0])\n",
        "print(fit_nuts.sim)"
      ],
      "execution_count": null,
      "outputs": []
    },
    {
      "cell_type": "code",
      "metadata": {
        "id": "ZffUUV-v9LAJ",
        "colab_type": "code",
        "colab": {}
      },
      "source": [
        "# seabornおまじない\n",
        "palette = sns.color_palette()\n",
        "sns.set(font_scale=1)\n",
        "sns.set_style(\"ticks\")\n",
        "sns.despine(offset=10, trim=True)\n",
        "fig,axes  = plt.subplots(nrows=2, ncols=2, figsize=(15,10))\n",
        "\n",
        "for i in range(2):\n",
        "    for j in range(2):\n",
        "        if i>1: l=6\n",
        "        else: l=0\n",
        "        axes[i,j].plot(iter_start, ms[iter_start, :, i*2+j], \n",
        "                       linewidth=2, color=palette[i*2+j-l])\n",
        "        axes[i,j].set_title(paraname[i*2+j])\n",
        "        axes[i,j].set_xlabel('mcmc_size')\n",
        "        axes[i,j].set_ylabel('parameter')\n",
        "        axes[i,j].grid(True)\n",
        "plt.tight_layout()"
      ],
      "execution_count": null,
      "outputs": []
    },
    {
      "cell_type": "code",
      "metadata": {
        "id": "Tud7Nl3NJ5zS",
        "colab_type": "code",
        "colab": {}
      },
      "source": [
        "N_mcmc = len(ms['lp__'])\n",
        "N_mcmc"
      ],
      "execution_count": null,
      "outputs": []
    },
    {
      "cell_type": "code",
      "metadata": {
        "id": "dNZ2W64wJ53s",
        "colab_type": "code",
        "colab": {}
      },
      "source": [
        ""
      ],
      "execution_count": null,
      "outputs": []
    },
    {
      "cell_type": "code",
      "metadata": {
        "id": "fR0uPtzKJ57j",
        "colab_type": "code",
        "colab": {}
      },
      "source": [
        ""
      ],
      "execution_count": null,
      "outputs": []
    },
    {
      "cell_type": "code",
      "metadata": {
        "id": "gILQ0pa2J6AQ",
        "colab_type": "code",
        "colab": {}
      },
      "source": [
        ""
      ],
      "execution_count": null,
      "outputs": []
    },
    {
      "cell_type": "code",
      "metadata": {
        "id": "L-DILORRJ6Dx",
        "colab_type": "code",
        "colab": {}
      },
      "source": [
        ""
      ],
      "execution_count": null,
      "outputs": []
    },
    {
      "cell_type": "code",
      "metadata": {
        "id": "lADdTZm89bjX",
        "colab_type": "code",
        "colab": {}
      },
      "source": [
        "salary = pd.read_csv('./input/data-salary.txt', header=0)\n",
        "salary.head()"
      ],
      "execution_count": null,
      "outputs": []
    },
    {
      "cell_type": "code",
      "metadata": {
        "id": "DLM7fPqNrUQn",
        "colab_type": "code",
        "colab": {}
      },
      "source": [
        "salary.iloc[np.r_[0:3, -1]]"
      ],
      "execution_count": null,
      "outputs": []
    },
    {
      "cell_type": "code",
      "metadata": {
        "id": "FqYaXjHBrdC-",
        "colab_type": "code",
        "colab": {}
      },
      "source": [
        "salary.plot(x='X', y='Y', kind='scatter')"
      ],
      "execution_count": null,
      "outputs": []
    },
    {
      "cell_type": "code",
      "metadata": {
        "id": "A-nhhzdOrjR3",
        "colab_type": "code",
        "colab": {}
      },
      "source": [
        "model = smf.ols('Y ~ X', data=salary)\n",
        "res = model.fit()\n",
        "res.params"
      ],
      "execution_count": null,
      "outputs": []
    },
    {
      "cell_type": "code",
      "metadata": {
        "id": "rDFxkqC1sIoX",
        "colab_type": "code",
        "colab": {}
      },
      "source": [
        "X_new = pd.DataFrame(data=np.arange(23, 61).reshape((-1, 1)), columns=['X'])\n",
        "predictions = res.get_prediction(X_new)\n",
        "int_95 = predictions.summary_frame(alpha=0.05)\n",
        "int_50 = predictions.summary_frame(alpha=0.5)\n",
        "\n",
        "x, y = X_new['X'], int_95['mean']\n",
        "\n",
        "_, axes = plt.subplots(1, 2, figsize=figaspect(3/8), sharex=True, sharey=True)\n",
        "for ax, category in zip(axes, ['mean', 'obs']):\n",
        "    color = 'k'\n",
        "    ax.scatter(salary['X'], salary['Y'], c=color)\n",
        "    ax.plot(x, y, c=color)\n",
        "    lower = '{}_ci_lower'.format(category)\n",
        "    upper = '{}_ci_upper'.format(category)\n",
        "    ax.fill_between(x, int_50[lower], int_50[upper], color=color, alpha=0.5)\n",
        "    ax.fill_between(x, int_95[lower], int_95[upper], color=color, alpha=0.3)\n",
        "    plt.setp(ax, xlabel='X', ylabel='Y')\n",
        "plt.show()"
      ],
      "execution_count": null,
      "outputs": []
    },
    {
      "cell_type": "code",
      "metadata": {
        "id": "ymY6GOqRy4C-",
        "colab_type": "code",
        "colab": {}
      },
      "source": [
        "sample_file = 'sample/model4-5'\n",
        "data = dict(\n",
        "    N=salary.index.size,\n",
        "    X=salary['X'],\n",
        "    Y=salary['Y']\n",
        ")\n",
        "fit = pystan.stan(file='model/model4-5.stan', data=data, seed=1234, sample_file=sample_file)"
      ],
      "execution_count": null,
      "outputs": []
    },
    {
      "cell_type": "code",
      "metadata": {
        "id": "6aelKDZB3FGo",
        "colab_type": "code",
        "colab": {}
      },
      "source": [
        "fit"
      ],
      "execution_count": null,
      "outputs": []
    },
    {
      "cell_type": "code",
      "metadata": {
        "id": "4evbskrM3MQt",
        "colab_type": "code",
        "colab": {}
      },
      "source": [
        "fit.plot()\n",
        "plt.setp(plt.gcf(), size_inches=figaspect(3/2) * 1.5)\n",
        "plt.tight_layout()"
      ],
      "execution_count": null,
      "outputs": []
    },
    {
      "cell_type": "code",
      "metadata": {
        "id": "5R6KzH7c3Rxs",
        "colab_type": "code",
        "colab": {}
      },
      "source": [
        "names = fit.sim['fnames_oi']\n",
        "color_list = [mcolors.to_rgba(c) for c in plt.rcParams['axes.prop_cycle'].by_key()['color']]\n",
        "chains = [pd.read_csv('{name}_{i}.csv'.format(name=sample_file, i=i), usecols=names, engine='python', comment='#') for i in range(fit.sim['chains'])]\n",
        "\n",
        "_, axes = plt.subplots(len(names), 1, figsize=figaspect(len(names)))\n",
        "for name, ax in zip(names, axes):\n",
        "    ax.set_title(name)\n",
        "    # 対数尤度の描画は時間がかかるので省略\n",
        "    if name == 'lp__':\n",
        "        continue\n",
        "    for i, chain in enumerate(chains):\n",
        "        ax.plot(chain.index, chain[name], label='Chain{}'.format(i+1))\n",
        "    ax.legend()"
      ],
      "execution_count": null,
      "outputs": []
    },
    {
      "cell_type": "code",
      "metadata": {
        "id": "cBQpAKut0waX",
        "colab_type": "code",
        "colab": {}
      },
      "source": [
        "plt.scatter('X', 'Y', data=salary, c=color)"
      ],
      "execution_count": null,
      "outputs": []
    },
    {
      "cell_type": "markdown",
      "metadata": {
        "id": "1nW12BRSsnVh",
        "colab_type": "text"
      },
      "source": [
        "# 統計学が最強の学問である［数学編］"
      ]
    },
    {
      "cell_type": "code",
      "metadata": {
        "id": "tZIb8SymAV-y",
        "colab_type": "code",
        "colab": {
          "base_uri": "https://localhost:8080/",
          "height": 289
        },
        "outputId": "d4f7cc4b-4c83-4c73-ce16-9b17bc53c510"
      },
      "source": [
        "y1 = lambda x : 12-5*x\n",
        "y2 = lambda x : 3-0.5*x\n",
        "y3 = lambda x : 22/4-7/4*x\n",
        "\n",
        "x = np.linspace(0,12,50)\n",
        "plt.plot(x, y1(x))\n",
        "plt.plot(x, y2(x))\n",
        "plt.plot(x, y3(x))\n",
        "plt.xlim(0,12)\n",
        "plt.ylim(0,12)"
      ],
      "execution_count": 29,
      "outputs": [
        {
          "output_type": "execute_result",
          "data": {
            "text/plain": [
              "(0.0, 12.0)"
            ]
          },
          "metadata": {
            "tags": []
          },
          "execution_count": 29
        },
        {
          "output_type": "display_data",
          "data": {
            "image/png": "[encoded data removed]",
            "text/plain": [
              "<Figure size 432x288 with 1 Axes>"
            ]
          },
          "metadata": {
            "tags": []
          }
        }
      ]
    },
    {
      "cell_type": "code",
      "metadata": {
        "id": "2EeEuoyBBPPF",
        "colab_type": "code",
        "colab": {
          "base_uri": "https://localhost:8080/",
          "height": 34
        },
        "outputId": "005ef6ef-ea34-4eb1-db25-305915aa88e2"
      },
      "source": [
        "import sympy\n",
        "x =sympy.Symbol('x')\n",
        "y = sympy.Symbol('y')\n",
        "a,b,c,p,q = sympy.symbols('a b c p q')\n",
        "\n",
        "print(type(a))"
      ],
      "execution_count": 30,
      "outputs": [
        {
          "output_type": "stream",
          "text": [
            "<class 'sympy.core.symbol.Symbol'>\n"
          ],
          "name": "stdout"
        }
      ]
    },
    {
      "cell_type": "code",
      "metadata": {
        "id": "o2AoZM7kMHOg",
        "colab_type": "code",
        "colab": {}
      },
      "source": [
        "y1 = 12-5*x-y\n",
        "y2 = 3-0.5*x-y"
      ],
      "execution_count": 31,
      "outputs": []
    },
    {
      "cell_type": "code",
      "metadata": {
        "id": "82TLtAdjMj2a",
        "colab_type": "code",
        "colab": {
          "base_uri": "https://localhost:8080/",
          "height": 34
        },
        "outputId": "90b8289a-a58e-4640-f022-8a46b0a4dcfa"
      },
      "source": [
        "sympy.solve([y1,y2])"
      ],
      "execution_count": 32,
      "outputs": [
        {
          "output_type": "execute_result",
          "data": {
            "text/plain": [
              "{x: 2.00000000000000, y: 2.00000000000000}"
            ]
          },
          "metadata": {
            "tags": []
          },
          "execution_count": 32
        }
      ]
    },
    {
      "cell_type": "code",
      "metadata": {
        "id": "UDXjVDOlMmiS",
        "colab_type": "code",
        "colab": {
          "base_uri": "https://localhost:8080/",
          "height": 34
        },
        "outputId": "48c9a2ca-1089-4f08-e72b-57d132645753"
      },
      "source": [
        "x=2; y=2\n",
        "z = 7*x + 4*y\n",
        "z"
      ],
      "execution_count": 33,
      "outputs": [
        {
          "output_type": "execute_result",
          "data": {
            "text/plain": [
              "22"
            ]
          },
          "metadata": {
            "tags": []
          },
          "execution_count": 33
        }
      ]
    },
    {
      "cell_type": "code",
      "metadata": {
        "id": "65JlrxZkPvGp",
        "colab_type": "code",
        "colab": {}
      },
      "source": [
        "# !pip install pulp\n",
        "\n",
        "from pulp import *\n",
        "from itertools import product\n",
        "from fractions import Fraction as frac"
      ],
      "execution_count": 36,
      "outputs": []
    },
    {
      "cell_type": "code",
      "metadata": {
        "id": "Ic8VTPH3Iqek",
        "colab_type": "code",
        "colab": {}
      },
      "source": [
        "def complete_square(a,b,c):\n",
        "  p,q = frac(b,2*c), frac(-b*b,4*c)+a\n",
        "  print(f'平方完成 : y = {c}*(x+({p}))**2+({q})')\n",
        "  return float(-p),float(q)"
      ],
      "execution_count": 37,
      "outputs": []
    },
    {
      "cell_type": "code",
      "metadata": {
        "id": "8nY8Ejg_LJeS",
        "colab_type": "code",
        "colab": {}
      },
      "source": [
        "a = frac(5,6)\n",
        "b = frac(3,4)\n",
        "c = frac(1,2)\n",
        "\n",
        "y = lambda x: a+b*x+c*x**2"
      ],
      "execution_count": 38,
      "outputs": []
    },
    {
      "cell_type": "code",
      "metadata": {
        "id": "mPc1P5cWIqlZ",
        "colab_type": "code",
        "colab": {
          "base_uri": "https://localhost:8080/",
          "height": 51
        },
        "outputId": "9915fed3-6bd8-4819-d375-21e36770d945"
      },
      "source": [
        "extremum_point = complete_square(a,b,c)\n",
        "print('座標 : ', extremum_point)\n"
      ],
      "execution_count": 39,
      "outputs": [
        {
          "output_type": "stream",
          "text": [
            "平方完成 : y = 1/2*(x+(3/4))**2+(53/96)\n",
            "座標 :  (-0.75, 0.5520833333333334)\n"
          ],
          "name": "stdout"
        }
      ]
    },
    {
      "cell_type": "code",
      "metadata": {
        "id": "Mh7yPC2CIqjl",
        "colab_type": "code",
        "colab": {}
      },
      "source": [
        ""
      ],
      "execution_count": 39,
      "outputs": []
    },
    {
      "cell_type": "code",
      "metadata": {
        "id": "eUmIqBQYR4Cj",
        "colab_type": "code",
        "colab": {}
      },
      "source": [
        "x =sympy.Symbol('x')\n",
        "y = sympy.Symbol('y')\n",
        "a,b,c,p,q = sympy.symbols('a b c p q')\n",
        "\n",
        "\n",
        "y3 = a+b+c-10\n",
        "y4 = a+2*b+4*c-40\n",
        "y5 = a+3*b+9*c-82\n",
        "\n",
        "\n",
        "\n",
        "ans = sympy.solve([y3,y4,y5])"
      ],
      "execution_count": 40,
      "outputs": []
    },
    {
      "cell_type": "code",
      "metadata": {
        "id": "evQpdsRBcUeY",
        "colab_type": "code",
        "colab": {
          "base_uri": "https://localhost:8080/",
          "height": 142
        },
        "outputId": "a9dd59c0-948e-4b2c-a43d-6cce6a990790"
      },
      "source": [
        "df = pd.DataFrame({'訪問回数':[100,200,300],'契約回数':[10,40,82]},index=['1年目','2年目','3年目'])\n",
        "df"
      ],
      "execution_count": 41,
      "outputs": [
        {
          "output_type": "execute_result",
          "data": {
            "text/html": [
              "<div>\n",
              "<style scoped>\n",
              "    .dataframe tbody tr th:only-of-type {\n",
              "        vertical-align: middle;\n",
              "    }\n",
              "\n",
              "    .dataframe tbody tr th {\n",
              "        vertical-align: top;\n",
              "    }\n",
              "\n",
              "    .dataframe thead th {\n",
              "        text-align: right;\n",
              "    }\n",
              "</style>\n",
              "<table border=\"1\" class=\"dataframe\">\n",
              "  <thead>\n",
              "    <tr style=\"text-align: right;\">\n",
              "      <th></th>\n",
              "      <th>訪問回数</th>\n",
              "      <th>契約回数</th>\n",
              "    </tr>\n",
              "  </thead>\n",
              "  <tbody>\n",
              "    <tr>\n",
              "      <th>1年目</th>\n",
              "      <td>100</td>\n",
              "      <td>10</td>\n",
              "    </tr>\n",
              "    <tr>\n",
              "      <th>2年目</th>\n",
              "      <td>200</td>\n",
              "      <td>40</td>\n",
              "    </tr>\n",
              "    <tr>\n",
              "      <th>3年目</th>\n",
              "      <td>300</td>\n",
              "      <td>82</td>\n",
              "    </tr>\n",
              "  </tbody>\n",
              "</table>\n",
              "</div>"
            ],
            "text/plain": [
              "     訪問回数  契約回数\n",
              "1年目   100    10\n",
              "2年目   200    40\n",
              "3年目   300    82"
            ]
          },
          "metadata": {
            "tags": []
          },
          "execution_count": 41
        }
      ]
    },
    {
      "cell_type": "code",
      "metadata": {
        "id": "z-mMc75vSiSC",
        "colab_type": "code",
        "colab": {
          "base_uri": "https://localhost:8080/",
          "height": 285
        },
        "outputId": "685292ef-89fa-49ee-e4ca-5a76242cf225"
      },
      "source": [
        "y4 = lambda x :ans[a]+ans[b]*x+ans[c]*x**2\n",
        "x = np.linspace(0,4,50)\n",
        "plt.plot(x,y4(x))\n",
        "plt.scatter(df['訪問回数']/100,df['契約回数'])"
      ],
      "execution_count": 42,
      "outputs": [
        {
          "output_type": "execute_result",
          "data": {
            "text/plain": [
              "<matplotlib.collections.PathCollection at 0x7ff88abb4128>"
            ]
          },
          "metadata": {
            "tags": []
          },
          "execution_count": 42
        },
        {
          "output_type": "display_data",
          "data": {
            "image/png": "[encoded data removed]",
            "text/plain": [
              "<Figure size 432x288 with 1 Axes>"
            ]
          },
          "metadata": {
            "tags": []
          }
        }
      ]
    },
    {
      "cell_type": "code",
      "metadata": {
        "id": "Gpm7wRVnaLjW",
        "colab_type": "code",
        "colab": {
          "base_uri": "https://localhost:8080/",
          "height": 34
        },
        "outputId": "5076a57c-bd7d-4e5b-d510-75640f904633"
      },
      "source": [
        "y4(4)"
      ],
      "execution_count": 43,
      "outputs": [
        {
          "output_type": "execute_result",
          "data": {
            "text/plain": [
              "136"
            ]
          },
          "metadata": {
            "tags": []
          },
          "execution_count": 43
        }
      ]
    },
    {
      "cell_type": "code",
      "metadata": {
        "id": "I2UrvrBQyGwD",
        "colab_type": "code",
        "colab": {
          "base_uri": "https://localhost:8080/",
          "height": 289
        },
        "outputId": "e1e6e64c-d7a4-4fbd-9cb1-140cbe6b1ec1"
      },
      "source": [
        "x = np.linspace(-2,2,50)\n",
        "plt.plot(x,x**2)\n",
        "plt.plot(x,2*x**2)\n",
        "plt.plot(x,0.5*x**2)\n",
        "plt.ylim(0,5)"
      ],
      "execution_count": 44,
      "outputs": [
        {
          "output_type": "execute_result",
          "data": {
            "text/plain": [
              "(0.0, 5.0)"
            ]
          },
          "metadata": {
            "tags": []
          },
          "execution_count": 44
        },
        {
          "output_type": "display_data",
          "data": {
            "image/png": "[encoded data removed]",
            "text/plain": [
              "<Figure size 432x288 with 1 Axes>"
            ]
          },
          "metadata": {
            "tags": []
          }
        }
      ]
    },
    {
      "cell_type": "code",
      "metadata": {
        "id": "GFZU9p_YyeNh",
        "colab_type": "code",
        "colab": {
          "base_uri": "https://localhost:8080/",
          "height": 289
        },
        "outputId": "d98cb34f-8126-4bd2-9b7f-632b299ed2ed"
      },
      "source": [
        "x = np.linspace(-2,2,50)\n",
        "plt.plot(x,x**2,label=\"$ y = x^2 $\")\n",
        "plt.plot(x,(x-1)**2,label=\"$ y = (x-1)^2 $\")\n",
        "plt.plot(x,(x-1)**2+2,label=\"$ y = (x-1)^2+2 $\")\n",
        "plt.ylim(0,6)\n",
        "plt.legend(loc='best')"
      ],
      "execution_count": 45,
      "outputs": [
        {
          "output_type": "execute_result",
          "data": {
            "text/plain": [
              "<matplotlib.legend.Legend at 0x7ff88ab0a860>"
            ]
          },
          "metadata": {
            "tags": []
          },
          "execution_count": 45
        },
        {
          "output_type": "display_data",
          "data": {
            "image/png": "[encoded data removed]",
            "text/plain": [
              "<Figure size 432x288 with 1 Axes>"
            ]
          },
          "metadata": {
            "tags": []
          }
        }
      ]
    },
    {
      "cell_type": "markdown",
      "metadata": {
        "id": "rRGlNHBV3Bb6",
        "colab_type": "text"
      },
      "source": [
        "$ y = c(x-p)^2+q $ 　二次関数の「標準形」"
      ]
    },
    {
      "cell_type": "code",
      "metadata": {
        "id": "A_d097nY087v",
        "colab_type": "code",
        "colab": {
          "base_uri": "https://localhost:8080/",
          "height": 142
        },
        "outputId": "721e8d9b-8c01-4421-bf8e-7237d22e9895"
      },
      "source": [
        "df = pd.DataFrame({'平均購買金額':[676,936,996]},index=['月に１回','月に２回','月に３回'])\n",
        "df"
      ],
      "execution_count": 46,
      "outputs": [
        {
          "output_type": "execute_result",
          "data": {
            "text/html": [
              "<div>\n",
              "<style scoped>\n",
              "    .dataframe tbody tr th:only-of-type {\n",
              "        vertical-align: middle;\n",
              "    }\n",
              "\n",
              "    .dataframe tbody tr th {\n",
              "        vertical-align: top;\n",
              "    }\n",
              "\n",
              "    .dataframe thead th {\n",
              "        text-align: right;\n",
              "    }\n",
              "</style>\n",
              "<table border=\"1\" class=\"dataframe\">\n",
              "  <thead>\n",
              "    <tr style=\"text-align: right;\">\n",
              "      <th></th>\n",
              "      <th>平均購買金額</th>\n",
              "    </tr>\n",
              "  </thead>\n",
              "  <tbody>\n",
              "    <tr>\n",
              "      <th>月に１回</th>\n",
              "      <td>676</td>\n",
              "    </tr>\n",
              "    <tr>\n",
              "      <th>月に２回</th>\n",
              "      <td>936</td>\n",
              "    </tr>\n",
              "    <tr>\n",
              "      <th>月に３回</th>\n",
              "      <td>996</td>\n",
              "    </tr>\n",
              "  </tbody>\n",
              "</table>\n",
              "</div>"
            ],
            "text/plain": [
              "      平均購買金額\n",
              "月に１回     676\n",
              "月に２回     936\n",
              "月に３回     996"
            ]
          },
          "metadata": {
            "tags": []
          },
          "execution_count": 46
        }
      ]
    },
    {
      "cell_type": "code",
      "metadata": {
        "id": "v3rAmjPAAUcP",
        "colab_type": "code",
        "colab": {
          "base_uri": "https://localhost:8080/",
          "height": 289
        },
        "outputId": "c6047a48-b5f9-46c1-bd0f-798eb2a50f1f"
      },
      "source": [
        "x = np.arange(3)\n",
        "plt.scatter(x+1,df['平均購買金額'])\n",
        "plt.xlim(0,4)\n",
        "plt.ylim(0,1200)"
      ],
      "execution_count": 47,
      "outputs": [
        {
          "output_type": "execute_result",
          "data": {
            "text/plain": [
              "(0.0, 1200.0)"
            ]
          },
          "metadata": {
            "tags": []
          },
          "execution_count": 47
        },
        {
          "output_type": "display_data",
          "data": {
            "image/png": "[encoded data removed]",
            "text/plain": [
              "<Figure size 432x288 with 1 Axes>"
            ]
          },
          "metadata": {
            "tags": []
          }
        }
      ]
    },
    {
      "cell_type": "code",
      "metadata": {
        "id": "GELS1liBAroE",
        "colab_type": "code",
        "colab": {}
      },
      "source": [
        "x =sympy.Symbol('x')\n",
        "y = sympy.Symbol('y')\n",
        "a,b,c,p,q = sympy.symbols('a b c p q')\n",
        "\n",
        "y3 = a+b+c-676\n",
        "y4 = a+2*b+4*c-936\n",
        "y5 = a+3*b+9*c-996\n",
        "\n",
        "ans = sympy.solve([y3,y4,y5])\n",
        "\n"
      ],
      "execution_count": 48,
      "outputs": []
    },
    {
      "cell_type": "code",
      "metadata": {
        "id": "Lq9BQhKFCdQM",
        "colab_type": "code",
        "colab": {
          "base_uri": "https://localhost:8080/",
          "height": 34
        },
        "outputId": "eb2eeace-7dea-4df3-e8d0-5459b1f25445"
      },
      "source": [
        "ans"
      ],
      "execution_count": 49,
      "outputs": [
        {
          "output_type": "execute_result",
          "data": {
            "text/plain": [
              "{a: 216, b: 560, c: -100}"
            ]
          },
          "metadata": {
            "tags": []
          },
          "execution_count": 49
        }
      ]
    },
    {
      "cell_type": "code",
      "metadata": {
        "id": "-6WJ0wr1CfGh",
        "colab_type": "code",
        "colab": {
          "base_uri": "https://localhost:8080/",
          "height": 289
        },
        "outputId": "b02e4d6a-6d4d-4171-f826-afb6b9930e3f"
      },
      "source": [
        "y4 = lambda x :ans[a]+ans[b]*x+ans[c]*x**2\n",
        "x = np.linspace(0,4,50)\n",
        "plt.plot(x,y4(x))\n",
        "xx = np.arange(3)\n",
        "plt.scatter(xx+1,df['平均購買金額'])\n",
        "plt.scatter(2.8,y4(2.8))\n",
        "plt.axhline(y=900,xmin=0,xmax=4)\n",
        "plt.xlim(0,4)\n",
        "plt.ylim(0,1200)"
      ],
      "execution_count": 50,
      "outputs": [
        {
          "output_type": "execute_result",
          "data": {
            "text/plain": [
              "(0.0, 1200.0)"
            ]
          },
          "metadata": {
            "tags": []
          },
          "execution_count": 50
        },
        {
          "output_type": "display_data",
          "data": {
            "image/png": "[encoded data removed]",
            "text/plain": [
              "<Figure size 432x288 with 1 Axes>"
            ]
          },
          "metadata": {
            "tags": []
          }
        }
      ]
    },
    {
      "cell_type": "code",
      "metadata": {
        "id": "JSpczgjMO_vs",
        "colab_type": "code",
        "colab": {}
      },
      "source": [
        "y4(2.8)"
      ],
      "execution_count": null,
      "outputs": []
    },
    {
      "cell_type": "code",
      "metadata": {
        "id": "Yx7LkrJhCy3D",
        "colab_type": "code",
        "colab": {}
      },
      "source": [
        "x =sympy.Symbol('x')\n",
        "y = sympy.Symbol('y')\n",
        "\n",
        "a = ans[a]\n",
        "b = ans[b]\n",
        "c = ans[c]\n",
        "\n",
        "g = a+b*x+c*x**2\n",
        "\n",
        "g"
      ],
      "execution_count": null,
      "outputs": []
    },
    {
      "cell_type": "code",
      "metadata": {
        "id": "ZtTBIZoNEZu3",
        "colab_type": "code",
        "colab": {}
      },
      "source": [
        "f = sympy.diff(g)\n",
        "f"
      ],
      "execution_count": null,
      "outputs": []
    },
    {
      "cell_type": "code",
      "metadata": {
        "id": "y-kao0IiFOGp",
        "colab_type": "code",
        "colab": {}
      },
      "source": [
        "a = 216\n",
        "b = 560\n",
        "c = -100\n",
        "\n",
        "y = lambda x: a+b*x+c*x**2\n",
        "\n",
        "extremum_point = complete_square(a,b,c)\n",
        "print('座標 : ', extremum_point)"
      ],
      "execution_count": null,
      "outputs": []
    },
    {
      "cell_type": "code",
      "metadata": {
        "id": "N9AEIAKGNysG",
        "colab_type": "code",
        "colab": {}
      },
      "source": [
        ""
      ],
      "execution_count": null,
      "outputs": []
    }
  ]
}