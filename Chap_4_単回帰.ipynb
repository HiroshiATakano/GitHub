{
  "nbformat": 4,
  "nbformat_minor": 0,
  "metadata": {
    "colab": {
      "name": "Chap_4_単回帰.ipynb",
      "provenance": [],
      "authorship_tag": "ABX9TyOlpliorY29oaW3PMw+hCiq",
      "include_colab_link": true
    },
    "kernelspec": {
      "name": "python3",
      "display_name": "Python 3"
    },
    "language_info": {
      "name": "python"
    }
  },
  "cells": [
    {
      "cell_type": "markdown",
      "metadata": {
        "id": "view-in-github",
        "colab_type": "text"
      },
      "source": [
        "<a href=\"https://colab.research.google.com/github/HiroshiATakano/GitHub/blob/master/Chap_4_%E5%8D%98%E5%9B%9E%E5%B8%B0.ipynb\" target=\"_parent\"><img src=\"https://colab.research.google.com/assets/colab-badge.svg\" alt=\"Open In Colab\"/></a>"
      ]
    },
    {
      "cell_type": "code",
      "metadata": {
        "colab": {
          "base_uri": "https://localhost:8080/"
        },
        "id": "5yvGXTs3ogCk",
        "outputId": "b6039c6a-e569-458b-a16d-238303eb4662"
      },
      "source": [
        "from google.colab import drive\n",
        "drive.mount('/content/drive/')"
      ],
      "execution_count": 4,
      "outputs": [
        {
          "output_type": "stream",
          "text": [
            "Drive already mounted at /content/drive/; to attempt to forcibly remount, call drive.mount(\"/content/drive/\", force_remount=True).\n"
          ],
          "name": "stdout"
        }
      ]
    },
    {
      "cell_type": "code",
      "metadata": {
        "colab": {
          "base_uri": "https://localhost:8080/"
        },
        "id": "3N3I3mLvr3Jd",
        "outputId": "6d561347-6b0f-4e96-f73e-64ce4168f433"
      },
      "source": [
        "!pip install japanize-matplotlib"
      ],
      "execution_count": 10,
      "outputs": [
        {
          "output_type": "stream",
          "text": [
            "Collecting japanize-matplotlib\n",
            "\u001b[?25l  Downloading https://files.pythonhosted.org/packages/aa/85/08a4b7fe8987582d99d9bb7ad0ff1ec75439359a7f9690a0dbf2dbf98b15/japanize-matplotlib-1.1.3.tar.gz (4.1MB)\n",
            "\u001b[K     |████████████████████████████████| 4.1MB 27.0MB/s \n",
            "\u001b[?25hRequirement already satisfied: matplotlib in /usr/local/lib/python3.7/dist-packages (from japanize-matplotlib) (3.2.2)\n",
            "Requirement already satisfied: numpy>=1.11 in /usr/local/lib/python3.7/dist-packages (from matplotlib->japanize-matplotlib) (1.19.5)\n",
            "Requirement already satisfied: pyparsing!=2.0.4,!=2.1.2,!=2.1.6,>=2.0.1 in /usr/local/lib/python3.7/dist-packages (from matplotlib->japanize-matplotlib) (2.4.7)\n",
            "Requirement already satisfied: kiwisolver>=1.0.1 in /usr/local/lib/python3.7/dist-packages (from matplotlib->japanize-matplotlib) (1.3.1)\n",
            "Requirement already satisfied: python-dateutil>=2.1 in /usr/local/lib/python3.7/dist-packages (from matplotlib->japanize-matplotlib) (2.8.1)\n",
            "Requirement already satisfied: cycler>=0.10 in /usr/local/lib/python3.7/dist-packages (from matplotlib->japanize-matplotlib) (0.10.0)\n",
            "Requirement already satisfied: six>=1.5 in /usr/local/lib/python3.7/dist-packages (from python-dateutil>=2.1->matplotlib->japanize-matplotlib) (1.15.0)\n",
            "Building wheels for collected packages: japanize-matplotlib\n",
            "  Building wheel for japanize-matplotlib (setup.py) ... \u001b[?25l\u001b[?25hdone\n",
            "  Created wheel for japanize-matplotlib: filename=japanize_matplotlib-1.1.3-cp37-none-any.whl size=4120276 sha256=18bd55532aaeb32b4a7fe16e19f59f2c6b5d25caa62f17d332ae98d6ef5741db\n",
            "  Stored in directory: /root/.cache/pip/wheels/b7/d9/a2/f907d50b32a2d2008ce5d691d30fb6569c2c93eefcfde55202\n",
            "Successfully built japanize-matplotlib\n",
            "Installing collected packages: japanize-matplotlib\n",
            "Successfully installed japanize-matplotlib-1.1.3\n"
          ],
          "name": "stdout"
        }
      ]
    },
    {
      "cell_type": "code",
      "metadata": {
        "colab": {
          "base_uri": "https://localhost:8080/",
          "height": 35
        },
        "id": "inW3ltueolpG",
        "outputId": "50bfa318-506e-4614-9b4d-77f15ab2f376"
      },
      "source": [
        "%matplotlib inline\n",
        "import pandas as pd\n",
        "import numpy as np\n",
        "import matplotlib.pyplot as plt\n",
        "import japanize_matplotlib\n",
        "from matplotlib.figure import figaspect\n",
        "from matplotlib import colors as mcolors\n",
        "\n",
        "from pystan import StanModel\n",
        "import pickle\n",
        "import pandas.util.testing as tm\n",
        "\n",
        "import statsmodels.formula.api as smf\n",
        "\n",
        "import seaborn as sns\n",
        "import sys\n",
        "import math\n",
        "from matplotlib.backends.backend_pdf import PdfPages\n",
        "from scipy import stats\n",
        "from scipy.stats import norm\n",
        "\n",
        "from statsmodels.formula.api import glm\n",
        "import statsmodels.api as sm\n",
        "\n",
        "import os\n",
        "\n",
        "os.chdir('/content/drive/My Drive/StanとRでベイズ統計/chap04')\n",
        "os.getcwd()"
      ],
      "execution_count": 40,
      "outputs": [
        {
          "output_type": "execute_result",
          "data": {
            "application/vnd.google.colaboratory.intrinsic+json": {
              "type": "string"
            },
            "text/plain": [
              "'/content/drive/My Drive/StanとRでベイズ統計/chap04'"
            ]
          },
          "metadata": {
            "tags": []
          },
          "execution_count": 40
        }
      ]
    },
    {
      "cell_type": "markdown",
      "metadata": {
        "id": "zB9FwA_JvZLs"
      },
      "source": [
        "#4.2 Stanの基本的な文法\n",
        "\n",
        "##4.2.1 ブロック構成\n",
        "\n",
        "##4.2.2 文法の基礎"
      ]
    },
    {
      "cell_type": "code",
      "metadata": {
        "colab": {
          "base_uri": "https://localhost:8080/"
        },
        "id": "A4z2uFnuwFyV",
        "outputId": "5f62535b-3e62-4ee8-9ca4-33c4f5e50185"
      },
      "source": [
        "with open(\"model/model4-1.stan\") as f:\n",
        "    print(f.read())"
      ],
      "execution_count": 24,
      "outputs": [
        {
          "output_type": "stream",
          "text": [
            "data {\n",
            "  int N;\n",
            "  real Y[N];\n",
            "}\n",
            "\n",
            "parameters {\n",
            "  real mu;\n",
            "}\n",
            "\n",
            "model {\n",
            "  for (n in 1:N) {\n",
            "    Y[n] ~ normal(mu,1);\n",
            "  }\n",
            "  mu ~ normal(0,100);\n",
            "}\n",
            "\n"
          ],
          "name": "stdout"
        }
      ]
    },
    {
      "cell_type": "markdown",
      "metadata": {
        "id": "mVesfNygz2tl"
      },
      "source": [
        "##4.2.3 コーディング規約"
      ]
    },
    {
      "cell_type": "markdown",
      "metadata": {
        "id": "D1Gd2GkD0QUG"
      },
      "source": [
        "#4.3 StanのIp__とtarget\n",
        "\n"
      ]
    },
    {
      "cell_type": "code",
      "metadata": {
        "colab": {
          "base_uri": "https://localhost:8080/"
        },
        "id": "T2ChMVEV5C7f",
        "outputId": "f416a0bc-c4d6-4b2c-d798-765c5bc831d2"
      },
      "source": [
        "with open(\"model/model4-1b.stan\") as f:\n",
        "    print(f.read())"
      ],
      "execution_count": 25,
      "outputs": [
        {
          "output_type": "stream",
          "text": [
            "data {\n",
            "  int N;\n",
            "  real Y[N];\n",
            "}\n",
            "\n",
            "parameters {\n",
            "  real mu;\n",
            "}\n",
            "\n",
            "model {\n",
            "  for (n in 1:N) {\n",
            "    target += normal_lpdf(Y[n] | mu, 1);\n",
            "  }\n",
            "  target += normal_lpdf(mu | 0, 100);\n",
            "}\n",
            "\n"
          ],
          "name": "stdout"
        }
      ]
    },
    {
      "cell_type": "markdown",
      "metadata": {
        "id": "Es1_iZd31v2_"
      },
      "source": [
        "#4.4　単回帰\n",
        "\n"
      ]
    },
    {
      "cell_type": "code",
      "metadata": {
        "colab": {
          "base_uri": "https://localhost:8080/",
          "height": 171
        },
        "id": "8RoQch4XsY7U",
        "outputId": "d82f373f-442b-409a-ade0-707c3657598b"
      },
      "source": [
        "salary = pd.read_csv('./data/data-salary.txt',header=0)\n",
        "salary.iloc[np.r_[0:3,-1]]"
      ],
      "execution_count": 26,
      "outputs": [
        {
          "output_type": "execute_result",
          "data": {
            "text/html": [
              "<div>\n",
              "<style scoped>\n",
              "    .dataframe tbody tr th:only-of-type {\n",
              "        vertical-align: middle;\n",
              "    }\n",
              "\n",
              "    .dataframe tbody tr th {\n",
              "        vertical-align: top;\n",
              "    }\n",
              "\n",
              "    .dataframe thead th {\n",
              "        text-align: right;\n",
              "    }\n",
              "</style>\n",
              "<table border=\"1\" class=\"dataframe\">\n",
              "  <thead>\n",
              "    <tr style=\"text-align: right;\">\n",
              "      <th></th>\n",
              "      <th>X</th>\n",
              "      <th>Y</th>\n",
              "    </tr>\n",
              "  </thead>\n",
              "  <tbody>\n",
              "    <tr>\n",
              "      <th>0</th>\n",
              "      <td>24</td>\n",
              "      <td>472</td>\n",
              "    </tr>\n",
              "    <tr>\n",
              "      <th>1</th>\n",
              "      <td>24</td>\n",
              "      <td>403</td>\n",
              "    </tr>\n",
              "    <tr>\n",
              "      <th>2</th>\n",
              "      <td>26</td>\n",
              "      <td>454</td>\n",
              "    </tr>\n",
              "    <tr>\n",
              "      <th>19</th>\n",
              "      <td>59</td>\n",
              "      <td>1314</td>\n",
              "    </tr>\n",
              "  </tbody>\n",
              "</table>\n",
              "</div>"
            ],
            "text/plain": [
              "     X     Y\n",
              "0   24   472\n",
              "1   24   403\n",
              "2   26   454\n",
              "19  59  1314"
            ]
          },
          "metadata": {
            "tags": []
          },
          "execution_count": 26
        }
      ]
    },
    {
      "cell_type": "code",
      "metadata": {
        "colab": {
          "base_uri": "https://localhost:8080/",
          "height": 294
        },
        "id": "vxJIc0CgqsYG",
        "outputId": "f99253f6-fd8c-4779-f7f6-c747da594f07"
      },
      "source": [
        "salary.plot(x='X',y='Y',kind='scatter')"
      ],
      "execution_count": 27,
      "outputs": [
        {
          "output_type": "execute_result",
          "data": {
            "text/plain": [
              "<matplotlib.axes._subplots.AxesSubplot at 0x7f41ef5a95d0>"
            ]
          },
          "metadata": {
            "tags": []
          },
          "execution_count": 27
        },
        {
          "output_type": "display_data",
          "data": {
            "image/png": "[encoded data removed]",
            "text/plain": [
              "<Figure size 432x288 with 1 Axes>"
            ]
          },
          "metadata": {
            "tags": [],
            "needs_background": "light"
          }
        }
      ]
    },
    {
      "cell_type": "code",
      "metadata": {
        "colab": {
          "base_uri": "https://localhost:8080/"
        },
        "id": "TVFEJ_A82SRO",
        "outputId": "5b23bfa3-e884-4037-8843-e6920cc6fa66"
      },
      "source": [
        "model = smf.ols('Y ~ X', data=salary)\n",
        "res = model.fit()\n",
        "res.params"
      ],
      "execution_count": 28,
      "outputs": [
        {
          "output_type": "execute_result",
          "data": {
            "text/plain": [
              "Intercept   -119.697132\n",
              "X             21.904201\n",
              "dtype: float64"
            ]
          },
          "metadata": {
            "tags": []
          },
          "execution_count": 28
        }
      ]
    },
    {
      "cell_type": "code",
      "metadata": {
        "colab": {
          "base_uri": "https://localhost:8080/",
          "height": 276
        },
        "id": "YmezsGBY6kXG",
        "outputId": "58bccb78-75ce-4166-9540-0f53986e426b"
      },
      "source": [
        "X_new = pd.DataFrame(data=np.arange(23,61).reshape((-1,1)), columns=['X'])\n",
        "predictions = res.get_prediction(X_new)\n",
        "int_95 = predictions.summary_frame(alpha=0.05)\n",
        "int_50 = predictions.summary_frame(alpha=0.5)\n",
        "\n",
        "x,y = X_new['X'], int_95['mean']\n",
        "\n",
        "_, axes = plt.subplots(1,2,figsize=figaspect(3/8),sharex=True,sharey=True)\n",
        "for ax, category in zip(axes, ['mean','obs']):\n",
        "  color = 'k'\n",
        "  ax.scatter(salary['X'],salary['Y'],c=color)\n",
        "  ax.plot(x,y,c=color)\n",
        "  lower = '{}_ci_lower'.format(category)\n",
        "  upper = '{}_ci_upper'.format(category)\n",
        "  ax.fill_between(x,int_50[lower],int_50[upper],color=color, alpha=0.5)\n",
        "  ax.fill_between(x,int_95[lower],int_95[upper],color=color, alpha=0.3)\n",
        "  plt.setp(ax,xlabel='X',ylabel='Y')"
      ],
      "execution_count": 47,
      "outputs": [
        {
          "output_type": "display_data",
          "data": {
            "image/png": "[encoded data removed]",
            "text/plain": [
              "<Figure size 768x288 with 2 Axes>"
            ]
          },
          "metadata": {
            "tags": [],
            "needs_background": "light"
          }
        }
      ]
    },
    {
      "cell_type": "code",
      "metadata": {
        "id": "Dpg8_Cv26kfU"
      },
      "source": [
        ""
      ],
      "execution_count": null,
      "outputs": []
    },
    {
      "cell_type": "code",
      "metadata": {
        "colab": {
          "base_uri": "https://localhost:8080/"
        },
        "id": "W-HxQJ2no5ZU",
        "outputId": "0f432206-f156-44e9-e198-44bc36f675de"
      },
      "source": [
        "with open(\"model/model4-5.stan\") as f:\n",
        "    print(f.read())"
      ],
      "execution_count": 8,
      "outputs": [
        {
          "output_type": "stream",
          "text": [
            "data {\n",
            "    int N;\n",
            "    real X[N];\n",
            "    real Y[N];\n",
            "}\n",
            "\n",
            "parameters {\n",
            "    real<lower=0> sigma;\n",
            "    real Intercept;\n",
            "    real b;\n",
            "}\n",
            "\n",
            "model {\n",
            "    for (i in 1:N) {\n",
            "        Y[i] ~ normal(Intercept + b * X[i], sigma);\n",
            "    }\n",
            "}\n"
          ],
          "name": "stdout"
        }
      ]
    },
    {
      "cell_type": "code",
      "metadata": {
        "id": "zY-1AXTbyfaY"
      },
      "source": [
        ""
      ],
      "execution_count": null,
      "outputs": []
    }
  ]
}