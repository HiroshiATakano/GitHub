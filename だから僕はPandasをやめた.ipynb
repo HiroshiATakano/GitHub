{
  "nbformat": 4,
  "nbformat_minor": 0,
  "metadata": {
    "colab": {
      "name": "だから僕はPandasをやめた.ipynb",
      "provenance": [],
      "authorship_tag": "ABX9TyP1DDTtUs0xF7OpTxYDBHKy",
      "include_colab_link": true
    },
    "kernelspec": {
      "name": "python3",
      "display_name": "Python 3"
    }
  },
  "cells": [
    {
      "cell_type": "markdown",
      "metadata": {
        "id": "view-in-github",
        "colab_type": "text"
      },
      "source": [
        "<a href=\"https://colab.research.google.com/github/HiroshiATakano/GitHub/blob/master/%E3%81%A0%E3%81%8B%E3%82%89%E5%83%95%E3%81%AFPandas%E3%82%92%E3%82%84%E3%82%81%E3%81%9F.ipynb\" target=\"_parent\"><img src=\"https://colab.research.google.com/assets/colab-badge.svg\" alt=\"Open In Colab\"/></a>"
      ]
    },
    {
      "cell_type": "code",
      "metadata": {
        "colab": {
          "base_uri": "https://localhost:8080/"
        },
        "id": "hJPI16E2kMj2",
        "outputId": "e33d53ff-b5a7-4df2-fea0-e0ccdcf9cfd6"
      },
      "source": [
        "from google.colab import drive\r\n",
        "drive.mount('/content/drive/')\r\n"
      ],
      "execution_count": 2,
      "outputs": [
        {
          "output_type": "stream",
          "text": [
            "Mounted at /content/drive/\n"
          ],
          "name": "stdout"
        }
      ]
    },
    {
      "cell_type": "code",
      "metadata": {
        "id": "adJ9q_Fenr4O"
      },
      "source": [
        "import os\r\n",
        "import numpy as np\r\n",
        "import pandas as pd\r\n",
        "import tempfile\r\n",
        "from glob import glob"
      ],
      "execution_count": 3,
      "outputs": []
    },
    {
      "cell_type": "code",
      "metadata": {
        "colab": {
          "base_uri": "https://localhost:8080/",
          "height": 35
        },
        "id": "IS-g76Yanz-l",
        "outputId": "dd8f8883-6344-42a7-d287-c73cd23c185d"
      },
      "source": [
        "path = os.getcwd()\r\n",
        "\r\n",
        "try:\r\n",
        "    os.chdir(path + \"/drive/My Drive/Pandas 100 knocks (1)/\")\r\n",
        "except:\r\n",
        "    pass\r\n",
        "\r\n",
        "os.getcwd()"
      ],
      "execution_count": 4,
      "outputs": [
        {
          "output_type": "execute_result",
          "data": {
            "application/vnd.google.colaboratory.intrinsic+json": {
              "type": "string"
            },
            "text/plain": [
              "'/content/drive/My Drive/Pandas 100 knocks (1)'"
            ]
          },
          "metadata": {
            "tags": []
          },
          "execution_count": 4
        }
      ]
    },
    {
      "cell_type": "code",
      "metadata": {
        "colab": {
          "base_uri": "https://localhost:8080/"
        },
        "id": "D165ZjpXoGA_",
        "outputId": "90e8841f-b2b8-4120-d8aa-b3cc95def224"
      },
      "source": [
        "%ls"
      ],
      "execution_count": 5,
      "outputs": [
        {
          "output_type": "stream",
          "text": [
            " \u001b[0m\u001b[01;34mData\u001b[0m/  'Pandas 100 knocks.ipynb'   だから僕はPandasをやめた.ipynb\n"
          ],
          "name": "stdout"
        }
      ]
    },
    {
      "cell_type": "code",
      "metadata": {
        "colab": {
          "base_uri": "https://localhost:8080/"
        },
        "id": "IaAbTi6IofqW",
        "outputId": "00dcba1d-b506-412d-f815-ef55d919b9a4"
      },
      "source": [
        "for curDir, dirs, files in os.walk('./Data'):\r\n",
        "  print(curDir)\r\n",
        "  for file in files:\r\n",
        "    print(os.path.join(curDir,file))"
      ],
      "execution_count": 6,
      "outputs": [
        {
          "output_type": "stream",
          "text": [
            "./Data\n",
            "./Data/category.csv\n",
            "./Data/receipt.csv\n",
            "./Data/customer.csv\n",
            "./Data/store.csv\n",
            "./Data/geocode.csv\n",
            "./Data/product.csv\n"
          ],
          "name": "stdout"
        }
      ]
    },
    {
      "cell_type": "code",
      "metadata": {
        "id": "WGG3MAgeok_V"
      },
      "source": [
        "df_receipt = pd.read_csv('./Data/receipt.csv')\r\n",
        "df_store = pd.read_csv('./Data/store.csv')\r\n",
        "\r\n",
        "\r\n",
        "arr_receipt = np.genfromtxt(\r\n",
        "    './Data/receipt.csv', delimiter=',', encoding='utf-8',\r\n",
        "    names=True, dtype=None)\r\n",
        "arr_store = np.genfromtxt(\r\n",
        "    './Data/store.csv', delimiter=',', encoding='utf-8',\r\n",
        "    names=True, dtype=None)"
      ],
      "execution_count": 99,
      "outputs": []
    },
    {
      "cell_type": "code",
      "metadata": {
        "id": "3YBcX4CQpKTu"
      },
      "source": [
        "from IPython.core.interactiveshell import InteractiveShell\r\n",
        "InteractiveShell.ast_node_interactiveity = \"all\""
      ],
      "execution_count": 8,
      "outputs": []
    },
    {
      "cell_type": "code",
      "metadata": {
        "colab": {
          "base_uri": "https://localhost:8080/"
        },
        "id": "4cMqFH7Sos91",
        "outputId": "7404ef62-2e80-4961-bbe1-0c34bd7f0637"
      },
      "source": [
        "import sys\r\n",
        "\r\n",
        "sys.getsizeof(df_receipt)\r\n",
        "# 26065721\r\n",
        "sys.getsizeof(arr_receipt)\r\n",
        "# 15074160"
      ],
      "execution_count": 9,
      "outputs": [
        {
          "output_type": "execute_result",
          "data": {
            "text/plain": [
              "17586504"
            ]
          },
          "metadata": {
            "tags": []
          },
          "execution_count": 9
        }
      ]
    },
    {
      "cell_type": "markdown",
      "metadata": {
        "id": "rqwwBmOwpsbt"
      },
      "source": [
        "#P_001"
      ]
    },
    {
      "cell_type": "code",
      "metadata": {
        "colab": {
          "base_uri": "https://localhost:8080/",
          "height": 379
        },
        "id": "AwnFVMoTX9hm",
        "outputId": "c9cb1165-aab8-4fd3-d50e-f114b0c22fa9"
      },
      "source": [
        "df_receipt.head(10)"
      ],
      "execution_count": 22,
      "outputs": [
        {
          "output_type": "execute_result",
          "data": {
            "text/html": [
              "<div>\n",
              "<style scoped>\n",
              "    .dataframe tbody tr th:only-of-type {\n",
              "        vertical-align: middle;\n",
              "    }\n",
              "\n",
              "    .dataframe tbody tr th {\n",
              "        vertical-align: top;\n",
              "    }\n",
              "\n",
              "    .dataframe thead th {\n",
              "        text-align: right;\n",
              "    }\n",
              "</style>\n",
              "<table border=\"1\" class=\"dataframe\">\n",
              "  <thead>\n",
              "    <tr style=\"text-align: right;\">\n",
              "      <th></th>\n",
              "      <th>sales_ymd</th>\n",
              "      <th>sales_epoch</th>\n",
              "      <th>store_cd</th>\n",
              "      <th>receipt_no</th>\n",
              "      <th>receipt_sub_no</th>\n",
              "      <th>customer_id</th>\n",
              "      <th>product_cd</th>\n",
              "      <th>quantity</th>\n",
              "      <th>amount</th>\n",
              "    </tr>\n",
              "  </thead>\n",
              "  <tbody>\n",
              "    <tr>\n",
              "      <th>0</th>\n",
              "      <td>20181103</td>\n",
              "      <td>1541203200</td>\n",
              "      <td>S14006</td>\n",
              "      <td>112</td>\n",
              "      <td>1</td>\n",
              "      <td>CS006214000001</td>\n",
              "      <td>P070305012</td>\n",
              "      <td>1</td>\n",
              "      <td>158</td>\n",
              "    </tr>\n",
              "    <tr>\n",
              "      <th>1</th>\n",
              "      <td>20181118</td>\n",
              "      <td>1542499200</td>\n",
              "      <td>S13008</td>\n",
              "      <td>1132</td>\n",
              "      <td>2</td>\n",
              "      <td>CS008415000097</td>\n",
              "      <td>P070701017</td>\n",
              "      <td>1</td>\n",
              "      <td>81</td>\n",
              "    </tr>\n",
              "    <tr>\n",
              "      <th>2</th>\n",
              "      <td>20170712</td>\n",
              "      <td>1499817600</td>\n",
              "      <td>S14028</td>\n",
              "      <td>1102</td>\n",
              "      <td>1</td>\n",
              "      <td>CS028414000014</td>\n",
              "      <td>P060101005</td>\n",
              "      <td>1</td>\n",
              "      <td>170</td>\n",
              "    </tr>\n",
              "    <tr>\n",
              "      <th>3</th>\n",
              "      <td>20190205</td>\n",
              "      <td>1549324800</td>\n",
              "      <td>S14042</td>\n",
              "      <td>1132</td>\n",
              "      <td>1</td>\n",
              "      <td>ZZ000000000000</td>\n",
              "      <td>P050301001</td>\n",
              "      <td>1</td>\n",
              "      <td>25</td>\n",
              "    </tr>\n",
              "    <tr>\n",
              "      <th>4</th>\n",
              "      <td>20180821</td>\n",
              "      <td>1534809600</td>\n",
              "      <td>S14025</td>\n",
              "      <td>1102</td>\n",
              "      <td>2</td>\n",
              "      <td>CS025415000050</td>\n",
              "      <td>P060102007</td>\n",
              "      <td>1</td>\n",
              "      <td>90</td>\n",
              "    </tr>\n",
              "    <tr>\n",
              "      <th>5</th>\n",
              "      <td>20190605</td>\n",
              "      <td>1559692800</td>\n",
              "      <td>S13003</td>\n",
              "      <td>1112</td>\n",
              "      <td>1</td>\n",
              "      <td>CS003515000195</td>\n",
              "      <td>P050102002</td>\n",
              "      <td>1</td>\n",
              "      <td>138</td>\n",
              "    </tr>\n",
              "    <tr>\n",
              "      <th>6</th>\n",
              "      <td>20181205</td>\n",
              "      <td>1543968000</td>\n",
              "      <td>S14024</td>\n",
              "      <td>1102</td>\n",
              "      <td>2</td>\n",
              "      <td>CS024514000042</td>\n",
              "      <td>P080101005</td>\n",
              "      <td>1</td>\n",
              "      <td>30</td>\n",
              "    </tr>\n",
              "    <tr>\n",
              "      <th>7</th>\n",
              "      <td>20190922</td>\n",
              "      <td>1569110400</td>\n",
              "      <td>S14040</td>\n",
              "      <td>1102</td>\n",
              "      <td>1</td>\n",
              "      <td>CS040415000178</td>\n",
              "      <td>P070501004</td>\n",
              "      <td>1</td>\n",
              "      <td>128</td>\n",
              "    </tr>\n",
              "    <tr>\n",
              "      <th>8</th>\n",
              "      <td>20170504</td>\n",
              "      <td>1493856000</td>\n",
              "      <td>S13020</td>\n",
              "      <td>1112</td>\n",
              "      <td>2</td>\n",
              "      <td>ZZ000000000000</td>\n",
              "      <td>P071302010</td>\n",
              "      <td>1</td>\n",
              "      <td>770</td>\n",
              "    </tr>\n",
              "    <tr>\n",
              "      <th>9</th>\n",
              "      <td>20191010</td>\n",
              "      <td>1570665600</td>\n",
              "      <td>S14027</td>\n",
              "      <td>1102</td>\n",
              "      <td>1</td>\n",
              "      <td>CS027514000015</td>\n",
              "      <td>P071101003</td>\n",
              "      <td>1</td>\n",
              "      <td>680</td>\n",
              "    </tr>\n",
              "  </tbody>\n",
              "</table>\n",
              "</div>"
            ],
            "text/plain": [
              "   sales_ymd  sales_epoch store_cd  ...  product_cd  quantity amount\n",
              "0   20181103   1541203200   S14006  ...  P070305012         1    158\n",
              "1   20181118   1542499200   S13008  ...  P070701017         1     81\n",
              "2   20170712   1499817600   S14028  ...  P060101005         1    170\n",
              "3   20190205   1549324800   S14042  ...  P050301001         1     25\n",
              "4   20180821   1534809600   S14025  ...  P060102007         1     90\n",
              "5   20190605   1559692800   S13003  ...  P050102002         1    138\n",
              "6   20181205   1543968000   S14024  ...  P080101005         1     30\n",
              "7   20190922   1569110400   S14040  ...  P070501004         1    128\n",
              "8   20170504   1493856000   S13020  ...  P071302010         1    770\n",
              "9   20191010   1570665600   S14027  ...  P071101003         1    680\n",
              "\n",
              "[10 rows x 9 columns]"
            ]
          },
          "metadata": {
            "tags": []
          },
          "execution_count": 22
        }
      ]
    },
    {
      "cell_type": "code",
      "metadata": {
        "colab": {
          "base_uri": "https://localhost:8080/"
        },
        "id": "SLDl_jYcpAmW",
        "outputId": "143d553a-3744-4580-db2d-36b01b4afdda"
      },
      "source": [
        "arr_receipt[:10]"
      ],
      "execution_count": 10,
      "outputs": [
        {
          "output_type": "execute_result",
          "data": {
            "text/plain": [
              "array([(20181103, 1541203200, 'S14006',  112, 1, 'CS006214000001', 'P070305012', 1, 158),\n",
              "       (20181118, 1542499200, 'S13008', 1132, 2, 'CS008415000097', 'P070701017', 1,  81),\n",
              "       (20170712, 1499817600, 'S14028', 1102, 1, 'CS028414000014', 'P060101005', 1, 170),\n",
              "       (20190205, 1549324800, 'S14042', 1132, 1, 'ZZ000000000000', 'P050301001', 1,  25),\n",
              "       (20180821, 1534809600, 'S14025', 1102, 2, 'CS025415000050', 'P060102007', 1,  90),\n",
              "       (20190605, 1559692800, 'S13003', 1112, 1, 'CS003515000195', 'P050102002', 1, 138),\n",
              "       (20181205, 1543968000, 'S14024', 1102, 2, 'CS024514000042', 'P080101005', 1,  30),\n",
              "       (20190922, 1569110400, 'S14040', 1102, 1, 'CS040415000178', 'P070501004', 1, 128),\n",
              "       (20170504, 1493856000, 'S13020', 1112, 2, 'ZZ000000000000', 'P071302010', 1, 770),\n",
              "       (20191010, 1570665600, 'S14027', 1102, 1, 'CS027514000015', 'P071101003', 1, 680)],\n",
              "      dtype=[('sales_ymd', '<i8'), ('sales_epoch', '<i8'), ('store_cd', '<U6'), ('receipt_no', '<i8'), ('receipt_sub_no', '<i8'), ('customer_id', '<U14'), ('product_cd', '<U10'), ('quantity', '<i8'), ('amount', '<i8')])"
            ]
          },
          "metadata": {
            "tags": []
          },
          "execution_count": 10
        }
      ]
    },
    {
      "cell_type": "code",
      "metadata": {
        "colab": {
          "base_uri": "https://localhost:8080/"
        },
        "id": "vxXRnUQwqAke",
        "outputId": "66c9c33a-8c95-45ee-ed47-5dc5249cb923"
      },
      "source": [
        "# 模範解答\r\n",
        "%timeit df_receipt.head(10)\r\n",
        "# 130 µs ± 5.02 µs per loop (mean ± std. dev. of 7 runs, 10000 loops each)\r\n",
        "\r\n",
        "%timeit arr_receipt[:10]\r\n",
        "# 244 ns ± 8.23 ns per loop (mean ± std. dev. of 7 runs, 1000000 loops each)"
      ],
      "execution_count": 11,
      "outputs": [
        {
          "output_type": "stream",
          "text": [
            "The slowest run took 17.42 times longer than the fastest. This could mean that an intermediate result is being cached.\n",
            "10000 loops, best of 3: 28.8 µs per loop\n",
            "The slowest run took 25.94 times longer than the fastest. This could mean that an intermediate result is being cached.\n",
            "1000000 loops, best of 3: 255 ns per loop\n"
          ],
          "name": "stdout"
        }
      ]
    },
    {
      "cell_type": "markdown",
      "metadata": {
        "id": "Orreh2emp2Ay"
      },
      "source": [
        "#P_002"
      ]
    },
    {
      "cell_type": "code",
      "metadata": {
        "colab": {
          "base_uri": "https://localhost:8080/",
          "height": 359
        },
        "id": "Qz1ukuFHYKPG",
        "outputId": "888f334f-4259-4c20-ffd3-3d03233d159d"
      },
      "source": [
        "df_receipt[[\"sales_ymd\",\"customer_id\",\"product_cd\",\"amount\"]].head(10)"
      ],
      "execution_count": 33,
      "outputs": [
        {
          "output_type": "execute_result",
          "data": {
            "text/html": [
              "<div>\n",
              "<style scoped>\n",
              "    .dataframe tbody tr th:only-of-type {\n",
              "        vertical-align: middle;\n",
              "    }\n",
              "\n",
              "    .dataframe tbody tr th {\n",
              "        vertical-align: top;\n",
              "    }\n",
              "\n",
              "    .dataframe thead th {\n",
              "        text-align: right;\n",
              "    }\n",
              "</style>\n",
              "<table border=\"1\" class=\"dataframe\">\n",
              "  <thead>\n",
              "    <tr style=\"text-align: right;\">\n",
              "      <th></th>\n",
              "      <th>sales_ymd</th>\n",
              "      <th>customer_id</th>\n",
              "      <th>product_cd</th>\n",
              "      <th>amount</th>\n",
              "    </tr>\n",
              "  </thead>\n",
              "  <tbody>\n",
              "    <tr>\n",
              "      <th>0</th>\n",
              "      <td>20181103</td>\n",
              "      <td>CS006214000001</td>\n",
              "      <td>P070305012</td>\n",
              "      <td>158</td>\n",
              "    </tr>\n",
              "    <tr>\n",
              "      <th>1</th>\n",
              "      <td>20181118</td>\n",
              "      <td>CS008415000097</td>\n",
              "      <td>P070701017</td>\n",
              "      <td>81</td>\n",
              "    </tr>\n",
              "    <tr>\n",
              "      <th>2</th>\n",
              "      <td>20170712</td>\n",
              "      <td>CS028414000014</td>\n",
              "      <td>P060101005</td>\n",
              "      <td>170</td>\n",
              "    </tr>\n",
              "    <tr>\n",
              "      <th>3</th>\n",
              "      <td>20190205</td>\n",
              "      <td>ZZ000000000000</td>\n",
              "      <td>P050301001</td>\n",
              "      <td>25</td>\n",
              "    </tr>\n",
              "    <tr>\n",
              "      <th>4</th>\n",
              "      <td>20180821</td>\n",
              "      <td>CS025415000050</td>\n",
              "      <td>P060102007</td>\n",
              "      <td>90</td>\n",
              "    </tr>\n",
              "    <tr>\n",
              "      <th>5</th>\n",
              "      <td>20190605</td>\n",
              "      <td>CS003515000195</td>\n",
              "      <td>P050102002</td>\n",
              "      <td>138</td>\n",
              "    </tr>\n",
              "    <tr>\n",
              "      <th>6</th>\n",
              "      <td>20181205</td>\n",
              "      <td>CS024514000042</td>\n",
              "      <td>P080101005</td>\n",
              "      <td>30</td>\n",
              "    </tr>\n",
              "    <tr>\n",
              "      <th>7</th>\n",
              "      <td>20190922</td>\n",
              "      <td>CS040415000178</td>\n",
              "      <td>P070501004</td>\n",
              "      <td>128</td>\n",
              "    </tr>\n",
              "    <tr>\n",
              "      <th>8</th>\n",
              "      <td>20170504</td>\n",
              "      <td>ZZ000000000000</td>\n",
              "      <td>P071302010</td>\n",
              "      <td>770</td>\n",
              "    </tr>\n",
              "    <tr>\n",
              "      <th>9</th>\n",
              "      <td>20191010</td>\n",
              "      <td>CS027514000015</td>\n",
              "      <td>P071101003</td>\n",
              "      <td>680</td>\n",
              "    </tr>\n",
              "  </tbody>\n",
              "</table>\n",
              "</div>"
            ],
            "text/plain": [
              "   sales_ymd     customer_id  product_cd  amount\n",
              "0   20181103  CS006214000001  P070305012     158\n",
              "1   20181118  CS008415000097  P070701017      81\n",
              "2   20170712  CS028414000014  P060101005     170\n",
              "3   20190205  ZZ000000000000  P050301001      25\n",
              "4   20180821  CS025415000050  P060102007      90\n",
              "5   20190605  CS003515000195  P050102002     138\n",
              "6   20181205  CS024514000042  P080101005      30\n",
              "7   20190922  CS040415000178  P070501004     128\n",
              "8   20170504  ZZ000000000000  P071302010     770\n",
              "9   20191010  CS027514000015  P071101003     680"
            ]
          },
          "metadata": {
            "tags": []
          },
          "execution_count": 33
        }
      ]
    },
    {
      "cell_type": "code",
      "metadata": {
        "colab": {
          "base_uri": "https://localhost:8080/"
        },
        "id": "rsmSh-hNpW-2",
        "outputId": "c35d2b2f-bf63-4a45-ba55-5ec5989ce3c6"
      },
      "source": [
        "arr_receipt[['sales_ymd','customer_id','product_cd','amount']][:10]"
      ],
      "execution_count": 34,
      "outputs": [
        {
          "output_type": "execute_result",
          "data": {
            "text/plain": [
              "array([(20181103, 'CS006214000001', 'P070305012', 158),\n",
              "       (20181118, 'CS008415000097', 'P070701017',  81),\n",
              "       (20170712, 'CS028414000014', 'P060101005', 170),\n",
              "       (20190205, 'ZZ000000000000', 'P050301001',  25),\n",
              "       (20180821, 'CS025415000050', 'P060102007',  90),\n",
              "       (20190605, 'CS003515000195', 'P050102002', 138),\n",
              "       (20181205, 'CS024514000042', 'P080101005',  30),\n",
              "       (20190922, 'CS040415000178', 'P070501004', 128),\n",
              "       (20170504, 'ZZ000000000000', 'P071302010', 770),\n",
              "       (20191010, 'CS027514000015', 'P071101003', 680)],\n",
              "      dtype={'names':['sales_ymd','customer_id','product_cd','amount'], 'formats':['<i8','<U14','<U10','<i8'], 'offsets':[0,56,112,160], 'itemsize':168})"
            ]
          },
          "metadata": {
            "tags": []
          },
          "execution_count": 34
        }
      ]
    },
    {
      "cell_type": "code",
      "metadata": {
        "colab": {
          "base_uri": "https://localhost:8080/"
        },
        "id": "SM8POz_jqrff",
        "outputId": "56c8345e-effe-448f-ab1f-e78efcdb4c90"
      },
      "source": [
        "%timeit df_receipt[['sales_ymd', 'customer_id', 'product_cd', 'amount']].head(10)\r\n",
        "# 5.19 ms ± 43.5 µs per loop (mean ± std. dev. of 7 runs, 100 loops each)\r\n",
        "\r\n",
        "%timeit arr_receipt[['sales_ymd', 'customer_id', 'product_cd', 'amount']][:10]\r\n",
        "# 906 ns ± 17.5 ns per loop (mean ± std. dev. of 7 runs, 1000000 loops each)"
      ],
      "execution_count": 35,
      "outputs": [
        {
          "output_type": "stream",
          "text": [
            "100 loops, best of 3: 2.87 ms per loop\n",
            "The slowest run took 11.66 times longer than the fastest. This could mean that an intermediate result is being cached.\n",
            "1000000 loops, best of 3: 856 ns per loop\n"
          ],
          "name": "stdout"
        }
      ]
    },
    {
      "cell_type": "markdown",
      "metadata": {
        "id": "n-_NBZr1rcS3"
      },
      "source": [
        "#P_003"
      ]
    },
    {
      "cell_type": "code",
      "metadata": {
        "colab": {
          "base_uri": "https://localhost:8080/",
          "height": 359
        },
        "id": "YJxFlL0YZWrZ",
        "outputId": "ff672075-e308-431b-f53a-c339fe973428"
      },
      "source": [
        "df_tmp = df_receipt[['sales_ymd', 'customer_id', 'product_cd', 'amount']]\r\n",
        "df_tmp.rename(columns={\"sales_ymd\":\"sales_data\"}).head(10)"
      ],
      "execution_count": 42,
      "outputs": [
        {
          "output_type": "execute_result",
          "data": {
            "text/html": [
              "<div>\n",
              "<style scoped>\n",
              "    .dataframe tbody tr th:only-of-type {\n",
              "        vertical-align: middle;\n",
              "    }\n",
              "\n",
              "    .dataframe tbody tr th {\n",
              "        vertical-align: top;\n",
              "    }\n",
              "\n",
              "    .dataframe thead th {\n",
              "        text-align: right;\n",
              "    }\n",
              "</style>\n",
              "<table border=\"1\" class=\"dataframe\">\n",
              "  <thead>\n",
              "    <tr style=\"text-align: right;\">\n",
              "      <th></th>\n",
              "      <th>sales_data</th>\n",
              "      <th>customer_id</th>\n",
              "      <th>product_cd</th>\n",
              "      <th>amount</th>\n",
              "    </tr>\n",
              "  </thead>\n",
              "  <tbody>\n",
              "    <tr>\n",
              "      <th>0</th>\n",
              "      <td>20181103</td>\n",
              "      <td>CS006214000001</td>\n",
              "      <td>P070305012</td>\n",
              "      <td>158</td>\n",
              "    </tr>\n",
              "    <tr>\n",
              "      <th>1</th>\n",
              "      <td>20181118</td>\n",
              "      <td>CS008415000097</td>\n",
              "      <td>P070701017</td>\n",
              "      <td>81</td>\n",
              "    </tr>\n",
              "    <tr>\n",
              "      <th>2</th>\n",
              "      <td>20170712</td>\n",
              "      <td>CS028414000014</td>\n",
              "      <td>P060101005</td>\n",
              "      <td>170</td>\n",
              "    </tr>\n",
              "    <tr>\n",
              "      <th>3</th>\n",
              "      <td>20190205</td>\n",
              "      <td>ZZ000000000000</td>\n",
              "      <td>P050301001</td>\n",
              "      <td>25</td>\n",
              "    </tr>\n",
              "    <tr>\n",
              "      <th>4</th>\n",
              "      <td>20180821</td>\n",
              "      <td>CS025415000050</td>\n",
              "      <td>P060102007</td>\n",
              "      <td>90</td>\n",
              "    </tr>\n",
              "    <tr>\n",
              "      <th>5</th>\n",
              "      <td>20190605</td>\n",
              "      <td>CS003515000195</td>\n",
              "      <td>P050102002</td>\n",
              "      <td>138</td>\n",
              "    </tr>\n",
              "    <tr>\n",
              "      <th>6</th>\n",
              "      <td>20181205</td>\n",
              "      <td>CS024514000042</td>\n",
              "      <td>P080101005</td>\n",
              "      <td>30</td>\n",
              "    </tr>\n",
              "    <tr>\n",
              "      <th>7</th>\n",
              "      <td>20190922</td>\n",
              "      <td>CS040415000178</td>\n",
              "      <td>P070501004</td>\n",
              "      <td>128</td>\n",
              "    </tr>\n",
              "    <tr>\n",
              "      <th>8</th>\n",
              "      <td>20170504</td>\n",
              "      <td>ZZ000000000000</td>\n",
              "      <td>P071302010</td>\n",
              "      <td>770</td>\n",
              "    </tr>\n",
              "    <tr>\n",
              "      <th>9</th>\n",
              "      <td>20191010</td>\n",
              "      <td>CS027514000015</td>\n",
              "      <td>P071101003</td>\n",
              "      <td>680</td>\n",
              "    </tr>\n",
              "  </tbody>\n",
              "</table>\n",
              "</div>"
            ],
            "text/plain": [
              "   sales_data     customer_id  product_cd  amount\n",
              "0    20181103  CS006214000001  P070305012     158\n",
              "1    20181118  CS008415000097  P070701017      81\n",
              "2    20170712  CS028414000014  P060101005     170\n",
              "3    20190205  ZZ000000000000  P050301001      25\n",
              "4    20180821  CS025415000050  P060102007      90\n",
              "5    20190605  CS003515000195  P050102002     138\n",
              "6    20181205  CS024514000042  P080101005      30\n",
              "7    20190922  CS040415000178  P070501004     128\n",
              "8    20170504  ZZ000000000000  P071302010     770\n",
              "9    20191010  CS027514000015  P071101003     680"
            ]
          },
          "metadata": {
            "tags": []
          },
          "execution_count": 42
        }
      ]
    },
    {
      "cell_type": "code",
      "metadata": {
        "id": "7WH1OjOJtlqA"
      },
      "source": [
        "import numpy.lib.recfunctions as rfn"
      ],
      "execution_count": 14,
      "outputs": []
    },
    {
      "cell_type": "code",
      "metadata": {
        "colab": {
          "base_uri": "https://localhost:8080/"
        },
        "id": "PQ1WQi_Fqy9P",
        "outputId": "fd3bd87a-587f-4c47-e50a-14bd0b0755d4"
      },
      "source": [
        "rfn.rename_fields(arr_receipt, {'sales_ymd': 'sales_date'})\\\r\n",
        "  [['sales_date','customer_id','product_cd','amount']][:10]"
      ],
      "execution_count": 15,
      "outputs": [
        {
          "output_type": "execute_result",
          "data": {
            "text/plain": [
              "array([(20181103, 'CS006214000001', 'P070305012', 158),\n",
              "       (20181118, 'CS008415000097', 'P070701017',  81),\n",
              "       (20170712, 'CS028414000014', 'P060101005', 170),\n",
              "       (20190205, 'ZZ000000000000', 'P050301001',  25),\n",
              "       (20180821, 'CS025415000050', 'P060102007',  90),\n",
              "       (20190605, 'CS003515000195', 'P050102002', 138),\n",
              "       (20181205, 'CS024514000042', 'P080101005',  30),\n",
              "       (20190922, 'CS040415000178', 'P070501004', 128),\n",
              "       (20170504, 'ZZ000000000000', 'P071302010', 770),\n",
              "       (20191010, 'CS027514000015', 'P071101003', 680)],\n",
              "      dtype={'names':['sales_date','customer_id','product_cd','amount'], 'formats':['<i8','<U14','<U10','<i8'], 'offsets':[0,56,112,160], 'itemsize':168})"
            ]
          },
          "metadata": {
            "tags": []
          },
          "execution_count": 15
        }
      ]
    },
    {
      "cell_type": "code",
      "metadata": {
        "colab": {
          "base_uri": "https://localhost:8080/"
        },
        "id": "WBqkj7kasDWW",
        "outputId": "9b67438e-8b5e-4624-e2fb-b01fe2b9c274"
      },
      "source": [
        "%timeit df_receipt[['sales_ymd', 'customer_id', 'product_cd', 'amount']].rename(columns={'sales_ymd': 'sales_date'}).head(10)\r\n",
        "# 12.8 ms ± 252 µs per loop (mean ± std. dev. of 7 runs, 100 loops each)\r\n",
        "\r\n",
        "%timeit np.lib.recfunctions.rename_fields(arr_receipt, {'sales_ymd': 'sales_date'})[['sales_date', 'customer_id', 'product_cd', 'amount']][:10]\r\n",
        "# 6.19 µs ± 132 ns per loop (mean ± std. dev. of 7 runs, 100000 loops each)"
      ],
      "execution_count": 16,
      "outputs": [
        {
          "output_type": "stream",
          "text": [
            "100 loops, best of 3: 5.43 ms per loop\n",
            "The slowest run took 6.31 times longer than the fastest. This could mean that an intermediate result is being cached.\n",
            "100000 loops, best of 3: 6.23 µs per loop\n"
          ],
          "name": "stdout"
        }
      ]
    },
    {
      "cell_type": "markdown",
      "metadata": {
        "id": "pHEtiiJA6GFM"
      },
      "source": [
        "#P_004"
      ]
    },
    {
      "cell_type": "code",
      "metadata": {
        "colab": {
          "base_uri": "https://localhost:8080/",
          "height": 421
        },
        "id": "PC8n8GM7iZcg",
        "outputId": "9b196b66-b3e6-4b43-8ba5-8f51228d5a20"
      },
      "source": [
        "dr_tmp = df_receipt[[\"sales_ymd\",\"customer_id\",\"product_cd\",\"amount\"]]\r\n",
        "df_tmp[df_tmp['customer_id']=='CS018205000001']"
      ],
      "execution_count": 49,
      "outputs": [
        {
          "output_type": "execute_result",
          "data": {
            "text/html": [
              "<div>\n",
              "<style scoped>\n",
              "    .dataframe tbody tr th:only-of-type {\n",
              "        vertical-align: middle;\n",
              "    }\n",
              "\n",
              "    .dataframe tbody tr th {\n",
              "        vertical-align: top;\n",
              "    }\n",
              "\n",
              "    .dataframe thead th {\n",
              "        text-align: right;\n",
              "    }\n",
              "</style>\n",
              "<table border=\"1\" class=\"dataframe\">\n",
              "  <thead>\n",
              "    <tr style=\"text-align: right;\">\n",
              "      <th></th>\n",
              "      <th>sales_ymd</th>\n",
              "      <th>customer_id</th>\n",
              "      <th>product_cd</th>\n",
              "      <th>amount</th>\n",
              "    </tr>\n",
              "  </thead>\n",
              "  <tbody>\n",
              "    <tr>\n",
              "      <th>36</th>\n",
              "      <td>20180911</td>\n",
              "      <td>CS018205000001</td>\n",
              "      <td>P071401012</td>\n",
              "      <td>2200</td>\n",
              "    </tr>\n",
              "    <tr>\n",
              "      <th>9843</th>\n",
              "      <td>20180414</td>\n",
              "      <td>CS018205000001</td>\n",
              "      <td>P060104007</td>\n",
              "      <td>600</td>\n",
              "    </tr>\n",
              "    <tr>\n",
              "      <th>21110</th>\n",
              "      <td>20170614</td>\n",
              "      <td>CS018205000001</td>\n",
              "      <td>P050206001</td>\n",
              "      <td>990</td>\n",
              "    </tr>\n",
              "    <tr>\n",
              "      <th>27673</th>\n",
              "      <td>20170614</td>\n",
              "      <td>CS018205000001</td>\n",
              "      <td>P060702015</td>\n",
              "      <td>108</td>\n",
              "    </tr>\n",
              "    <tr>\n",
              "      <th>27840</th>\n",
              "      <td>20190216</td>\n",
              "      <td>CS018205000001</td>\n",
              "      <td>P071005024</td>\n",
              "      <td>102</td>\n",
              "    </tr>\n",
              "    <tr>\n",
              "      <th>28757</th>\n",
              "      <td>20180414</td>\n",
              "      <td>CS018205000001</td>\n",
              "      <td>P071101002</td>\n",
              "      <td>278</td>\n",
              "    </tr>\n",
              "    <tr>\n",
              "      <th>39256</th>\n",
              "      <td>20190226</td>\n",
              "      <td>CS018205000001</td>\n",
              "      <td>P070902035</td>\n",
              "      <td>168</td>\n",
              "    </tr>\n",
              "    <tr>\n",
              "      <th>58121</th>\n",
              "      <td>20190924</td>\n",
              "      <td>CS018205000001</td>\n",
              "      <td>P060805001</td>\n",
              "      <td>495</td>\n",
              "    </tr>\n",
              "    <tr>\n",
              "      <th>68117</th>\n",
              "      <td>20190226</td>\n",
              "      <td>CS018205000001</td>\n",
              "      <td>P071401020</td>\n",
              "      <td>2200</td>\n",
              "    </tr>\n",
              "    <tr>\n",
              "      <th>72254</th>\n",
              "      <td>20180911</td>\n",
              "      <td>CS018205000001</td>\n",
              "      <td>P071401005</td>\n",
              "      <td>1100</td>\n",
              "    </tr>\n",
              "    <tr>\n",
              "      <th>88508</th>\n",
              "      <td>20190216</td>\n",
              "      <td>CS018205000001</td>\n",
              "      <td>P040101002</td>\n",
              "      <td>218</td>\n",
              "    </tr>\n",
              "    <tr>\n",
              "      <th>91525</th>\n",
              "      <td>20190924</td>\n",
              "      <td>CS018205000001</td>\n",
              "      <td>P091503001</td>\n",
              "      <td>280</td>\n",
              "    </tr>\n",
              "  </tbody>\n",
              "</table>\n",
              "</div>"
            ],
            "text/plain": [
              "       sales_ymd     customer_id  product_cd  amount\n",
              "36      20180911  CS018205000001  P071401012    2200\n",
              "9843    20180414  CS018205000001  P060104007     600\n",
              "21110   20170614  CS018205000001  P050206001     990\n",
              "27673   20170614  CS018205000001  P060702015     108\n",
              "27840   20190216  CS018205000001  P071005024     102\n",
              "28757   20180414  CS018205000001  P071101002     278\n",
              "39256   20190226  CS018205000001  P070902035     168\n",
              "58121   20190924  CS018205000001  P060805001     495\n",
              "68117   20190226  CS018205000001  P071401020    2200\n",
              "72254   20180911  CS018205000001  P071401005    1100\n",
              "88508   20190216  CS018205000001  P040101002     218\n",
              "91525   20190924  CS018205000001  P091503001     280"
            ]
          },
          "metadata": {
            "tags": []
          },
          "execution_count": 49
        }
      ]
    },
    {
      "cell_type": "code",
      "metadata": {
        "colab": {
          "base_uri": "https://localhost:8080/"
        },
        "id": "YQuj5Kok6CrO",
        "outputId": "b875ffa6-453f-43d2-ad55-0a856898b2a5"
      },
      "source": [
        "arr_receipt[['sales_ymd','customer_id','product_cd','amount']][arr_receipt['customer_id']=='CS018205000001']"
      ],
      "execution_count": 18,
      "outputs": [
        {
          "output_type": "execute_result",
          "data": {
            "text/plain": [
              "array([(20180911, 'CS018205000001', 'P071401012', 2200),\n",
              "       (20180414, 'CS018205000001', 'P060104007',  600),\n",
              "       (20170614, 'CS018205000001', 'P050206001',  990),\n",
              "       (20170614, 'CS018205000001', 'P060702015',  108),\n",
              "       (20190216, 'CS018205000001', 'P071005024',  102),\n",
              "       (20180414, 'CS018205000001', 'P071101002',  278),\n",
              "       (20190226, 'CS018205000001', 'P070902035',  168),\n",
              "       (20190924, 'CS018205000001', 'P060805001',  495),\n",
              "       (20190226, 'CS018205000001', 'P071401020', 2200),\n",
              "       (20180911, 'CS018205000001', 'P071401005', 1100),\n",
              "       (20190216, 'CS018205000001', 'P040101002',  218),\n",
              "       (20190924, 'CS018205000001', 'P091503001',  280)],\n",
              "      dtype={'names':['sales_ymd','customer_id','product_cd','amount'], 'formats':['<i8','<U14','<U10','<i8'], 'offsets':[0,56,112,160], 'itemsize':168})"
            ]
          },
          "metadata": {
            "tags": []
          },
          "execution_count": 18
        }
      ]
    },
    {
      "cell_type": "code",
      "metadata": {
        "colab": {
          "base_uri": "https://localhost:8080/"
        },
        "id": "xEcGse3Z8BvI",
        "outputId": "ee7ee663-c75d-4eba-f921-b4a6d963150f"
      },
      "source": [
        "%timeit df_receipt[['sales_ymd', 'customer_id', 'product_cd', 'amount']].\\\r\n",
        "query('customer_id == \"CS018205000001\"')\r\n",
        "# 11.6 ms ± 477 µs per loop (mean ± std. dev. of 7 runs, 100 loops each)\r\n",
        "\r\n",
        "%timeit df_receipt.loc[df_receipt['customer_id'] == 'CS018205000001',\\\r\n",
        "                       ['sales_ymd', 'customer_id', 'product_cd', 'amount']]\r\n",
        "# 9.49 ms ± 212 µs per loop (mean ± std. dev. of 7 runs, 100 loops each)\r\n",
        "\r\n",
        "%timeit arr_receipt[['sales_ymd', 'customer_id', 'product_cd', 'amount']][arr_receipt['customer_id'] == 'CS018205000001']\r\n",
        "# 2.7 ms ± 475 µs per loop (mean ± std. dev. of 7 runs, 100 loops each)"
      ],
      "execution_count": 20,
      "outputs": [
        {
          "output_type": "stream",
          "text": [
            "100 loops, best of 3: 8.37 ms per loop\n",
            "100 loops, best of 3: 7.86 ms per loop\n",
            "100 loops, best of 3: 2.95 ms per loop\n"
          ],
          "name": "stdout"
        }
      ]
    },
    {
      "cell_type": "markdown",
      "metadata": {
        "id": "KpIJ7GZBj0xq"
      },
      "source": [
        "#P_005"
      ]
    },
    {
      "cell_type": "code",
      "metadata": {
        "colab": {
          "base_uri": "https://localhost:8080/",
          "height": 142
        },
        "id": "rLUfrjVuXNQG",
        "outputId": "17af2c8d-eef6-4a3b-c641-f142a756b442"
      },
      "source": [
        "df_tmp = df_receipt[[\"sales_ymd\",\"customer_id\",\"product_cd\",\"amount\"]]\r\n",
        "df_tmp[(df_tmp['customer_id']=='CS018205000001') & (df_tmp['amount']>=1000)]"
      ],
      "execution_count": 77,
      "outputs": [
        {
          "output_type": "execute_result",
          "data": {
            "text/html": [
              "<div>\n",
              "<style scoped>\n",
              "    .dataframe tbody tr th:only-of-type {\n",
              "        vertical-align: middle;\n",
              "    }\n",
              "\n",
              "    .dataframe tbody tr th {\n",
              "        vertical-align: top;\n",
              "    }\n",
              "\n",
              "    .dataframe thead th {\n",
              "        text-align: right;\n",
              "    }\n",
              "</style>\n",
              "<table border=\"1\" class=\"dataframe\">\n",
              "  <thead>\n",
              "    <tr style=\"text-align: right;\">\n",
              "      <th></th>\n",
              "      <th>sales_ymd</th>\n",
              "      <th>customer_id</th>\n",
              "      <th>product_cd</th>\n",
              "      <th>amount</th>\n",
              "    </tr>\n",
              "  </thead>\n",
              "  <tbody>\n",
              "    <tr>\n",
              "      <th>36</th>\n",
              "      <td>20180911</td>\n",
              "      <td>CS018205000001</td>\n",
              "      <td>P071401012</td>\n",
              "      <td>2200</td>\n",
              "    </tr>\n",
              "    <tr>\n",
              "      <th>68117</th>\n",
              "      <td>20190226</td>\n",
              "      <td>CS018205000001</td>\n",
              "      <td>P071401020</td>\n",
              "      <td>2200</td>\n",
              "    </tr>\n",
              "    <tr>\n",
              "      <th>72254</th>\n",
              "      <td>20180911</td>\n",
              "      <td>CS018205000001</td>\n",
              "      <td>P071401005</td>\n",
              "      <td>1100</td>\n",
              "    </tr>\n",
              "  </tbody>\n",
              "</table>\n",
              "</div>"
            ],
            "text/plain": [
              "       sales_ymd     customer_id  product_cd  amount\n",
              "36      20180911  CS018205000001  P071401012    2200\n",
              "68117   20190226  CS018205000001  P071401020    2200\n",
              "72254   20180911  CS018205000001  P071401005    1100"
            ]
          },
          "metadata": {
            "tags": []
          },
          "execution_count": 77
        }
      ]
    },
    {
      "cell_type": "code",
      "metadata": {
        "colab": {
          "base_uri": "https://localhost:8080/"
        },
        "id": "zED5dm_MkS6H",
        "outputId": "6c6541b5-d244-42b9-8e0c-d629734cf55e"
      },
      "source": [
        "col_list = ['sales_ymd','customer_id','product_cd','amount']\r\n",
        "cond = ((arr_receipt['customer_id']=='CS018205000001') & (arr_receipt['amount']>=1000))\r\n",
        "arr_receipt[col_list][cond]"
      ],
      "execution_count": 78,
      "outputs": [
        {
          "output_type": "execute_result",
          "data": {
            "text/plain": [
              "array([(20180911, 'CS018205000001', 'P071401012', 2200),\n",
              "       (20190226, 'CS018205000001', 'P071401020', 2200),\n",
              "       (20180911, 'CS018205000001', 'P071401005', 1100)],\n",
              "      dtype={'names':['sales_ymd','customer_id','product_cd','amount'], 'formats':['<i8','<U14','<U10','<i8'], 'offsets':[0,56,112,160], 'itemsize':168})"
            ]
          },
          "metadata": {
            "tags": []
          },
          "execution_count": 78
        }
      ]
    },
    {
      "cell_type": "markdown",
      "metadata": {
        "id": "qXQi_zAfmPzt"
      },
      "source": [
        "#P_006"
      ]
    },
    {
      "cell_type": "code",
      "metadata": {
        "colab": {
          "base_uri": "https://localhost:8080/",
          "height": 204
        },
        "id": "WgHrrQxSlbDr",
        "outputId": "fc4ec924-1af2-4cd3-c312-5f5f2fe45ff0"
      },
      "source": [
        "df_tmp = df_receipt[[\"sales_ymd\",\"customer_id\",\"product_cd\",\"amount\",\"quantity\"]]\r\n",
        "df_tmp[(df_tmp['customer_id']=='CS018205000001') & ((df_tmp['amount']>=1000) | (df_tmp['quantity']>=5))]"
      ],
      "execution_count": 82,
      "outputs": [
        {
          "output_type": "execute_result",
          "data": {
            "text/html": [
              "<div>\n",
              "<style scoped>\n",
              "    .dataframe tbody tr th:only-of-type {\n",
              "        vertical-align: middle;\n",
              "    }\n",
              "\n",
              "    .dataframe tbody tr th {\n",
              "        vertical-align: top;\n",
              "    }\n",
              "\n",
              "    .dataframe thead th {\n",
              "        text-align: right;\n",
              "    }\n",
              "</style>\n",
              "<table border=\"1\" class=\"dataframe\">\n",
              "  <thead>\n",
              "    <tr style=\"text-align: right;\">\n",
              "      <th></th>\n",
              "      <th>sales_ymd</th>\n",
              "      <th>customer_id</th>\n",
              "      <th>product_cd</th>\n",
              "      <th>amount</th>\n",
              "      <th>quantity</th>\n",
              "    </tr>\n",
              "  </thead>\n",
              "  <tbody>\n",
              "    <tr>\n",
              "      <th>36</th>\n",
              "      <td>20180911</td>\n",
              "      <td>CS018205000001</td>\n",
              "      <td>P071401012</td>\n",
              "      <td>2200</td>\n",
              "      <td>1</td>\n",
              "    </tr>\n",
              "    <tr>\n",
              "      <th>9843</th>\n",
              "      <td>20180414</td>\n",
              "      <td>CS018205000001</td>\n",
              "      <td>P060104007</td>\n",
              "      <td>600</td>\n",
              "      <td>6</td>\n",
              "    </tr>\n",
              "    <tr>\n",
              "      <th>21110</th>\n",
              "      <td>20170614</td>\n",
              "      <td>CS018205000001</td>\n",
              "      <td>P050206001</td>\n",
              "      <td>990</td>\n",
              "      <td>5</td>\n",
              "    </tr>\n",
              "    <tr>\n",
              "      <th>68117</th>\n",
              "      <td>20190226</td>\n",
              "      <td>CS018205000001</td>\n",
              "      <td>P071401020</td>\n",
              "      <td>2200</td>\n",
              "      <td>1</td>\n",
              "    </tr>\n",
              "    <tr>\n",
              "      <th>72254</th>\n",
              "      <td>20180911</td>\n",
              "      <td>CS018205000001</td>\n",
              "      <td>P071401005</td>\n",
              "      <td>1100</td>\n",
              "      <td>1</td>\n",
              "    </tr>\n",
              "  </tbody>\n",
              "</table>\n",
              "</div>"
            ],
            "text/plain": [
              "       sales_ymd     customer_id  product_cd  amount  quantity\n",
              "36      20180911  CS018205000001  P071401012    2200         1\n",
              "9843    20180414  CS018205000001  P060104007     600         6\n",
              "21110   20170614  CS018205000001  P050206001     990         5\n",
              "68117   20190226  CS018205000001  P071401020    2200         1\n",
              "72254   20180911  CS018205000001  P071401005    1100         1"
            ]
          },
          "metadata": {
            "tags": []
          },
          "execution_count": 82
        }
      ]
    },
    {
      "cell_type": "code",
      "metadata": {
        "colab": {
          "base_uri": "https://localhost:8080/"
        },
        "id": "2OwA8qa2mxIH",
        "outputId": "cdee7831-0981-4179-e67d-95bfeccac7d7"
      },
      "source": [
        "col_list = ['sales_ymd','customer_id','product_cd','amount','quantity']\r\n",
        "cond = ((arr_receipt['customer_id']=='CS018205000001') & ((arr_receipt['amount']>=1000) | \\\r\n",
        "                                                          (arr_receipt['quantity']>=5)))\r\n",
        "arr_receipt[col_list][cond]"
      ],
      "execution_count": 85,
      "outputs": [
        {
          "output_type": "execute_result",
          "data": {
            "text/plain": [
              "array([(20180911, 'CS018205000001', 'P071401012', 2200, 1),\n",
              "       (20180414, 'CS018205000001', 'P060104007',  600, 6),\n",
              "       (20170614, 'CS018205000001', 'P050206001',  990, 5),\n",
              "       (20190226, 'CS018205000001', 'P071401020', 2200, 1),\n",
              "       (20180911, 'CS018205000001', 'P071401005', 1100, 1)],\n",
              "      dtype={'names':['sales_ymd','customer_id','product_cd','amount','quantity'], 'formats':['<i8','<U14','<U10','<i8','<i8'], 'offsets':[0,56,112,160,152], 'itemsize':168})"
            ]
          },
          "metadata": {
            "tags": []
          },
          "execution_count": 85
        }
      ]
    },
    {
      "cell_type": "markdown",
      "metadata": {
        "id": "9wCKBljDsAiL"
      },
      "source": [
        "#P_007"
      ]
    },
    {
      "cell_type": "code",
      "metadata": {
        "colab": {
          "base_uri": "https://localhost:8080/"
        },
        "id": "SUy59z2qrSZv",
        "outputId": "7ea12b0b-90f4-42f5-9dce-a434478910aa"
      },
      "source": [
        "col_list = ['sales_ymd','customer_id','product_cd','amount','quantity']\r\n",
        "cond = ((arr_receipt['customer_id']=='CS018205000001') & (arr_receipt['amount']>=1000) & \\\r\n",
        "                                                          (arr_receipt['amount']<2000))\r\n",
        "arr_receipt[col_list][cond]"
      ],
      "execution_count": 96,
      "outputs": [
        {
          "output_type": "execute_result",
          "data": {
            "text/plain": [
              "array([(20180911, 'CS018205000001', 'P071401005', 1100, 1)],\n",
              "      dtype={'names':['sales_ymd','customer_id','product_cd','amount','quantity'], 'formats':['<i8','<U14','<U10','<i8','<i8'], 'offsets':[0,56,112,160,152], 'itemsize':168})"
            ]
          },
          "metadata": {
            "tags": []
          },
          "execution_count": 96
        }
      ]
    },
    {
      "cell_type": "code",
      "metadata": {
        "colab": {
          "base_uri": "https://localhost:8080/",
          "height": 80
        },
        "id": "w_Li978XslgR",
        "outputId": "020b5cb5-0bda-4566-a41b-616c61b6b119"
      },
      "source": [
        "df_tmp = df_receipt[[\"sales_ymd\",\"customer_id\",\"product_cd\",\"amount\",\"quantity\"]]\r\n",
        "df_tmp[(df_tmp['customer_id']=='CS018205000001') & (df_tmp['amount']>=1000) & (df_tmp['amount']<= 2000)]"
      ],
      "execution_count": 95,
      "outputs": [
        {
          "output_type": "execute_result",
          "data": {
            "text/html": [
              "<div>\n",
              "<style scoped>\n",
              "    .dataframe tbody tr th:only-of-type {\n",
              "        vertical-align: middle;\n",
              "    }\n",
              "\n",
              "    .dataframe tbody tr th {\n",
              "        vertical-align: top;\n",
              "    }\n",
              "\n",
              "    .dataframe thead th {\n",
              "        text-align: right;\n",
              "    }\n",
              "</style>\n",
              "<table border=\"1\" class=\"dataframe\">\n",
              "  <thead>\n",
              "    <tr style=\"text-align: right;\">\n",
              "      <th></th>\n",
              "      <th>sales_ymd</th>\n",
              "      <th>customer_id</th>\n",
              "      <th>product_cd</th>\n",
              "      <th>amount</th>\n",
              "      <th>quantity</th>\n",
              "    </tr>\n",
              "  </thead>\n",
              "  <tbody>\n",
              "    <tr>\n",
              "      <th>72254</th>\n",
              "      <td>20180911</td>\n",
              "      <td>CS018205000001</td>\n",
              "      <td>P071401005</td>\n",
              "      <td>1100</td>\n",
              "      <td>1</td>\n",
              "    </tr>\n",
              "  </tbody>\n",
              "</table>\n",
              "</div>"
            ],
            "text/plain": [
              "       sales_ymd     customer_id  product_cd  amount  quantity\n",
              "72254   20180911  CS018205000001  P071401005    1100         1"
            ]
          },
          "metadata": {
            "tags": []
          },
          "execution_count": 95
        }
      ]
    },
    {
      "cell_type": "markdown",
      "metadata": {
        "id": "U4cDHhJ_58MH"
      },
      "source": [
        "#P_008"
      ]
    },
    {
      "cell_type": "code",
      "metadata": {
        "colab": {
          "base_uri": "https://localhost:8080/"
        },
        "id": "6pnfM15StIhx",
        "outputId": "7894793a-4be4-4145-910f-cc83e2034242"
      },
      "source": [
        "col_list = ['sales_ymd','customer_id','product_cd','amount','quantity']\r\n",
        "cond = ((arr_receipt['customer_id']=='CS018205000001') & (arr_receipt['product_cd'] != \"P071401019\"))\r\n",
        "arr_receipt[col_list][cond]"
      ],
      "execution_count": 91,
      "outputs": [
        {
          "output_type": "execute_result",
          "data": {
            "text/plain": [
              "array([(20180911, 'CS018205000001', 'P071401012', 2200, 1),\n",
              "       (20180414, 'CS018205000001', 'P060104007',  600, 6),\n",
              "       (20170614, 'CS018205000001', 'P050206001',  990, 5),\n",
              "       (20170614, 'CS018205000001', 'P060702015',  108, 1),\n",
              "       (20190216, 'CS018205000001', 'P071005024',  102, 1),\n",
              "       (20180414, 'CS018205000001', 'P071101002',  278, 1),\n",
              "       (20190226, 'CS018205000001', 'P070902035',  168, 1),\n",
              "       (20190924, 'CS018205000001', 'P060805001',  495, 1),\n",
              "       (20190226, 'CS018205000001', 'P071401020', 2200, 1),\n",
              "       (20180911, 'CS018205000001', 'P071401005', 1100, 1),\n",
              "       (20190216, 'CS018205000001', 'P040101002',  218, 1),\n",
              "       (20190924, 'CS018205000001', 'P091503001',  280, 1)],\n",
              "      dtype={'names':['sales_ymd','customer_id','product_cd','amount','quantity'], 'formats':['<i8','<U14','<U10','<i8','<i8'], 'offsets':[0,56,112,160,152], 'itemsize':168})"
            ]
          },
          "metadata": {
            "tags": []
          },
          "execution_count": 91
        }
      ]
    },
    {
      "cell_type": "code",
      "metadata": {
        "colab": {
          "base_uri": "https://localhost:8080/",
          "height": 421
        },
        "id": "izWZNTZn6hvV",
        "outputId": "728f5efe-ee2c-4b82-dcd5-adb303255b40"
      },
      "source": [
        "df_tmp = df_receipt[[\"sales_ymd\",\"customer_id\",\"product_cd\",\"amount\",\"quantity\"]]\r\n",
        "df_tmp[(df_tmp['customer_id']=='CS018205000001') & (df_tmp['product_cd'] != \"P071401019\")]"
      ],
      "execution_count": 92,
      "outputs": [
        {
          "output_type": "execute_result",
          "data": {
            "text/html": [
              "<div>\n",
              "<style scoped>\n",
              "    .dataframe tbody tr th:only-of-type {\n",
              "        vertical-align: middle;\n",
              "    }\n",
              "\n",
              "    .dataframe tbody tr th {\n",
              "        vertical-align: top;\n",
              "    }\n",
              "\n",
              "    .dataframe thead th {\n",
              "        text-align: right;\n",
              "    }\n",
              "</style>\n",
              "<table border=\"1\" class=\"dataframe\">\n",
              "  <thead>\n",
              "    <tr style=\"text-align: right;\">\n",
              "      <th></th>\n",
              "      <th>sales_ymd</th>\n",
              "      <th>customer_id</th>\n",
              "      <th>product_cd</th>\n",
              "      <th>amount</th>\n",
              "      <th>quantity</th>\n",
              "    </tr>\n",
              "  </thead>\n",
              "  <tbody>\n",
              "    <tr>\n",
              "      <th>36</th>\n",
              "      <td>20180911</td>\n",
              "      <td>CS018205000001</td>\n",
              "      <td>P071401012</td>\n",
              "      <td>2200</td>\n",
              "      <td>1</td>\n",
              "    </tr>\n",
              "    <tr>\n",
              "      <th>9843</th>\n",
              "      <td>20180414</td>\n",
              "      <td>CS018205000001</td>\n",
              "      <td>P060104007</td>\n",
              "      <td>600</td>\n",
              "      <td>6</td>\n",
              "    </tr>\n",
              "    <tr>\n",
              "      <th>21110</th>\n",
              "      <td>20170614</td>\n",
              "      <td>CS018205000001</td>\n",
              "      <td>P050206001</td>\n",
              "      <td>990</td>\n",
              "      <td>5</td>\n",
              "    </tr>\n",
              "    <tr>\n",
              "      <th>27673</th>\n",
              "      <td>20170614</td>\n",
              "      <td>CS018205000001</td>\n",
              "      <td>P060702015</td>\n",
              "      <td>108</td>\n",
              "      <td>1</td>\n",
              "    </tr>\n",
              "    <tr>\n",
              "      <th>27840</th>\n",
              "      <td>20190216</td>\n",
              "      <td>CS018205000001</td>\n",
              "      <td>P071005024</td>\n",
              "      <td>102</td>\n",
              "      <td>1</td>\n",
              "    </tr>\n",
              "    <tr>\n",
              "      <th>28757</th>\n",
              "      <td>20180414</td>\n",
              "      <td>CS018205000001</td>\n",
              "      <td>P071101002</td>\n",
              "      <td>278</td>\n",
              "      <td>1</td>\n",
              "    </tr>\n",
              "    <tr>\n",
              "      <th>39256</th>\n",
              "      <td>20190226</td>\n",
              "      <td>CS018205000001</td>\n",
              "      <td>P070902035</td>\n",
              "      <td>168</td>\n",
              "      <td>1</td>\n",
              "    </tr>\n",
              "    <tr>\n",
              "      <th>58121</th>\n",
              "      <td>20190924</td>\n",
              "      <td>CS018205000001</td>\n",
              "      <td>P060805001</td>\n",
              "      <td>495</td>\n",
              "      <td>1</td>\n",
              "    </tr>\n",
              "    <tr>\n",
              "      <th>68117</th>\n",
              "      <td>20190226</td>\n",
              "      <td>CS018205000001</td>\n",
              "      <td>P071401020</td>\n",
              "      <td>2200</td>\n",
              "      <td>1</td>\n",
              "    </tr>\n",
              "    <tr>\n",
              "      <th>72254</th>\n",
              "      <td>20180911</td>\n",
              "      <td>CS018205000001</td>\n",
              "      <td>P071401005</td>\n",
              "      <td>1100</td>\n",
              "      <td>1</td>\n",
              "    </tr>\n",
              "    <tr>\n",
              "      <th>88508</th>\n",
              "      <td>20190216</td>\n",
              "      <td>CS018205000001</td>\n",
              "      <td>P040101002</td>\n",
              "      <td>218</td>\n",
              "      <td>1</td>\n",
              "    </tr>\n",
              "    <tr>\n",
              "      <th>91525</th>\n",
              "      <td>20190924</td>\n",
              "      <td>CS018205000001</td>\n",
              "      <td>P091503001</td>\n",
              "      <td>280</td>\n",
              "      <td>1</td>\n",
              "    </tr>\n",
              "  </tbody>\n",
              "</table>\n",
              "</div>"
            ],
            "text/plain": [
              "       sales_ymd     customer_id  product_cd  amount  quantity\n",
              "36      20180911  CS018205000001  P071401012    2200         1\n",
              "9843    20180414  CS018205000001  P060104007     600         6\n",
              "21110   20170614  CS018205000001  P050206001     990         5\n",
              "27673   20170614  CS018205000001  P060702015     108         1\n",
              "27840   20190216  CS018205000001  P071005024     102         1\n",
              "28757   20180414  CS018205000001  P071101002     278         1\n",
              "39256   20190226  CS018205000001  P070902035     168         1\n",
              "58121   20190924  CS018205000001  P060805001     495         1\n",
              "68117   20190226  CS018205000001  P071401020    2200         1\n",
              "72254   20180911  CS018205000001  P071401005    1100         1\n",
              "88508   20190216  CS018205000001  P040101002     218         1\n",
              "91525   20190924  CS018205000001  P091503001     280         1"
            ]
          },
          "metadata": {
            "tags": []
          },
          "execution_count": 92
        }
      ]
    },
    {
      "cell_type": "markdown",
      "metadata": {
        "id": "HRxyqLp775ch"
      },
      "source": [
        "#P_009"
      ]
    },
    {
      "cell_type": "code",
      "metadata": {
        "colab": {
          "base_uri": "https://localhost:8080/",
          "height": 349
        },
        "id": "N5Eu1-4B67h6",
        "outputId": "6b7a4b11-0dbd-4a8c-b9cb-fbbe8e64b6d3"
      },
      "source": [
        "df_store.query('not(prefecture_cd == \"13\" | floor_area > 900)')"
      ],
      "execution_count": 100,
      "outputs": [
        {
          "output_type": "execute_result",
          "data": {
            "text/html": [
              "<div>\n",
              "<style scoped>\n",
              "    .dataframe tbody tr th:only-of-type {\n",
              "        vertical-align: middle;\n",
              "    }\n",
              "\n",
              "    .dataframe tbody tr th {\n",
              "        vertical-align: top;\n",
              "    }\n",
              "\n",
              "    .dataframe thead th {\n",
              "        text-align: right;\n",
              "    }\n",
              "</style>\n",
              "<table border=\"1\" class=\"dataframe\">\n",
              "  <thead>\n",
              "    <tr style=\"text-align: right;\">\n",
              "      <th></th>\n",
              "      <th>store_cd</th>\n",
              "      <th>store_name</th>\n",
              "      <th>prefecture_cd</th>\n",
              "      <th>prefecture</th>\n",
              "      <th>address</th>\n",
              "      <th>address_kana</th>\n",
              "      <th>tel_no</th>\n",
              "      <th>longitude</th>\n",
              "      <th>latitude</th>\n",
              "      <th>floor_area</th>\n",
              "    </tr>\n",
              "  </thead>\n",
              "  <tbody>\n",
              "    <tr>\n",
              "      <th>18</th>\n",
              "      <td>S14046</td>\n",
              "      <td>北山田店</td>\n",
              "      <td>14</td>\n",
              "      <td>神奈川県</td>\n",
              "      <td>神奈川県横浜市都筑区北山田一丁目</td>\n",
              "      <td>カナガワケンヨコハマシツヅキクキタヤマタイッチョウメ</td>\n",
              "      <td>045-123-4049</td>\n",
              "      <td>139.5916</td>\n",
              "      <td>35.56189</td>\n",
              "      <td>831.0</td>\n",
              "    </tr>\n",
              "    <tr>\n",
              "      <th>20</th>\n",
              "      <td>S14011</td>\n",
              "      <td>日吉本町店</td>\n",
              "      <td>14</td>\n",
              "      <td>神奈川県</td>\n",
              "      <td>神奈川県横浜市港北区日吉本町四丁目</td>\n",
              "      <td>カナガワケンヨコハマシコウホククヒヨシホンチョウヨンチョウメ</td>\n",
              "      <td>045-123-4033</td>\n",
              "      <td>139.6316</td>\n",
              "      <td>35.54655</td>\n",
              "      <td>890.0</td>\n",
              "    </tr>\n",
              "    <tr>\n",
              "      <th>38</th>\n",
              "      <td>S12013</td>\n",
              "      <td>習志野店</td>\n",
              "      <td>12</td>\n",
              "      <td>千葉県</td>\n",
              "      <td>千葉県習志野市芝園一丁目</td>\n",
              "      <td>チバケンナラシノシシバゾノイッチョウメ</td>\n",
              "      <td>047-123-4002</td>\n",
              "      <td>140.0220</td>\n",
              "      <td>35.66122</td>\n",
              "      <td>808.0</td>\n",
              "    </tr>\n",
              "  </tbody>\n",
              "</table>\n",
              "</div>"
            ],
            "text/plain": [
              "   store_cd store_name  prefecture_cd  ... longitude  latitude floor_area\n",
              "18   S14046       北山田店             14  ...  139.5916  35.56189      831.0\n",
              "20   S14011      日吉本町店             14  ...  139.6316  35.54655      890.0\n",
              "38   S12013       習志野店             12  ...  140.0220  35.66122      808.0\n",
              "\n",
              "[3 rows x 10 columns]"
            ]
          },
          "metadata": {
            "tags": []
          },
          "execution_count": 100
        }
      ]
    },
    {
      "cell_type": "code",
      "metadata": {
        "colab": {
          "base_uri": "https://localhost:8080/",
          "height": 349
        },
        "id": "y2x9YZyq8Eb7",
        "outputId": "ce227450-3a96-49c3-e7b7-3d7ad673c776"
      },
      "source": [
        "df_store.query('prefecture_cd != \"13\" & floor_area <= 900')"
      ],
      "execution_count": 103,
      "outputs": [
        {
          "output_type": "execute_result",
          "data": {
            "text/html": [
              "<div>\n",
              "<style scoped>\n",
              "    .dataframe tbody tr th:only-of-type {\n",
              "        vertical-align: middle;\n",
              "    }\n",
              "\n",
              "    .dataframe tbody tr th {\n",
              "        vertical-align: top;\n",
              "    }\n",
              "\n",
              "    .dataframe thead th {\n",
              "        text-align: right;\n",
              "    }\n",
              "</style>\n",
              "<table border=\"1\" class=\"dataframe\">\n",
              "  <thead>\n",
              "    <tr style=\"text-align: right;\">\n",
              "      <th></th>\n",
              "      <th>store_cd</th>\n",
              "      <th>store_name</th>\n",
              "      <th>prefecture_cd</th>\n",
              "      <th>prefecture</th>\n",
              "      <th>address</th>\n",
              "      <th>address_kana</th>\n",
              "      <th>tel_no</th>\n",
              "      <th>longitude</th>\n",
              "      <th>latitude</th>\n",
              "      <th>floor_area</th>\n",
              "    </tr>\n",
              "  </thead>\n",
              "  <tbody>\n",
              "    <tr>\n",
              "      <th>18</th>\n",
              "      <td>S14046</td>\n",
              "      <td>北山田店</td>\n",
              "      <td>14</td>\n",
              "      <td>神奈川県</td>\n",
              "      <td>神奈川県横浜市都筑区北山田一丁目</td>\n",
              "      <td>カナガワケンヨコハマシツヅキクキタヤマタイッチョウメ</td>\n",
              "      <td>045-123-4049</td>\n",
              "      <td>139.5916</td>\n",
              "      <td>35.56189</td>\n",
              "      <td>831.0</td>\n",
              "    </tr>\n",
              "    <tr>\n",
              "      <th>20</th>\n",
              "      <td>S14011</td>\n",
              "      <td>日吉本町店</td>\n",
              "      <td>14</td>\n",
              "      <td>神奈川県</td>\n",
              "      <td>神奈川県横浜市港北区日吉本町四丁目</td>\n",
              "      <td>カナガワケンヨコハマシコウホククヒヨシホンチョウヨンチョウメ</td>\n",
              "      <td>045-123-4033</td>\n",
              "      <td>139.6316</td>\n",
              "      <td>35.54655</td>\n",
              "      <td>890.0</td>\n",
              "    </tr>\n",
              "    <tr>\n",
              "      <th>38</th>\n",
              "      <td>S12013</td>\n",
              "      <td>習志野店</td>\n",
              "      <td>12</td>\n",
              "      <td>千葉県</td>\n",
              "      <td>千葉県習志野市芝園一丁目</td>\n",
              "      <td>チバケンナラシノシシバゾノイッチョウメ</td>\n",
              "      <td>047-123-4002</td>\n",
              "      <td>140.0220</td>\n",
              "      <td>35.66122</td>\n",
              "      <td>808.0</td>\n",
              "    </tr>\n",
              "  </tbody>\n",
              "</table>\n",
              "</div>"
            ],
            "text/plain": [
              "   store_cd store_name  prefecture_cd  ... longitude  latitude floor_area\n",
              "18   S14046       北山田店             14  ...  139.5916  35.56189      831.0\n",
              "20   S14011      日吉本町店             14  ...  139.6316  35.54655      890.0\n",
              "38   S12013       習志野店             12  ...  140.0220  35.66122      808.0\n",
              "\n",
              "[3 rows x 10 columns]"
            ]
          },
          "metadata": {
            "tags": []
          },
          "execution_count": 103
        }
      ]
    },
    {
      "cell_type": "code",
      "metadata": {
        "colab": {
          "base_uri": "https://localhost:8080/"
        },
        "id": "b2G7Qxai9DfS",
        "outputId": "f20fabf3-938a-4040-9097-f5096c52e9b3"
      },
      "source": [
        "cond = ((arr_store['prefecture_cd'] != 13) & (arr_store['floor_area'] <= 900))\r\n",
        "arr_store[cond]"
      ],
      "execution_count": 106,
      "outputs": [
        {
          "output_type": "execute_result",
          "data": {
            "text/plain": [
              "array([('S14046', '北山田店', 14, '神奈川県', '神奈川県横浜市都筑区北山田一丁目', 'カナガワケンヨコハマシツヅキクキタヤマタイッチョウメ', '045-123-4049', 139.5916, 35.56189, 831.),\n",
              "       ('S14011', '日吉本町店', 14, '神奈川県', '神奈川県横浜市港北区日吉本町四丁目', 'カナガワケンヨコハマシコウホククヒヨシホンチョウヨンチョウメ', '045-123-4033', 139.6316, 35.54655, 890.),\n",
              "       ('S12013', '習志野店', 12, '千葉県', '千葉県習志野市芝園一丁目', 'チバケンナラシノシシバゾノイッチョウメ', '047-123-4002', 140.022 , 35.66122, 808.)],\n",
              "      dtype=[('store_cd', '<U6'), ('store_name', '<U6'), ('prefecture_cd', '<i8'), ('prefecture', '<U4'), ('address', '<U19'), ('address_kana', '<U30'), ('tel_no', '<U12'), ('longitude', '<f8'), ('latitude', '<f8'), ('floor_area', '<f8')])"
            ]
          },
          "metadata": {
            "tags": []
          },
          "execution_count": 106
        }
      ]
    },
    {
      "cell_type": "code",
      "metadata": {
        "id": "tU98nwjb92Ei"
      },
      "source": [
        ""
      ],
      "execution_count": null,
      "outputs": []
    }
  ]
}