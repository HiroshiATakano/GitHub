{
  "nbformat": 4,
  "nbformat_minor": 0,
  "metadata": {
    "colab": {
      "name": "Numpy100Knocks.ipynb",
      "provenance": [],
      "collapsed_sections": [],
      "authorship_tag": "ABX9TyOeqdUHTiKxcAjNGxxc3L2D",
      "include_colab_link": true
    },
    "kernelspec": {
      "name": "python3",
      "display_name": "Python 3"
    },
    "language_info": {
      "name": "python"
    }
  },
  "cells": [
    {
      "cell_type": "markdown",
      "metadata": {
        "id": "view-in-github",
        "colab_type": "text"
      },
      "source": [
        "<a href=\"https://colab.research.google.com/github/HiroshiATakano/GitHub/blob/master/Numpy100Knocks.ipynb\" target=\"_parent\"><img src=\"https://colab.research.google.com/assets/colab-badge.svg\" alt=\"Open In Colab\"/></a>"
      ]
    },
    {
      "cell_type": "code",
      "metadata": {
        "colab": {
          "base_uri": "https://localhost:8080/"
        },
        "id": "wqjNYok5DFKI",
        "outputId": "2f5631da-c0e4-4c7f-ffc0-c52ed4f7e2da"
      },
      "source": [
        "from google.colab import drive\n",
        "drive.mount('/content/drive')"
      ],
      "execution_count": null,
      "outputs": [
        {
          "output_type": "stream",
          "text": [
            "Drive already mounted at /content/drive; to attempt to forcibly remount, call drive.mount(\"/content/drive\", force_remount=True).\n"
          ],
          "name": "stdout"
        }
      ]
    },
    {
      "cell_type": "code",
      "metadata": {
        "colab": {
          "base_uri": "https://localhost:8080/",
          "height": 53
        },
        "id": "homWPNuHDcP5",
        "outputId": "1517cae3-4b88-4a63-fa6b-53791135821f"
      },
      "source": [
        "import os\n",
        "import shutil\n",
        "\n",
        "path = os.getcwd()\n",
        "\n",
        "print(path)\n",
        "\n",
        "try:\n",
        "    os.chdir(path + \"/drive/My Drive/Numpy_100_Knocks\")\n",
        "except:\n",
        "    pass\n",
        "\n",
        "os.getcwd()"
      ],
      "execution_count": null,
      "outputs": [
        {
          "output_type": "stream",
          "text": [
            "/content\n"
          ],
          "name": "stdout"
        },
        {
          "output_type": "execute_result",
          "data": {
            "application/vnd.google.colaboratory.intrinsic+json": {
              "type": "string"
            },
            "text/plain": [
              "'/content/drive/My Drive/Numpy_100_Knocks'"
            ]
          },
          "metadata": {
            "tags": []
          },
          "execution_count": 3
        }
      ]
    },
    {
      "cell_type": "markdown",
      "metadata": {
        "id": "lfhBmnNsEZfx"
      },
      "source": [
        ""
      ]
    },
    {
      "cell_type": "code",
      "metadata": {
        "id": "_oozmIh7Dut5",
        "colab": {
          "base_uri": "https://localhost:8080/"
        },
        "outputId": "698f389b-3212-4ded-8984-ff59d2b7bd5b"
      },
      "source": [
        "!ls"
      ],
      "execution_count": null,
      "outputs": [
        {
          "output_type": "stream",
          "text": [
            " 100_Numpy_exercises.ipynb\t\t\t    Matplotlib_20Knocks.ipynb\n",
            " 100_Numpy_exercises.md\t\t\t\t    Numpy100Knocks.ipynb\n",
            " 100_Numpy_exercises_with_hints.md\t\t   'Numpy と Scipy.ipynb'\n",
            " 100_Numpy_exercises_with_hints_with_solutions.md   __pycache__\n",
            " 100_Numpy_exercises_with_solutions.md\t\t    README.md\n",
            " 100_Numpy_random.ipynb\t\t\t\t    requirements.txt\n",
            " generators.py\t\t\t\t\t    Sample.gsheet\n",
            " initialise.py\t\t\t\t\t    source\n",
            " LICENSE.txt\n"
          ],
          "name": "stdout"
        }
      ]
    },
    {
      "cell_type": "code",
      "metadata": {
        "colab": {
          "base_uri": "https://localhost:8080/"
        },
        "id": "HA4LiRdfYkRZ",
        "outputId": "1bc4e723-cfda-445e-e082-92321d097ae9"
      },
      "source": [
        "!pip install mdutils"
      ],
      "execution_count": null,
      "outputs": [
        {
          "output_type": "stream",
          "text": [
            "Collecting mdutils\n",
            "  Downloading https://files.pythonhosted.org/packages/59/52/3d943b6d02a9938ad367366aef8b002c5c1bf258e451db5e8551b3d28801/mdutils-1.3.0.tar.gz\n",
            "Building wheels for collected packages: mdutils\n",
            "  Building wheel for mdutils (setup.py) ... \u001b[?25l\u001b[?25hdone\n",
            "  Created wheel for mdutils: filename=mdutils-1.3.0-cp37-none-any.whl size=19466 sha256=26e01ced0151fde1467228b0139c055bed0fba9eaaa7bf03a74f18dfd47f5114\n",
            "  Stored in directory: /root/.cache/pip/wheels/af/fa/1c/7b13e92bdfc39eda5970b21a15f04f6a5158dea4e3f459854d\n",
            "Successfully built mdutils\n",
            "Installing collected packages: mdutils\n",
            "Successfully installed mdutils-1.3.0\n"
          ],
          "name": "stdout"
        }
      ]
    },
    {
      "cell_type": "code",
      "metadata": {
        "id": "JrJw2_OUMZN6"
      },
      "source": [
        "%run initialise.py"
      ],
      "execution_count": null,
      "outputs": []
    },
    {
      "cell_type": "code",
      "metadata": {
        "colab": {
          "base_uri": "https://localhost:8080/"
        },
        "id": "0ifEyGWxMqmY",
        "outputId": "57d7b98c-e05f-4094-e216-0d459c9988a2"
      },
      "source": [
        "!cat initialise.py"
      ],
      "execution_count": null,
      "outputs": [
        {
          "output_type": "stream",
          "text": [
            "import numpy as np\n",
            "\n",
            "import generators as ge\n",
            "\n",
            "\n",
            "def question(n):\n",
            "    print(f'{n}. ' + ge.QHA[f'q{n}'])\n",
            "\n",
            "\n",
            "def hint(n):\n",
            "    print(ge.QHA[f'h{n}'])\n",
            "\n",
            "\n",
            "def answer(n):\n",
            "    print(ge.QHA[f'a{n}'])\n",
            "\n",
            "\n",
            "def pick():\n",
            "    n = np.random.randint(1, 100)\n",
            "    question(n)\n"
          ],
          "name": "stdout"
        }
      ]
    },
    {
      "cell_type": "code",
      "metadata": {
        "colab": {
          "base_uri": "https://localhost:8080/",
          "height": 35
        },
        "id": "UGyR-TUaMzAm",
        "outputId": "632e21e6-77ad-4f0d-80c2-e9e06a84196f"
      },
      "source": [
        "import numpy as np\n",
        "np.__version__"
      ],
      "execution_count": null,
      "outputs": [
        {
          "output_type": "execute_result",
          "data": {
            "application/vnd.google.colaboratory.intrinsic+json": {
              "type": "string"
            },
            "text/plain": [
              "'1.19.5'"
            ]
          },
          "metadata": {
            "tags": []
          },
          "execution_count": 9
        }
      ]
    },
    {
      "cell_type": "code",
      "metadata": {
        "colab": {
          "base_uri": "https://localhost:8080/"
        },
        "id": "0_C1i9glM3yQ",
        "outputId": "98b1f1ad-3ed4-4222-b073-04a9adef9518"
      },
      "source": [
        "np.show_config()"
      ],
      "execution_count": null,
      "outputs": [
        {
          "output_type": "stream",
          "text": [
            "blas_mkl_info:\n",
            "  NOT AVAILABLE\n",
            "blis_info:\n",
            "  NOT AVAILABLE\n",
            "openblas_info:\n",
            "    libraries = ['openblas', 'openblas']\n",
            "    library_dirs = ['/usr/local/lib']\n",
            "    language = c\n",
            "    define_macros = [('HAVE_CBLAS', None)]\n",
            "blas_opt_info:\n",
            "    libraries = ['openblas', 'openblas']\n",
            "    library_dirs = ['/usr/local/lib']\n",
            "    language = c\n",
            "    define_macros = [('HAVE_CBLAS', None)]\n",
            "lapack_mkl_info:\n",
            "  NOT AVAILABLE\n",
            "openblas_lapack_info:\n",
            "    libraries = ['openblas', 'openblas']\n",
            "    library_dirs = ['/usr/local/lib']\n",
            "    language = c\n",
            "    define_macros = [('HAVE_CBLAS', None)]\n",
            "lapack_opt_info:\n",
            "    libraries = ['openblas', 'openblas']\n",
            "    library_dirs = ['/usr/local/lib']\n",
            "    language = c\n",
            "    define_macros = [('HAVE_CBLAS', None)]\n"
          ],
          "name": "stdout"
        }
      ]
    },
    {
      "cell_type": "code",
      "metadata": {
        "colab": {
          "base_uri": "https://localhost:8080/"
        },
        "id": "BmXgVZ7sNBXB",
        "outputId": "4b46bf93-d650-4786-cbc1-5387ad3048e7"
      },
      "source": [
        "a = np.zeros(10)\n",
        "a"
      ],
      "execution_count": null,
      "outputs": [
        {
          "output_type": "execute_result",
          "data": {
            "text/plain": [
              "array([0., 0., 0., 0., 0., 0., 0., 0., 0., 0.])"
            ]
          },
          "metadata": {
            "tags": []
          },
          "execution_count": 18
        }
      ]
    },
    {
      "cell_type": "code",
      "metadata": {
        "colab": {
          "base_uri": "https://localhost:8080/"
        },
        "id": "DUm16ZJ3NPZw",
        "outputId": "cfdaa06b-94b7-4331-dfca-9ddf450ec570"
      },
      "source": [
        "a.itemsize"
      ],
      "execution_count": null,
      "outputs": [
        {
          "output_type": "execute_result",
          "data": {
            "text/plain": [
              "8"
            ]
          },
          "metadata": {
            "tags": []
          },
          "execution_count": 25
        }
      ]
    },
    {
      "cell_type": "code",
      "metadata": {
        "colab": {
          "base_uri": "https://localhost:8080/"
        },
        "id": "vMDeL9ZINo7o",
        "outputId": "e3cecaa5-7ceb-4eb7-f413-6725187af3d6"
      },
      "source": [
        "hint(5)"
      ],
      "execution_count": null,
      "outputs": [
        {
          "output_type": "stream",
          "text": [
            "hint: np.info\n"
          ],
          "name": "stdout"
        }
      ]
    },
    {
      "cell_type": "code",
      "metadata": {
        "colab": {
          "base_uri": "https://localhost:8080/"
        },
        "id": "6sVEBl40PL8Y",
        "outputId": "a4d29130-40f6-45c6-9549-a7d2ac528123"
      },
      "source": [
        "z = np.zeros(10)\n",
        "z"
      ],
      "execution_count": null,
      "outputs": [
        {
          "output_type": "execute_result",
          "data": {
            "text/plain": [
              "array([0., 0., 0., 0., 0., 0., 0., 0., 0., 0.])"
            ]
          },
          "metadata": {
            "tags": []
          },
          "execution_count": 29
        }
      ]
    },
    {
      "cell_type": "code",
      "metadata": {
        "colab": {
          "base_uri": "https://localhost:8080/"
        },
        "id": "WFeOb1lXPX2b",
        "outputId": "1e57c658-0bb0-4549-87ea-b31a62207997"
      },
      "source": [
        "z[4]=1\n",
        "z"
      ],
      "execution_count": null,
      "outputs": [
        {
          "output_type": "execute_result",
          "data": {
            "text/plain": [
              "array([0., 0., 0., 0., 1., 0., 0., 0., 0., 0.])"
            ]
          },
          "metadata": {
            "tags": []
          },
          "execution_count": 30
        }
      ]
    },
    {
      "cell_type": "code",
      "metadata": {
        "id": "pHAKoKk_PbLJ"
      },
      "source": [
        "a = np.arange(10,50)"
      ],
      "execution_count": null,
      "outputs": []
    },
    {
      "cell_type": "code",
      "metadata": {
        "colab": {
          "base_uri": "https://localhost:8080/"
        },
        "id": "CTxEzuZNPkS_",
        "outputId": "b5ec84bf-0dab-4c2c-b71e-73d340f400ec"
      },
      "source": [
        "a[::-1]"
      ],
      "execution_count": null,
      "outputs": [
        {
          "output_type": "execute_result",
          "data": {
            "text/plain": [
              "array([49, 48, 47, 46, 45, 44, 43, 42, 41, 40, 39, 38, 37, 36, 35, 34, 33,\n",
              "       32, 31, 30, 29, 28, 27, 26, 25, 24, 23, 22, 21, 20, 19, 18, 17, 16,\n",
              "       15, 14, 13, 12, 11, 10])"
            ]
          },
          "metadata": {
            "tags": []
          },
          "execution_count": 33
        }
      ]
    },
    {
      "cell_type": "code",
      "metadata": {
        "colab": {
          "base_uri": "https://localhost:8080/"
        },
        "id": "SYBS0jvtPq95",
        "outputId": "9c1f5832-0770-4534-b200-9feaf8f70c89"
      },
      "source": [
        "#9\n",
        "np.arange(3*3).reshape((3,3))"
      ],
      "execution_count": null,
      "outputs": [
        {
          "output_type": "execute_result",
          "data": {
            "text/plain": [
              "array([[0, 1, 2],\n",
              "       [3, 4, 5],\n",
              "       [6, 7, 8]])"
            ]
          },
          "metadata": {
            "tags": []
          },
          "execution_count": 11
        }
      ]
    },
    {
      "cell_type": "code",
      "metadata": {
        "id": "eSnhZ0i4P2ep",
        "colab": {
          "base_uri": "https://localhost:8080/"
        },
        "outputId": "63908ad4-9149-4b10-e0ed-133984445bc5"
      },
      "source": [
        "#10\n",
        "a = np.array([1,2,0,0,4,0])\n",
        "nz = np.nonzero(a)\n",
        "nz"
      ],
      "execution_count": null,
      "outputs": [
        {
          "output_type": "execute_result",
          "data": {
            "text/plain": [
              "(array([0, 1, 4]),)"
            ]
          },
          "metadata": {
            "tags": []
          },
          "execution_count": 13
        }
      ]
    },
    {
      "cell_type": "code",
      "metadata": {
        "colab": {
          "base_uri": "https://localhost:8080/"
        },
        "id": "QzEOnhF_ZGav",
        "outputId": "e4665b8e-e1ba-4e97-b2ac-7422d3787c8c"
      },
      "source": [
        "a[nz]"
      ],
      "execution_count": null,
      "outputs": [
        {
          "output_type": "execute_result",
          "data": {
            "text/plain": [
              "array([1, 2, 4])"
            ]
          },
          "metadata": {
            "tags": []
          },
          "execution_count": 15
        }
      ]
    },
    {
      "cell_type": "code",
      "metadata": {
        "colab": {
          "base_uri": "https://localhost:8080/"
        },
        "id": "tKNmvBHDZVNt",
        "outputId": "cd7fd3cf-9cf6-4fe5-e8bb-aa66f1cedd18"
      },
      "source": [
        "#11\n",
        "np.eye(3)"
      ],
      "execution_count": null,
      "outputs": [
        {
          "output_type": "execute_result",
          "data": {
            "text/plain": [
              "array([[1., 0., 0.],\n",
              "       [0., 1., 0.],\n",
              "       [0., 0., 1.]])"
            ]
          },
          "metadata": {
            "tags": []
          },
          "execution_count": 16
        }
      ]
    },
    {
      "cell_type": "code",
      "metadata": {
        "colab": {
          "base_uri": "https://localhost:8080/"
        },
        "id": "SvPBM3u1Zhbk",
        "outputId": "b632479a-ec85-49f1-fd8d-b308a6bc7e7d"
      },
      "source": [
        "np.eye(3,4)"
      ],
      "execution_count": null,
      "outputs": [
        {
          "output_type": "execute_result",
          "data": {
            "text/plain": [
              "array([[1., 0., 0., 0.],\n",
              "       [0., 1., 0., 0.],\n",
              "       [0., 0., 1., 0.]])"
            ]
          },
          "metadata": {
            "tags": []
          },
          "execution_count": 18
        }
      ]
    },
    {
      "cell_type": "code",
      "metadata": {
        "colab": {
          "base_uri": "https://localhost:8080/"
        },
        "id": "4DV92DfFZmd-",
        "outputId": "30f73ab0-8743-4d66-d74f-7004ad5567b5"
      },
      "source": [
        "#12\n",
        "a = np.random.random(3*3*3)\n",
        "a"
      ],
      "execution_count": null,
      "outputs": [
        {
          "output_type": "execute_result",
          "data": {
            "text/plain": [
              "array([0.5468047 , 0.61861438, 0.3733338 , 0.43619999, 0.51743916,\n",
              "       0.55871831, 0.81301315, 0.33244037, 0.31611356, 0.01348704,\n",
              "       0.29678975, 0.04021111, 0.91888312, 0.20309299, 0.37056307,\n",
              "       0.28821647, 0.24144235, 0.91996349, 0.37730527, 0.19926138,\n",
              "       0.77704291, 0.77535563, 0.33661368, 0.35579921, 0.57948468,\n",
              "       0.02597726, 0.28149245])"
            ]
          },
          "metadata": {
            "tags": []
          },
          "execution_count": 21
        }
      ]
    },
    {
      "cell_type": "code",
      "metadata": {
        "colab": {
          "base_uri": "https://localhost:8080/"
        },
        "id": "4ycwH9OsZ4se",
        "outputId": "54c33c3b-6ce0-4cd6-bf4c-d303ee835c75"
      },
      "source": [
        "a.reshape(3,3,3)"
      ],
      "execution_count": null,
      "outputs": [
        {
          "output_type": "execute_result",
          "data": {
            "text/plain": [
              "array([[[0.5468047 , 0.61861438, 0.3733338 ],\n",
              "        [0.43619999, 0.51743916, 0.55871831],\n",
              "        [0.81301315, 0.33244037, 0.31611356]],\n",
              "\n",
              "       [[0.01348704, 0.29678975, 0.04021111],\n",
              "        [0.91888312, 0.20309299, 0.37056307],\n",
              "        [0.28821647, 0.24144235, 0.91996349]],\n",
              "\n",
              "       [[0.37730527, 0.19926138, 0.77704291],\n",
              "        [0.77535563, 0.33661368, 0.35579921],\n",
              "        [0.57948468, 0.02597726, 0.28149245]]])"
            ]
          },
          "metadata": {
            "tags": []
          },
          "execution_count": 22
        }
      ]
    },
    {
      "cell_type": "code",
      "metadata": {
        "colab": {
          "base_uri": "https://localhost:8080/"
        },
        "id": "ij0MPop6aMd9",
        "outputId": "6d40f858-b883-43ac-fda8-cad073e545a2"
      },
      "source": [
        "#13\n",
        "a = np.random.random((10,10))\n",
        "a.min()"
      ],
      "execution_count": null,
      "outputs": [
        {
          "output_type": "execute_result",
          "data": {
            "text/plain": [
              "0.00807992600223395"
            ]
          },
          "metadata": {
            "tags": []
          },
          "execution_count": 23
        }
      ]
    },
    {
      "cell_type": "code",
      "metadata": {
        "colab": {
          "base_uri": "https://localhost:8080/"
        },
        "id": "__LFQxrfbTr3",
        "outputId": "e398c597-ff7f-4aa6-9e5f-1ecef7002678"
      },
      "source": [
        "print(f'max:{a.max()} min:{a.min()}')"
      ],
      "execution_count": null,
      "outputs": [
        {
          "output_type": "stream",
          "text": [
            "max:0.9726643103274936 min:0.00807992600223395\n"
          ],
          "name": "stdout"
        }
      ]
    },
    {
      "cell_type": "code",
      "metadata": {
        "colab": {
          "base_uri": "https://localhost:8080/"
        },
        "id": "h8pp0xJFbmS_",
        "outputId": "873f6adf-2cc2-4da4-ec58-7ebf8f272476"
      },
      "source": [
        "#14\n",
        "a = np.random.random(10)\n",
        "print(f'平均:{a.mean()}')"
      ],
      "execution_count": null,
      "outputs": [
        {
          "output_type": "stream",
          "text": [
            "平均:0.2385731373074881\n"
          ],
          "name": "stdout"
        }
      ]
    },
    {
      "cell_type": "code",
      "metadata": {
        "id": "IK4y2WoxcGAu",
        "colab": {
          "base_uri": "https://localhost:8080/"
        },
        "outputId": "f89e3e2e-66c2-4b9d-bd00-43f9aaa40355"
      },
      "source": [
        "#15\n",
        "z = np.ones((10,10))\n",
        "z[1:-1,1:-1]=0\n",
        "z"
      ],
      "execution_count": 30,
      "outputs": [
        {
          "output_type": "execute_result",
          "data": {
            "text/plain": [
              "array([[1., 1., 1., 1., 1., 1., 1., 1., 1., 1.],\n",
              "       [1., 0., 0., 0., 0., 0., 0., 0., 0., 1.],\n",
              "       [1., 0., 0., 0., 0., 0., 0., 0., 0., 1.],\n",
              "       [1., 0., 0., 0., 0., 0., 0., 0., 0., 1.],\n",
              "       [1., 0., 0., 0., 0., 0., 0., 0., 0., 1.],\n",
              "       [1., 0., 0., 0., 0., 0., 0., 0., 0., 1.],\n",
              "       [1., 0., 0., 0., 0., 0., 0., 0., 0., 1.],\n",
              "       [1., 0., 0., 0., 0., 0., 0., 0., 0., 1.],\n",
              "       [1., 0., 0., 0., 0., 0., 0., 0., 0., 1.],\n",
              "       [1., 1., 1., 1., 1., 1., 1., 1., 1., 1.]])"
            ]
          },
          "metadata": {
            "tags": []
          },
          "execution_count": 30
        }
      ]
    },
    {
      "cell_type": "code",
      "metadata": {
        "colab": {
          "base_uri": "https://localhost:8080/"
        },
        "id": "kOZ7fpeKdW-3",
        "outputId": "7adf3a30-ec89-43fa-8673-7f20241c8957"
      },
      "source": [
        "#16\n",
        "z = np.ones((5,5))\n",
        "z = np.pad(z,pad_width=1,mode='constant',constant_values=0)\n",
        "z"
      ],
      "execution_count": 33,
      "outputs": [
        {
          "output_type": "execute_result",
          "data": {
            "text/plain": [
              "array([[0., 0., 0., 0., 0., 0., 0.],\n",
              "       [0., 1., 1., 1., 1., 1., 0.],\n",
              "       [0., 1., 1., 1., 1., 1., 0.],\n",
              "       [0., 1., 1., 1., 1., 1., 0.],\n",
              "       [0., 1., 1., 1., 1., 1., 0.],\n",
              "       [0., 1., 1., 1., 1., 1., 0.],\n",
              "       [0., 0., 0., 0., 0., 0., 0.]])"
            ]
          },
          "metadata": {
            "tags": []
          },
          "execution_count": 33
        }
      ]
    },
    {
      "cell_type": "code",
      "metadata": {
        "colab": {
          "base_uri": "https://localhost:8080/"
        },
        "id": "_4Q1ecCteZhH",
        "outputId": "2c7bea32-cff3-44ff-af70-30aa79a66c7c"
      },
      "source": [
        "#17\n",
        "0*np.nan"
      ],
      "execution_count": 34,
      "outputs": [
        {
          "output_type": "execute_result",
          "data": {
            "text/plain": [
              "nan"
            ]
          },
          "metadata": {
            "tags": []
          },
          "execution_count": 34
        }
      ]
    },
    {
      "cell_type": "code",
      "metadata": {
        "colab": {
          "base_uri": "https://localhost:8080/"
        },
        "id": "iTqmUW9EfPtl",
        "outputId": "51e932e5-eb38-45b3-930a-903cd9060a7c"
      },
      "source": [
        "np.nan == np.nan"
      ],
      "execution_count": 35,
      "outputs": [
        {
          "output_type": "execute_result",
          "data": {
            "text/plain": [
              "False"
            ]
          },
          "metadata": {
            "tags": []
          },
          "execution_count": 35
        }
      ]
    },
    {
      "cell_type": "code",
      "metadata": {
        "colab": {
          "base_uri": "https://localhost:8080/"
        },
        "id": "1g1BFvEMfcF9",
        "outputId": "ed4062d1-3c51-4a99-d452-3a678b687bf0"
      },
      "source": [
        "np.inf > np.nan"
      ],
      "execution_count": 36,
      "outputs": [
        {
          "output_type": "execute_result",
          "data": {
            "text/plain": [
              "False"
            ]
          },
          "metadata": {
            "tags": []
          },
          "execution_count": 36
        }
      ]
    },
    {
      "cell_type": "code",
      "metadata": {
        "colab": {
          "base_uri": "https://localhost:8080/"
        },
        "id": "fXXSzqgVferg",
        "outputId": "8bc2a9ef-c7cb-4bec-f6a5-cc47fcd8f29c"
      },
      "source": [
        "np.nan - np.nan"
      ],
      "execution_count": 37,
      "outputs": [
        {
          "output_type": "execute_result",
          "data": {
            "text/plain": [
              "nan"
            ]
          },
          "metadata": {
            "tags": []
          },
          "execution_count": 37
        }
      ]
    },
    {
      "cell_type": "code",
      "metadata": {
        "colab": {
          "base_uri": "https://localhost:8080/"
        },
        "id": "5_hCTPOyfhT1",
        "outputId": "e2919591-120c-4956-a3d2-aed055132fe6"
      },
      "source": [
        "np.nan in set([np.nan])"
      ],
      "execution_count": 39,
      "outputs": [
        {
          "output_type": "execute_result",
          "data": {
            "text/plain": [
              "True"
            ]
          },
          "metadata": {
            "tags": []
          },
          "execution_count": 39
        }
      ]
    },
    {
      "cell_type": "code",
      "metadata": {
        "colab": {
          "base_uri": "https://localhost:8080/"
        },
        "id": "6b4rOaFwfkx-",
        "outputId": "d6c620ff-59ea-4d6d-fcb9-4755ac821664"
      },
      "source": [
        "0.3 == 3*0.1"
      ],
      "execution_count": 40,
      "outputs": [
        {
          "output_type": "execute_result",
          "data": {
            "text/plain": [
              "False"
            ]
          },
          "metadata": {
            "tags": []
          },
          "execution_count": 40
        }
      ]
    },
    {
      "cell_type": "code",
      "metadata": {
        "colab": {
          "base_uri": "https://localhost:8080/"
        },
        "id": "hJjwlL9WfrX3",
        "outputId": "b9298bee-020b-4aba-de88-35474ec84bc7"
      },
      "source": [
        "#18\n",
        "z = np.diag(1+np.arange(5),k=-1)\n",
        "z"
      ],
      "execution_count": 45,
      "outputs": [
        {
          "output_type": "execute_result",
          "data": {
            "text/plain": [
              "array([[0, 0, 0, 0, 0, 0],\n",
              "       [1, 0, 0, 0, 0, 0],\n",
              "       [0, 2, 0, 0, 0, 0],\n",
              "       [0, 0, 3, 0, 0, 0],\n",
              "       [0, 0, 0, 4, 0, 0],\n",
              "       [0, 0, 0, 0, 5, 0]])"
            ]
          },
          "metadata": {
            "tags": []
          },
          "execution_count": 45
        }
      ]
    },
    {
      "cell_type": "code",
      "metadata": {
        "colab": {
          "base_uri": "https://localhost:8080/"
        },
        "id": "miUUMHU7gf7t",
        "outputId": "be5a2284-d623-48f3-ac96-c0689c2d2a4e"
      },
      "source": [
        "#19\n",
        "z = np.zeros((8,8),dtype=int)\n",
        "z[::2,::2]=1\n",
        "z[1::2,1::2]=1\n",
        "z"
      ],
      "execution_count": 51,
      "outputs": [
        {
          "output_type": "execute_result",
          "data": {
            "text/plain": [
              "array([[1, 0, 1, 0, 1, 0, 1, 0],\n",
              "       [0, 1, 0, 1, 0, 1, 0, 1],\n",
              "       [1, 0, 1, 0, 1, 0, 1, 0],\n",
              "       [0, 1, 0, 1, 0, 1, 0, 1],\n",
              "       [1, 0, 1, 0, 1, 0, 1, 0],\n",
              "       [0, 1, 0, 1, 0, 1, 0, 1],\n",
              "       [1, 0, 1, 0, 1, 0, 1, 0],\n",
              "       [0, 1, 0, 1, 0, 1, 0, 1]])"
            ]
          },
          "metadata": {
            "tags": []
          },
          "execution_count": 51
        }
      ]
    },
    {
      "cell_type": "code",
      "metadata": {
        "colab": {
          "base_uri": "https://localhost:8080/"
        },
        "id": "UvCHds6-iOTI",
        "outputId": "c9de0666-daa8-490f-c0df-1c06c98e9e12"
      },
      "source": [
        "#20\n",
        "print(np.unravel_index(7,(6,7,8)))"
      ],
      "execution_count": 57,
      "outputs": [
        {
          "output_type": "stream",
          "text": [
            "(0, 0, 7)\n"
          ],
          "name": "stdout"
        }
      ]
    },
    {
      "cell_type": "code",
      "metadata": {
        "colab": {
          "base_uri": "https://localhost:8080/"
        },
        "id": "UR0_qHPikKtH",
        "outputId": "36518f68-5ded-42fb-c340-789c7d71cf98"
      },
      "source": [
        "6*7*8"
      ],
      "execution_count": 54,
      "outputs": [
        {
          "output_type": "execute_result",
          "data": {
            "text/plain": [
              "336"
            ]
          },
          "metadata": {
            "tags": []
          },
          "execution_count": 54
        }
      ]
    },
    {
      "cell_type": "code",
      "metadata": {
        "id": "zXsI8lFfkpKN"
      },
      "source": [
        ""
      ],
      "execution_count": null,
      "outputs": []
    }
  ]
}